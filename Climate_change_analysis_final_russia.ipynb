{
 "cells": [
  {
   "cell_type": "markdown",
   "id": "702db94c",
   "metadata": {},
   "source": [
    "# Climate Change Analysis"
   ]
  },
  {
   "cell_type": "code",
   "execution_count": 2,
   "id": "efdeba6b",
   "metadata": {},
   "outputs": [],
   "source": [
    "#import required libraries & Modules\n",
    "import pandas as pd\n",
    "from datetime import datetime,timedelta\n",
    "import matplotlib.pyplot as plt\n",
    "import numpy as np\n",
    "from statsmodels.tsa.seasonal import seasonal_decompose\n",
    "import seaborn as sns\n",
    "%matplotlib inline\n",
    "import warnings\n",
    "warnings.filterwarnings('ignore')"
   ]
  },
  {
   "cell_type": "code",
   "execution_count": 3,
   "id": "f49c7b9c",
   "metadata": {},
   "outputs": [
    {
     "data": {
      "text/html": [
       "<div>\n",
       "<style scoped>\n",
       "    .dataframe tbody tr th:only-of-type {\n",
       "        vertical-align: middle;\n",
       "    }\n",
       "\n",
       "    .dataframe tbody tr th {\n",
       "        vertical-align: top;\n",
       "    }\n",
       "\n",
       "    .dataframe thead th {\n",
       "        text-align: right;\n",
       "    }\n",
       "</style>\n",
       "<table border=\"1\" class=\"dataframe\">\n",
       "  <thead>\n",
       "    <tr style=\"text-align: right;\">\n",
       "      <th></th>\n",
       "      <th>dt</th>\n",
       "      <th>AverageTemperature</th>\n",
       "      <th>AverageTemperatureUncertainty</th>\n",
       "      <th>State</th>\n",
       "      <th>Country</th>\n",
       "    </tr>\n",
       "  </thead>\n",
       "  <tbody>\n",
       "    <tr>\n",
       "      <th>0</th>\n",
       "      <td>1855-05-01</td>\n",
       "      <td>25.544</td>\n",
       "      <td>1.171</td>\n",
       "      <td>Acre</td>\n",
       "      <td>Brazil</td>\n",
       "    </tr>\n",
       "    <tr>\n",
       "      <th>1</th>\n",
       "      <td>1855-06-01</td>\n",
       "      <td>24.228</td>\n",
       "      <td>1.103</td>\n",
       "      <td>Acre</td>\n",
       "      <td>Brazil</td>\n",
       "    </tr>\n",
       "    <tr>\n",
       "      <th>2</th>\n",
       "      <td>1855-07-01</td>\n",
       "      <td>24.371</td>\n",
       "      <td>1.044</td>\n",
       "      <td>Acre</td>\n",
       "      <td>Brazil</td>\n",
       "    </tr>\n",
       "    <tr>\n",
       "      <th>3</th>\n",
       "      <td>1855-08-01</td>\n",
       "      <td>25.427</td>\n",
       "      <td>1.073</td>\n",
       "      <td>Acre</td>\n",
       "      <td>Brazil</td>\n",
       "    </tr>\n",
       "    <tr>\n",
       "      <th>4</th>\n",
       "      <td>1855-09-01</td>\n",
       "      <td>25.675</td>\n",
       "      <td>1.014</td>\n",
       "      <td>Acre</td>\n",
       "      <td>Brazil</td>\n",
       "    </tr>\n",
       "  </tbody>\n",
       "</table>\n",
       "</div>"
      ],
      "text/plain": [
       "           dt  AverageTemperature  AverageTemperatureUncertainty State Country\n",
       "0  1855-05-01              25.544                          1.171  Acre  Brazil\n",
       "1  1855-06-01              24.228                          1.103  Acre  Brazil\n",
       "2  1855-07-01              24.371                          1.044  Acre  Brazil\n",
       "3  1855-08-01              25.427                          1.073  Acre  Brazil\n",
       "4  1855-09-01              25.675                          1.014  Acre  Brazil"
      ]
     },
     "execution_count": 3,
     "metadata": {},
     "output_type": "execute_result"
    }
   ],
   "source": [
    "#import dataset\n",
    "df=pd.read_csv('GlobalLandTemperaturesByState.csv')\n",
    "df.head()\n"
   ]
  },
  {
   "cell_type": "code",
   "execution_count": 4,
   "id": "effcd433",
   "metadata": {},
   "outputs": [
    {
     "name": "stdout",
     "output_type": "stream",
     "text": [
      "dt                                object\n",
      "AverageTemperature               float64\n",
      "AverageTemperatureUncertainty    float64\n",
      "State                             object\n",
      "Country                           object\n",
      "dtype: object\n",
      "Shape of data :  (645675, 5)\n"
     ]
    }
   ],
   "source": [
    "print(df.dtypes)\n",
    "print(\"Shape of data : \",df.shape)"
   ]
  },
  {
   "cell_type": "code",
   "execution_count": 5,
   "id": "ad97b324",
   "metadata": {},
   "outputs": [
    {
     "data": {
      "text/plain": [
       "(7, 241)"
      ]
     },
     "execution_count": 5,
     "metadata": {},
     "output_type": "execute_result"
    }
   ],
   "source": [
    "#No of Country and state\n",
    "df['Country'].nunique() , df['State'].nunique()"
   ]
  },
  {
   "cell_type": "code",
   "execution_count": 6,
   "id": "66e2c025",
   "metadata": {},
   "outputs": [
    {
     "data": {
      "text/plain": [
       "array(['Brazil', 'Russia', 'United States', 'Canada', 'India', 'China',\n",
       "       'Australia'], dtype=object)"
      ]
     },
     "execution_count": 6,
     "metadata": {},
     "output_type": "execute_result"
    }
   ],
   "source": [
    "df['Country'].unique()"
   ]
  },
  {
   "cell_type": "markdown",
   "id": "3136b1de",
   "metadata": {},
   "source": [
    "## Select Russia for time-series analysis"
   ]
  },
  {
   "cell_type": "code",
   "execution_count": 7,
   "id": "0ba9fce5",
   "metadata": {},
   "outputs": [],
   "source": [
    "df_ru=df[(df['Country'] == 'Russia')]"
   ]
  },
  {
   "cell_type": "code",
   "execution_count": 8,
   "id": "03b47a1d",
   "metadata": {},
   "outputs": [
    {
     "data": {
      "text/plain": [
       "array(['Adygey', 'Aga Buryat', 'Altay', 'Amur', \"Arkhangel'Sk\",\n",
       "       \"Astrakhan'\", 'Bashkortostan', 'Belgorod', 'Bryansk', 'Buryat',\n",
       "       'Chechnya', 'Chelyabinsk', 'Chita', 'Chukot', 'Chuvash',\n",
       "       'City Of St. Petersburg', 'Dagestan', 'Evenk', 'Gorno Altay',\n",
       "       'Ingush', 'Irkutsk', 'Ivanovo', 'Kabardin Balkar', 'Kaliningrad',\n",
       "       'Kalmyk', 'Kaluga', 'Kamchatka', 'Karachay Cherkess', 'Karelia',\n",
       "       'Kemerovo', 'Khabarovsk', 'Khakass', 'Khanty Mansiy', 'Kirov',\n",
       "       'Komi', 'Komi Permyak', 'Koryak', 'Kostroma', 'Krasnodar',\n",
       "       'Krasnoyarsk', 'Kurgan', 'Kursk', 'Leningrad', 'Lipetsk',\n",
       "       'Maga Buryatdan', 'Mariy El', 'Mordovia', 'Moscow City', 'Moskva',\n",
       "       'Murmansk', 'Nenets', 'Nizhegorod', 'North Ossetia', 'Novgorod',\n",
       "       'Novosibirsk', 'Omsk', 'Orel', 'Orenburg', 'Penza', \"Perm'\",\n",
       "       \"Primor'Ye\", 'Pskov', 'Rostov', \"Ryazan'\", 'Sakha', 'Sakhalin',\n",
       "       'Samara', 'Saratov', 'Smolensk', \"Stavropol'\", 'Sverdlovsk',\n",
       "       'Tambov', 'Tatarstan', 'Taymyr', 'Tomsk', 'Tula', 'Tuva', \"Tver'\",\n",
       "       \"Tyumen'\", 'Udmurt', \"Ul'Yanovsk\", 'Ust Orda Buryat', 'Vladimir',\n",
       "       'Volgograd', 'Vologda', 'Voronezh', 'Yamal Nenets', \"Yaroslavl'\",\n",
       "       'Yevrey'], dtype=object)"
      ]
     },
     "execution_count": 8,
     "metadata": {},
     "output_type": "execute_result"
    }
   ],
   "source": [
    "df_ru['State'].unique()"
   ]
  },
  {
   "cell_type": "code",
   "execution_count": 9,
   "id": "848d1c2b",
   "metadata": {},
   "outputs": [],
   "source": [
    "df_mos = df_ru[(df_ru['State'] == 'Moscow City')]"
   ]
  },
  {
   "cell_type": "code",
   "execution_count": 10,
   "id": "00dc6b1f",
   "metadata": {},
   "outputs": [
    {
     "data": {
      "text/plain": [
       "(3239, 5)"
      ]
     },
     "execution_count": 10,
     "metadata": {},
     "output_type": "execute_result"
    }
   ],
   "source": [
    "df_mos.shape"
   ]
  },
  {
   "cell_type": "code",
   "execution_count": 11,
   "id": "45cf1025",
   "metadata": {},
   "outputs": [],
   "source": [
    "#Rename the columns\n",
    "df_mos.rename(columns={'dt':'Date'},inplace=True)"
   ]
  },
  {
   "cell_type": "code",
   "execution_count": 12,
   "id": "8e0035b4",
   "metadata": {},
   "outputs": [
    {
     "data": {
      "text/plain": [
       "DatetimeIndex(['1743-11-01', '1743-12-01', '1744-01-01', '1744-02-01',\n",
       "               '1744-03-01', '1744-04-01', '1744-05-01', '1744-06-01',\n",
       "               '1744-07-01', '1744-08-01',\n",
       "               ...\n",
       "               '2012-12-01', '2013-01-01', '2013-02-01', '2013-03-01',\n",
       "               '2013-04-01', '2013-05-01', '2013-06-01', '2013-07-01',\n",
       "               '2013-08-01', '2013-09-01'],\n",
       "              dtype='datetime64[ns]', name='Date', length=3239, freq=None)"
      ]
     },
     "execution_count": 12,
     "metadata": {},
     "output_type": "execute_result"
    }
   ],
   "source": [
    "# make Date column  index\n",
    "df_mos['Date']=pd.to_datetime(df_mos['Date'])\n",
    "df_mos.set_index('Date',inplace=True)\n",
    "df_mos.index"
   ]
  },
  {
   "cell_type": "code",
   "execution_count": 13,
   "id": "d3de4c07",
   "metadata": {},
   "outputs": [
    {
     "data": {
      "text/html": [
       "<div>\n",
       "<style scoped>\n",
       "    .dataframe tbody tr th:only-of-type {\n",
       "        vertical-align: middle;\n",
       "    }\n",
       "\n",
       "    .dataframe tbody tr th {\n",
       "        vertical-align: top;\n",
       "    }\n",
       "\n",
       "    .dataframe thead th {\n",
       "        text-align: right;\n",
       "    }\n",
       "</style>\n",
       "<table border=\"1\" class=\"dataframe\">\n",
       "  <thead>\n",
       "    <tr style=\"text-align: right;\">\n",
       "      <th></th>\n",
       "      <th>AverageTemperature</th>\n",
       "      <th>AverageTemperatureUncertainty</th>\n",
       "      <th>State</th>\n",
       "      <th>Country</th>\n",
       "    </tr>\n",
       "    <tr>\n",
       "      <th>Date</th>\n",
       "      <th></th>\n",
       "      <th></th>\n",
       "      <th></th>\n",
       "      <th></th>\n",
       "    </tr>\n",
       "  </thead>\n",
       "  <tbody>\n",
       "    <tr>\n",
       "      <th>1743-11-01</th>\n",
       "      <td>-2.57</td>\n",
       "      <td>3.086</td>\n",
       "      <td>Moscow City</td>\n",
       "      <td>Russia</td>\n",
       "    </tr>\n",
       "    <tr>\n",
       "      <th>1743-12-01</th>\n",
       "      <td>NaN</td>\n",
       "      <td>NaN</td>\n",
       "      <td>Moscow City</td>\n",
       "      <td>Russia</td>\n",
       "    </tr>\n",
       "    <tr>\n",
       "      <th>1744-01-01</th>\n",
       "      <td>NaN</td>\n",
       "      <td>NaN</td>\n",
       "      <td>Moscow City</td>\n",
       "      <td>Russia</td>\n",
       "    </tr>\n",
       "    <tr>\n",
       "      <th>1744-02-01</th>\n",
       "      <td>NaN</td>\n",
       "      <td>NaN</td>\n",
       "      <td>Moscow City</td>\n",
       "      <td>Russia</td>\n",
       "    </tr>\n",
       "    <tr>\n",
       "      <th>1744-03-01</th>\n",
       "      <td>NaN</td>\n",
       "      <td>NaN</td>\n",
       "      <td>Moscow City</td>\n",
       "      <td>Russia</td>\n",
       "    </tr>\n",
       "  </tbody>\n",
       "</table>\n",
       "</div>"
      ],
      "text/plain": [
       "            AverageTemperature  AverageTemperatureUncertainty        State  \\\n",
       "Date                                                                         \n",
       "1743-11-01               -2.57                          3.086  Moscow City   \n",
       "1743-12-01                 NaN                            NaN  Moscow City   \n",
       "1744-01-01                 NaN                            NaN  Moscow City   \n",
       "1744-02-01                 NaN                            NaN  Moscow City   \n",
       "1744-03-01                 NaN                            NaN  Moscow City   \n",
       "\n",
       "           Country  \n",
       "Date                \n",
       "1743-11-01  Russia  \n",
       "1743-12-01  Russia  \n",
       "1744-01-01  Russia  \n",
       "1744-02-01  Russia  \n",
       "1744-03-01  Russia  "
      ]
     },
     "execution_count": 13,
     "metadata": {},
     "output_type": "execute_result"
    }
   ],
   "source": [
    "df_mos.head()"
   ]
  },
  {
   "cell_type": "code",
   "execution_count": 14,
   "id": "2c8a31c7",
   "metadata": {
    "scrolled": true
   },
   "outputs": [
    {
     "data": {
      "text/plain": [
       "AverageTemperature               73\n",
       "AverageTemperatureUncertainty    73\n",
       "State                             0\n",
       "Country                           0\n",
       "dtype: int64"
      ]
     },
     "execution_count": 14,
     "metadata": {},
     "output_type": "execute_result"
    }
   ],
   "source": [
    "#Find the missing value  \n",
    "df_mos.isnull().sum()"
   ]
  },
  {
   "cell_type": "markdown",
   "id": "32329825",
   "metadata": {},
   "source": [
    "## fill misssing value with Rolling average"
   ]
  },
  {
   "cell_type": "code",
   "execution_count": 15,
   "id": "febd0af2",
   "metadata": {},
   "outputs": [],
   "source": [
    "\n",
    "df_mos['new_avg']= df_mos.AverageTemperature.fillna(df_mos.AverageTemperature.rolling(12,center=True,min_periods=1).mean())"
   ]
  },
  {
   "cell_type": "code",
   "execution_count": 16,
   "id": "9d113279",
   "metadata": {},
   "outputs": [
    {
     "data": {
      "text/plain": [
       "AverageTemperature               73\n",
       "AverageTemperatureUncertainty    73\n",
       "State                             0\n",
       "Country                           0\n",
       "new_avg                          45\n",
       "dtype: int64"
      ]
     },
     "execution_count": 16,
     "metadata": {},
     "output_type": "execute_result"
    }
   ],
   "source": [
    "df_mos.isnull().sum()"
   ]
  },
  {
   "cell_type": "code",
   "execution_count": 17,
   "id": "d5558a44",
   "metadata": {},
   "outputs": [
    {
     "data": {
      "text/plain": [
       "(Timestamp('1743-11-01 00:00:00'), Timestamp('2013-09-01 00:00:00'))"
      ]
     },
     "execution_count": 17,
     "metadata": {},
     "output_type": "execute_result"
    }
   ],
   "source": [
    "df_mos.index.min(),df_mos.index.max()"
   ]
  },
  {
   "cell_type": "code",
   "execution_count": 18,
   "id": "d49c5465",
   "metadata": {},
   "outputs": [
    {
     "data": {
      "text/plain": [
       "45"
      ]
     },
     "execution_count": 18,
     "metadata": {},
     "output_type": "execute_result"
    }
   ],
   "source": [
    "df_mos.loc['1743':'1750','new_avg'].isnull().sum()"
   ]
  },
  {
   "cell_type": "code",
   "execution_count": 19,
   "id": "0da80f18",
   "metadata": {},
   "outputs": [
    {
     "data": {
      "text/plain": [
       "0"
      ]
     },
     "execution_count": 19,
     "metadata": {},
     "output_type": "execute_result"
    }
   ],
   "source": [
    "df_mos.loc['1750':'1800','new_avg'].isnull().sum()"
   ]
  },
  {
   "cell_type": "code",
   "execution_count": 20,
   "id": "14c9ab2d",
   "metadata": {},
   "outputs": [
    {
     "data": {
      "text/plain": [
       "0"
      ]
     },
     "execution_count": 20,
     "metadata": {},
     "output_type": "execute_result"
    }
   ],
   "source": [
    "df_mos.loc['1800':'2013','new_avg'].isnull().sum()"
   ]
  },
  {
   "cell_type": "code",
   "execution_count": 21,
   "id": "25840a8d",
   "metadata": {},
   "outputs": [],
   "source": [
    "# As between 1743-1750 there are missing value select time-series from 1750"
   ]
  },
  {
   "cell_type": "code",
   "execution_count": 22,
   "id": "dfe0b3ed",
   "metadata": {},
   "outputs": [],
   "source": [
    "latest_df= df_mos.loc['1750':'2013']"
   ]
  },
  {
   "cell_type": "code",
   "execution_count": 23,
   "id": "99d911e7",
   "metadata": {},
   "outputs": [
    {
     "data": {
      "text/plain": [
       "0"
      ]
     },
     "execution_count": 23,
     "metadata": {},
     "output_type": "execute_result"
    }
   ],
   "source": [
    "latest_df['new_avg'].isnull().sum()"
   ]
  },
  {
   "cell_type": "code",
   "execution_count": 24,
   "id": "43da5edb",
   "metadata": {},
   "outputs": [
    {
     "data": {
      "text/html": [
       "<div>\n",
       "<style scoped>\n",
       "    .dataframe tbody tr th:only-of-type {\n",
       "        vertical-align: middle;\n",
       "    }\n",
       "\n",
       "    .dataframe tbody tr th {\n",
       "        vertical-align: top;\n",
       "    }\n",
       "\n",
       "    .dataframe thead th {\n",
       "        text-align: right;\n",
       "    }\n",
       "</style>\n",
       "<table border=\"1\" class=\"dataframe\">\n",
       "  <thead>\n",
       "    <tr style=\"text-align: right;\">\n",
       "      <th></th>\n",
       "      <th>AverageTemperature</th>\n",
       "      <th>AverageTemperatureUncertainty</th>\n",
       "      <th>State</th>\n",
       "      <th>Country</th>\n",
       "      <th>new_avg</th>\n",
       "    </tr>\n",
       "    <tr>\n",
       "      <th>Date</th>\n",
       "      <th></th>\n",
       "      <th></th>\n",
       "      <th></th>\n",
       "      <th></th>\n",
       "      <th></th>\n",
       "    </tr>\n",
       "  </thead>\n",
       "  <tbody>\n",
       "    <tr>\n",
       "      <th>1750-01-01</th>\n",
       "      <td>-7.495</td>\n",
       "      <td>3.480</td>\n",
       "      <td>Moscow City</td>\n",
       "      <td>Russia</td>\n",
       "      <td>-7.495</td>\n",
       "    </tr>\n",
       "    <tr>\n",
       "      <th>1750-02-01</th>\n",
       "      <td>-7.228</td>\n",
       "      <td>3.796</td>\n",
       "      <td>Moscow City</td>\n",
       "      <td>Russia</td>\n",
       "      <td>-7.228</td>\n",
       "    </tr>\n",
       "    <tr>\n",
       "      <th>1750-03-01</th>\n",
       "      <td>-2.461</td>\n",
       "      <td>4.099</td>\n",
       "      <td>Moscow City</td>\n",
       "      <td>Russia</td>\n",
       "      <td>-2.461</td>\n",
       "    </tr>\n",
       "    <tr>\n",
       "      <th>1750-04-01</th>\n",
       "      <td>5.163</td>\n",
       "      <td>3.472</td>\n",
       "      <td>Moscow City</td>\n",
       "      <td>Russia</td>\n",
       "      <td>5.163</td>\n",
       "    </tr>\n",
       "    <tr>\n",
       "      <th>1750-05-01</th>\n",
       "      <td>11.404</td>\n",
       "      <td>3.527</td>\n",
       "      <td>Moscow City</td>\n",
       "      <td>Russia</td>\n",
       "      <td>11.404</td>\n",
       "    </tr>\n",
       "  </tbody>\n",
       "</table>\n",
       "</div>"
      ],
      "text/plain": [
       "            AverageTemperature  AverageTemperatureUncertainty        State  \\\n",
       "Date                                                                         \n",
       "1750-01-01              -7.495                          3.480  Moscow City   \n",
       "1750-02-01              -7.228                          3.796  Moscow City   \n",
       "1750-03-01              -2.461                          4.099  Moscow City   \n",
       "1750-04-01               5.163                          3.472  Moscow City   \n",
       "1750-05-01              11.404                          3.527  Moscow City   \n",
       "\n",
       "           Country  new_avg  \n",
       "Date                         \n",
       "1750-01-01  Russia   -7.495  \n",
       "1750-02-01  Russia   -7.228  \n",
       "1750-03-01  Russia   -2.461  \n",
       "1750-04-01  Russia    5.163  \n",
       "1750-05-01  Russia   11.404  "
      ]
     },
     "execution_count": 24,
     "metadata": {},
     "output_type": "execute_result"
    }
   ],
   "source": [
    "#take data between 1750 to 2013 for analysis\n",
    "\n",
    "latest_df.head()"
   ]
  },
  {
   "cell_type": "code",
   "execution_count": 25,
   "id": "3bade4da",
   "metadata": {},
   "outputs": [
    {
     "data": {
      "text/plain": [
       "(3165, 5)"
      ]
     },
     "execution_count": 25,
     "metadata": {},
     "output_type": "execute_result"
    }
   ],
   "source": [
    "latest_df.shape"
   ]
  },
  {
   "cell_type": "code",
   "execution_count": 26,
   "id": "00277029",
   "metadata": {},
   "outputs": [],
   "source": [
    "#Rename the columns\n",
    "latest_df.rename(columns={'new_avg':'Avg_Temp'},inplace=True)"
   ]
  },
  {
   "cell_type": "code",
   "execution_count": 27,
   "id": "446005f9",
   "metadata": {},
   "outputs": [
    {
     "data": {
      "text/html": [
       "<div>\n",
       "<style scoped>\n",
       "    .dataframe tbody tr th:only-of-type {\n",
       "        vertical-align: middle;\n",
       "    }\n",
       "\n",
       "    .dataframe tbody tr th {\n",
       "        vertical-align: top;\n",
       "    }\n",
       "\n",
       "    .dataframe thead th {\n",
       "        text-align: right;\n",
       "    }\n",
       "</style>\n",
       "<table border=\"1\" class=\"dataframe\">\n",
       "  <thead>\n",
       "    <tr style=\"text-align: right;\">\n",
       "      <th></th>\n",
       "      <th>Avg_Temp</th>\n",
       "    </tr>\n",
       "    <tr>\n",
       "      <th>Date</th>\n",
       "      <th></th>\n",
       "    </tr>\n",
       "  </thead>\n",
       "  <tbody>\n",
       "    <tr>\n",
       "      <th>1750-01-01</th>\n",
       "      <td>-7.495</td>\n",
       "    </tr>\n",
       "    <tr>\n",
       "      <th>1750-02-01</th>\n",
       "      <td>-7.228</td>\n",
       "    </tr>\n",
       "    <tr>\n",
       "      <th>1750-03-01</th>\n",
       "      <td>-2.461</td>\n",
       "    </tr>\n",
       "    <tr>\n",
       "      <th>1750-04-01</th>\n",
       "      <td>5.163</td>\n",
       "    </tr>\n",
       "    <tr>\n",
       "      <th>1750-05-01</th>\n",
       "      <td>11.404</td>\n",
       "    </tr>\n",
       "  </tbody>\n",
       "</table>\n",
       "</div>"
      ],
      "text/plain": [
       "            Avg_Temp\n",
       "Date                \n",
       "1750-01-01    -7.495\n",
       "1750-02-01    -7.228\n",
       "1750-03-01    -2.461\n",
       "1750-04-01     5.163\n",
       "1750-05-01    11.404"
      ]
     },
     "execution_count": 27,
     "metadata": {},
     "output_type": "execute_result"
    }
   ],
   "source": [
    "#Resample\n",
    "resample_df=latest_df[['Avg_Temp']]\n",
    "resample_df.head()"
   ]
  },
  {
   "cell_type": "code",
   "execution_count": 28,
   "id": "ab1b0363",
   "metadata": {},
   "outputs": [
    {
     "data": {
      "text/plain": [
       "(Timestamp('1750-01-01 00:00:00'), Timestamp('2013-09-01 00:00:00'))"
      ]
     },
     "execution_count": 28,
     "metadata": {},
     "output_type": "execute_result"
    }
   ],
   "source": [
    "resample_df.index.min(),resample_df.index.max()\n"
   ]
  },
  {
   "cell_type": "code",
   "execution_count": 29,
   "id": "b3b8b3aa",
   "metadata": {},
   "outputs": [
    {
     "data": {
      "text/plain": [
       "(3165, 1)"
      ]
     },
     "execution_count": 29,
     "metadata": {},
     "output_type": "execute_result"
    }
   ],
   "source": [
    "resample_df.shape"
   ]
  },
  {
   "cell_type": "code",
   "execution_count": 30,
   "id": "99c7931b",
   "metadata": {},
   "outputs": [
    {
     "data": {
      "text/html": [
       "<div>\n",
       "<style scoped>\n",
       "    .dataframe tbody tr th:only-of-type {\n",
       "        vertical-align: middle;\n",
       "    }\n",
       "\n",
       "    .dataframe tbody tr th {\n",
       "        vertical-align: top;\n",
       "    }\n",
       "\n",
       "    .dataframe thead th {\n",
       "        text-align: right;\n",
       "    }\n",
       "</style>\n",
       "<table border=\"1\" class=\"dataframe\">\n",
       "  <thead>\n",
       "    <tr style=\"text-align: right;\">\n",
       "      <th></th>\n",
       "      <th>Avg_Temp</th>\n",
       "    </tr>\n",
       "  </thead>\n",
       "  <tbody>\n",
       "    <tr>\n",
       "      <th>count</th>\n",
       "      <td>3165.000000</td>\n",
       "    </tr>\n",
       "    <tr>\n",
       "      <th>mean</th>\n",
       "      <td>4.003725</td>\n",
       "    </tr>\n",
       "    <tr>\n",
       "      <th>std</th>\n",
       "      <td>10.266207</td>\n",
       "    </tr>\n",
       "    <tr>\n",
       "      <th>min</th>\n",
       "      <td>-19.376000</td>\n",
       "    </tr>\n",
       "    <tr>\n",
       "      <th>25%</th>\n",
       "      <td>-5.058000</td>\n",
       "    </tr>\n",
       "    <tr>\n",
       "      <th>50%</th>\n",
       "      <td>4.122000</td>\n",
       "    </tr>\n",
       "    <tr>\n",
       "      <th>75%</th>\n",
       "      <td>14.024000</td>\n",
       "    </tr>\n",
       "    <tr>\n",
       "      <th>max</th>\n",
       "      <td>24.580000</td>\n",
       "    </tr>\n",
       "  </tbody>\n",
       "</table>\n",
       "</div>"
      ],
      "text/plain": [
       "          Avg_Temp\n",
       "count  3165.000000\n",
       "mean      4.003725\n",
       "std      10.266207\n",
       "min     -19.376000\n",
       "25%      -5.058000\n",
       "50%       4.122000\n",
       "75%      14.024000\n",
       "max      24.580000"
      ]
     },
     "execution_count": 30,
     "metadata": {},
     "output_type": "execute_result"
    }
   ],
   "source": [
    "resample_df.describe()"
   ]
  },
  {
   "cell_type": "code",
   "execution_count": 31,
   "id": "dfdd4117",
   "metadata": {},
   "outputs": [
    {
     "data": {
      "text/plain": [
       "Avg_Temp    0\n",
       "dtype: int64"
      ]
     },
     "execution_count": 31,
     "metadata": {},
     "output_type": "execute_result"
    }
   ],
   "source": [
    "resample_df.isnull().sum()"
   ]
  },
  {
   "cell_type": "code",
   "execution_count": 32,
   "id": "738a844f",
   "metadata": {},
   "outputs": [
    {
     "data": {
      "text/plain": [
       "<matplotlib.legend.Legend at 0x260da42b9a0>"
      ]
     },
     "execution_count": 32,
     "metadata": {},
     "output_type": "execute_result"
    },
    {
     "data": {
      "image/png": "[encoded data removed]",
      "text/plain": [
       "<Figure size 576x360 with 1 Axes>"
      ]
     },
     "metadata": {
      "needs_background": "light"
     },
     "output_type": "display_data"
    }
   ],
   "source": [
    "#Plot \n",
    "resample_df.plot(title='Temperature Change from 1865-2013',figsize=(8,5))\n",
    "plt.ylabel('Temperature',fontsize=12)\n",
    "plt.xlabel('Year',fontsize=12)\n",
    "plt.legend()"
   ]
  },
  {
   "cell_type": "markdown",
   "id": "7bffd5df",
   "metadata": {},
   "source": [
    "# Climate change forcasting\n"
   ]
  },
  {
   "cell_type": "raw",
   "id": "caaab806",
   "metadata": {},
   "source": [
    " ARIMA\n",
    " Regression\n",
    " LSTM"
   ]
  },
  {
   "cell_type": "markdown",
   "id": "6d408260",
   "metadata": {},
   "source": [
    "# ARIMA"
   ]
  },
  {
   "cell_type": "code",
   "execution_count": 33,
   "id": "98ae4d5b",
   "metadata": {},
   "outputs": [
    {
     "data": {
      "text/html": [
       "<div>\n",
       "<style scoped>\n",
       "    .dataframe tbody tr th:only-of-type {\n",
       "        vertical-align: middle;\n",
       "    }\n",
       "\n",
       "    .dataframe tbody tr th {\n",
       "        vertical-align: top;\n",
       "    }\n",
       "\n",
       "    .dataframe thead th {\n",
       "        text-align: right;\n",
       "    }\n",
       "</style>\n",
       "<table border=\"1\" class=\"dataframe\">\n",
       "  <thead>\n",
       "    <tr style=\"text-align: right;\">\n",
       "      <th></th>\n",
       "      <th>Avg_Temp</th>\n",
       "    </tr>\n",
       "    <tr>\n",
       "      <th>Date</th>\n",
       "      <th></th>\n",
       "    </tr>\n",
       "  </thead>\n",
       "  <tbody>\n",
       "    <tr>\n",
       "      <th>1750-01-01</th>\n",
       "      <td>-7.495</td>\n",
       "    </tr>\n",
       "    <tr>\n",
       "      <th>1750-02-01</th>\n",
       "      <td>-7.228</td>\n",
       "    </tr>\n",
       "    <tr>\n",
       "      <th>1750-03-01</th>\n",
       "      <td>-2.461</td>\n",
       "    </tr>\n",
       "    <tr>\n",
       "      <th>1750-04-01</th>\n",
       "      <td>5.163</td>\n",
       "    </tr>\n",
       "    <tr>\n",
       "      <th>1750-05-01</th>\n",
       "      <td>11.404</td>\n",
       "    </tr>\n",
       "  </tbody>\n",
       "</table>\n",
       "</div>"
      ],
      "text/plain": [
       "            Avg_Temp\n",
       "Date                \n",
       "1750-01-01    -7.495\n",
       "1750-02-01    -7.228\n",
       "1750-03-01    -2.461\n",
       "1750-04-01     5.163\n",
       "1750-05-01    11.404"
      ]
     },
     "execution_count": 33,
     "metadata": {},
     "output_type": "execute_result"
    }
   ],
   "source": [
    "resample_df.head()"
   ]
  },
  {
   "cell_type": "code",
   "execution_count": 34,
   "id": "89d664c2",
   "metadata": {},
   "outputs": [
    {
     "data": {
      "text/plain": [
       "(3165, 1)"
      ]
     },
     "execution_count": 34,
     "metadata": {},
     "output_type": "execute_result"
    }
   ],
   "source": [
    "resample_df.shape"
   ]
  },
  {
   "cell_type": "code",
   "execution_count": 242,
   "id": "6d907225",
   "metadata": {},
   "outputs": [
    {
     "name": "stdout",
     "output_type": "stream",
     "text": [
      "Requirement already satisfied: pmdarima in c:\\users\\prana\\anaconda3\\lib\\site-packages (1.8.4)\n",
      "Requirement already satisfied: scikit-learn>=0.22 in c:\\users\\prana\\anaconda3\\lib\\site-packages (from pmdarima) (0.24.2)\n",
      "Requirement already satisfied: pandas>=0.19 in c:\\users\\prana\\anaconda3\\lib\\site-packages (from pmdarima) (1.3.4)\n",
      "Requirement already satisfied: urllib3 in c:\\users\\prana\\anaconda3\\lib\\site-packages (from pmdarima) (1.26.7)\n",
      "Requirement already satisfied: statsmodels!=0.12.0,>=0.11 in c:\\users\\prana\\anaconda3\\lib\\site-packages (from pmdarima) (0.12.2)\n",
      "Requirement already satisfied: scipy>=1.3.2 in c:\\users\\prana\\anaconda3\\lib\\site-packages (from pmdarima) (1.7.1)\n",
      "Requirement already satisfied: numpy>=1.19.3 in c:\\users\\prana\\anaconda3\\lib\\site-packages (from pmdarima) (1.20.3)\n",
      "Requirement already satisfied: setuptools!=50.0.0,>=38.6.0 in c:\\users\\prana\\anaconda3\\lib\\site-packages (from pmdarima) (58.0.4)\n",
      "Requirement already satisfied: joblib>=0.11 in c:\\users\\prana\\anaconda3\\lib\\site-packages (from pmdarima) (1.1.0)\n",
      "Requirement already satisfied: Cython!=0.29.18,>=0.29 in c:\\users\\prana\\anaconda3\\lib\\site-packages (from pmdarima) (0.29.24)\n",
      "Requirement already satisfied: pytz>=2017.3 in c:\\users\\prana\\anaconda3\\lib\\site-packages (from pandas>=0.19->pmdarima) (2021.3)\n",
      "Requirement already satisfied: python-dateutil>=2.7.3 in c:\\users\\prana\\anaconda3\\lib\\site-packages (from pandas>=0.19->pmdarima) (2.8.2)\n",
      "Requirement already satisfied: six>=1.5 in c:\\users\\prana\\anaconda3\\lib\\site-packages (from python-dateutil>=2.7.3->pandas>=0.19->pmdarima) (1.16.0)\n",
      "Requirement already satisfied: threadpoolctl>=2.0.0 in c:\\users\\prana\\anaconda3\\lib\\site-packages (from scikit-learn>=0.22->pmdarima) (2.2.0)\n",
      "Requirement already satisfied: patsy>=0.5 in c:\\users\\prana\\anaconda3\\lib\\site-packages (from statsmodels!=0.12.0,>=0.11->pmdarima) (0.5.2)\n"
     ]
    }
   ],
   "source": [
    "#AUTO ARIMA\n",
    "!pip install pmdarima"
   ]
  },
  {
   "cell_type": "code",
   "execution_count": 35,
   "id": "71850f56",
   "metadata": {},
   "outputs": [],
   "source": [
    "y=resample_df.Avg_Temp.values"
   ]
  },
  {
   "cell_type": "code",
   "execution_count": 36,
   "id": "22729325",
   "metadata": {},
   "outputs": [],
   "source": [
    "import pmdarima as pm\n",
    "from pmdarima.model_selection import train_test_split"
   ]
  },
  {
   "cell_type": "code",
   "execution_count": 37,
   "id": "6c1b4d64",
   "metadata": {},
   "outputs": [],
   "source": [
    "train, test = train_test_split(resample_df, train_size=int(0.9 * resample_df.shape[0]))"
   ]
  },
  {
   "cell_type": "code",
   "execution_count": 38,
   "id": "65bd8f73",
   "metadata": {},
   "outputs": [
    {
     "data": {
      "text/plain": [
       "((2848, 1), (317, 1))"
      ]
     },
     "execution_count": 38,
     "metadata": {},
     "output_type": "execute_result"
    }
   ],
   "source": [
    "train.shape,test.shape"
   ]
  },
  {
   "cell_type": "code",
   "execution_count": 39,
   "id": "3eed73d2",
   "metadata": {},
   "outputs": [
    {
     "name": "stdout",
     "output_type": "stream",
     "text": [
      "Performing stepwise search to minimize aic\n",
      " ARIMA(5,0,2)(0,0,0)[0] intercept   : AIC=13800.385, Time=10.13 sec\n",
      " ARIMA(0,0,0)(0,0,0)[0] intercept   : AIC=21371.821, Time=0.13 sec\n",
      " ARIMA(1,0,0)(0,0,0)[0] intercept   : AIC=18004.262, Time=0.37 sec\n",
      " ARIMA(0,0,1)(0,0,0)[0] intercept   : AIC=18873.356, Time=1.09 sec\n",
      " ARIMA(0,0,0)(0,0,0)[0]             : AIC=21739.074, Time=0.07 sec\n",
      " ARIMA(4,0,2)(0,0,0)[0] intercept   : AIC=13962.987, Time=9.28 sec\n",
      " ARIMA(5,0,1)(0,0,0)[0] intercept   : AIC=13734.728, Time=5.97 sec\n",
      " ARIMA(4,0,1)(0,0,0)[0] intercept   : AIC=13820.226, Time=4.34 sec\n",
      " ARIMA(5,0,0)(0,0,0)[0] intercept   : AIC=inf, Time=2.34 sec\n",
      " ARIMA(6,0,1)(0,0,0)[0] intercept   : AIC=13700.570, Time=8.97 sec\n",
      " ARIMA(6,0,0)(0,0,0)[0] intercept   : AIC=inf, Time=1.73 sec\n",
      " ARIMA(7,0,1)(0,0,0)[0] intercept   : AIC=13692.913, Time=6.21 sec\n",
      " ARIMA(7,0,0)(0,0,0)[0] intercept   : AIC=inf, Time=2.40 sec\n",
      " ARIMA(8,0,1)(0,0,0)[0] intercept   : AIC=13616.389, Time=14.23 sec\n",
      " ARIMA(8,0,0)(0,0,0)[0] intercept   : AIC=inf, Time=2.32 sec\n",
      " ARIMA(9,0,1)(0,0,0)[0] intercept   : AIC=13533.758, Time=14.88 sec\n",
      " ARIMA(9,0,0)(0,0,0)[0] intercept   : AIC=inf, Time=3.33 sec\n",
      " ARIMA(10,0,1)(0,0,0)[0] intercept   : AIC=13450.076, Time=15.08 sec\n",
      " ARIMA(10,0,0)(0,0,0)[0] intercept   : AIC=inf, Time=3.22 sec\n",
      " ARIMA(10,0,2)(0,0,0)[0] intercept   : AIC=13522.780, Time=16.13 sec\n",
      " ARIMA(9,0,2)(0,0,0)[0] intercept   : AIC=13597.777, Time=14.91 sec\n",
      " ARIMA(10,0,1)(0,0,0)[0]             : AIC=13564.496, Time=8.40 sec\n",
      "\n",
      "Best model:  ARIMA(10,0,1)(0,0,0)[0] intercept\n",
      "Total fit time: 145.600 seconds\n"
     ]
    }
   ],
   "source": [
    "# Fit your model\n",
    "model = pm.auto_arima( train, start_p=5, max_p=10, seasonal=True, trace = True) #seasonal =False\n",
    "# random search\n",
    "# make your forecasts\n",
    "forecasts = model.predict(test.shape[0])"
   ]
  },
  {
   "cell_type": "code",
   "execution_count": 40,
   "id": "67ec1b3e",
   "metadata": {},
   "outputs": [
    {
     "data": {
      "image/png": "[encoded data removed]",
      "text/plain": [
       "<Figure size 432x288 with 1 Axes>"
      ]
     },
     "metadata": {
      "needs_background": "light"
     },
     "output_type": "display_data"
    }
   ],
   "source": [
    "# Visualize the forecasts (blue=train, green=forecasts)\n",
    "x = np.arange(resample_df.shape[0])\n",
    "plt.plot(x[:2848], train, c='blue')\n",
    "plt.plot(x[2848:], forecasts, c='green')\n",
    "plt.show()"
   ]
  },
  {
   "cell_type": "code",
   "execution_count": 41,
   "id": "0a1b9940",
   "metadata": {},
   "outputs": [],
   "source": [
    "# from statsmodels.tsa.arima_model import ARIMA\n",
    "from statsmodels.tsa.arima.model import ARIMA\n",
    "from sklearn.metrics import mean_squared_error"
   ]
  },
  {
   "cell_type": "code",
   "execution_count": 42,
   "id": "96e28741",
   "metadata": {},
   "outputs": [],
   "source": [
    "train_size = int(0.9 * resample_df.shape[0])\n",
    "test_size = resample_df.shape[0] - train_size"
   ]
  },
  {
   "cell_type": "code",
   "execution_count": 110,
   "id": "c13e8b2c",
   "metadata": {},
   "outputs": [
    {
     "data": {
      "text/plain": [
       "1987-05-01    10.446412\n",
       "1987-06-01    16.873387\n",
       "1987-07-01    18.988926\n",
       "1987-08-01    17.152105\n",
       "1987-09-01    12.410958\n",
       "                ...    \n",
       "2013-05-01     6.410308\n",
       "2013-06-01     9.803450\n",
       "2013-07-01    11.590986\n",
       "2013-08-01    11.302780\n",
       "2013-09-01     9.024948\n",
       "Freq: MS, Name: predicted_mean, Length: 317, dtype: float64"
      ]
     },
     "execution_count": 110,
     "metadata": {},
     "output_type": "execute_result"
    }
   ],
   "source": [
    "model = ARIMA(train, order=(10,0,1))#order is p,d,q\n",
    "model_fit = model.fit()\n",
    "output = model_fit.forecast(test_size)\n",
    "output"
   ]
  },
  {
   "cell_type": "code",
   "execution_count": 111,
   "id": "a5b4ef3f",
   "metadata": {},
   "outputs": [
    {
     "data": {
      "text/plain": [
       "10.446412219087001"
      ]
     },
     "execution_count": 111,
     "metadata": {},
     "output_type": "execute_result"
    }
   ],
   "source": [
    "output[0]"
   ]
  },
  {
   "cell_type": "code",
   "execution_count": 112,
   "id": "d2ad2d90",
   "metadata": {},
   "outputs": [
    {
     "data": {
      "text/plain": [
       "16.30926708759487"
      ]
     },
     "execution_count": 112,
     "metadata": {},
     "output_type": "execute_result"
    }
   ],
   "source": [
    "mean_squared_error(test,output)"
   ]
  },
  {
   "cell_type": "code",
   "execution_count": 113,
   "id": "956585a3",
   "metadata": {},
   "outputs": [
    {
     "data": {
      "text/plain": [
       "4.038473361010924"
      ]
     },
     "execution_count": 113,
     "metadata": {},
     "output_type": "execute_result"
    }
   ],
   "source": [
    "mean_squared_error(test,output)**0.5"
   ]
  },
  {
   "cell_type": "code",
   "execution_count": 114,
   "id": "f3e86190",
   "metadata": {},
   "outputs": [
    {
     "data": {
      "text/plain": [
       "0.9791991774787279"
      ]
     },
     "execution_count": 114,
     "metadata": {},
     "output_type": "execute_result"
    }
   ],
   "source": [
    "from sklearn.metrics import mean_absolute_percentage_error\n",
    "mean_absolute_percentage_error(test,output)"
   ]
  },
  {
   "cell_type": "markdown",
   "id": "99044510",
   "metadata": {},
   "source": [
    "#  Apply regression on TS using lag values"
   ]
  },
  {
   "cell_type": "code",
   "execution_count": 74,
   "id": "c2e9dd32",
   "metadata": {},
   "outputs": [],
   "source": [
    "reg_data=resample_df.copy()"
   ]
  },
  {
   "cell_type": "code",
   "execution_count": 75,
   "id": "4c4db37f",
   "metadata": {},
   "outputs": [
    {
     "data": {
      "text/html": [
       "<div>\n",
       "<style scoped>\n",
       "    .dataframe tbody tr th:only-of-type {\n",
       "        vertical-align: middle;\n",
       "    }\n",
       "\n",
       "    .dataframe tbody tr th {\n",
       "        vertical-align: top;\n",
       "    }\n",
       "\n",
       "    .dataframe thead th {\n",
       "        text-align: right;\n",
       "    }\n",
       "</style>\n",
       "<table border=\"1\" class=\"dataframe\">\n",
       "  <thead>\n",
       "    <tr style=\"text-align: right;\">\n",
       "      <th></th>\n",
       "      <th>Avg_Temp</th>\n",
       "    </tr>\n",
       "    <tr>\n",
       "      <th>Date</th>\n",
       "      <th></th>\n",
       "    </tr>\n",
       "  </thead>\n",
       "  <tbody>\n",
       "    <tr>\n",
       "      <th>1750-01-01</th>\n",
       "      <td>-7.495</td>\n",
       "    </tr>\n",
       "    <tr>\n",
       "      <th>1750-02-01</th>\n",
       "      <td>-7.228</td>\n",
       "    </tr>\n",
       "    <tr>\n",
       "      <th>1750-03-01</th>\n",
       "      <td>-2.461</td>\n",
       "    </tr>\n",
       "    <tr>\n",
       "      <th>1750-04-01</th>\n",
       "      <td>5.163</td>\n",
       "    </tr>\n",
       "    <tr>\n",
       "      <th>1750-05-01</th>\n",
       "      <td>11.404</td>\n",
       "    </tr>\n",
       "  </tbody>\n",
       "</table>\n",
       "</div>"
      ],
      "text/plain": [
       "            Avg_Temp\n",
       "Date                \n",
       "1750-01-01    -7.495\n",
       "1750-02-01    -7.228\n",
       "1750-03-01    -2.461\n",
       "1750-04-01     5.163\n",
       "1750-05-01    11.404"
      ]
     },
     "execution_count": 75,
     "metadata": {},
     "output_type": "execute_result"
    }
   ],
   "source": [
    "reg_data.head()"
   ]
  },
  {
   "cell_type": "code",
   "execution_count": 76,
   "id": "f959e79b",
   "metadata": {},
   "outputs": [
    {
     "data": {
      "text/plain": [
       "(3165, 1)"
      ]
     },
     "execution_count": 76,
     "metadata": {},
     "output_type": "execute_result"
    }
   ],
   "source": [
    "reg_data.shape"
   ]
  },
  {
   "cell_type": "code",
   "execution_count": 77,
   "id": "5a344200",
   "metadata": {},
   "outputs": [
    {
     "data": {
      "text/plain": [
       "Index(['Avg_Temp'], dtype='object')"
      ]
     },
     "execution_count": 77,
     "metadata": {},
     "output_type": "execute_result"
    }
   ],
   "source": [
    "reg_data.columns"
   ]
  },
  {
   "cell_type": "code",
   "execution_count": 78,
   "id": "19b4dbe1",
   "metadata": {},
   "outputs": [],
   "source": [
    "reg_data['lag1']=reg_data['Avg_Temp'].shift(1)\n",
    "reg_data['lag2']=reg_data['Avg_Temp'].shift(2)\n",
    "reg_data['lag3']=reg_data['Avg_Temp'].shift(3)\n",
    "reg_data['lag4']=reg_data['Avg_Temp'].shift(4)\n",
    "reg_data['lag5']=reg_data['Avg_Temp'].shift(5)"
   ]
  },
  {
   "cell_type": "code",
   "execution_count": 79,
   "id": "3b5f6544",
   "metadata": {},
   "outputs": [
    {
     "data": {
      "text/html": [
       "<div>\n",
       "<style scoped>\n",
       "    .dataframe tbody tr th:only-of-type {\n",
       "        vertical-align: middle;\n",
       "    }\n",
       "\n",
       "    .dataframe tbody tr th {\n",
       "        vertical-align: top;\n",
       "    }\n",
       "\n",
       "    .dataframe thead th {\n",
       "        text-align: right;\n",
       "    }\n",
       "</style>\n",
       "<table border=\"1\" class=\"dataframe\">\n",
       "  <thead>\n",
       "    <tr style=\"text-align: right;\">\n",
       "      <th></th>\n",
       "      <th>Avg_Temp</th>\n",
       "      <th>lag1</th>\n",
       "      <th>lag2</th>\n",
       "      <th>lag3</th>\n",
       "      <th>lag4</th>\n",
       "      <th>lag5</th>\n",
       "    </tr>\n",
       "    <tr>\n",
       "      <th>Date</th>\n",
       "      <th></th>\n",
       "      <th></th>\n",
       "      <th></th>\n",
       "      <th></th>\n",
       "      <th></th>\n",
       "      <th></th>\n",
       "    </tr>\n",
       "  </thead>\n",
       "  <tbody>\n",
       "    <tr>\n",
       "      <th>1750-01-01</th>\n",
       "      <td>-7.495</td>\n",
       "      <td>NaN</td>\n",
       "      <td>NaN</td>\n",
       "      <td>NaN</td>\n",
       "      <td>NaN</td>\n",
       "      <td>NaN</td>\n",
       "    </tr>\n",
       "    <tr>\n",
       "      <th>1750-02-01</th>\n",
       "      <td>-7.228</td>\n",
       "      <td>-7.495</td>\n",
       "      <td>NaN</td>\n",
       "      <td>NaN</td>\n",
       "      <td>NaN</td>\n",
       "      <td>NaN</td>\n",
       "    </tr>\n",
       "    <tr>\n",
       "      <th>1750-03-01</th>\n",
       "      <td>-2.461</td>\n",
       "      <td>-7.228</td>\n",
       "      <td>-7.495</td>\n",
       "      <td>NaN</td>\n",
       "      <td>NaN</td>\n",
       "      <td>NaN</td>\n",
       "    </tr>\n",
       "    <tr>\n",
       "      <th>1750-04-01</th>\n",
       "      <td>5.163</td>\n",
       "      <td>-2.461</td>\n",
       "      <td>-7.228</td>\n",
       "      <td>-7.495</td>\n",
       "      <td>NaN</td>\n",
       "      <td>NaN</td>\n",
       "    </tr>\n",
       "    <tr>\n",
       "      <th>1750-05-01</th>\n",
       "      <td>11.404</td>\n",
       "      <td>5.163</td>\n",
       "      <td>-2.461</td>\n",
       "      <td>-7.228</td>\n",
       "      <td>-7.495</td>\n",
       "      <td>NaN</td>\n",
       "    </tr>\n",
       "    <tr>\n",
       "      <th>1750-06-01</th>\n",
       "      <td>16.239</td>\n",
       "      <td>11.404</td>\n",
       "      <td>5.163</td>\n",
       "      <td>-2.461</td>\n",
       "      <td>-7.228</td>\n",
       "      <td>-7.495</td>\n",
       "    </tr>\n",
       "    <tr>\n",
       "      <th>1750-07-01</th>\n",
       "      <td>19.300</td>\n",
       "      <td>16.239</td>\n",
       "      <td>11.404</td>\n",
       "      <td>5.163</td>\n",
       "      <td>-2.461</td>\n",
       "      <td>-7.228</td>\n",
       "    </tr>\n",
       "    <tr>\n",
       "      <th>1750-08-01</th>\n",
       "      <td>17.449</td>\n",
       "      <td>19.300</td>\n",
       "      <td>16.239</td>\n",
       "      <td>11.404</td>\n",
       "      <td>5.163</td>\n",
       "      <td>-2.461</td>\n",
       "    </tr>\n",
       "    <tr>\n",
       "      <th>1750-09-01</th>\n",
       "      <td>10.004</td>\n",
       "      <td>17.449</td>\n",
       "      <td>19.300</td>\n",
       "      <td>16.239</td>\n",
       "      <td>11.404</td>\n",
       "      <td>5.163</td>\n",
       "    </tr>\n",
       "    <tr>\n",
       "      <th>1750-10-01</th>\n",
       "      <td>0.517</td>\n",
       "      <td>10.004</td>\n",
       "      <td>17.449</td>\n",
       "      <td>19.300</td>\n",
       "      <td>16.239</td>\n",
       "      <td>11.404</td>\n",
       "    </tr>\n",
       "  </tbody>\n",
       "</table>\n",
       "</div>"
      ],
      "text/plain": [
       "            Avg_Temp    lag1    lag2    lag3    lag4    lag5\n",
       "Date                                                        \n",
       "1750-01-01    -7.495     NaN     NaN     NaN     NaN     NaN\n",
       "1750-02-01    -7.228  -7.495     NaN     NaN     NaN     NaN\n",
       "1750-03-01    -2.461  -7.228  -7.495     NaN     NaN     NaN\n",
       "1750-04-01     5.163  -2.461  -7.228  -7.495     NaN     NaN\n",
       "1750-05-01    11.404   5.163  -2.461  -7.228  -7.495     NaN\n",
       "1750-06-01    16.239  11.404   5.163  -2.461  -7.228  -7.495\n",
       "1750-07-01    19.300  16.239  11.404   5.163  -2.461  -7.228\n",
       "1750-08-01    17.449  19.300  16.239  11.404   5.163  -2.461\n",
       "1750-09-01    10.004  17.449  19.300  16.239  11.404   5.163\n",
       "1750-10-01     0.517  10.004  17.449  19.300  16.239  11.404"
      ]
     },
     "execution_count": 79,
     "metadata": {},
     "output_type": "execute_result"
    }
   ],
   "source": [
    "reg_data.head(10)"
   ]
  },
  {
   "cell_type": "code",
   "execution_count": 80,
   "id": "bfd8e326",
   "metadata": {},
   "outputs": [],
   "source": [
    "df_r=reg_data.loc['1750-06-01':,:]"
   ]
  },
  {
   "cell_type": "code",
   "execution_count": 81,
   "id": "42aa1d1a",
   "metadata": {},
   "outputs": [
    {
     "data": {
      "text/plain": [
       "(3160, 6)"
      ]
     },
     "execution_count": 81,
     "metadata": {},
     "output_type": "execute_result"
    }
   ],
   "source": [
    "df_r.shape"
   ]
  },
  {
   "cell_type": "code",
   "execution_count": 82,
   "id": "4d6dba7b",
   "metadata": {},
   "outputs": [
    {
     "data": {
      "text/plain": [
       "Index(['Avg_Temp', 'lag1', 'lag2', 'lag3', 'lag4', 'lag5'], dtype='object')"
      ]
     },
     "execution_count": 82,
     "metadata": {},
     "output_type": "execute_result"
    }
   ],
   "source": [
    "df_r.columns"
   ]
  },
  {
   "cell_type": "code",
   "execution_count": 83,
   "id": "9af28489",
   "metadata": {},
   "outputs": [
    {
     "data": {
      "text/html": [
       "<div>\n",
       "<style scoped>\n",
       "    .dataframe tbody tr th:only-of-type {\n",
       "        vertical-align: middle;\n",
       "    }\n",
       "\n",
       "    .dataframe tbody tr th {\n",
       "        vertical-align: top;\n",
       "    }\n",
       "\n",
       "    .dataframe thead th {\n",
       "        text-align: right;\n",
       "    }\n",
       "</style>\n",
       "<table border=\"1\" class=\"dataframe\">\n",
       "  <thead>\n",
       "    <tr style=\"text-align: right;\">\n",
       "      <th></th>\n",
       "      <th>Avg_Temp</th>\n",
       "      <th>lag1</th>\n",
       "      <th>lag2</th>\n",
       "      <th>lag3</th>\n",
       "      <th>lag4</th>\n",
       "      <th>lag5</th>\n",
       "    </tr>\n",
       "    <tr>\n",
       "      <th>Date</th>\n",
       "      <th></th>\n",
       "      <th></th>\n",
       "      <th></th>\n",
       "      <th></th>\n",
       "      <th></th>\n",
       "      <th></th>\n",
       "    </tr>\n",
       "  </thead>\n",
       "  <tbody>\n",
       "    <tr>\n",
       "      <th>1750-06-01</th>\n",
       "      <td>16.239</td>\n",
       "      <td>11.404</td>\n",
       "      <td>5.163</td>\n",
       "      <td>-2.461</td>\n",
       "      <td>-7.228</td>\n",
       "      <td>-7.495</td>\n",
       "    </tr>\n",
       "    <tr>\n",
       "      <th>1750-07-01</th>\n",
       "      <td>19.300</td>\n",
       "      <td>16.239</td>\n",
       "      <td>11.404</td>\n",
       "      <td>5.163</td>\n",
       "      <td>-2.461</td>\n",
       "      <td>-7.228</td>\n",
       "    </tr>\n",
       "    <tr>\n",
       "      <th>1750-08-01</th>\n",
       "      <td>17.449</td>\n",
       "      <td>19.300</td>\n",
       "      <td>16.239</td>\n",
       "      <td>11.404</td>\n",
       "      <td>5.163</td>\n",
       "      <td>-2.461</td>\n",
       "    </tr>\n",
       "    <tr>\n",
       "      <th>1750-09-01</th>\n",
       "      <td>10.004</td>\n",
       "      <td>17.449</td>\n",
       "      <td>19.300</td>\n",
       "      <td>16.239</td>\n",
       "      <td>11.404</td>\n",
       "      <td>5.163</td>\n",
       "    </tr>\n",
       "    <tr>\n",
       "      <th>1750-10-01</th>\n",
       "      <td>0.517</td>\n",
       "      <td>10.004</td>\n",
       "      <td>17.449</td>\n",
       "      <td>19.300</td>\n",
       "      <td>16.239</td>\n",
       "      <td>11.404</td>\n",
       "    </tr>\n",
       "  </tbody>\n",
       "</table>\n",
       "</div>"
      ],
      "text/plain": [
       "            Avg_Temp    lag1    lag2    lag3    lag4    lag5\n",
       "Date                                                        \n",
       "1750-06-01    16.239  11.404   5.163  -2.461  -7.228  -7.495\n",
       "1750-07-01    19.300  16.239  11.404   5.163  -2.461  -7.228\n",
       "1750-08-01    17.449  19.300  16.239  11.404   5.163  -2.461\n",
       "1750-09-01    10.004  17.449  19.300  16.239  11.404   5.163\n",
       "1750-10-01     0.517  10.004  17.449  19.300  16.239  11.404"
      ]
     },
     "execution_count": 83,
     "metadata": {},
     "output_type": "execute_result"
    }
   ],
   "source": [
    "df_r.head()"
   ]
  },
  {
   "cell_type": "markdown",
   "id": "b29aa5dd",
   "metadata": {},
   "source": [
    "#  X & Y split "
   ]
  },
  {
   "cell_type": "code",
   "execution_count": 84,
   "id": "efa79626",
   "metadata": {},
   "outputs": [],
   "source": [
    "X = df_r.drop(['Avg_Temp'],axis=1)\n",
    "Y = df_r['Avg_Temp']"
   ]
  },
  {
   "cell_type": "code",
   "execution_count": 85,
   "id": "6c7e9031",
   "metadata": {},
   "outputs": [
    {
     "data": {
      "text/plain": [
       "((3160, 5), (3160,))"
      ]
     },
     "execution_count": 85,
     "metadata": {},
     "output_type": "execute_result"
    }
   ],
   "source": [
    "X.shape, Y.shape"
   ]
  },
  {
   "cell_type": "code",
   "execution_count": 86,
   "id": "ea98d189",
   "metadata": {},
   "outputs": [],
   "source": [
    "size = int(len(X) * 0.9)\n",
    "X_train, X_test = X[0:size], X[size:len(X)]\n",
    "Y_train, Y_test = Y[0:size], Y[size:len(X)]"
   ]
  },
  {
   "cell_type": "code",
   "execution_count": 87,
   "id": "fb4b4f65",
   "metadata": {},
   "outputs": [
    {
     "data": {
      "text/plain": [
       "((2844, 5), (316, 5), (2844,), (316,))"
      ]
     },
     "execution_count": 87,
     "metadata": {},
     "output_type": "execute_result"
    }
   ],
   "source": [
    "X_train.shape, X_test.shape,Y_train.shape, Y_test.shape"
   ]
  },
  {
   "cell_type": "markdown",
   "id": "28a7381f",
   "metadata": {},
   "source": [
    "#  Apply regression algorithm"
   ]
  },
  {
   "cell_type": "markdown",
   "id": "f8d40812",
   "metadata": {},
   "source": [
    "## Linear regression"
   ]
  },
  {
   "cell_type": "code",
   "execution_count": 88,
   "id": "e8caef46",
   "metadata": {},
   "outputs": [],
   "source": [
    "from sklearn.linear_model import LinearRegression"
   ]
  },
  {
   "cell_type": "code",
   "execution_count": 89,
   "id": "bb970f36",
   "metadata": {},
   "outputs": [],
   "source": [
    "reg = LinearRegression().fit(X_train, Y_train)"
   ]
  },
  {
   "cell_type": "code",
   "execution_count": 90,
   "id": "2d762c45",
   "metadata": {},
   "outputs": [],
   "source": [
    "Y_pred = reg.predict(X_test)"
   ]
  },
  {
   "cell_type": "code",
   "execution_count": 91,
   "id": "df4711ff",
   "metadata": {},
   "outputs": [
    {
     "data": {
      "text/plain": [
       "9.974244460919367"
      ]
     },
     "execution_count": 91,
     "metadata": {},
     "output_type": "execute_result"
    }
   ],
   "source": [
    "mean_squared_error(Y_test,Y_pred)"
   ]
  },
  {
   "cell_type": "code",
   "execution_count": 92,
   "id": "eeef5f50",
   "metadata": {},
   "outputs": [
    {
     "data": {
      "text/plain": [
       "3.158202726380839"
      ]
     },
     "execution_count": 92,
     "metadata": {},
     "output_type": "execute_result"
    }
   ],
   "source": [
    "mean_squared_error(Y_test,Y_pred)**0.5"
   ]
  },
  {
   "cell_type": "code",
   "execution_count": 93,
   "id": "4c1a2cbc",
   "metadata": {},
   "outputs": [
    {
     "data": {
      "text/plain": [
       "0.8756751550212388"
      ]
     },
     "execution_count": 93,
     "metadata": {},
     "output_type": "execute_result"
    }
   ],
   "source": [
    "mean_absolute_percentage_error(Y_test,Y_pred)"
   ]
  },
  {
   "cell_type": "markdown",
   "id": "b556c69a",
   "metadata": {},
   "source": [
    "## RandomForestRegressor"
   ]
  },
  {
   "cell_type": "code",
   "execution_count": 94,
   "id": "61cdea50",
   "metadata": {},
   "outputs": [],
   "source": [
    "from sklearn.ensemble import RandomForestRegressor\n",
    "rfr = RandomForestRegressor( random_state = 7)"
   ]
  },
  {
   "cell_type": "code",
   "execution_count": 95,
   "id": "cbf80026",
   "metadata": {},
   "outputs": [
    {
     "data": {
      "text/plain": [
       "RandomForestRegressor(random_state=7)"
      ]
     },
     "execution_count": 95,
     "metadata": {},
     "output_type": "execute_result"
    }
   ],
   "source": [
    "rfr.fit(X_train,Y_train)"
   ]
  },
  {
   "cell_type": "code",
   "execution_count": 96,
   "id": "73626d46",
   "metadata": {},
   "outputs": [],
   "source": [
    "Y_pred_rfr = rfr.predict(X_test)"
   ]
  },
  {
   "cell_type": "code",
   "execution_count": 97,
   "id": "34695e97",
   "metadata": {},
   "outputs": [
    {
     "data": {
      "text/plain": [
       "10.191777398099692"
      ]
     },
     "execution_count": 97,
     "metadata": {},
     "output_type": "execute_result"
    }
   ],
   "source": [
    "mean_squared_error(Y_test,Y_pred_rfr)"
   ]
  },
  {
   "cell_type": "code",
   "execution_count": 98,
   "id": "369c42eb",
   "metadata": {},
   "outputs": [
    {
     "data": {
      "text/plain": [
       "3.192456326733334"
      ]
     },
     "execution_count": 98,
     "metadata": {},
     "output_type": "execute_result"
    }
   ],
   "source": [
    "mean_squared_error(Y_test,Y_pred_rfr)**0.5"
   ]
  },
  {
   "cell_type": "code",
   "execution_count": 99,
   "id": "53bc4ffd",
   "metadata": {},
   "outputs": [
    {
     "data": {
      "text/plain": [
       "0.9762401869384596"
      ]
     },
     "execution_count": 99,
     "metadata": {},
     "output_type": "execute_result"
    }
   ],
   "source": [
    "mean_absolute_percentage_error(Y_test,Y_pred_rfr)"
   ]
  },
  {
   "cell_type": "markdown",
   "id": "4ead8761",
   "metadata": {},
   "source": [
    "# LSTM_Time_series"
   ]
  },
  {
   "cell_type": "code",
   "execution_count": 285,
   "id": "1293cbd0",
   "metadata": {},
   "outputs": [
    {
     "data": {
      "text/html": [
       "<div>\n",
       "<style scoped>\n",
       "    .dataframe tbody tr th:only-of-type {\n",
       "        vertical-align: middle;\n",
       "    }\n",
       "\n",
       "    .dataframe tbody tr th {\n",
       "        vertical-align: top;\n",
       "    }\n",
       "\n",
       "    .dataframe thead th {\n",
       "        text-align: right;\n",
       "    }\n",
       "</style>\n",
       "<table border=\"1\" class=\"dataframe\">\n",
       "  <thead>\n",
       "    <tr style=\"text-align: right;\">\n",
       "      <th></th>\n",
       "      <th>Avg_Temp</th>\n",
       "    </tr>\n",
       "    <tr>\n",
       "      <th>Date</th>\n",
       "      <th></th>\n",
       "    </tr>\n",
       "  </thead>\n",
       "  <tbody>\n",
       "    <tr>\n",
       "      <th>1750-01-01</th>\n",
       "      <td>-7.495</td>\n",
       "    </tr>\n",
       "    <tr>\n",
       "      <th>1750-02-01</th>\n",
       "      <td>-7.228</td>\n",
       "    </tr>\n",
       "    <tr>\n",
       "      <th>1750-03-01</th>\n",
       "      <td>-2.461</td>\n",
       "    </tr>\n",
       "    <tr>\n",
       "      <th>1750-04-01</th>\n",
       "      <td>5.163</td>\n",
       "    </tr>\n",
       "    <tr>\n",
       "      <th>1750-05-01</th>\n",
       "      <td>11.404</td>\n",
       "    </tr>\n",
       "  </tbody>\n",
       "</table>\n",
       "</div>"
      ],
      "text/plain": [
       "            Avg_Temp\n",
       "Date                \n",
       "1750-01-01    -7.495\n",
       "1750-02-01    -7.228\n",
       "1750-03-01    -2.461\n",
       "1750-04-01     5.163\n",
       "1750-05-01    11.404"
      ]
     },
     "execution_count": 285,
     "metadata": {},
     "output_type": "execute_result"
    }
   ],
   "source": [
    "resample_df.head()"
   ]
  },
  {
   "cell_type": "code",
   "execution_count": 286,
   "id": "0c77ab4a",
   "metadata": {},
   "outputs": [
    {
     "data": {
      "text/plain": [
       "<AxesSubplot:xlabel='Date'>"
      ]
     },
     "execution_count": 286,
     "metadata": {},
     "output_type": "execute_result"
    },
    {
     "data": {
      "image/png": "[encoded data removed]",
      "text/plain": [
       "<Figure size 432x288 with 1 Axes>"
      ]
     },
     "metadata": {
      "needs_background": "light"
     },
     "output_type": "display_data"
    }
   ],
   "source": [
    "resample_df['Avg_Temp'].plot()"
   ]
  },
  {
   "cell_type": "code",
   "execution_count": 287,
   "id": "54778b5c",
   "metadata": {},
   "outputs": [],
   "source": [
    "lstm_data=resample_df[['Avg_Temp']].copy()"
   ]
  },
  {
   "cell_type": "code",
   "execution_count": 288,
   "id": "be53d733",
   "metadata": {},
   "outputs": [
    {
     "data": {
      "text/plain": [
       "(3165, 1)"
      ]
     },
     "execution_count": 288,
     "metadata": {},
     "output_type": "execute_result"
    }
   ],
   "source": [
    "lstm_data.shape"
   ]
  },
  {
   "cell_type": "code",
   "execution_count": 289,
   "id": "13f38cd5",
   "metadata": {},
   "outputs": [
    {
     "data": {
      "text/html": [
       "<div>\n",
       "<style scoped>\n",
       "    .dataframe tbody tr th:only-of-type {\n",
       "        vertical-align: middle;\n",
       "    }\n",
       "\n",
       "    .dataframe tbody tr th {\n",
       "        vertical-align: top;\n",
       "    }\n",
       "\n",
       "    .dataframe thead th {\n",
       "        text-align: right;\n",
       "    }\n",
       "</style>\n",
       "<table border=\"1\" class=\"dataframe\">\n",
       "  <thead>\n",
       "    <tr style=\"text-align: right;\">\n",
       "      <th></th>\n",
       "      <th>Avg_Temp</th>\n",
       "    </tr>\n",
       "    <tr>\n",
       "      <th>Date</th>\n",
       "      <th></th>\n",
       "    </tr>\n",
       "  </thead>\n",
       "  <tbody>\n",
       "    <tr>\n",
       "      <th>1750-01-01</th>\n",
       "      <td>-7.495</td>\n",
       "    </tr>\n",
       "    <tr>\n",
       "      <th>1750-02-01</th>\n",
       "      <td>-7.228</td>\n",
       "    </tr>\n",
       "    <tr>\n",
       "      <th>1750-03-01</th>\n",
       "      <td>-2.461</td>\n",
       "    </tr>\n",
       "    <tr>\n",
       "      <th>1750-04-01</th>\n",
       "      <td>5.163</td>\n",
       "    </tr>\n",
       "    <tr>\n",
       "      <th>1750-05-01</th>\n",
       "      <td>11.404</td>\n",
       "    </tr>\n",
       "  </tbody>\n",
       "</table>\n",
       "</div>"
      ],
      "text/plain": [
       "            Avg_Temp\n",
       "Date                \n",
       "1750-01-01    -7.495\n",
       "1750-02-01    -7.228\n",
       "1750-03-01    -2.461\n",
       "1750-04-01     5.163\n",
       "1750-05-01    11.404"
      ]
     },
     "execution_count": 289,
     "metadata": {},
     "output_type": "execute_result"
    }
   ],
   "source": [
    "lstm_data.head()"
   ]
  },
  {
   "cell_type": "code",
   "execution_count": 290,
   "id": "6f08a9b1",
   "metadata": {},
   "outputs": [
    {
     "data": {
      "text/plain": [
       "(2565, 1)"
      ]
     },
     "execution_count": 290,
     "metadata": {},
     "output_type": "execute_result"
    }
   ],
   "source": [
    "dataset_train = lstm_data.iloc[:2565,:]\n",
    "dataset_train.shape"
   ]
  },
  {
   "cell_type": "code",
   "execution_count": 291,
   "id": "5cb62b9e",
   "metadata": {},
   "outputs": [
    {
     "data": {
      "text/plain": [
       "array([-7.495, -7.228, -2.461,  5.163, 11.404])"
      ]
     },
     "execution_count": 291,
     "metadata": {},
     "output_type": "execute_result"
    }
   ],
   "source": [
    "# Convert data frame / series to numpy array\n",
    "training_set = dataset_train.iloc[:, 0].values\n",
    "training_set[:5]"
   ]
  },
  {
   "cell_type": "code",
   "execution_count": 292,
   "id": "01bc5652",
   "metadata": {},
   "outputs": [
    {
     "data": {
      "text/plain": [
       "(2565,)"
      ]
     },
     "execution_count": 292,
     "metadata": {},
     "output_type": "execute_result"
    }
   ],
   "source": [
    "training_set.shape"
   ]
  },
  {
   "cell_type": "markdown",
   "id": "fd8af650",
   "metadata": {},
   "source": [
    "# Add extra dimemsion to the data for processing in RNN / LSTM neuron"
   ]
  },
  {
   "cell_type": "code",
   "execution_count": 293,
   "id": "a798498e",
   "metadata": {},
   "outputs": [],
   "source": [
    "# Add extra dim for processing purpose\n",
    "training_set = training_set.reshape(-1,1)"
   ]
  },
  {
   "cell_type": "code",
   "execution_count": 294,
   "id": "b75fcf79",
   "metadata": {},
   "outputs": [
    {
     "data": {
      "text/plain": [
       "array([[-7.495],\n",
       "       [-7.228],\n",
       "       [-2.461],\n",
       "       [ 5.163],\n",
       "       [11.404]])"
      ]
     },
     "execution_count": 294,
     "metadata": {},
     "output_type": "execute_result"
    }
   ],
   "source": [
    "training_set[:5]"
   ]
  },
  {
   "cell_type": "code",
   "execution_count": 295,
   "id": "b705f2c3",
   "metadata": {},
   "outputs": [
    {
     "data": {
      "text/plain": [
       "(2565, 1)"
      ]
     },
     "execution_count": 295,
     "metadata": {},
     "output_type": "execute_result"
    }
   ],
   "source": [
    "training_set.shape"
   ]
  },
  {
   "cell_type": "code",
   "execution_count": 296,
   "id": "f51b8ef7",
   "metadata": {},
   "outputs": [
    {
     "data": {
      "text/plain": [
       "<AxesSubplot:>"
      ]
     },
     "execution_count": 296,
     "metadata": {},
     "output_type": "execute_result"
    },
    {
     "data": {
      "image/png": "[encoded data removed]",
      "text/plain": [
       "<Figure size 432x288 with 1 Axes>"
      ]
     },
     "metadata": {
      "needs_background": "light"
     },
     "output_type": "display_data"
    }
   ],
   "source": [
    "pd.Series(training_set.flat).plot()"
   ]
  },
  {
   "cell_type": "code",
   "execution_count": 297,
   "id": "41217f3b",
   "metadata": {},
   "outputs": [],
   "source": [
    "#Transform time series for having lag values and output variable"
   ]
  },
  {
   "cell_type": "code",
   "execution_count": 298,
   "id": "f171ec1a",
   "metadata": {},
   "outputs": [],
   "source": [
    "timesteps=5 # How many lag Values to train the data\n",
    "trn_size = dataset_train.shape[0]"
   ]
  },
  {
   "cell_type": "code",
   "execution_count": 299,
   "id": "e9a08d80",
   "metadata": {},
   "outputs": [],
   "source": [
    "# add lag values to train dataset\n",
    "X_train = []\n",
    "y_train = []\n",
    "for i in range(timesteps, trn_size):\n",
    "    X_train.append(training_set[i-timesteps:i, 0])\n",
    "    y_train.append(training_set[i, 0])\n",
    "X_train, y_train = np.array(X_train), np.array(y_train)\n"
   ]
  },
  {
   "cell_type": "code",
   "execution_count": 300,
   "id": "4e33aa38",
   "metadata": {},
   "outputs": [
    {
     "data": {
      "text/plain": [
       "(2560, 5)"
      ]
     },
     "execution_count": 300,
     "metadata": {},
     "output_type": "execute_result"
    }
   ],
   "source": [
    "X_train.shape"
   ]
  },
  {
   "cell_type": "code",
   "execution_count": 301,
   "id": "474d1844",
   "metadata": {},
   "outputs": [
    {
     "data": {
      "text/plain": [
       "(2560,)"
      ]
     },
     "execution_count": 301,
     "metadata": {},
     "output_type": "execute_result"
    }
   ],
   "source": [
    "y_train.shape"
   ]
  },
  {
   "cell_type": "code",
   "execution_count": 302,
   "id": "e0d712ee",
   "metadata": {},
   "outputs": [
    {
     "data": {
      "text/plain": [
       "array([[-7.495, -7.228, -2.461,  5.163, 11.404]])"
      ]
     },
     "execution_count": 302,
     "metadata": {},
     "output_type": "execute_result"
    }
   ],
   "source": [
    "X_train[:1]"
   ]
  },
  {
   "cell_type": "code",
   "execution_count": 303,
   "id": "173bfacf",
   "metadata": {},
   "outputs": [
    {
     "data": {
      "text/plain": [
       "array([16.239])"
      ]
     },
     "execution_count": 303,
     "metadata": {},
     "output_type": "execute_result"
    }
   ],
   "source": [
    "y_train[:1]"
   ]
  },
  {
   "cell_type": "code",
   "execution_count": 304,
   "id": "bc84799f",
   "metadata": {},
   "outputs": [
    {
     "data": {
      "text/html": [
       "<div>\n",
       "<style scoped>\n",
       "    .dataframe tbody tr th:only-of-type {\n",
       "        vertical-align: middle;\n",
       "    }\n",
       "\n",
       "    .dataframe tbody tr th {\n",
       "        vertical-align: top;\n",
       "    }\n",
       "\n",
       "    .dataframe thead th {\n",
       "        text-align: right;\n",
       "    }\n",
       "</style>\n",
       "<table border=\"1\" class=\"dataframe\">\n",
       "  <thead>\n",
       "    <tr style=\"text-align: right;\">\n",
       "      <th></th>\n",
       "      <th>0</th>\n",
       "      <th>1</th>\n",
       "      <th>2</th>\n",
       "      <th>3</th>\n",
       "      <th>4</th>\n",
       "    </tr>\n",
       "  </thead>\n",
       "  <tbody>\n",
       "    <tr>\n",
       "      <th>0</th>\n",
       "      <td>-7.495</td>\n",
       "      <td>-7.228</td>\n",
       "      <td>-2.461</td>\n",
       "      <td>5.163</td>\n",
       "      <td>11.404</td>\n",
       "    </tr>\n",
       "    <tr>\n",
       "      <th>1</th>\n",
       "      <td>-7.228</td>\n",
       "      <td>-2.461</td>\n",
       "      <td>5.163</td>\n",
       "      <td>11.404</td>\n",
       "      <td>16.239</td>\n",
       "    </tr>\n",
       "    <tr>\n",
       "      <th>2</th>\n",
       "      <td>-2.461</td>\n",
       "      <td>5.163</td>\n",
       "      <td>11.404</td>\n",
       "      <td>16.239</td>\n",
       "      <td>19.300</td>\n",
       "    </tr>\n",
       "    <tr>\n",
       "      <th>3</th>\n",
       "      <td>5.163</td>\n",
       "      <td>11.404</td>\n",
       "      <td>16.239</td>\n",
       "      <td>19.300</td>\n",
       "      <td>17.449</td>\n",
       "    </tr>\n",
       "    <tr>\n",
       "      <th>4</th>\n",
       "      <td>11.404</td>\n",
       "      <td>16.239</td>\n",
       "      <td>19.300</td>\n",
       "      <td>17.449</td>\n",
       "      <td>10.004</td>\n",
       "    </tr>\n",
       "  </tbody>\n",
       "</table>\n",
       "</div>"
      ],
      "text/plain": [
       "        0       1       2       3       4\n",
       "0  -7.495  -7.228  -2.461   5.163  11.404\n",
       "1  -7.228  -2.461   5.163  11.404  16.239\n",
       "2  -2.461   5.163  11.404  16.239  19.300\n",
       "3   5.163  11.404  16.239  19.300  17.449\n",
       "4  11.404  16.239  19.300  17.449  10.004"
      ]
     },
     "execution_count": 304,
     "metadata": {},
     "output_type": "execute_result"
    }
   ],
   "source": [
    "pd.DataFrame(X_train).head()"
   ]
  },
  {
   "cell_type": "markdown",
   "id": "4b0e11eb",
   "metadata": {},
   "source": [
    "## Reshape X_train to add extra dimension"
   ]
  },
  {
   "cell_type": "code",
   "execution_count": 305,
   "id": "17c837fe",
   "metadata": {},
   "outputs": [],
   "source": [
    "#It is added to be processed easily by RNN / LSTM\n",
    "#Reshaping\n",
    "X_train = np.reshape(X_train, (X_train.shape[0], X_train.shape[1], 1))"
   ]
  },
  {
   "cell_type": "code",
   "execution_count": 306,
   "id": "db9b0230",
   "metadata": {},
   "outputs": [
    {
     "data": {
      "text/plain": [
       "(2560, 5, 1)"
      ]
     },
     "execution_count": 306,
     "metadata": {},
     "output_type": "execute_result"
    }
   ],
   "source": [
    "X_train.shape"
   ]
  },
  {
   "cell_type": "code",
   "execution_count": 307,
   "id": "d77601bc",
   "metadata": {},
   "outputs": [
    {
     "data": {
      "text/plain": [
       "array([[[-7.495],\n",
       "        [-7.228],\n",
       "        [-2.461],\n",
       "        [ 5.163],\n",
       "        [11.404]]])"
      ]
     },
     "execution_count": 307,
     "metadata": {},
     "output_type": "execute_result"
    }
   ],
   "source": [
    "X_train[:1]"
   ]
  },
  {
   "cell_type": "markdown",
   "id": "a205b144",
   "metadata": {},
   "source": [
    "## Building the LSTM"
   ]
  },
  {
   "cell_type": "code",
   "execution_count": 308,
   "id": "50b98d3a",
   "metadata": {},
   "outputs": [],
   "source": [
    "import tensorflow as tf\n",
    "from tensorflow import keras"
   ]
  },
  {
   "cell_type": "code",
   "execution_count": 309,
   "id": "783d4d98",
   "metadata": {},
   "outputs": [
    {
     "data": {
      "text/plain": [
       "numpy.ndarray"
      ]
     },
     "execution_count": 309,
     "metadata": {},
     "output_type": "execute_result"
    }
   ],
   "source": [
    "type(X_train)"
   ]
  },
  {
   "cell_type": "code",
   "execution_count": 310,
   "id": "4a3bb891",
   "metadata": {},
   "outputs": [
    {
     "data": {
      "text/plain": [
       "(5, 1)"
      ]
     },
     "execution_count": 310,
     "metadata": {},
     "output_type": "execute_result"
    }
   ],
   "source": [
    "(X_train.shape[1],X_train.shape[2])"
   ]
  },
  {
   "cell_type": "code",
   "execution_count": 311,
   "id": "b44a150c",
   "metadata": {},
   "outputs": [],
   "source": [
    "#create the model\n",
    "\n",
    "model_lstm = keras.Sequential()\n",
    "\n",
    "# Adding LSTM layers\n",
    "# inputlayer()\n",
    "model_lstm.add(keras.layers.LSTM(units=10,#return_sequences = True, \n",
    "                            input_shape= (X_train.shape[1],X_train.shape[2]) ))\n",
    "\n",
    "# Adding the output layer\n",
    "model_lstm.add(keras.layers.Dense(1))\n",
    "\n",
    "# Compiling the RNN\n",
    "model_lstm.compile(optimizer = 'adam', loss = 'mean_squared_error')"
   ]
  },
  {
   "cell_type": "code",
   "execution_count": 312,
   "id": "21c93179",
   "metadata": {},
   "outputs": [
    {
     "name": "stdout",
     "output_type": "stream",
     "text": [
      "Model: \"sequential_6\"\n",
      "_________________________________________________________________\n",
      " Layer (type)                Output Shape              Param #   \n",
      "=================================================================\n",
      " lstm_6 (LSTM)               (None, 10)                480       \n",
      "                                                                 \n",
      " dense_6 (Dense)             (None, 1)                 11        \n",
      "                                                                 \n",
      "=================================================================\n",
      "Total params: 491\n",
      "Trainable params: 491\n",
      "Non-trainable params: 0\n",
      "_________________________________________________________________\n"
     ]
    }
   ],
   "source": [
    "model_lstm.summary()"
   ]
  },
  {
   "cell_type": "code",
   "execution_count": null,
   "id": "dba993eb",
   "metadata": {},
   "outputs": [],
   "source": []
  },
  {
   "cell_type": "markdown",
   "id": "258716e5",
   "metadata": {},
   "source": [
    "## Fitting the RNN to the Training set"
   ]
  },
  {
   "cell_type": "code",
   "execution_count": 313,
   "id": "07487cc8",
   "metadata": {},
   "outputs": [
    {
     "name": "stdout",
     "output_type": "stream",
     "text": [
      "Epoch 1/50\n",
      "231/231 [==============================] - 3s 6ms/step - loss: 109.4104 - val_loss: 97.2385\n",
      "Epoch 2/50\n",
      "231/231 [==============================] - 1s 3ms/step - loss: 80.4425 - val_loss: 67.4089\n",
      "Epoch 3/50\n",
      "231/231 [==============================] - 1s 4ms/step - loss: 54.3047 - val_loss: 45.3789\n",
      "Epoch 4/50\n",
      "231/231 [==============================] - 1s 6ms/step - loss: 37.2016 - val_loss: 31.7302\n",
      "Epoch 5/50\n",
      "231/231 [==============================] - 1s 3ms/step - loss: 25.1419 - val_loss: 19.8416\n",
      "Epoch 6/50\n",
      "231/231 [==============================] - 2s 7ms/step - loss: 15.9674 - val_loss: 14.0054\n",
      "Epoch 7/50\n",
      "231/231 [==============================] - 2s 7ms/step - loss: 11.9861 - val_loss: 11.8051\n",
      "Epoch 8/50\n",
      "231/231 [==============================] - 2s 9ms/step - loss: 9.7890 - val_loss: 9.8889\n",
      "Epoch 9/50\n",
      "231/231 [==============================] - 1s 5ms/step - loss: 8.4281 - val_loss: 8.8021\n",
      "Epoch 10/50\n",
      "231/231 [==============================] - 1s 4ms/step - loss: 7.6395 - val_loss: 8.2966\n",
      "Epoch 11/50\n",
      "231/231 [==============================] - 1s 6ms/step - loss: 7.1453 - val_loss: 7.8317\n",
      "Epoch 12/50\n",
      "231/231 [==============================] - 1s 3ms/step - loss: 6.6930 - val_loss: 7.6737\n",
      "Epoch 13/50\n",
      "231/231 [==============================] - 1s 3ms/step - loss: 6.4967 - val_loss: 7.3734\n",
      "Epoch 14/50\n",
      "231/231 [==============================] - 2s 8ms/step - loss: 6.3273 - val_loss: 7.3355\n",
      "Epoch 15/50\n",
      "231/231 [==============================] - 1s 4ms/step - loss: 6.2542 - val_loss: 7.1514\n",
      "Epoch 16/50\n",
      "231/231 [==============================] - 1s 3ms/step - loss: 6.1207 - val_loss: 7.0585\n",
      "Epoch 17/50\n",
      "231/231 [==============================] - 1s 4ms/step - loss: 6.0780 - val_loss: 6.8924\n",
      "Epoch 18/50\n",
      "231/231 [==============================] - 2s 7ms/step - loss: 6.0300 - val_loss: 6.9085\n",
      "Epoch 19/50\n",
      "231/231 [==============================] - 1s 4ms/step - loss: 5.9945 - val_loss: 7.0542\n",
      "Epoch 20/50\n",
      "231/231 [==============================] - 1s 3ms/step - loss: 5.9680 - val_loss: 6.7140\n",
      "Epoch 21/50\n",
      "231/231 [==============================] - 1s 3ms/step - loss: 5.9437 - val_loss: 6.8311\n",
      "Epoch 22/50\n",
      "231/231 [==============================] - 1s 3ms/step - loss: 5.8872 - val_loss: 6.7590\n",
      "Epoch 23/50\n",
      "231/231 [==============================] - 1s 3ms/step - loss: 5.9009 - val_loss: 6.7074\n",
      "Epoch 24/50\n",
      "231/231 [==============================] - 1s 6ms/step - loss: 5.8448 - val_loss: 6.6206\n",
      "Epoch 25/50\n",
      "231/231 [==============================] - 1s 5ms/step - loss: 5.8506 - val_loss: 6.6990\n",
      "Epoch 26/50\n",
      "231/231 [==============================] - 1s 4ms/step - loss: 5.8203 - val_loss: 6.7613\n",
      "Epoch 27/50\n",
      "231/231 [==============================] - 1s 6ms/step - loss: 5.7769 - val_loss: 6.8243\n",
      "Epoch 28/50\n",
      "231/231 [==============================] - 1s 5ms/step - loss: 5.8217 - val_loss: 6.6930\n",
      "Epoch 29/50\n",
      "231/231 [==============================] - 2s 8ms/step - loss: 5.7922 - val_loss: 6.7998\n",
      "Epoch 30/50\n",
      "231/231 [==============================] - 1s 6ms/step - loss: 5.7587 - val_loss: 6.7506\n",
      "Epoch 31/50\n",
      "231/231 [==============================] - 1s 6ms/step - loss: 5.7319 - val_loss: 6.6080\n",
      "Epoch 32/50\n",
      "231/231 [==============================] - 1s 3ms/step - loss: 5.7440 - val_loss: 6.5648\n",
      "Epoch 33/50\n",
      "231/231 [==============================] - 1s 5ms/step - loss: 5.7135 - val_loss: 6.6231\n",
      "Epoch 34/50\n",
      "231/231 [==============================] - 2s 7ms/step - loss: 5.6901 - val_loss: 6.5686\n",
      "Epoch 35/50\n",
      "231/231 [==============================] - 2s 7ms/step - loss: 5.7105 - val_loss: 6.5489\n",
      "Epoch 36/50\n",
      "231/231 [==============================] - 1s 6ms/step - loss: 5.6940 - val_loss: 6.5125\n",
      "Epoch 37/50\n",
      "231/231 [==============================] - 1s 5ms/step - loss: 5.6736 - val_loss: 6.7039\n",
      "Epoch 38/50\n",
      "231/231 [==============================] - 1s 3ms/step - loss: 5.6713 - val_loss: 6.5580\n",
      "Epoch 39/50\n",
      "231/231 [==============================] - 2s 7ms/step - loss: 5.6561 - val_loss: 6.6230\n",
      "Epoch 40/50\n",
      "231/231 [==============================] - 1s 6ms/step - loss: 5.6477 - val_loss: 6.5276\n",
      "Epoch 41/50\n",
      "231/231 [==============================] - 1s 4ms/step - loss: 5.6354 - val_loss: 6.6576\n",
      "Epoch 42/50\n",
      "231/231 [==============================] - 2s 7ms/step - loss: 5.6214 - val_loss: 6.5514\n",
      "Epoch 43/50\n",
      "231/231 [==============================] - 2s 7ms/step - loss: 5.6680 - val_loss: 6.5291\n",
      "Epoch 44/50\n",
      "231/231 [==============================] - 2s 10ms/step - loss: 5.6048 - val_loss: 6.5543\n",
      "Epoch 45/50\n",
      "231/231 [==============================] - 2s 7ms/step - loss: 5.5964 - val_loss: 6.4956\n",
      "Epoch 46/50\n",
      "231/231 [==============================] - 2s 8ms/step - loss: 5.6028 - val_loss: 6.5507\n",
      "Epoch 47/50\n",
      "231/231 [==============================] - 1s 6ms/step - loss: 5.6042 - val_loss: 6.5482\n",
      "Epoch 48/50\n",
      "231/231 [==============================] - 2s 7ms/step - loss: 5.5975 - val_loss: 6.4645\n",
      "Epoch 49/50\n",
      "231/231 [==============================] - 1s 3ms/step - loss: 5.5779 - val_loss: 6.5245\n",
      "Epoch 50/50\n",
      "231/231 [==============================] - 2s 7ms/step - loss: 5.5746 - val_loss: 6.4213\n"
     ]
    }
   ],
   "source": [
    "history = model_lstm.fit( X_train, y_train, validation_split=0.1,epochs = 50, batch_size = 10)"
   ]
  },
  {
   "cell_type": "code",
   "execution_count": 314,
   "id": "42594c1a",
   "metadata": {},
   "outputs": [
    {
     "data": {
      "text/plain": [
       "[<matplotlib.lines.Line2D at 0x1fcd1489100>]"
      ]
     },
     "execution_count": 314,
     "metadata": {},
     "output_type": "execute_result"
    },
    {
     "data": {
      "image/png": "[encoded data removed]",
      "text/plain": [
       "<Figure size 432x288 with 1 Axes>"
      ]
     },
     "metadata": {
      "needs_background": "light"
     },
     "output_type": "display_data"
    }
   ],
   "source": [
    "import matplotlib.pyplot as plt\n",
    "plt.plot(history.history['loss'])\n",
    "plt.plot(history.history['val_loss'])"
   ]
  },
  {
   "cell_type": "markdown",
   "id": "5a5ef7a7",
   "metadata": {},
   "source": [
    "#  Tunning LSTM"
   ]
  },
  {
   "cell_type": "code",
   "execution_count": 315,
   "id": "dd5bbb9c",
   "metadata": {},
   "outputs": [],
   "source": [
    "#create the model\n",
    "\n",
    "model_lstm1 = keras.Sequential()\n",
    "\n",
    "# Adding LSTM layers\n",
    "# inputlayer()\n",
    "model_lstm1.add(keras.layers.LSTM(units=20,#return_sequences = True, \n",
    "                            input_shape= (X_train.shape[1],X_train.shape[2]) ))\n",
    "\n",
    "# Adding the output layer\n",
    "model_lstm1.add(keras.layers.Dense(1))\n",
    "\n",
    "# Compiling the RNN\n",
    "model_lstm1.compile(optimizer = 'adam', loss = 'mean_squared_error')"
   ]
  },
  {
   "cell_type": "code",
   "execution_count": 316,
   "id": "c94a5dc7",
   "metadata": {},
   "outputs": [
    {
     "name": "stdout",
     "output_type": "stream",
     "text": [
      "Model: \"sequential_7\"\n",
      "_________________________________________________________________\n",
      " Layer (type)                Output Shape              Param #   \n",
      "=================================================================\n",
      " lstm_7 (LSTM)               (None, 20)                1760      \n",
      "                                                                 \n",
      " dense_7 (Dense)             (None, 1)                 21        \n",
      "                                                                 \n",
      "=================================================================\n",
      "Total params: 1,781\n",
      "Trainable params: 1,781\n",
      "Non-trainable params: 0\n",
      "_________________________________________________________________\n"
     ]
    }
   ],
   "source": [
    "model_lstm1.summary()"
   ]
  },
  {
   "cell_type": "code",
   "execution_count": 317,
   "id": "cfb4b26a",
   "metadata": {},
   "outputs": [
    {
     "name": "stdout",
     "output_type": "stream",
     "text": [
      "Epoch 1/100\n",
      "116/116 [==============================] - 3s 6ms/step - loss: 96.2284 - val_loss: 79.9715\n",
      "Epoch 2/100\n",
      "116/116 [==============================] - 0s 3ms/step - loss: 63.3966 - val_loss: 50.6785\n",
      "Epoch 3/100\n",
      "116/116 [==============================] - 0s 3ms/step - loss: 40.6720 - val_loss: 32.7186\n",
      "Epoch 4/100\n",
      "116/116 [==============================] - 0s 3ms/step - loss: 26.3978 - val_loss: 21.8631\n",
      "Epoch 5/100\n",
      "116/116 [==============================] - 0s 3ms/step - loss: 18.4931 - val_loss: 16.1522\n",
      "Epoch 6/100\n",
      "116/116 [==============================] - 0s 3ms/step - loss: 13.8668 - val_loss: 12.5597\n",
      "Epoch 7/100\n",
      "116/116 [==============================] - 0s 3ms/step - loss: 10.8004 - val_loss: 10.3192\n",
      "Epoch 8/100\n",
      "116/116 [==============================] - 0s 3ms/step - loss: 8.9455 - val_loss: 8.7375\n",
      "Epoch 9/100\n",
      "116/116 [==============================] - 0s 3ms/step - loss: 7.7968 - val_loss: 7.8779\n",
      "Epoch 10/100\n",
      "116/116 [==============================] - 0s 3ms/step - loss: 7.0516 - val_loss: 7.2348\n",
      "Epoch 11/100\n",
      "116/116 [==============================] - 0s 3ms/step - loss: 6.6805 - val_loss: 6.8243\n",
      "Epoch 12/100\n",
      "116/116 [==============================] - 0s 3ms/step - loss: 6.3318 - val_loss: 6.7148\n",
      "Epoch 13/100\n",
      "116/116 [==============================] - 0s 4ms/step - loss: 6.2024 - val_loss: 6.7662\n",
      "Epoch 14/100\n",
      "116/116 [==============================] - 0s 3ms/step - loss: 6.0920 - val_loss: 6.4295\n",
      "Epoch 15/100\n",
      "116/116 [==============================] - 0s 3ms/step - loss: 5.9862 - val_loss: 6.3705\n",
      "Epoch 16/100\n",
      "116/116 [==============================] - 0s 3ms/step - loss: 5.9546 - val_loss: 6.3985\n",
      "Epoch 17/100\n",
      "116/116 [==============================] - 0s 3ms/step - loss: 5.9083 - val_loss: 6.5270\n",
      "Epoch 18/100\n",
      "116/116 [==============================] - 0s 3ms/step - loss: 5.8591 - val_loss: 6.2368\n",
      "Epoch 19/100\n",
      "116/116 [==============================] - 0s 3ms/step - loss: 5.8426 - val_loss: 6.3034\n",
      "Epoch 20/100\n",
      "116/116 [==============================] - 0s 3ms/step - loss: 5.8145 - val_loss: 6.1821\n",
      "Epoch 21/100\n",
      "116/116 [==============================] - 0s 3ms/step - loss: 5.7687 - val_loss: 6.2310\n",
      "Epoch 22/100\n",
      "116/116 [==============================] - 0s 3ms/step - loss: 5.7693 - val_loss: 6.2328\n",
      "Epoch 23/100\n",
      "116/116 [==============================] - 0s 3ms/step - loss: 5.7341 - val_loss: 6.1934\n",
      "Epoch 24/100\n",
      "116/116 [==============================] - 0s 3ms/step - loss: 5.7063 - val_loss: 6.2208\n",
      "Epoch 25/100\n",
      "116/116 [==============================] - 0s 3ms/step - loss: 5.7114 - val_loss: 6.0699\n",
      "Epoch 26/100\n",
      "116/116 [==============================] - 0s 3ms/step - loss: 5.7055 - val_loss: 6.1458\n",
      "Epoch 27/100\n",
      "116/116 [==============================] - 0s 3ms/step - loss: 5.6668 - val_loss: 6.1715\n",
      "Epoch 28/100\n",
      "116/116 [==============================] - 0s 3ms/step - loss: 5.6330 - val_loss: 6.1877\n",
      "Epoch 29/100\n",
      "116/116 [==============================] - 0s 3ms/step - loss: 5.6470 - val_loss: 6.3092\n",
      "Epoch 30/100\n",
      "116/116 [==============================] - 0s 3ms/step - loss: 5.6556 - val_loss: 6.0826\n",
      "Epoch 31/100\n",
      "116/116 [==============================] - 0s 3ms/step - loss: 5.6279 - val_loss: 6.1870\n",
      "Epoch 32/100\n",
      "116/116 [==============================] - 0s 3ms/step - loss: 5.6016 - val_loss: 6.0819\n",
      "Epoch 33/100\n",
      "116/116 [==============================] - 0s 3ms/step - loss: 5.5749 - val_loss: 6.0434\n",
      "Epoch 34/100\n",
      "116/116 [==============================] - 0s 3ms/step - loss: 5.5989 - val_loss: 6.1081\n",
      "Epoch 35/100\n",
      "116/116 [==============================] - 0s 3ms/step - loss: 5.5774 - val_loss: 6.1119\n",
      "Epoch 36/100\n",
      "116/116 [==============================] - 0s 3ms/step - loss: 5.5967 - val_loss: 6.0769\n",
      "Epoch 37/100\n",
      "116/116 [==============================] - 0s 3ms/step - loss: 5.5249 - val_loss: 6.1644\n",
      "Epoch 38/100\n",
      "116/116 [==============================] - 0s 3ms/step - loss: 5.5273 - val_loss: 6.3343\n",
      "Epoch 39/100\n",
      "116/116 [==============================] - 0s 3ms/step - loss: 5.5098 - val_loss: 5.9328\n",
      "Epoch 40/100\n",
      "116/116 [==============================] - 0s 3ms/step - loss: 5.5149 - val_loss: 6.0386\n",
      "Epoch 41/100\n",
      "116/116 [==============================] - 0s 3ms/step - loss: 5.5208 - val_loss: 6.0507\n",
      "Epoch 42/100\n",
      "116/116 [==============================] - 0s 3ms/step - loss: 5.5153 - val_loss: 6.0356\n",
      "Epoch 43/100\n",
      "116/116 [==============================] - 0s 3ms/step - loss: 5.4745 - val_loss: 6.1840\n",
      "Epoch 44/100\n",
      "116/116 [==============================] - 0s 3ms/step - loss: 5.4590 - val_loss: 6.1380\n",
      "Epoch 45/100\n",
      "116/116 [==============================] - 0s 3ms/step - loss: 5.4782 - val_loss: 6.0914\n",
      "Epoch 46/100\n",
      "116/116 [==============================] - 0s 3ms/step - loss: 5.4643 - val_loss: 6.0331\n",
      "Epoch 47/100\n",
      "116/116 [==============================] - 0s 3ms/step - loss: 5.4350 - val_loss: 6.0921\n",
      "Epoch 48/100\n",
      "116/116 [==============================] - 0s 3ms/step - loss: 5.4289 - val_loss: 6.0731\n",
      "Epoch 49/100\n",
      "116/116 [==============================] - 0s 3ms/step - loss: 5.4111 - val_loss: 5.9585\n",
      "Epoch 50/100\n",
      "116/116 [==============================] - 0s 3ms/step - loss: 5.3890 - val_loss: 6.0259\n",
      "Epoch 51/100\n",
      "116/116 [==============================] - 1s 7ms/step - loss: 5.4041 - val_loss: 6.0415\n",
      "Epoch 52/100\n",
      "116/116 [==============================] - 1s 9ms/step - loss: 5.4023 - val_loss: 6.1748\n",
      "Epoch 53/100\n",
      "116/116 [==============================] - 1s 9ms/step - loss: 5.3905 - val_loss: 6.1846\n",
      "Epoch 54/100\n",
      "116/116 [==============================] - 1s 9ms/step - loss: 5.3865 - val_loss: 6.0598\n",
      "Epoch 55/100\n",
      "116/116 [==============================] - 1s 8ms/step - loss: 5.3792 - val_loss: 6.1458\n",
      "Epoch 56/100\n",
      "116/116 [==============================] - 1s 7ms/step - loss: 5.3768 - val_loss: 5.9882\n",
      "Epoch 57/100\n",
      "116/116 [==============================] - 1s 6ms/step - loss: 5.3486 - val_loss: 5.9927\n",
      "Epoch 58/100\n",
      "116/116 [==============================] - 0s 4ms/step - loss: 5.3665 - val_loss: 6.0392\n",
      "Epoch 59/100\n",
      "116/116 [==============================] - 0s 3ms/step - loss: 5.3366 - val_loss: 5.9966\n",
      "Epoch 60/100\n",
      "116/116 [==============================] - 1s 5ms/step - loss: 5.3263 - val_loss: 6.0500\n",
      "Epoch 61/100\n",
      "116/116 [==============================] - 0s 3ms/step - loss: 5.3275 - val_loss: 6.0404\n",
      "Epoch 62/100\n",
      "116/116 [==============================] - 0s 3ms/step - loss: 5.3076 - val_loss: 6.0364\n",
      "Epoch 63/100\n",
      "116/116 [==============================] - 0s 3ms/step - loss: 5.2914 - val_loss: 6.0649\n",
      "Epoch 64/100\n",
      "116/116 [==============================] - 0s 4ms/step - loss: 5.3049 - val_loss: 6.0990\n",
      "Epoch 65/100\n",
      "116/116 [==============================] - 1s 7ms/step - loss: 5.3010 - val_loss: 5.9485\n",
      "Epoch 66/100\n",
      "116/116 [==============================] - 1s 5ms/step - loss: 5.2851 - val_loss: 5.8904\n",
      "Epoch 67/100\n",
      "116/116 [==============================] - 1s 7ms/step - loss: 5.3029 - val_loss: 6.2145\n",
      "Epoch 68/100\n",
      "116/116 [==============================] - 1s 7ms/step - loss: 5.2757 - val_loss: 6.1671\n",
      "Epoch 69/100\n",
      "116/116 [==============================] - 1s 5ms/step - loss: 5.2660 - val_loss: 5.9868\n",
      "Epoch 70/100\n",
      "116/116 [==============================] - 1s 4ms/step - loss: 5.2483 - val_loss: 6.0557\n",
      "Epoch 71/100\n",
      "116/116 [==============================] - 1s 9ms/step - loss: 5.2441 - val_loss: 6.1798\n",
      "Epoch 72/100\n",
      "116/116 [==============================] - 1s 8ms/step - loss: 5.2563 - val_loss: 6.2088\n",
      "Epoch 73/100\n",
      "116/116 [==============================] - 1s 8ms/step - loss: 5.2361 - val_loss: 6.1013\n",
      "Epoch 74/100\n",
      "116/116 [==============================] - 1s 5ms/step - loss: 5.2178 - val_loss: 5.8726\n",
      "Epoch 75/100\n",
      "116/116 [==============================] - 1s 5ms/step - loss: 5.2147 - val_loss: 6.1671\n",
      "Epoch 76/100\n",
      "116/116 [==============================] - 0s 3ms/step - loss: 5.2119 - val_loss: 6.0274\n",
      "Epoch 77/100\n",
      "116/116 [==============================] - 1s 6ms/step - loss: 5.2347 - val_loss: 5.9805\n",
      "Epoch 78/100\n",
      "116/116 [==============================] - 0s 3ms/step - loss: 5.1850 - val_loss: 5.9280\n",
      "Epoch 79/100\n",
      "116/116 [==============================] - 0s 3ms/step - loss: 5.1965 - val_loss: 6.1575\n",
      "Epoch 80/100\n",
      "116/116 [==============================] - 0s 3ms/step - loss: 5.1880 - val_loss: 5.9433\n",
      "Epoch 81/100\n",
      "116/116 [==============================] - 1s 6ms/step - loss: 5.1986 - val_loss: 5.9501\n",
      "Epoch 82/100\n",
      "116/116 [==============================] - 1s 8ms/step - loss: 5.1915 - val_loss: 6.0521\n",
      "Epoch 83/100\n",
      "116/116 [==============================] - 1s 6ms/step - loss: 5.2067 - val_loss: 6.0790\n",
      "Epoch 84/100\n",
      "116/116 [==============================] - 1s 9ms/step - loss: 5.1602 - val_loss: 5.9652\n",
      "Epoch 85/100\n",
      "116/116 [==============================] - 1s 9ms/step - loss: 5.1909 - val_loss: 5.9656\n",
      "Epoch 86/100\n",
      "116/116 [==============================] - 1s 9ms/step - loss: 5.1693 - val_loss: 6.0127\n",
      "Epoch 87/100\n",
      "116/116 [==============================] - 1s 9ms/step - loss: 5.1559 - val_loss: 6.0747\n",
      "Epoch 88/100\n",
      "116/116 [==============================] - 1s 9ms/step - loss: 5.1593 - val_loss: 5.9892\n",
      "Epoch 89/100\n",
      "116/116 [==============================] - 1s 5ms/step - loss: 5.1567 - val_loss: 5.9533\n",
      "Epoch 90/100\n",
      "116/116 [==============================] - 1s 8ms/step - loss: 5.1352 - val_loss: 5.9490\n",
      "Epoch 91/100\n",
      "116/116 [==============================] - 1s 8ms/step - loss: 5.1605 - val_loss: 5.9360\n",
      "Epoch 92/100\n",
      "116/116 [==============================] - 1s 9ms/step - loss: 5.1177 - val_loss: 5.9597\n",
      "Epoch 93/100\n",
      "116/116 [==============================] - 1s 7ms/step - loss: 5.1259 - val_loss: 5.9852\n",
      "Epoch 94/100\n",
      "116/116 [==============================] - 1s 8ms/step - loss: 5.1215 - val_loss: 5.9398\n",
      "Epoch 95/100\n",
      "116/116 [==============================] - 1s 7ms/step - loss: 5.1174 - val_loss: 6.0195\n",
      "Epoch 96/100\n",
      "116/116 [==============================] - 1s 6ms/step - loss: 5.1017 - val_loss: 5.8407\n",
      "Epoch 97/100\n",
      "116/116 [==============================] - 1s 6ms/step - loss: 5.1060 - val_loss: 6.1539\n",
      "Epoch 98/100\n",
      "116/116 [==============================] - 1s 6ms/step - loss: 5.0999 - val_loss: 5.9341\n",
      "Epoch 99/100\n",
      "116/116 [==============================] - 1s 6ms/step - loss: 5.0903 - val_loss: 6.0439\n",
      "Epoch 100/100\n",
      "116/116 [==============================] - 0s 4ms/step - loss: 5.0954 - val_loss: 5.9022\n"
     ]
    }
   ],
   "source": [
    "history1 = model_lstm1.fit( X_train, y_train, validation_split=0.1,epochs = 100, batch_size = 20)"
   ]
  },
  {
   "cell_type": "code",
   "execution_count": 318,
   "id": "c8773e96",
   "metadata": {},
   "outputs": [
    {
     "data": {
      "text/plain": [
       "[<matplotlib.lines.Line2D at 0x1fcd1dfc340>]"
      ]
     },
     "execution_count": 318,
     "metadata": {},
     "output_type": "execute_result"
    },
    {
     "data": {
      "image/png": "[encoded data removed]",
      "text/plain": [
       "<Figure size 432x288 with 1 Axes>"
      ]
     },
     "metadata": {
      "needs_background": "light"
     },
     "output_type": "display_data"
    }
   ],
   "source": [
    "import matplotlib.pyplot as plt\n",
    "plt.plot(history1.history['loss'])\n",
    "plt.plot(history1.history['val_loss'])"
   ]
  }
 ],
 "metadata": {
  "kernelspec": {
   "display_name": "Python 3 (ipykernel)",
   "language": "python",
   "name": "python3"
  },
  "language_info": {
   "codemirror_mode": {
    "name": "ipython",
    "version": 3
   },
   "file_extension": ".py",
   "mimetype": "text/x-python",
   "name": "python",
   "nbconvert_exporter": "python",
   "pygments_lexer": "ipython3",
   "version": "3.9.7"
  }
 },
 "nbformat": 4,
 "nbformat_minor": 5
}
