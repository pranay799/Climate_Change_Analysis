{
 "cells": [
  {
   "cell_type": "markdown",
   "id": "702db94c",
   "metadata": {},
   "source": [
    "# Climate Change Analysis"
   ]
  },
  {
   "cell_type": "code",
   "execution_count": 1,
   "id": "efdeba6b",
   "metadata": {},
   "outputs": [],
   "source": [
    "#import required libraries & Modules\n",
    "import pandas as pd\n",
    "from datetime import datetime,timedelta\n",
    "import matplotlib.pyplot as plt\n",
    "import numpy as np\n",
    "from statsmodels.tsa.seasonal import seasonal_decompose\n",
    "import seaborn as sns\n",
    "%matplotlib inline\n",
    "import warnings\n",
    "warnings.filterwarnings('ignore')"
   ]
  },
  {
   "cell_type": "code",
   "execution_count": 2,
   "id": "f49c7b9c",
   "metadata": {},
   "outputs": [
    {
     "data": {
      "text/html": [
       "<div>\n",
       "<style scoped>\n",
       "    .dataframe tbody tr th:only-of-type {\n",
       "        vertical-align: middle;\n",
       "    }\n",
       "\n",
       "    .dataframe tbody tr th {\n",
       "        vertical-align: top;\n",
       "    }\n",
       "\n",
       "    .dataframe thead th {\n",
       "        text-align: right;\n",
       "    }\n",
       "</style>\n",
       "<table border=\"1\" class=\"dataframe\">\n",
       "  <thead>\n",
       "    <tr style=\"text-align: right;\">\n",
       "      <th></th>\n",
       "      <th>dt</th>\n",
       "      <th>AverageTemperature</th>\n",
       "      <th>AverageTemperatureUncertainty</th>\n",
       "      <th>State</th>\n",
       "      <th>Country</th>\n",
       "    </tr>\n",
       "  </thead>\n",
       "  <tbody>\n",
       "    <tr>\n",
       "      <th>0</th>\n",
       "      <td>1855-05-01</td>\n",
       "      <td>25.544</td>\n",
       "      <td>1.171</td>\n",
       "      <td>Acre</td>\n",
       "      <td>Brazil</td>\n",
       "    </tr>\n",
       "    <tr>\n",
       "      <th>1</th>\n",
       "      <td>1855-06-01</td>\n",
       "      <td>24.228</td>\n",
       "      <td>1.103</td>\n",
       "      <td>Acre</td>\n",
       "      <td>Brazil</td>\n",
       "    </tr>\n",
       "    <tr>\n",
       "      <th>2</th>\n",
       "      <td>1855-07-01</td>\n",
       "      <td>24.371</td>\n",
       "      <td>1.044</td>\n",
       "      <td>Acre</td>\n",
       "      <td>Brazil</td>\n",
       "    </tr>\n",
       "    <tr>\n",
       "      <th>3</th>\n",
       "      <td>1855-08-01</td>\n",
       "      <td>25.427</td>\n",
       "      <td>1.073</td>\n",
       "      <td>Acre</td>\n",
       "      <td>Brazil</td>\n",
       "    </tr>\n",
       "    <tr>\n",
       "      <th>4</th>\n",
       "      <td>1855-09-01</td>\n",
       "      <td>25.675</td>\n",
       "      <td>1.014</td>\n",
       "      <td>Acre</td>\n",
       "      <td>Brazil</td>\n",
       "    </tr>\n",
       "  </tbody>\n",
       "</table>\n",
       "</div>"
      ],
      "text/plain": [
       "           dt  AverageTemperature  AverageTemperatureUncertainty State Country\n",
       "0  1855-05-01              25.544                          1.171  Acre  Brazil\n",
       "1  1855-06-01              24.228                          1.103  Acre  Brazil\n",
       "2  1855-07-01              24.371                          1.044  Acre  Brazil\n",
       "3  1855-08-01              25.427                          1.073  Acre  Brazil\n",
       "4  1855-09-01              25.675                          1.014  Acre  Brazil"
      ]
     },
     "execution_count": 2,
     "metadata": {},
     "output_type": "execute_result"
    }
   ],
   "source": [
    "#import dataset\n",
    "df=pd.read_csv('GlobalLandTemperaturesByState.csv')\n",
    "df.head()\n"
   ]
  },
  {
   "cell_type": "code",
   "execution_count": 3,
   "id": "effcd433",
   "metadata": {},
   "outputs": [
    {
     "name": "stdout",
     "output_type": "stream",
     "text": [
      "dt                                object\n",
      "AverageTemperature               float64\n",
      "AverageTemperatureUncertainty    float64\n",
      "State                             object\n",
      "Country                           object\n",
      "dtype: object\n",
      "Shape of data :  (645675, 5)\n"
     ]
    }
   ],
   "source": [
    "print(df.dtypes)\n",
    "print(\"Shape of data : \",df.shape)"
   ]
  },
  {
   "cell_type": "code",
   "execution_count": 4,
   "id": "2c8a31c7",
   "metadata": {
    "scrolled": true
   },
   "outputs": [
    {
     "data": {
      "text/plain": [
       "dt                                   0\n",
       "AverageTemperature               25648\n",
       "AverageTemperatureUncertainty    25648\n",
       "State                                0\n",
       "Country                              0\n",
       "dtype: int64"
      ]
     },
     "execution_count": 4,
     "metadata": {},
     "output_type": "execute_result"
    }
   ],
   "source": [
    "#Find the missing value  \n",
    "df.isnull().sum()"
   ]
  },
  {
   "cell_type": "markdown",
   "id": "32329825",
   "metadata": {},
   "source": [
    "## fill misssing value with Rolling average"
   ]
  },
  {
   "cell_type": "code",
   "execution_count": 5,
   "id": "febd0af2",
   "metadata": {},
   "outputs": [],
   "source": [
    "\n",
    "df['new_avg']= df.AverageTemperature.fillna(df.AverageTemperature.rolling(12,center=True,min_periods=1).mean())"
   ]
  },
  {
   "cell_type": "code",
   "execution_count": 6,
   "id": "fd74e653",
   "metadata": {},
   "outputs": [
    {
     "data": {
      "text/html": [
       "<div>\n",
       "<style scoped>\n",
       "    .dataframe tbody tr th:only-of-type {\n",
       "        vertical-align: middle;\n",
       "    }\n",
       "\n",
       "    .dataframe tbody tr th {\n",
       "        vertical-align: top;\n",
       "    }\n",
       "\n",
       "    .dataframe thead th {\n",
       "        text-align: right;\n",
       "    }\n",
       "</style>\n",
       "<table border=\"1\" class=\"dataframe\">\n",
       "  <thead>\n",
       "    <tr style=\"text-align: right;\">\n",
       "      <th></th>\n",
       "      <th>dt</th>\n",
       "      <th>AverageTemperature</th>\n",
       "      <th>AverageTemperatureUncertainty</th>\n",
       "      <th>State</th>\n",
       "      <th>Country</th>\n",
       "      <th>new_avg</th>\n",
       "    </tr>\n",
       "  </thead>\n",
       "  <tbody>\n",
       "    <tr>\n",
       "      <th>0</th>\n",
       "      <td>1855-05-01</td>\n",
       "      <td>25.544</td>\n",
       "      <td>1.171</td>\n",
       "      <td>Acre</td>\n",
       "      <td>Brazil</td>\n",
       "      <td>25.544</td>\n",
       "    </tr>\n",
       "    <tr>\n",
       "      <th>1</th>\n",
       "      <td>1855-06-01</td>\n",
       "      <td>24.228</td>\n",
       "      <td>1.103</td>\n",
       "      <td>Acre</td>\n",
       "      <td>Brazil</td>\n",
       "      <td>24.228</td>\n",
       "    </tr>\n",
       "    <tr>\n",
       "      <th>2</th>\n",
       "      <td>1855-07-01</td>\n",
       "      <td>24.371</td>\n",
       "      <td>1.044</td>\n",
       "      <td>Acre</td>\n",
       "      <td>Brazil</td>\n",
       "      <td>24.371</td>\n",
       "    </tr>\n",
       "    <tr>\n",
       "      <th>3</th>\n",
       "      <td>1855-08-01</td>\n",
       "      <td>25.427</td>\n",
       "      <td>1.073</td>\n",
       "      <td>Acre</td>\n",
       "      <td>Brazil</td>\n",
       "      <td>25.427</td>\n",
       "    </tr>\n",
       "    <tr>\n",
       "      <th>4</th>\n",
       "      <td>1855-09-01</td>\n",
       "      <td>25.675</td>\n",
       "      <td>1.014</td>\n",
       "      <td>Acre</td>\n",
       "      <td>Brazil</td>\n",
       "      <td>25.675</td>\n",
       "    </tr>\n",
       "  </tbody>\n",
       "</table>\n",
       "</div>"
      ],
      "text/plain": [
       "           dt  AverageTemperature  AverageTemperatureUncertainty State  \\\n",
       "0  1855-05-01              25.544                          1.171  Acre   \n",
       "1  1855-06-01              24.228                          1.103  Acre   \n",
       "2  1855-07-01              24.371                          1.044  Acre   \n",
       "3  1855-08-01              25.427                          1.073  Acre   \n",
       "4  1855-09-01              25.675                          1.014  Acre   \n",
       "\n",
       "  Country  new_avg  \n",
       "0  Brazil   25.544  \n",
       "1  Brazil   24.228  \n",
       "2  Brazil   24.371  \n",
       "3  Brazil   25.427  \n",
       "4  Brazil   25.675  "
      ]
     },
     "execution_count": 6,
     "metadata": {},
     "output_type": "execute_result"
    }
   ],
   "source": [
    "df.head()"
   ]
  },
  {
   "cell_type": "code",
   "execution_count": 7,
   "id": "f6ab4d07",
   "metadata": {},
   "outputs": [
    {
     "data": {
      "text/plain": [
       "dt                                   0\n",
       "AverageTemperature               25648\n",
       "AverageTemperatureUncertainty    25648\n",
       "State                                0\n",
       "Country                              0\n",
       "new_avg                          17795\n",
       "dtype: int64"
      ]
     },
     "execution_count": 7,
     "metadata": {},
     "output_type": "execute_result"
    }
   ],
   "source": [
    "df.isnull().sum()"
   ]
  },
  {
   "cell_type": "code",
   "execution_count": 9,
   "id": "eb89bbc6",
   "metadata": {},
   "outputs": [],
   "source": [
    "#Rename the columns\n",
    "df.rename(columns={'dt':'Date','new_avg':'Avg_Temp'},inplace=True)"
   ]
  },
  {
   "cell_type": "code",
   "execution_count": 10,
   "id": "b2208b17",
   "metadata": {},
   "outputs": [
    {
     "data": {
      "text/plain": [
       "(7, 241)"
      ]
     },
     "execution_count": 10,
     "metadata": {},
     "output_type": "execute_result"
    }
   ],
   "source": [
    "#No of Country and state\n",
    "df['Country'].nunique() , df['State'].nunique()"
   ]
  },
  {
   "cell_type": "code",
   "execution_count": 11,
   "id": "4683e047",
   "metadata": {},
   "outputs": [
    {
     "data": {
      "text/plain": [
       "DatetimeIndex(['1855-05-01', '1855-06-01', '1855-07-01', '1855-08-01',\n",
       "               '1855-09-01', '1855-10-01', '1855-11-01', '1855-12-01',\n",
       "               '1856-01-01', '1856-02-01',\n",
       "               ...\n",
       "               '2012-12-01', '2013-01-01', '2013-02-01', '2013-03-01',\n",
       "               '2013-04-01', '2013-05-01', '2013-06-01', '2013-07-01',\n",
       "               '2013-08-01', '2013-09-01'],\n",
       "              dtype='datetime64[ns]', name='Date', length=645675, freq=None)"
      ]
     },
     "execution_count": 11,
     "metadata": {},
     "output_type": "execute_result"
    }
   ],
   "source": [
    "#make Date column  index\n",
    "df['Date']=pd.to_datetime(df['Date'])\n",
    "df.set_index('Date',inplace=True)\n",
    "df.index"
   ]
  },
  {
   "cell_type": "code",
   "execution_count": 12,
   "id": "4df02cc3",
   "metadata": {},
   "outputs": [
    {
     "data": {
      "text/plain": [
       "(Timestamp('1743-11-01 00:00:00'), Timestamp('2013-09-01 00:00:00'))"
      ]
     },
     "execution_count": 12,
     "metadata": {},
     "output_type": "execute_result"
    }
   ],
   "source": [
    "df.index.min(),df.index.max()"
   ]
  },
  {
   "cell_type": "code",
   "execution_count": 14,
   "id": "7ef08b00",
   "metadata": {},
   "outputs": [
    {
     "data": {
      "text/plain": [
       "9588"
      ]
     },
     "execution_count": 14,
     "metadata": {},
     "output_type": "execute_result"
    }
   ],
   "source": [
    "df.loc['1800':'2013','Avg_Temp'].isnull().sum()"
   ]
  },
  {
   "cell_type": "code",
   "execution_count": 15,
   "id": "599c6197",
   "metadata": {},
   "outputs": [
    {
     "data": {
      "text/plain": [
       "2725"
      ]
     },
     "execution_count": 15,
     "metadata": {},
     "output_type": "execute_result"
    }
   ],
   "source": [
    "df.loc['1850':'2013','Avg_Temp'].isnull().sum()"
   ]
  },
  {
   "cell_type": "code",
   "execution_count": 21,
   "id": "d9c82f2b",
   "metadata": {},
   "outputs": [
    {
     "data": {
      "text/plain": [
       "0"
      ]
     },
     "execution_count": 21,
     "metadata": {},
     "output_type": "execute_result"
    }
   ],
   "source": [
    "df.loc['1900':'2013','Avg_Temp'].isnull().sum()"
   ]
  },
  {
   "cell_type": "code",
   "execution_count": 22,
   "id": "43da5edb",
   "metadata": {},
   "outputs": [
    {
     "data": {
      "text/html": [
       "<div>\n",
       "<style scoped>\n",
       "    .dataframe tbody tr th:only-of-type {\n",
       "        vertical-align: middle;\n",
       "    }\n",
       "\n",
       "    .dataframe tbody tr th {\n",
       "        vertical-align: top;\n",
       "    }\n",
       "\n",
       "    .dataframe thead th {\n",
       "        text-align: right;\n",
       "    }\n",
       "</style>\n",
       "<table border=\"1\" class=\"dataframe\">\n",
       "  <thead>\n",
       "    <tr style=\"text-align: right;\">\n",
       "      <th></th>\n",
       "      <th>AverageTemperature</th>\n",
       "      <th>AverageTemperatureUncertainty</th>\n",
       "      <th>State</th>\n",
       "      <th>Country</th>\n",
       "      <th>Avg_Temp</th>\n",
       "    </tr>\n",
       "    <tr>\n",
       "      <th>Date</th>\n",
       "      <th></th>\n",
       "      <th></th>\n",
       "      <th></th>\n",
       "      <th></th>\n",
       "      <th></th>\n",
       "    </tr>\n",
       "  </thead>\n",
       "  <tbody>\n",
       "    <tr>\n",
       "      <th>1900-01-01</th>\n",
       "      <td>25.732</td>\n",
       "      <td>1.080</td>\n",
       "      <td>Acre</td>\n",
       "      <td>Brazil</td>\n",
       "      <td>25.732</td>\n",
       "    </tr>\n",
       "    <tr>\n",
       "      <th>1900-02-01</th>\n",
       "      <td>26.050</td>\n",
       "      <td>1.080</td>\n",
       "      <td>Acre</td>\n",
       "      <td>Brazil</td>\n",
       "      <td>26.050</td>\n",
       "    </tr>\n",
       "    <tr>\n",
       "      <th>1900-03-01</th>\n",
       "      <td>26.574</td>\n",
       "      <td>0.894</td>\n",
       "      <td>Acre</td>\n",
       "      <td>Brazil</td>\n",
       "      <td>26.574</td>\n",
       "    </tr>\n",
       "    <tr>\n",
       "      <th>1900-04-01</th>\n",
       "      <td>25.947</td>\n",
       "      <td>1.192</td>\n",
       "      <td>Acre</td>\n",
       "      <td>Brazil</td>\n",
       "      <td>25.947</td>\n",
       "    </tr>\n",
       "    <tr>\n",
       "      <th>1900-05-01</th>\n",
       "      <td>25.557</td>\n",
       "      <td>0.856</td>\n",
       "      <td>Acre</td>\n",
       "      <td>Brazil</td>\n",
       "      <td>25.557</td>\n",
       "    </tr>\n",
       "  </tbody>\n",
       "</table>\n",
       "</div>"
      ],
      "text/plain": [
       "            AverageTemperature  AverageTemperatureUncertainty State Country  \\\n",
       "Date                                                                          \n",
       "1900-01-01              25.732                          1.080  Acre  Brazil   \n",
       "1900-02-01              26.050                          1.080  Acre  Brazil   \n",
       "1900-03-01              26.574                          0.894  Acre  Brazil   \n",
       "1900-04-01              25.947                          1.192  Acre  Brazil   \n",
       "1900-05-01              25.557                          0.856  Acre  Brazil   \n",
       "\n",
       "            Avg_Temp  \n",
       "Date                  \n",
       "1900-01-01    25.732  \n",
       "1900-02-01    26.050  \n",
       "1900-03-01    26.574  \n",
       "1900-04-01    25.947  \n",
       "1900-05-01    25.557  "
      ]
     },
     "execution_count": 22,
     "metadata": {},
     "output_type": "execute_result"
    }
   ],
   "source": [
    "#take data between 1900 to 2013 for analysis\n",
    "latest_df=df.loc['1900':'2013']\n",
    "latest_df.head()"
   ]
  },
  {
   "cell_type": "code",
   "execution_count": 23,
   "id": "3bade4da",
   "metadata": {},
   "outputs": [
    {
     "data": {
      "text/plain": [
       "(328965, 5)"
      ]
     },
     "execution_count": 23,
     "metadata": {},
     "output_type": "execute_result"
    }
   ],
   "source": [
    "latest_df.shape"
   ]
  },
  {
   "cell_type": "markdown",
   "id": "7a21bea5",
   "metadata": {},
   "source": [
    "## Groupby and resampling"
   ]
  },
  {
   "cell_type": "code",
   "execution_count": 24,
   "id": "9c36709d",
   "metadata": {},
   "outputs": [
    {
     "data": {
      "text/html": [
       "<div>\n",
       "<style scoped>\n",
       "    .dataframe tbody tr th:only-of-type {\n",
       "        vertical-align: middle;\n",
       "    }\n",
       "\n",
       "    .dataframe tbody tr th {\n",
       "        vertical-align: top;\n",
       "    }\n",
       "\n",
       "    .dataframe thead th {\n",
       "        text-align: right;\n",
       "    }\n",
       "</style>\n",
       "<table border=\"1\" class=\"dataframe\">\n",
       "  <thead>\n",
       "    <tr style=\"text-align: right;\">\n",
       "      <th></th>\n",
       "      <th>Avg_Temp</th>\n",
       "    </tr>\n",
       "    <tr>\n",
       "      <th>Country</th>\n",
       "      <th></th>\n",
       "    </tr>\n",
       "  </thead>\n",
       "  <tbody>\n",
       "    <tr>\n",
       "      <th>Canada</th>\n",
       "      <td>-1.364589</td>\n",
       "    </tr>\n",
       "    <tr>\n",
       "      <th>Russia</th>\n",
       "      <td>1.675149</td>\n",
       "    </tr>\n",
       "    <tr>\n",
       "      <th>United States</th>\n",
       "      <td>11.062517</td>\n",
       "    </tr>\n",
       "    <tr>\n",
       "      <th>China</th>\n",
       "      <td>11.709452</td>\n",
       "    </tr>\n",
       "    <tr>\n",
       "      <th>Australia</th>\n",
       "      <td>17.993412</td>\n",
       "    </tr>\n",
       "    <tr>\n",
       "      <th>India</th>\n",
       "      <td>22.514323</td>\n",
       "    </tr>\n",
       "    <tr>\n",
       "      <th>Brazil</th>\n",
       "      <td>24.070273</td>\n",
       "    </tr>\n",
       "  </tbody>\n",
       "</table>\n",
       "</div>"
      ],
      "text/plain": [
       "                Avg_Temp\n",
       "Country                 \n",
       "Canada         -1.364589\n",
       "Russia          1.675149\n",
       "United States  11.062517\n",
       "China          11.709452\n",
       "Australia      17.993412\n",
       "India          22.514323\n",
       "Brazil         24.070273"
      ]
     },
     "execution_count": 24,
     "metadata": {},
     "output_type": "execute_result"
    }
   ],
   "source": [
    "latest_df[['Country','Avg_Temp']].groupby(['Country']).mean().sort_values('Avg_Temp')"
   ]
  },
  {
   "cell_type": "code",
   "execution_count": 25,
   "id": "446005f9",
   "metadata": {},
   "outputs": [
    {
     "data": {
      "text/html": [
       "<div>\n",
       "<style scoped>\n",
       "    .dataframe tbody tr th:only-of-type {\n",
       "        vertical-align: middle;\n",
       "    }\n",
       "\n",
       "    .dataframe tbody tr th {\n",
       "        vertical-align: top;\n",
       "    }\n",
       "\n",
       "    .dataframe thead th {\n",
       "        text-align: right;\n",
       "    }\n",
       "</style>\n",
       "<table border=\"1\" class=\"dataframe\">\n",
       "  <thead>\n",
       "    <tr style=\"text-align: right;\">\n",
       "      <th></th>\n",
       "      <th>Avg_Temp</th>\n",
       "    </tr>\n",
       "    <tr>\n",
       "      <th>Date</th>\n",
       "      <th></th>\n",
       "    </tr>\n",
       "  </thead>\n",
       "  <tbody>\n",
       "    <tr>\n",
       "      <th>1900-01-31</th>\n",
       "      <td>-3.636041</td>\n",
       "    </tr>\n",
       "    <tr>\n",
       "      <th>1900-02-28</th>\n",
       "      <td>-1.508290</td>\n",
       "    </tr>\n",
       "    <tr>\n",
       "      <th>1900-03-31</th>\n",
       "      <td>3.822237</td>\n",
       "    </tr>\n",
       "    <tr>\n",
       "      <th>1900-04-30</th>\n",
       "      <td>9.343722</td>\n",
       "    </tr>\n",
       "    <tr>\n",
       "      <th>1900-05-31</th>\n",
       "      <td>15.124137</td>\n",
       "    </tr>\n",
       "  </tbody>\n",
       "</table>\n",
       "</div>"
      ],
      "text/plain": [
       "             Avg_Temp\n",
       "Date                 \n",
       "1900-01-31  -3.636041\n",
       "1900-02-28  -1.508290\n",
       "1900-03-31   3.822237\n",
       "1900-04-30   9.343722\n",
       "1900-05-31  15.124137"
      ]
     },
     "execution_count": 25,
     "metadata": {},
     "output_type": "execute_result"
    }
   ],
   "source": [
    "#Resample\n",
    "resample_df=latest_df[['Avg_Temp']].resample('M').mean()\n",
    "resample_df.head()"
   ]
  },
  {
   "cell_type": "code",
   "execution_count": 26,
   "id": "ab1b0363",
   "metadata": {},
   "outputs": [
    {
     "data": {
      "text/plain": [
       "(Timestamp('1900-01-31 00:00:00', freq='M'),\n",
       " Timestamp('2013-09-30 00:00:00', freq='M'))"
      ]
     },
     "execution_count": 26,
     "metadata": {},
     "output_type": "execute_result"
    }
   ],
   "source": [
    "resample_df.index.min(),resample_df.index.max()\n"
   ]
  },
  {
   "cell_type": "code",
   "execution_count": 27,
   "id": "b3b8b3aa",
   "metadata": {},
   "outputs": [
    {
     "data": {
      "text/plain": [
       "(1365, 1)"
      ]
     },
     "execution_count": 27,
     "metadata": {},
     "output_type": "execute_result"
    }
   ],
   "source": [
    "resample_df.shape"
   ]
  },
  {
   "cell_type": "code",
   "execution_count": 28,
   "id": "99c7931b",
   "metadata": {},
   "outputs": [
    {
     "data": {
      "text/html": [
       "<div>\n",
       "<style scoped>\n",
       "    .dataframe tbody tr th:only-of-type {\n",
       "        vertical-align: middle;\n",
       "    }\n",
       "\n",
       "    .dataframe tbody tr th {\n",
       "        vertical-align: top;\n",
       "    }\n",
       "\n",
       "    .dataframe thead th {\n",
       "        text-align: right;\n",
       "    }\n",
       "</style>\n",
       "<table border=\"1\" class=\"dataframe\">\n",
       "  <thead>\n",
       "    <tr style=\"text-align: right;\">\n",
       "      <th></th>\n",
       "      <th>Avg_Temp</th>\n",
       "    </tr>\n",
       "  </thead>\n",
       "  <tbody>\n",
       "    <tr>\n",
       "      <th>count</th>\n",
       "      <td>1365.000000</td>\n",
       "    </tr>\n",
       "    <tr>\n",
       "      <th>mean</th>\n",
       "      <td>9.769515</td>\n",
       "    </tr>\n",
       "    <tr>\n",
       "      <th>std</th>\n",
       "      <td>8.138670</td>\n",
       "    </tr>\n",
       "    <tr>\n",
       "      <th>min</th>\n",
       "      <td>-5.200544</td>\n",
       "    </tr>\n",
       "    <tr>\n",
       "      <th>25%</th>\n",
       "      <td>2.390133</td>\n",
       "    </tr>\n",
       "    <tr>\n",
       "      <th>50%</th>\n",
       "      <td>10.419664</td>\n",
       "    </tr>\n",
       "    <tr>\n",
       "      <th>75%</th>\n",
       "      <td>17.791685</td>\n",
       "    </tr>\n",
       "    <tr>\n",
       "      <th>max</th>\n",
       "      <td>22.444606</td>\n",
       "    </tr>\n",
       "  </tbody>\n",
       "</table>\n",
       "</div>"
      ],
      "text/plain": [
       "          Avg_Temp\n",
       "count  1365.000000\n",
       "mean      9.769515\n",
       "std       8.138670\n",
       "min      -5.200544\n",
       "25%       2.390133\n",
       "50%      10.419664\n",
       "75%      17.791685\n",
       "max      22.444606"
      ]
     },
     "execution_count": 28,
     "metadata": {},
     "output_type": "execute_result"
    }
   ],
   "source": [
    "resample_df.describe()"
   ]
  },
  {
   "cell_type": "code",
   "execution_count": 29,
   "id": "dfdd4117",
   "metadata": {},
   "outputs": [
    {
     "data": {
      "text/plain": [
       "Avg_Temp    0\n",
       "dtype: int64"
      ]
     },
     "execution_count": 29,
     "metadata": {},
     "output_type": "execute_result"
    }
   ],
   "source": [
    "resample_df.isnull().sum()"
   ]
  },
  {
   "cell_type": "code",
   "execution_count": 30,
   "id": "738a844f",
   "metadata": {
    "scrolled": true
   },
   "outputs": [
    {
     "data": {
      "text/plain": [
       "<matplotlib.legend.Legend at 0x24e64c27b80>"
      ]
     },
     "execution_count": 30,
     "metadata": {},
     "output_type": "execute_result"
    },
    {
     "data": {
      "image/png": "[encoded data removed]",
      "text/plain": [
       "<Figure size 576x360 with 1 Axes>"
      ]
     },
     "metadata": {
      "needs_background": "light"
     },
     "output_type": "display_data"
    }
   ],
   "source": [
    "#Plot \n",
    "resample_df.plot(title='Temperature Change from 1900-2013',figsize=(8,5))\n",
    "plt.ylabel('Temperature',fontsize=12)\n",
    "plt.xlabel('Year',fontsize=12)\n",
    "plt.legend()"
   ]
  },
  {
   "cell_type": "markdown",
   "id": "7bffd5df",
   "metadata": {},
   "source": [
    "# Climate change forcasting\n"
   ]
  },
  {
   "cell_type": "raw",
   "id": "caaab806",
   "metadata": {},
   "source": [
    " ARIMA\n",
    " Regression\n",
    " LSTM\n",
    " Prophet"
   ]
  },
  {
   "cell_type": "markdown",
   "id": "6d408260",
   "metadata": {},
   "source": [
    "# ARIMA"
   ]
  },
  {
   "cell_type": "code",
   "execution_count": 31,
   "id": "98ae4d5b",
   "metadata": {},
   "outputs": [
    {
     "data": {
      "text/html": [
       "<div>\n",
       "<style scoped>\n",
       "    .dataframe tbody tr th:only-of-type {\n",
       "        vertical-align: middle;\n",
       "    }\n",
       "\n",
       "    .dataframe tbody tr th {\n",
       "        vertical-align: top;\n",
       "    }\n",
       "\n",
       "    .dataframe thead th {\n",
       "        text-align: right;\n",
       "    }\n",
       "</style>\n",
       "<table border=\"1\" class=\"dataframe\">\n",
       "  <thead>\n",
       "    <tr style=\"text-align: right;\">\n",
       "      <th></th>\n",
       "      <th>Avg_Temp</th>\n",
       "    </tr>\n",
       "    <tr>\n",
       "      <th>Date</th>\n",
       "      <th></th>\n",
       "    </tr>\n",
       "  </thead>\n",
       "  <tbody>\n",
       "    <tr>\n",
       "      <th>1900-01-31</th>\n",
       "      <td>-3.636041</td>\n",
       "    </tr>\n",
       "    <tr>\n",
       "      <th>1900-02-28</th>\n",
       "      <td>-1.508290</td>\n",
       "    </tr>\n",
       "    <tr>\n",
       "      <th>1900-03-31</th>\n",
       "      <td>3.822237</td>\n",
       "    </tr>\n",
       "    <tr>\n",
       "      <th>1900-04-30</th>\n",
       "      <td>9.343722</td>\n",
       "    </tr>\n",
       "    <tr>\n",
       "      <th>1900-05-31</th>\n",
       "      <td>15.124137</td>\n",
       "    </tr>\n",
       "  </tbody>\n",
       "</table>\n",
       "</div>"
      ],
      "text/plain": [
       "             Avg_Temp\n",
       "Date                 \n",
       "1900-01-31  -3.636041\n",
       "1900-02-28  -1.508290\n",
       "1900-03-31   3.822237\n",
       "1900-04-30   9.343722\n",
       "1900-05-31  15.124137"
      ]
     },
     "execution_count": 31,
     "metadata": {},
     "output_type": "execute_result"
    }
   ],
   "source": [
    "resample_df.head()"
   ]
  },
  {
   "cell_type": "code",
   "execution_count": 32,
   "id": "89d664c2",
   "metadata": {},
   "outputs": [
    {
     "data": {
      "text/plain": [
       "(1365, 1)"
      ]
     },
     "execution_count": 32,
     "metadata": {},
     "output_type": "execute_result"
    }
   ],
   "source": [
    "resample_df.shape"
   ]
  },
  {
   "cell_type": "code",
   "execution_count": 33,
   "id": "6d907225",
   "metadata": {},
   "outputs": [
    {
     "name": "stdout",
     "output_type": "stream",
     "text": [
      "Requirement already satisfied: pmdarima in c:\\users\\prana\\anaconda3\\lib\\site-packages (1.8.4)\n",
      "Requirement already satisfied: Cython!=0.29.18,>=0.29 in c:\\users\\prana\\anaconda3\\lib\\site-packages (from pmdarima) (0.29.24)\n",
      "Requirement already satisfied: statsmodels!=0.12.0,>=0.11 in c:\\users\\prana\\anaconda3\\lib\\site-packages (from pmdarima) (0.12.2)\n",
      "Requirement already satisfied: setuptools!=50.0.0,>=38.6.0 in c:\\users\\prana\\anaconda3\\lib\\site-packages (from pmdarima) (58.0.4)\n",
      "Requirement already satisfied: pandas>=0.19 in c:\\users\\prana\\anaconda3\\lib\\site-packages (from pmdarima) (1.3.4)\n",
      "Requirement already satisfied: urllib3 in c:\\users\\prana\\anaconda3\\lib\\site-packages (from pmdarima) (1.26.7)\n",
      "Requirement already satisfied: joblib>=0.11 in c:\\users\\prana\\anaconda3\\lib\\site-packages (from pmdarima) (1.1.0)\n",
      "Requirement already satisfied: numpy>=1.19.3 in c:\\users\\prana\\anaconda3\\lib\\site-packages (from pmdarima) (1.20.3)\n",
      "Requirement already satisfied: scikit-learn>=0.22 in c:\\users\\prana\\anaconda3\\lib\\site-packages (from pmdarima) (0.24.2)\n",
      "Requirement already satisfied: scipy>=1.3.2 in c:\\users\\prana\\anaconda3\\lib\\site-packages (from pmdarima) (1.7.1)\n",
      "Requirement already satisfied: pytz>=2017.3 in c:\\users\\prana\\anaconda3\\lib\\site-packages (from pandas>=0.19->pmdarima) (2021.3)\n",
      "Requirement already satisfied: python-dateutil>=2.7.3 in c:\\users\\prana\\anaconda3\\lib\\site-packages (from pandas>=0.19->pmdarima) (2.8.2)\n",
      "Requirement already satisfied: six>=1.5 in c:\\users\\prana\\anaconda3\\lib\\site-packages (from python-dateutil>=2.7.3->pandas>=0.19->pmdarima) (1.16.0)\n",
      "Requirement already satisfied: threadpoolctl>=2.0.0 in c:\\users\\prana\\anaconda3\\lib\\site-packages (from scikit-learn>=0.22->pmdarima) (2.2.0)\n",
      "Requirement already satisfied: patsy>=0.5 in c:\\users\\prana\\anaconda3\\lib\\site-packages (from statsmodels!=0.12.0,>=0.11->pmdarima) (0.5.2)\n"
     ]
    }
   ],
   "source": [
    "#AUTO ARIMA\n",
    "!pip install pmdarima"
   ]
  },
  {
   "cell_type": "code",
   "execution_count": 34,
   "id": "71850f56",
   "metadata": {},
   "outputs": [],
   "source": [
    "y=resample_df.Avg_Temp.values"
   ]
  },
  {
   "cell_type": "code",
   "execution_count": 35,
   "id": "22729325",
   "metadata": {},
   "outputs": [],
   "source": [
    "import pmdarima as pm\n",
    "from pmdarima.model_selection import train_test_split"
   ]
  },
  {
   "cell_type": "code",
   "execution_count": 36,
   "id": "6c1b4d64",
   "metadata": {},
   "outputs": [],
   "source": [
    "train, test = train_test_split(resample_df, train_size=int(0.9 * resample_df.shape[0]))"
   ]
  },
  {
   "cell_type": "code",
   "execution_count": 37,
   "id": "65bd8f73",
   "metadata": {},
   "outputs": [
    {
     "data": {
      "text/plain": [
       "((1228, 1), (137, 1))"
      ]
     },
     "execution_count": 37,
     "metadata": {},
     "output_type": "execute_result"
    }
   ],
   "source": [
    "train.shape,test.shape"
   ]
  },
  {
   "cell_type": "code",
   "execution_count": 38,
   "id": "3eed73d2",
   "metadata": {},
   "outputs": [
    {
     "name": "stdout",
     "output_type": "stream",
     "text": [
      "Performing stepwise search to minimize aic\n",
      " ARIMA(5,0,2)(0,0,0)[0] intercept   : AIC=3342.113, Time=2.13 sec\n",
      " ARIMA(0,0,0)(0,0,0)[0] intercept   : AIC=8635.867, Time=0.03 sec\n",
      " ARIMA(1,0,0)(0,0,0)[0] intercept   : AIC=6977.983, Time=0.10 sec\n",
      " ARIMA(0,0,1)(0,0,0)[0] intercept   : AIC=7240.492, Time=0.25 sec\n",
      " ARIMA(0,0,0)(0,0,0)[0]             : AIC=9712.675, Time=0.02 sec\n",
      " ARIMA(4,0,2)(0,0,0)[0] intercept   : AIC=3349.719, Time=1.83 sec\n",
      " ARIMA(5,0,1)(0,0,0)[0] intercept   : AIC=3322.094, Time=2.22 sec\n",
      " ARIMA(4,0,1)(0,0,0)[0] intercept   : AIC=3335.325, Time=1.98 sec\n",
      " ARIMA(5,0,0)(0,0,0)[0] intercept   : AIC=inf, Time=1.40 sec\n",
      " ARIMA(6,0,1)(0,0,0)[0] intercept   : AIC=3301.430, Time=2.15 sec\n",
      " ARIMA(6,0,0)(0,0,0)[0] intercept   : AIC=inf, Time=0.62 sec\n",
      " ARIMA(7,0,1)(0,0,0)[0] intercept   : AIC=3275.153, Time=2.60 sec\n",
      " ARIMA(7,0,0)(0,0,0)[0] intercept   : AIC=inf, Time=1.07 sec\n",
      " ARIMA(8,0,1)(0,0,0)[0] intercept   : AIC=3277.912, Time=3.01 sec\n",
      " ARIMA(7,0,2)(0,0,0)[0] intercept   : AIC=3228.972, Time=2.83 sec\n",
      " ARIMA(6,0,2)(0,0,0)[0] intercept   : AIC=3317.219, Time=2.31 sec\n",
      " ARIMA(8,0,2)(0,0,0)[0] intercept   : AIC=3173.105, Time=3.19 sec\n",
      " ARIMA(9,0,2)(0,0,0)[0] intercept   : AIC=3193.099, Time=3.68 sec\n",
      " ARIMA(8,0,3)(0,0,0)[0] intercept   : AIC=3374.369, Time=3.74 sec\n",
      " ARIMA(7,0,3)(0,0,0)[0] intercept   : AIC=3396.268, Time=3.12 sec\n",
      " ARIMA(9,0,1)(0,0,0)[0] intercept   : AIC=3160.977, Time=3.71 sec\n",
      " ARIMA(9,0,0)(0,0,0)[0] intercept   : AIC=inf, Time=1.62 sec\n",
      " ARIMA(10,0,1)(0,0,0)[0] intercept   : AIC=2954.940, Time=4.04 sec\n",
      " ARIMA(10,0,0)(0,0,0)[0] intercept   : AIC=inf, Time=2.22 sec\n",
      " ARIMA(10,0,2)(0,0,0)[0] intercept   : AIC=2972.260, Time=3.94 sec\n",
      " ARIMA(10,0,1)(0,0,0)[0]             : AIC=2852.910, Time=2.09 sec\n",
      " ARIMA(9,0,1)(0,0,0)[0]             : AIC=2960.757, Time=1.82 sec\n",
      " ARIMA(10,0,0)(0,0,0)[0]             : AIC=inf, Time=1.22 sec\n",
      " ARIMA(10,0,2)(0,0,0)[0]             : AIC=2875.415, Time=2.24 sec\n",
      " ARIMA(9,0,0)(0,0,0)[0]             : AIC=inf, Time=1.57 sec\n",
      " ARIMA(9,0,2)(0,0,0)[0]             : AIC=3074.627, Time=1.88 sec\n",
      "\n",
      "Best model:  ARIMA(10,0,1)(0,0,0)[0]          \n",
      "Total fit time: 64.661 seconds\n"
     ]
    }
   ],
   "source": [
    "# Fit your model\n",
    "model = pm.auto_arima( train, start_p=5, max_p=10, seasonal=True, trace = True) #seasonal =False\n",
    "# random search\n",
    "# make your forecasts\n",
    "forecasts = model.predict(test.shape[0])"
   ]
  },
  {
   "cell_type": "code",
   "execution_count": 40,
   "id": "67ec1b3e",
   "metadata": {},
   "outputs": [
    {
     "data": {
      "image/png": "[encoded data removed]",
      "text/plain": [
       "<Figure size 432x288 with 1 Axes>"
      ]
     },
     "metadata": {
      "needs_background": "light"
     },
     "output_type": "display_data"
    }
   ],
   "source": [
    "# Visualize the forecasts (blue=train, green=forecasts)\n",
    "x = np.arange(resample_df.shape[0])\n",
    "plt.plot(x[:1228], train, c='blue')\n",
    "plt.plot(x[1228:], forecasts, c='green')\n",
    "plt.show()"
   ]
  },
  {
   "cell_type": "code",
   "execution_count": 41,
   "id": "0a1b9940",
   "metadata": {},
   "outputs": [],
   "source": [
    "# from statsmodels.tsa.arima_model import ARIMA\n",
    "from statsmodels.tsa.arima.model import ARIMA\n",
    "from sklearn.metrics import mean_squared_error"
   ]
  },
  {
   "cell_type": "code",
   "execution_count": 42,
   "id": "96e28741",
   "metadata": {},
   "outputs": [],
   "source": [
    "train_size = int(0.9 * resample_df.shape[0])\n",
    "test_size = resample_df.shape[0] - train_size"
   ]
  },
  {
   "cell_type": "code",
   "execution_count": 44,
   "id": "c13e8b2c",
   "metadata": {},
   "outputs": [
    {
     "data": {
      "text/plain": [
       "2002-05-31    15.819899\n",
       "2002-06-30    19.317786\n",
       "2002-07-31    20.983649\n",
       "2002-08-31    19.992936\n",
       "2002-09-30    16.655180\n",
       "                ...    \n",
       "2013-05-31    14.726002\n",
       "2013-06-30    18.063769\n",
       "2013-07-31    19.262804\n",
       "2013-08-31    18.005636\n",
       "2013-09-30    14.632700\n",
       "Freq: M, Name: predicted_mean, Length: 137, dtype: float64"
      ]
     },
     "execution_count": 44,
     "metadata": {},
     "output_type": "execute_result"
    }
   ],
   "source": [
    "model = ARIMA(train, order=(10,0,1))#order is p,d,q #10,0,1\n",
    "model_fit = model.fit()\n",
    "output = model_fit.forecast(test_size)\n",
    "output"
   ]
  },
  {
   "cell_type": "code",
   "execution_count": 45,
   "id": "a5b4ef3f",
   "metadata": {},
   "outputs": [
    {
     "data": {
      "text/plain": [
       "15.819899003908864"
      ]
     },
     "execution_count": 45,
     "metadata": {},
     "output_type": "execute_result"
    }
   ],
   "source": [
    "output[0]"
   ]
  },
  {
   "cell_type": "code",
   "execution_count": 46,
   "id": "d2ad2d90",
   "metadata": {},
   "outputs": [
    {
     "data": {
      "text/plain": [
       "2.3346210928618008"
      ]
     },
     "execution_count": 46,
     "metadata": {},
     "output_type": "execute_result"
    }
   ],
   "source": [
    "mean_squared_error(test,output)"
   ]
  },
  {
   "cell_type": "code",
   "execution_count": 47,
   "id": "956585a3",
   "metadata": {},
   "outputs": [
    {
     "data": {
      "text/plain": [
       "1.5279466917604818"
      ]
     },
     "execution_count": 47,
     "metadata": {},
     "output_type": "execute_result"
    }
   ],
   "source": [
    "mean_squared_error(test,output)**0.5"
   ]
  },
  {
   "cell_type": "code",
   "execution_count": 48,
   "id": "f3e86190",
   "metadata": {},
   "outputs": [
    {
     "data": {
      "text/plain": [
       "0.703441298569223"
      ]
     },
     "execution_count": 48,
     "metadata": {},
     "output_type": "execute_result"
    }
   ],
   "source": [
    "from sklearn.metrics import mean_absolute_percentage_error\n",
    "mean_absolute_percentage_error(test,output)"
   ]
  },
  {
   "cell_type": "code",
   "execution_count": 49,
   "id": "702815bd",
   "metadata": {},
   "outputs": [],
   "source": [
    "# save model\n",
    "model_fit.save('climate_final.pkl')"
   ]
  },
  {
   "cell_type": "markdown",
   "id": "99044510",
   "metadata": {},
   "source": [
    "#  Apply regression on TS using lag values"
   ]
  },
  {
   "cell_type": "code",
   "execution_count": 50,
   "id": "c2e9dd32",
   "metadata": {},
   "outputs": [],
   "source": [
    "reg_data=resample_df.copy()"
   ]
  },
  {
   "cell_type": "code",
   "execution_count": 51,
   "id": "4c4db37f",
   "metadata": {},
   "outputs": [
    {
     "data": {
      "text/html": [
       "<div>\n",
       "<style scoped>\n",
       "    .dataframe tbody tr th:only-of-type {\n",
       "        vertical-align: middle;\n",
       "    }\n",
       "\n",
       "    .dataframe tbody tr th {\n",
       "        vertical-align: top;\n",
       "    }\n",
       "\n",
       "    .dataframe thead th {\n",
       "        text-align: right;\n",
       "    }\n",
       "</style>\n",
       "<table border=\"1\" class=\"dataframe\">\n",
       "  <thead>\n",
       "    <tr style=\"text-align: right;\">\n",
       "      <th></th>\n",
       "      <th>Avg_Temp</th>\n",
       "    </tr>\n",
       "    <tr>\n",
       "      <th>Date</th>\n",
       "      <th></th>\n",
       "    </tr>\n",
       "  </thead>\n",
       "  <tbody>\n",
       "    <tr>\n",
       "      <th>1900-01-31</th>\n",
       "      <td>-3.636041</td>\n",
       "    </tr>\n",
       "    <tr>\n",
       "      <th>1900-02-28</th>\n",
       "      <td>-1.508290</td>\n",
       "    </tr>\n",
       "    <tr>\n",
       "      <th>1900-03-31</th>\n",
       "      <td>3.822237</td>\n",
       "    </tr>\n",
       "    <tr>\n",
       "      <th>1900-04-30</th>\n",
       "      <td>9.343722</td>\n",
       "    </tr>\n",
       "    <tr>\n",
       "      <th>1900-05-31</th>\n",
       "      <td>15.124137</td>\n",
       "    </tr>\n",
       "  </tbody>\n",
       "</table>\n",
       "</div>"
      ],
      "text/plain": [
       "             Avg_Temp\n",
       "Date                 \n",
       "1900-01-31  -3.636041\n",
       "1900-02-28  -1.508290\n",
       "1900-03-31   3.822237\n",
       "1900-04-30   9.343722\n",
       "1900-05-31  15.124137"
      ]
     },
     "execution_count": 51,
     "metadata": {},
     "output_type": "execute_result"
    }
   ],
   "source": [
    "reg_data.head()"
   ]
  },
  {
   "cell_type": "code",
   "execution_count": 52,
   "id": "f959e79b",
   "metadata": {},
   "outputs": [
    {
     "data": {
      "text/plain": [
       "(1365, 1)"
      ]
     },
     "execution_count": 52,
     "metadata": {},
     "output_type": "execute_result"
    }
   ],
   "source": [
    "reg_data.shape"
   ]
  },
  {
   "cell_type": "code",
   "execution_count": 53,
   "id": "5a344200",
   "metadata": {},
   "outputs": [
    {
     "data": {
      "text/plain": [
       "Index(['Avg_Temp'], dtype='object')"
      ]
     },
     "execution_count": 53,
     "metadata": {},
     "output_type": "execute_result"
    }
   ],
   "source": [
    "reg_data.columns"
   ]
  },
  {
   "cell_type": "code",
   "execution_count": 54,
   "id": "19b4dbe1",
   "metadata": {},
   "outputs": [],
   "source": [
    "reg_data['lag1']=reg_data['Avg_Temp'].shift(1)\n",
    "reg_data['lag2']=reg_data['Avg_Temp'].shift(2)\n",
    "reg_data['lag3']=reg_data['Avg_Temp'].shift(3)\n",
    "reg_data['lag4']=reg_data['Avg_Temp'].shift(4)\n",
    "reg_data['lag5']=reg_data['Avg_Temp'].shift(5)"
   ]
  },
  {
   "cell_type": "code",
   "execution_count": 55,
   "id": "3b5f6544",
   "metadata": {},
   "outputs": [
    {
     "data": {
      "text/html": [
       "<div>\n",
       "<style scoped>\n",
       "    .dataframe tbody tr th:only-of-type {\n",
       "        vertical-align: middle;\n",
       "    }\n",
       "\n",
       "    .dataframe tbody tr th {\n",
       "        vertical-align: top;\n",
       "    }\n",
       "\n",
       "    .dataframe thead th {\n",
       "        text-align: right;\n",
       "    }\n",
       "</style>\n",
       "<table border=\"1\" class=\"dataframe\">\n",
       "  <thead>\n",
       "    <tr style=\"text-align: right;\">\n",
       "      <th></th>\n",
       "      <th>Avg_Temp</th>\n",
       "      <th>lag1</th>\n",
       "      <th>lag2</th>\n",
       "      <th>lag3</th>\n",
       "      <th>lag4</th>\n",
       "      <th>lag5</th>\n",
       "    </tr>\n",
       "    <tr>\n",
       "      <th>Date</th>\n",
       "      <th></th>\n",
       "      <th></th>\n",
       "      <th></th>\n",
       "      <th></th>\n",
       "      <th></th>\n",
       "      <th></th>\n",
       "    </tr>\n",
       "  </thead>\n",
       "  <tbody>\n",
       "    <tr>\n",
       "      <th>1900-01-31</th>\n",
       "      <td>-3.636041</td>\n",
       "      <td>NaN</td>\n",
       "      <td>NaN</td>\n",
       "      <td>NaN</td>\n",
       "      <td>NaN</td>\n",
       "      <td>NaN</td>\n",
       "    </tr>\n",
       "    <tr>\n",
       "      <th>1900-02-28</th>\n",
       "      <td>-1.508290</td>\n",
       "      <td>-3.636041</td>\n",
       "      <td>NaN</td>\n",
       "      <td>NaN</td>\n",
       "      <td>NaN</td>\n",
       "      <td>NaN</td>\n",
       "    </tr>\n",
       "    <tr>\n",
       "      <th>1900-03-31</th>\n",
       "      <td>3.822237</td>\n",
       "      <td>-1.508290</td>\n",
       "      <td>-3.636041</td>\n",
       "      <td>NaN</td>\n",
       "      <td>NaN</td>\n",
       "      <td>NaN</td>\n",
       "    </tr>\n",
       "    <tr>\n",
       "      <th>1900-04-30</th>\n",
       "      <td>9.343722</td>\n",
       "      <td>3.822237</td>\n",
       "      <td>-1.508290</td>\n",
       "      <td>-3.636041</td>\n",
       "      <td>NaN</td>\n",
       "      <td>NaN</td>\n",
       "    </tr>\n",
       "    <tr>\n",
       "      <th>1900-05-31</th>\n",
       "      <td>15.124137</td>\n",
       "      <td>9.343722</td>\n",
       "      <td>3.822237</td>\n",
       "      <td>-1.508290</td>\n",
       "      <td>-3.636041</td>\n",
       "      <td>NaN</td>\n",
       "    </tr>\n",
       "    <tr>\n",
       "      <th>1900-06-30</th>\n",
       "      <td>18.517220</td>\n",
       "      <td>15.124137</td>\n",
       "      <td>9.343722</td>\n",
       "      <td>3.822237</td>\n",
       "      <td>-1.508290</td>\n",
       "      <td>-3.636041</td>\n",
       "    </tr>\n",
       "    <tr>\n",
       "      <th>1900-07-31</th>\n",
       "      <td>20.427950</td>\n",
       "      <td>18.517220</td>\n",
       "      <td>15.124137</td>\n",
       "      <td>9.343722</td>\n",
       "      <td>3.822237</td>\n",
       "      <td>-1.508290</td>\n",
       "    </tr>\n",
       "    <tr>\n",
       "      <th>1900-08-31</th>\n",
       "      <td>20.029033</td>\n",
       "      <td>20.427950</td>\n",
       "      <td>18.517220</td>\n",
       "      <td>15.124137</td>\n",
       "      <td>9.343722</td>\n",
       "      <td>3.822237</td>\n",
       "    </tr>\n",
       "    <tr>\n",
       "      <th>1900-09-30</th>\n",
       "      <td>15.698465</td>\n",
       "      <td>20.029033</td>\n",
       "      <td>20.427950</td>\n",
       "      <td>18.517220</td>\n",
       "      <td>15.124137</td>\n",
       "      <td>9.343722</td>\n",
       "    </tr>\n",
       "    <tr>\n",
       "      <th>1900-10-31</th>\n",
       "      <td>11.352120</td>\n",
       "      <td>15.698465</td>\n",
       "      <td>20.029033</td>\n",
       "      <td>20.427950</td>\n",
       "      <td>18.517220</td>\n",
       "      <td>15.124137</td>\n",
       "    </tr>\n",
       "  </tbody>\n",
       "</table>\n",
       "</div>"
      ],
      "text/plain": [
       "             Avg_Temp       lag1       lag2       lag3       lag4       lag5\n",
       "Date                                                                        \n",
       "1900-01-31  -3.636041        NaN        NaN        NaN        NaN        NaN\n",
       "1900-02-28  -1.508290  -3.636041        NaN        NaN        NaN        NaN\n",
       "1900-03-31   3.822237  -1.508290  -3.636041        NaN        NaN        NaN\n",
       "1900-04-30   9.343722   3.822237  -1.508290  -3.636041        NaN        NaN\n",
       "1900-05-31  15.124137   9.343722   3.822237  -1.508290  -3.636041        NaN\n",
       "1900-06-30  18.517220  15.124137   9.343722   3.822237  -1.508290  -3.636041\n",
       "1900-07-31  20.427950  18.517220  15.124137   9.343722   3.822237  -1.508290\n",
       "1900-08-31  20.029033  20.427950  18.517220  15.124137   9.343722   3.822237\n",
       "1900-09-30  15.698465  20.029033  20.427950  18.517220  15.124137   9.343722\n",
       "1900-10-31  11.352120  15.698465  20.029033  20.427950  18.517220  15.124137"
      ]
     },
     "execution_count": 55,
     "metadata": {},
     "output_type": "execute_result"
    }
   ],
   "source": [
    "reg_data.head(10)"
   ]
  },
  {
   "cell_type": "code",
   "execution_count": 70,
   "id": "bfd8e326",
   "metadata": {},
   "outputs": [],
   "source": [
    "df_r=reg_data.loc['1900-06-30':,:]"
   ]
  },
  {
   "cell_type": "code",
   "execution_count": 71,
   "id": "42aa1d1a",
   "metadata": {},
   "outputs": [
    {
     "data": {
      "text/plain": [
       "(1360, 6)"
      ]
     },
     "execution_count": 71,
     "metadata": {},
     "output_type": "execute_result"
    }
   ],
   "source": [
    "df_r.shape"
   ]
  },
  {
   "cell_type": "code",
   "execution_count": 72,
   "id": "4d6dba7b",
   "metadata": {},
   "outputs": [
    {
     "data": {
      "text/plain": [
       "Index(['Avg_Temp', 'lag1', 'lag2', 'lag3', 'lag4', 'lag5'], dtype='object')"
      ]
     },
     "execution_count": 72,
     "metadata": {},
     "output_type": "execute_result"
    }
   ],
   "source": [
    "df_r.columns"
   ]
  },
  {
   "cell_type": "code",
   "execution_count": 73,
   "id": "9af28489",
   "metadata": {},
   "outputs": [
    {
     "data": {
      "text/html": [
       "<div>\n",
       "<style scoped>\n",
       "    .dataframe tbody tr th:only-of-type {\n",
       "        vertical-align: middle;\n",
       "    }\n",
       "\n",
       "    .dataframe tbody tr th {\n",
       "        vertical-align: top;\n",
       "    }\n",
       "\n",
       "    .dataframe thead th {\n",
       "        text-align: right;\n",
       "    }\n",
       "</style>\n",
       "<table border=\"1\" class=\"dataframe\">\n",
       "  <thead>\n",
       "    <tr style=\"text-align: right;\">\n",
       "      <th></th>\n",
       "      <th>Avg_Temp</th>\n",
       "      <th>lag1</th>\n",
       "      <th>lag2</th>\n",
       "      <th>lag3</th>\n",
       "      <th>lag4</th>\n",
       "      <th>lag5</th>\n",
       "    </tr>\n",
       "    <tr>\n",
       "      <th>Date</th>\n",
       "      <th></th>\n",
       "      <th></th>\n",
       "      <th></th>\n",
       "      <th></th>\n",
       "      <th></th>\n",
       "      <th></th>\n",
       "    </tr>\n",
       "  </thead>\n",
       "  <tbody>\n",
       "    <tr>\n",
       "      <th>1900-06-30</th>\n",
       "      <td>18.517220</td>\n",
       "      <td>15.124137</td>\n",
       "      <td>9.343722</td>\n",
       "      <td>3.822237</td>\n",
       "      <td>-1.508290</td>\n",
       "      <td>-3.636041</td>\n",
       "    </tr>\n",
       "    <tr>\n",
       "      <th>1900-07-31</th>\n",
       "      <td>20.427950</td>\n",
       "      <td>18.517220</td>\n",
       "      <td>15.124137</td>\n",
       "      <td>9.343722</td>\n",
       "      <td>3.822237</td>\n",
       "      <td>-1.508290</td>\n",
       "    </tr>\n",
       "    <tr>\n",
       "      <th>1900-08-31</th>\n",
       "      <td>20.029033</td>\n",
       "      <td>20.427950</td>\n",
       "      <td>18.517220</td>\n",
       "      <td>15.124137</td>\n",
       "      <td>9.343722</td>\n",
       "      <td>3.822237</td>\n",
       "    </tr>\n",
       "    <tr>\n",
       "      <th>1900-09-30</th>\n",
       "      <td>15.698465</td>\n",
       "      <td>20.029033</td>\n",
       "      <td>20.427950</td>\n",
       "      <td>18.517220</td>\n",
       "      <td>15.124137</td>\n",
       "      <td>9.343722</td>\n",
       "    </tr>\n",
       "    <tr>\n",
       "      <th>1900-10-31</th>\n",
       "      <td>11.352120</td>\n",
       "      <td>15.698465</td>\n",
       "      <td>20.029033</td>\n",
       "      <td>20.427950</td>\n",
       "      <td>18.517220</td>\n",
       "      <td>15.124137</td>\n",
       "    </tr>\n",
       "  </tbody>\n",
       "</table>\n",
       "</div>"
      ],
      "text/plain": [
       "             Avg_Temp       lag1       lag2       lag3       lag4       lag5\n",
       "Date                                                                        \n",
       "1900-06-30  18.517220  15.124137   9.343722   3.822237  -1.508290  -3.636041\n",
       "1900-07-31  20.427950  18.517220  15.124137   9.343722   3.822237  -1.508290\n",
       "1900-08-31  20.029033  20.427950  18.517220  15.124137   9.343722   3.822237\n",
       "1900-09-30  15.698465  20.029033  20.427950  18.517220  15.124137   9.343722\n",
       "1900-10-31  11.352120  15.698465  20.029033  20.427950  18.517220  15.124137"
      ]
     },
     "execution_count": 73,
     "metadata": {},
     "output_type": "execute_result"
    }
   ],
   "source": [
    "df_r.head()"
   ]
  },
  {
   "cell_type": "markdown",
   "id": "b29aa5dd",
   "metadata": {},
   "source": [
    "#  X & Y split "
   ]
  },
  {
   "cell_type": "code",
   "execution_count": 74,
   "id": "efa79626",
   "metadata": {},
   "outputs": [],
   "source": [
    "X = df_r.drop(['Avg_Temp'],axis=1)\n",
    "Y = df_r['Avg_Temp']"
   ]
  },
  {
   "cell_type": "code",
   "execution_count": 75,
   "id": "6c7e9031",
   "metadata": {},
   "outputs": [
    {
     "data": {
      "text/plain": [
       "((1360, 5), (1360,))"
      ]
     },
     "execution_count": 75,
     "metadata": {},
     "output_type": "execute_result"
    }
   ],
   "source": [
    "X.shape, Y.shape"
   ]
  },
  {
   "cell_type": "code",
   "execution_count": 76,
   "id": "ea98d189",
   "metadata": {},
   "outputs": [],
   "source": [
    "size = int(len(X) * 0.9)\n",
    "X_train, X_test = X[0:size], X[size:len(X)]\n",
    "Y_train, Y_test = Y[0:size], Y[size:len(X)]"
   ]
  },
  {
   "cell_type": "code",
   "execution_count": 77,
   "id": "fb4b4f65",
   "metadata": {},
   "outputs": [
    {
     "data": {
      "text/plain": [
       "((1224, 5), (136, 5), (1224,), (136,))"
      ]
     },
     "execution_count": 77,
     "metadata": {},
     "output_type": "execute_result"
    }
   ],
   "source": [
    "X_train.shape, X_test.shape,Y_train.shape, Y_test.shape"
   ]
  },
  {
   "cell_type": "markdown",
   "id": "28a7381f",
   "metadata": {},
   "source": [
    "#  Apply regression algorithm"
   ]
  },
  {
   "cell_type": "markdown",
   "id": "f8d40812",
   "metadata": {},
   "source": [
    "## Linear regression"
   ]
  },
  {
   "cell_type": "code",
   "execution_count": 78,
   "id": "e8caef46",
   "metadata": {},
   "outputs": [],
   "source": [
    "from sklearn.linear_model import LinearRegression"
   ]
  },
  {
   "cell_type": "code",
   "execution_count": 79,
   "id": "bb970f36",
   "metadata": {},
   "outputs": [],
   "source": [
    "reg = LinearRegression().fit(X_train, Y_train)"
   ]
  },
  {
   "cell_type": "code",
   "execution_count": 80,
   "id": "2d762c45",
   "metadata": {},
   "outputs": [],
   "source": [
    "Y_pred = reg.predict(X_test)"
   ]
  },
  {
   "cell_type": "code",
   "execution_count": 81,
   "id": "df4711ff",
   "metadata": {},
   "outputs": [
    {
     "data": {
      "text/plain": [
       "1.4631288081532026"
      ]
     },
     "execution_count": 81,
     "metadata": {},
     "output_type": "execute_result"
    }
   ],
   "source": [
    "mean_squared_error(Y_test,Y_pred)"
   ]
  },
  {
   "cell_type": "code",
   "execution_count": 82,
   "id": "eeef5f50",
   "metadata": {},
   "outputs": [
    {
     "data": {
      "text/plain": [
       "1.2095986144805237"
      ]
     },
     "execution_count": 82,
     "metadata": {},
     "output_type": "execute_result"
    }
   ],
   "source": [
    "mean_squared_error(Y_test,Y_pred)**0.5"
   ]
  },
  {
   "cell_type": "code",
   "execution_count": 83,
   "id": "4c1a2cbc",
   "metadata": {},
   "outputs": [
    {
     "data": {
      "text/plain": [
       "0.4290697452231027"
      ]
     },
     "execution_count": 83,
     "metadata": {},
     "output_type": "execute_result"
    }
   ],
   "source": [
    "mean_absolute_percentage_error(Y_test,Y_pred)"
   ]
  },
  {
   "cell_type": "markdown",
   "id": "b556c69a",
   "metadata": {},
   "source": [
    "## RandomForestRegressor"
   ]
  },
  {
   "cell_type": "code",
   "execution_count": 84,
   "id": "61cdea50",
   "metadata": {},
   "outputs": [],
   "source": [
    "from sklearn.ensemble import RandomForestRegressor\n",
    "rfr = RandomForestRegressor( random_state = 7)"
   ]
  },
  {
   "cell_type": "code",
   "execution_count": 85,
   "id": "cbf80026",
   "metadata": {},
   "outputs": [
    {
     "data": {
      "text/plain": [
       "RandomForestRegressor(random_state=7)"
      ]
     },
     "execution_count": 85,
     "metadata": {},
     "output_type": "execute_result"
    }
   ],
   "source": [
    "rfr.fit(X_train,Y_train)"
   ]
  },
  {
   "cell_type": "code",
   "execution_count": 86,
   "id": "73626d46",
   "metadata": {},
   "outputs": [],
   "source": [
    "Y_pred_rfr = rfr.predict(X_test)"
   ]
  },
  {
   "cell_type": "code",
   "execution_count": 87,
   "id": "34695e97",
   "metadata": {},
   "outputs": [
    {
     "data": {
      "text/plain": [
       "1.0503085461102142"
      ]
     },
     "execution_count": 87,
     "metadata": {},
     "output_type": "execute_result"
    }
   ],
   "source": [
    "mean_squared_error(Y_test,Y_pred_rfr)"
   ]
  },
  {
   "cell_type": "code",
   "execution_count": 88,
   "id": "369c42eb",
   "metadata": {},
   "outputs": [
    {
     "data": {
      "text/plain": [
       "1.0248456206230352"
      ]
     },
     "execution_count": 88,
     "metadata": {},
     "output_type": "execute_result"
    }
   ],
   "source": [
    "mean_squared_error(Y_test,Y_pred_rfr)**0.5"
   ]
  },
  {
   "cell_type": "code",
   "execution_count": 89,
   "id": "53bc4ffd",
   "metadata": {},
   "outputs": [
    {
     "data": {
      "text/plain": [
       "0.37123014451587755"
      ]
     },
     "execution_count": 89,
     "metadata": {},
     "output_type": "execute_result"
    }
   ],
   "source": [
    "mean_absolute_percentage_error(Y_test,Y_pred_rfr)"
   ]
  },
  {
   "cell_type": "markdown",
   "id": "4ead8761",
   "metadata": {},
   "source": [
    "# RNN/LSTM_Time_series"
   ]
  },
  {
   "cell_type": "code",
   "execution_count": 90,
   "id": "1293cbd0",
   "metadata": {},
   "outputs": [
    {
     "data": {
      "text/html": [
       "<div>\n",
       "<style scoped>\n",
       "    .dataframe tbody tr th:only-of-type {\n",
       "        vertical-align: middle;\n",
       "    }\n",
       "\n",
       "    .dataframe tbody tr th {\n",
       "        vertical-align: top;\n",
       "    }\n",
       "\n",
       "    .dataframe thead th {\n",
       "        text-align: right;\n",
       "    }\n",
       "</style>\n",
       "<table border=\"1\" class=\"dataframe\">\n",
       "  <thead>\n",
       "    <tr style=\"text-align: right;\">\n",
       "      <th></th>\n",
       "      <th>Avg_Temp</th>\n",
       "    </tr>\n",
       "    <tr>\n",
       "      <th>Date</th>\n",
       "      <th></th>\n",
       "    </tr>\n",
       "  </thead>\n",
       "  <tbody>\n",
       "    <tr>\n",
       "      <th>1900-01-31</th>\n",
       "      <td>-3.636041</td>\n",
       "    </tr>\n",
       "    <tr>\n",
       "      <th>1900-02-28</th>\n",
       "      <td>-1.508290</td>\n",
       "    </tr>\n",
       "    <tr>\n",
       "      <th>1900-03-31</th>\n",
       "      <td>3.822237</td>\n",
       "    </tr>\n",
       "    <tr>\n",
       "      <th>1900-04-30</th>\n",
       "      <td>9.343722</td>\n",
       "    </tr>\n",
       "    <tr>\n",
       "      <th>1900-05-31</th>\n",
       "      <td>15.124137</td>\n",
       "    </tr>\n",
       "  </tbody>\n",
       "</table>\n",
       "</div>"
      ],
      "text/plain": [
       "             Avg_Temp\n",
       "Date                 \n",
       "1900-01-31  -3.636041\n",
       "1900-02-28  -1.508290\n",
       "1900-03-31   3.822237\n",
       "1900-04-30   9.343722\n",
       "1900-05-31  15.124137"
      ]
     },
     "execution_count": 90,
     "metadata": {},
     "output_type": "execute_result"
    }
   ],
   "source": [
    "resample_df.head()"
   ]
  },
  {
   "cell_type": "code",
   "execution_count": 91,
   "id": "0c77ab4a",
   "metadata": {},
   "outputs": [
    {
     "data": {
      "text/plain": [
       "<AxesSubplot:xlabel='Date'>"
      ]
     },
     "execution_count": 91,
     "metadata": {},
     "output_type": "execute_result"
    },
    {
     "data": {
      "image/png": "[encoded data removed]",
      "text/plain": [
       "<Figure size 432x288 with 1 Axes>"
      ]
     },
     "metadata": {
      "needs_background": "light"
     },
     "output_type": "display_data"
    }
   ],
   "source": [
    "resample_df['Avg_Temp'].plot()"
   ]
  },
  {
   "cell_type": "code",
   "execution_count": 92,
   "id": "54778b5c",
   "metadata": {},
   "outputs": [],
   "source": [
    "rnn_data=resample_df[['Avg_Temp']].copy()"
   ]
  },
  {
   "cell_type": "code",
   "execution_count": 93,
   "id": "be53d733",
   "metadata": {},
   "outputs": [
    {
     "data": {
      "text/plain": [
       "(1365, 1)"
      ]
     },
     "execution_count": 93,
     "metadata": {},
     "output_type": "execute_result"
    }
   ],
   "source": [
    "rnn_data.shape"
   ]
  },
  {
   "cell_type": "code",
   "execution_count": 94,
   "id": "13f38cd5",
   "metadata": {},
   "outputs": [
    {
     "data": {
      "text/html": [
       "<div>\n",
       "<style scoped>\n",
       "    .dataframe tbody tr th:only-of-type {\n",
       "        vertical-align: middle;\n",
       "    }\n",
       "\n",
       "    .dataframe tbody tr th {\n",
       "        vertical-align: top;\n",
       "    }\n",
       "\n",
       "    .dataframe thead th {\n",
       "        text-align: right;\n",
       "    }\n",
       "</style>\n",
       "<table border=\"1\" class=\"dataframe\">\n",
       "  <thead>\n",
       "    <tr style=\"text-align: right;\">\n",
       "      <th></th>\n",
       "      <th>Avg_Temp</th>\n",
       "    </tr>\n",
       "    <tr>\n",
       "      <th>Date</th>\n",
       "      <th></th>\n",
       "    </tr>\n",
       "  </thead>\n",
       "  <tbody>\n",
       "    <tr>\n",
       "      <th>1900-01-31</th>\n",
       "      <td>-3.636041</td>\n",
       "    </tr>\n",
       "    <tr>\n",
       "      <th>1900-02-28</th>\n",
       "      <td>-1.508290</td>\n",
       "    </tr>\n",
       "    <tr>\n",
       "      <th>1900-03-31</th>\n",
       "      <td>3.822237</td>\n",
       "    </tr>\n",
       "    <tr>\n",
       "      <th>1900-04-30</th>\n",
       "      <td>9.343722</td>\n",
       "    </tr>\n",
       "    <tr>\n",
       "      <th>1900-05-31</th>\n",
       "      <td>15.124137</td>\n",
       "    </tr>\n",
       "  </tbody>\n",
       "</table>\n",
       "</div>"
      ],
      "text/plain": [
       "             Avg_Temp\n",
       "Date                 \n",
       "1900-01-31  -3.636041\n",
       "1900-02-28  -1.508290\n",
       "1900-03-31   3.822237\n",
       "1900-04-30   9.343722\n",
       "1900-05-31  15.124137"
      ]
     },
     "execution_count": 94,
     "metadata": {},
     "output_type": "execute_result"
    }
   ],
   "source": [
    "rnn_data.head()"
   ]
  },
  {
   "cell_type": "code",
   "execution_count": 95,
   "id": "6f08a9b1",
   "metadata": {},
   "outputs": [
    {
     "data": {
      "text/plain": [
       "(1365, 1)"
      ]
     },
     "execution_count": 95,
     "metadata": {},
     "output_type": "execute_result"
    }
   ],
   "source": [
    "dataset_train = rnn_data.iloc[:2565,:]\n",
    "dataset_train.shape"
   ]
  },
  {
   "cell_type": "code",
   "execution_count": 96,
   "id": "5cb62b9e",
   "metadata": {},
   "outputs": [
    {
     "data": {
      "text/plain": [
       "array([-3.63604149, -1.50829046,  3.82223651,  9.34372199, 15.12413693])"
      ]
     },
     "execution_count": 96,
     "metadata": {},
     "output_type": "execute_result"
    }
   ],
   "source": [
    "# Convert data frame / series to numpy array\n",
    "training_set = dataset_train.iloc[:, 0].values\n",
    "training_set[:5]"
   ]
  },
  {
   "cell_type": "code",
   "execution_count": 97,
   "id": "01bc5652",
   "metadata": {},
   "outputs": [
    {
     "data": {
      "text/plain": [
       "(1365,)"
      ]
     },
     "execution_count": 97,
     "metadata": {},
     "output_type": "execute_result"
    }
   ],
   "source": [
    "training_set.shape"
   ]
  },
  {
   "cell_type": "markdown",
   "id": "fd8af650",
   "metadata": {},
   "source": [
    "# Add extra dimemsion to the data for processing in RNN / LSTM neuron"
   ]
  },
  {
   "cell_type": "code",
   "execution_count": 98,
   "id": "a798498e",
   "metadata": {},
   "outputs": [],
   "source": [
    "# Add extra dim for processing purpose\n",
    "training_set = training_set.reshape(-1,1)"
   ]
  },
  {
   "cell_type": "code",
   "execution_count": 99,
   "id": "b75fcf79",
   "metadata": {},
   "outputs": [
    {
     "data": {
      "text/plain": [
       "array([[-3.63604149],\n",
       "       [-1.50829046],\n",
       "       [ 3.82223651],\n",
       "       [ 9.34372199],\n",
       "       [15.12413693]])"
      ]
     },
     "execution_count": 99,
     "metadata": {},
     "output_type": "execute_result"
    }
   ],
   "source": [
    "training_set[:5]"
   ]
  },
  {
   "cell_type": "code",
   "execution_count": 100,
   "id": "b705f2c3",
   "metadata": {},
   "outputs": [
    {
     "data": {
      "text/plain": [
       "(1365, 1)"
      ]
     },
     "execution_count": 100,
     "metadata": {},
     "output_type": "execute_result"
    }
   ],
   "source": [
    "training_set.shape"
   ]
  },
  {
   "cell_type": "code",
   "execution_count": 101,
   "id": "f51b8ef7",
   "metadata": {},
   "outputs": [
    {
     "data": {
      "text/plain": [
       "<AxesSubplot:>"
      ]
     },
     "execution_count": 101,
     "metadata": {},
     "output_type": "execute_result"
    },
    {
     "data": {
      "image/png": "[encoded data removed]",
      "text/plain": [
       "<Figure size 432x288 with 1 Axes>"
      ]
     },
     "metadata": {
      "needs_background": "light"
     },
     "output_type": "display_data"
    }
   ],
   "source": [
    "pd.Series(training_set.flat).plot()"
   ]
  },
  {
   "cell_type": "code",
   "execution_count": 102,
   "id": "41217f3b",
   "metadata": {},
   "outputs": [],
   "source": [
    "#Transform time series for having lag values and output variable"
   ]
  },
  {
   "cell_type": "code",
   "execution_count": 103,
   "id": "f171ec1a",
   "metadata": {},
   "outputs": [],
   "source": [
    "timesteps=5 # How many lag Values to train the data\n",
    "trn_size = dataset_train.shape[0]"
   ]
  },
  {
   "cell_type": "code",
   "execution_count": 104,
   "id": "e9a08d80",
   "metadata": {},
   "outputs": [],
   "source": [
    "# add lag values to train dataset\n",
    "X_train = []\n",
    "y_train = []\n",
    "for i in range(timesteps, trn_size):\n",
    "    X_train.append(training_set[i-timesteps:i, 0])\n",
    "    y_train.append(training_set[i, 0])\n",
    "X_train, y_train = np.array(X_train), np.array(y_train)\n"
   ]
  },
  {
   "cell_type": "code",
   "execution_count": 105,
   "id": "4e33aa38",
   "metadata": {},
   "outputs": [
    {
     "data": {
      "text/plain": [
       "(1360, 5)"
      ]
     },
     "execution_count": 105,
     "metadata": {},
     "output_type": "execute_result"
    }
   ],
   "source": [
    "X_train.shape"
   ]
  },
  {
   "cell_type": "code",
   "execution_count": 106,
   "id": "474d1844",
   "metadata": {},
   "outputs": [
    {
     "data": {
      "text/plain": [
       "(1360,)"
      ]
     },
     "execution_count": 106,
     "metadata": {},
     "output_type": "execute_result"
    }
   ],
   "source": [
    "y_train.shape"
   ]
  },
  {
   "cell_type": "code",
   "execution_count": 107,
   "id": "e0d712ee",
   "metadata": {},
   "outputs": [
    {
     "data": {
      "text/plain": [
       "array([[-3.63604149, -1.50829046,  3.82223651,  9.34372199, 15.12413693]])"
      ]
     },
     "execution_count": 107,
     "metadata": {},
     "output_type": "execute_result"
    }
   ],
   "source": [
    "X_train[:1]"
   ]
  },
  {
   "cell_type": "code",
   "execution_count": 108,
   "id": "173bfacf",
   "metadata": {},
   "outputs": [
    {
     "data": {
      "text/plain": [
       "array([18.51721992])"
      ]
     },
     "execution_count": 108,
     "metadata": {},
     "output_type": "execute_result"
    }
   ],
   "source": [
    "y_train[:1]"
   ]
  },
  {
   "cell_type": "code",
   "execution_count": 109,
   "id": "bc84799f",
   "metadata": {},
   "outputs": [
    {
     "data": {
      "text/html": [
       "<div>\n",
       "<style scoped>\n",
       "    .dataframe tbody tr th:only-of-type {\n",
       "        vertical-align: middle;\n",
       "    }\n",
       "\n",
       "    .dataframe tbody tr th {\n",
       "        vertical-align: top;\n",
       "    }\n",
       "\n",
       "    .dataframe thead th {\n",
       "        text-align: right;\n",
       "    }\n",
       "</style>\n",
       "<table border=\"1\" class=\"dataframe\">\n",
       "  <thead>\n",
       "    <tr style=\"text-align: right;\">\n",
       "      <th></th>\n",
       "      <th>0</th>\n",
       "      <th>1</th>\n",
       "      <th>2</th>\n",
       "      <th>3</th>\n",
       "      <th>4</th>\n",
       "    </tr>\n",
       "  </thead>\n",
       "  <tbody>\n",
       "    <tr>\n",
       "      <th>0</th>\n",
       "      <td>-3.636041</td>\n",
       "      <td>-1.508290</td>\n",
       "      <td>3.822237</td>\n",
       "      <td>9.343722</td>\n",
       "      <td>15.124137</td>\n",
       "    </tr>\n",
       "    <tr>\n",
       "      <th>1</th>\n",
       "      <td>-1.508290</td>\n",
       "      <td>3.822237</td>\n",
       "      <td>9.343722</td>\n",
       "      <td>15.124137</td>\n",
       "      <td>18.517220</td>\n",
       "    </tr>\n",
       "    <tr>\n",
       "      <th>2</th>\n",
       "      <td>3.822237</td>\n",
       "      <td>9.343722</td>\n",
       "      <td>15.124137</td>\n",
       "      <td>18.517220</td>\n",
       "      <td>20.427950</td>\n",
       "    </tr>\n",
       "    <tr>\n",
       "      <th>3</th>\n",
       "      <td>9.343722</td>\n",
       "      <td>15.124137</td>\n",
       "      <td>18.517220</td>\n",
       "      <td>20.427950</td>\n",
       "      <td>20.029033</td>\n",
       "    </tr>\n",
       "    <tr>\n",
       "      <th>4</th>\n",
       "      <td>15.124137</td>\n",
       "      <td>18.517220</td>\n",
       "      <td>20.427950</td>\n",
       "      <td>20.029033</td>\n",
       "      <td>15.698465</td>\n",
       "    </tr>\n",
       "  </tbody>\n",
       "</table>\n",
       "</div>"
      ],
      "text/plain": [
       "           0          1          2          3          4\n",
       "0  -3.636041  -1.508290   3.822237   9.343722  15.124137\n",
       "1  -1.508290   3.822237   9.343722  15.124137  18.517220\n",
       "2   3.822237   9.343722  15.124137  18.517220  20.427950\n",
       "3   9.343722  15.124137  18.517220  20.427950  20.029033\n",
       "4  15.124137  18.517220  20.427950  20.029033  15.698465"
      ]
     },
     "execution_count": 109,
     "metadata": {},
     "output_type": "execute_result"
    }
   ],
   "source": [
    "pd.DataFrame(X_train).head()"
   ]
  },
  {
   "cell_type": "markdown",
   "id": "4b0e11eb",
   "metadata": {},
   "source": [
    "## Reshape X_train to add extra dimension"
   ]
  },
  {
   "cell_type": "code",
   "execution_count": 110,
   "id": "17c837fe",
   "metadata": {},
   "outputs": [],
   "source": [
    "#It is added to be processed easily by RNN / LSTM\n",
    "#Reshaping\n",
    "X_train = np.reshape(X_train, (X_train.shape[0], X_train.shape[1], 1))"
   ]
  },
  {
   "cell_type": "code",
   "execution_count": 111,
   "id": "db9b0230",
   "metadata": {},
   "outputs": [
    {
     "data": {
      "text/plain": [
       "(1360, 5, 1)"
      ]
     },
     "execution_count": 111,
     "metadata": {},
     "output_type": "execute_result"
    }
   ],
   "source": [
    "X_train.shape"
   ]
  },
  {
   "cell_type": "code",
   "execution_count": 112,
   "id": "d77601bc",
   "metadata": {},
   "outputs": [
    {
     "data": {
      "text/plain": [
       "array([[[-3.63604149],\n",
       "        [-1.50829046],\n",
       "        [ 3.82223651],\n",
       "        [ 9.34372199],\n",
       "        [15.12413693]]])"
      ]
     },
     "execution_count": 112,
     "metadata": {},
     "output_type": "execute_result"
    }
   ],
   "source": [
    "X_train[:1]"
   ]
  },
  {
   "cell_type": "markdown",
   "id": "a205b144",
   "metadata": {},
   "source": [
    "## Building the RNN / LSTM"
   ]
  },
  {
   "cell_type": "code",
   "execution_count": 113,
   "id": "50b98d3a",
   "metadata": {},
   "outputs": [],
   "source": [
    "import tensorflow as tf\n",
    "from tensorflow import keras"
   ]
  },
  {
   "cell_type": "code",
   "execution_count": 114,
   "id": "783d4d98",
   "metadata": {},
   "outputs": [
    {
     "data": {
      "text/plain": [
       "numpy.ndarray"
      ]
     },
     "execution_count": 114,
     "metadata": {},
     "output_type": "execute_result"
    }
   ],
   "source": [
    "type(X_train)"
   ]
  },
  {
   "cell_type": "code",
   "execution_count": 115,
   "id": "4a3bb891",
   "metadata": {},
   "outputs": [
    {
     "data": {
      "text/plain": [
       "(5, 1)"
      ]
     },
     "execution_count": 115,
     "metadata": {},
     "output_type": "execute_result"
    }
   ],
   "source": [
    "(X_train.shape[1],X_train.shape[2])"
   ]
  },
  {
   "cell_type": "code",
   "execution_count": 116,
   "id": "b44a150c",
   "metadata": {},
   "outputs": [],
   "source": [
    "#create the model\n",
    "\n",
    "model_lstm = keras.Sequential()\n",
    "\n",
    "# Adding LSTM layers\n",
    "# inputlayer()\n",
    "model_lstm.add(keras.layers.LSTM(units=10,#return_sequences = True, \n",
    "                            input_shape= (X_train.shape[1],X_train.shape[2]) ))\n",
    "\n",
    "# Adding the output layer\n",
    "model_lstm.add(keras.layers.Dense(1))\n",
    "\n",
    "# Compiling the RNN\n",
    "model_lstm.compile(optimizer = 'adam', loss = 'mean_squared_error')"
   ]
  },
  {
   "cell_type": "code",
   "execution_count": 117,
   "id": "21c93179",
   "metadata": {},
   "outputs": [
    {
     "name": "stdout",
     "output_type": "stream",
     "text": [
      "Model: \"sequential\"\n",
      "_________________________________________________________________\n",
      " Layer (type)                Output Shape              Param #   \n",
      "=================================================================\n",
      " lstm (LSTM)                 (None, 10)                480       \n",
      "                                                                 \n",
      " dense (Dense)               (None, 1)                 11        \n",
      "                                                                 \n",
      "=================================================================\n",
      "Total params: 491\n",
      "Trainable params: 491\n",
      "Non-trainable params: 0\n",
      "_________________________________________________________________\n"
     ]
    }
   ],
   "source": [
    "model_lstm.summary()"
   ]
  },
  {
   "cell_type": "code",
   "execution_count": null,
   "id": "dba993eb",
   "metadata": {},
   "outputs": [],
   "source": []
  },
  {
   "cell_type": "markdown",
   "id": "258716e5",
   "metadata": {},
   "source": [
    "## Fitting the RNN to the Training set"
   ]
  },
  {
   "cell_type": "code",
   "execution_count": 118,
   "id": "07487cc8",
   "metadata": {},
   "outputs": [
    {
     "name": "stdout",
     "output_type": "stream",
     "text": [
      "Epoch 1/50\n",
      "245/245 [==============================] - 3s 5ms/step - loss: 140.8714 - val_loss: 120.4233\n",
      "Epoch 2/50\n",
      "245/245 [==============================] - 1s 3ms/step - loss: 83.0964 - val_loss: 81.9433\n",
      "Epoch 3/50\n",
      "245/245 [==============================] - 1s 3ms/step - loss: 57.2568 - val_loss: 53.0346\n",
      "Epoch 4/50\n",
      "245/245 [==============================] - 1s 3ms/step - loss: 29.2643 - val_loss: 22.7286\n",
      "Epoch 5/50\n",
      "245/245 [==============================] - 1s 3ms/step - loss: 13.4027 - val_loss: 15.0006\n",
      "Epoch 6/50\n",
      "245/245 [==============================] - 1s 3ms/step - loss: 8.7709 - val_loss: 11.6704\n",
      "Epoch 7/50\n",
      "245/245 [==============================] - 1s 3ms/step - loss: 6.0063 - val_loss: 8.3370\n",
      "Epoch 8/50\n",
      "245/245 [==============================] - 1s 3ms/step - loss: 4.1208 - val_loss: 5.9909\n",
      "Epoch 9/50\n",
      "245/245 [==============================] - 1s 3ms/step - loss: 2.8825 - val_loss: 4.4195\n",
      "Epoch 10/50\n",
      "245/245 [==============================] - 1s 3ms/step - loss: 2.1410 - val_loss: 3.7836\n",
      "Epoch 11/50\n",
      "245/245 [==============================] - 1s 3ms/step - loss: 1.6065 - val_loss: 2.7221\n",
      "Epoch 12/50\n",
      "245/245 [==============================] - 1s 3ms/step - loss: 1.2175 - val_loss: 2.8281\n",
      "Epoch 13/50\n",
      "245/245 [==============================] - 1s 3ms/step - loss: 0.9872 - val_loss: 2.0822\n",
      "Epoch 14/50\n",
      "245/245 [==============================] - 1s 3ms/step - loss: 0.8227 - val_loss: 2.1567\n",
      "Epoch 15/50\n",
      "245/245 [==============================] - 1s 3ms/step - loss: 0.7610 - val_loss: 1.6430\n",
      "Epoch 16/50\n",
      "245/245 [==============================] - 1s 3ms/step - loss: 0.6808 - val_loss: 1.6791\n",
      "Epoch 17/50\n",
      "245/245 [==============================] - 1s 3ms/step - loss: 0.6665 - val_loss: 1.4806\n",
      "Epoch 18/50\n",
      "245/245 [==============================] - 1s 3ms/step - loss: 0.6378 - val_loss: 1.5173\n",
      "Epoch 19/50\n",
      "245/245 [==============================] - 1s 3ms/step - loss: 0.6380 - val_loss: 1.5264\n",
      "Epoch 20/50\n",
      "245/245 [==============================] - 1s 3ms/step - loss: 0.6361 - val_loss: 1.0494\n",
      "Epoch 21/50\n",
      "245/245 [==============================] - 1s 3ms/step - loss: 0.6271 - val_loss: 1.2687\n",
      "Epoch 22/50\n",
      "245/245 [==============================] - 1s 3ms/step - loss: 0.6288 - val_loss: 1.3992\n",
      "Epoch 23/50\n",
      "245/245 [==============================] - 1s 3ms/step - loss: 0.6158 - val_loss: 1.4129\n",
      "Epoch 24/50\n",
      "245/245 [==============================] - 1s 3ms/step - loss: 0.6054 - val_loss: 1.6817\n",
      "Epoch 25/50\n",
      "245/245 [==============================] - 1s 3ms/step - loss: 0.6279 - val_loss: 1.1650\n",
      "Epoch 26/50\n",
      "245/245 [==============================] - 1s 3ms/step - loss: 0.6016 - val_loss: 1.5365\n",
      "Epoch 27/50\n",
      "245/245 [==============================] - 1s 3ms/step - loss: 0.5905 - val_loss: 1.2269\n",
      "Epoch 28/50\n",
      "245/245 [==============================] - 1s 3ms/step - loss: 0.5945 - val_loss: 0.9328\n",
      "Epoch 29/50\n",
      "245/245 [==============================] - 1s 3ms/step - loss: 0.5990 - val_loss: 1.3375\n",
      "Epoch 30/50\n",
      "245/245 [==============================] - 1s 3ms/step - loss: 0.5903 - val_loss: 1.4273\n",
      "Epoch 31/50\n",
      "245/245 [==============================] - 1s 3ms/step - loss: 0.5849 - val_loss: 1.3168\n",
      "Epoch 32/50\n",
      "245/245 [==============================] - 1s 3ms/step - loss: 0.5791 - val_loss: 1.1518\n",
      "Epoch 33/50\n",
      "245/245 [==============================] - 1s 3ms/step - loss: 0.5842 - val_loss: 1.3524\n",
      "Epoch 34/50\n",
      "245/245 [==============================] - 1s 3ms/step - loss: 0.5944 - val_loss: 1.0727\n",
      "Epoch 35/50\n",
      "245/245 [==============================] - 1s 3ms/step - loss: 0.5912 - val_loss: 1.0004\n",
      "Epoch 36/50\n",
      "245/245 [==============================] - 1s 3ms/step - loss: 0.5790 - val_loss: 1.3229\n",
      "Epoch 37/50\n",
      "245/245 [==============================] - 1s 3ms/step - loss: 0.5771 - val_loss: 1.3459\n",
      "Epoch 38/50\n",
      "245/245 [==============================] - 1s 3ms/step - loss: 0.5670 - val_loss: 1.3222\n",
      "Epoch 39/50\n",
      "245/245 [==============================] - 1s 3ms/step - loss: 0.5687 - val_loss: 1.4610\n",
      "Epoch 40/50\n",
      "245/245 [==============================] - 1s 3ms/step - loss: 0.5797 - val_loss: 1.7211\n",
      "Epoch 41/50\n",
      "245/245 [==============================] - 1s 3ms/step - loss: 0.5600 - val_loss: 1.2418\n",
      "Epoch 42/50\n",
      "245/245 [==============================] - 1s 3ms/step - loss: 0.5603 - val_loss: 1.1092\n",
      "Epoch 43/50\n",
      "245/245 [==============================] - 1s 3ms/step - loss: 0.5686 - val_loss: 1.2264\n",
      "Epoch 44/50\n",
      "245/245 [==============================] - 1s 3ms/step - loss: 0.5670 - val_loss: 1.1971\n",
      "Epoch 45/50\n",
      "245/245 [==============================] - 1s 3ms/step - loss: 0.5583 - val_loss: 1.3169\n",
      "Epoch 46/50\n",
      "245/245 [==============================] - 1s 3ms/step - loss: 0.5656 - val_loss: 1.5305\n",
      "Epoch 47/50\n",
      "245/245 [==============================] - 1s 3ms/step - loss: 0.5730 - val_loss: 1.3511\n",
      "Epoch 48/50\n",
      "245/245 [==============================] - 1s 3ms/step - loss: 0.5578 - val_loss: 1.2685\n",
      "Epoch 49/50\n",
      "245/245 [==============================] - 1s 3ms/step - loss: 0.5708 - val_loss: 1.2117\n",
      "Epoch 50/50\n",
      "245/245 [==============================] - 1s 3ms/step - loss: 0.5483 - val_loss: 1.7530\n"
     ]
    }
   ],
   "source": [
    "history = model_lstm.fit( X_train, y_train, validation_split=0.1,epochs = 50, batch_size = 5)"
   ]
  },
  {
   "cell_type": "code",
   "execution_count": 119,
   "id": "42594c1a",
   "metadata": {},
   "outputs": [
    {
     "data": {
      "text/plain": [
       "[<matplotlib.lines.Line2D at 0x24e0dace760>]"
      ]
     },
     "execution_count": 119,
     "metadata": {},
     "output_type": "execute_result"
    },
    {
     "data": {
      "image/png": "[encoded data removed]",
      "text/plain": [
       "<Figure size 432x288 with 1 Axes>"
      ]
     },
     "metadata": {
      "needs_background": "light"
     },
     "output_type": "display_data"
    }
   ],
   "source": [
    "import matplotlib.pyplot as plt\n",
    "plt.plot(history.history['loss'])\n",
    "plt.plot(history.history['val_loss'])"
   ]
  },
  {
   "cell_type": "markdown",
   "id": "5a5ef7a7",
   "metadata": {},
   "source": [
    "#  Tunning LSTM"
   ]
  },
  {
   "cell_type": "code",
   "execution_count": 120,
   "id": "dd5bbb9c",
   "metadata": {},
   "outputs": [],
   "source": [
    "#create the model\n",
    "\n",
    "model_lstm1 = keras.Sequential()\n",
    "\n",
    "# Adding LSTM layers\n",
    "# inputlayer()\n",
    "model_lstm1.add(keras.layers.LSTM(units=20,#return_sequences = True, \n",
    "                            input_shape= (X_train.shape[1],X_train.shape[2]) ))\n",
    "\n",
    "# Adding the output layer\n",
    "model_lstm1.add(keras.layers.Dense(1))\n",
    "\n",
    "# Compiling the RNN\n",
    "model_lstm1.compile(optimizer = 'adam', loss = 'mean_squared_error')"
   ]
  },
  {
   "cell_type": "code",
   "execution_count": 121,
   "id": "c94a5dc7",
   "metadata": {},
   "outputs": [
    {
     "name": "stdout",
     "output_type": "stream",
     "text": [
      "Model: \"sequential_1\"\n",
      "_________________________________________________________________\n",
      " Layer (type)                Output Shape              Param #   \n",
      "=================================================================\n",
      " lstm_1 (LSTM)               (None, 20)                1760      \n",
      "                                                                 \n",
      " dense_1 (Dense)             (None, 1)                 21        \n",
      "                                                                 \n",
      "=================================================================\n",
      "Total params: 1,781\n",
      "Trainable params: 1,781\n",
      "Non-trainable params: 0\n",
      "_________________________________________________________________\n"
     ]
    }
   ],
   "source": [
    "model_lstm1.summary()"
   ]
  },
  {
   "cell_type": "code",
   "execution_count": 122,
   "id": "cfb4b26a",
   "metadata": {},
   "outputs": [
    {
     "name": "stdout",
     "output_type": "stream",
     "text": [
      "Epoch 1/50\n",
      "123/123 [==============================] - 2s 7ms/step - loss: 126.4639 - val_loss: 103.1838\n",
      "Epoch 2/50\n",
      "123/123 [==============================] - 0s 4ms/step - loss: 62.2897 - val_loss: 55.2754\n",
      "Epoch 3/50\n",
      "123/123 [==============================] - 0s 3ms/step - loss: 34.7134 - val_loss: 34.9533\n",
      "Epoch 4/50\n",
      "123/123 [==============================] - 0s 3ms/step - loss: 20.0923 - val_loss: 20.3267\n",
      "Epoch 5/50\n",
      "123/123 [==============================] - 0s 3ms/step - loss: 10.5684 - val_loss: 10.4875\n",
      "Epoch 6/50\n",
      "123/123 [==============================] - 0s 3ms/step - loss: 5.6923 - val_loss: 7.0307\n",
      "Epoch 7/50\n",
      "123/123 [==============================] - 0s 3ms/step - loss: 3.6044 - val_loss: 5.1307\n",
      "Epoch 8/50\n",
      "123/123 [==============================] - 0s 3ms/step - loss: 2.4924 - val_loss: 3.9230\n",
      "Epoch 9/50\n",
      "123/123 [==============================] - 0s 3ms/step - loss: 1.7893 - val_loss: 3.3388\n",
      "Epoch 10/50\n",
      "123/123 [==============================] - 0s 3ms/step - loss: 1.3691 - val_loss: 2.3977\n",
      "Epoch 11/50\n",
      "123/123 [==============================] - 0s 3ms/step - loss: 1.1074 - val_loss: 2.2566\n",
      "Epoch 12/50\n",
      "123/123 [==============================] - 0s 3ms/step - loss: 0.9073 - val_loss: 2.2048\n",
      "Epoch 13/50\n",
      "123/123 [==============================] - 0s 3ms/step - loss: 0.7701 - val_loss: 1.5660\n",
      "Epoch 14/50\n",
      "123/123 [==============================] - 0s 3ms/step - loss: 0.7105 - val_loss: 1.5770\n",
      "Epoch 15/50\n",
      "123/123 [==============================] - 0s 3ms/step - loss: 0.6816 - val_loss: 1.4667\n",
      "Epoch 16/50\n",
      "123/123 [==============================] - 0s 3ms/step - loss: 0.6146 - val_loss: 1.3062\n",
      "Epoch 17/50\n",
      "123/123 [==============================] - 0s 3ms/step - loss: 0.6043 - val_loss: 1.3545\n",
      "Epoch 18/50\n",
      "123/123 [==============================] - 0s 3ms/step - loss: 0.6081 - val_loss: 1.3270\n",
      "Epoch 19/50\n",
      "123/123 [==============================] - 0s 3ms/step - loss: 0.5837 - val_loss: 1.1303\n",
      "Epoch 20/50\n",
      "123/123 [==============================] - 0s 3ms/step - loss: 0.5648 - val_loss: 1.3288\n",
      "Epoch 21/50\n",
      "123/123 [==============================] - 0s 3ms/step - loss: 0.5683 - val_loss: 1.1417\n",
      "Epoch 22/50\n",
      "123/123 [==============================] - 0s 3ms/step - loss: 0.5622 - val_loss: 1.0512\n",
      "Epoch 23/50\n",
      "123/123 [==============================] - 0s 3ms/step - loss: 0.5594 - val_loss: 1.2792\n",
      "Epoch 24/50\n",
      "123/123 [==============================] - 0s 3ms/step - loss: 0.5851 - val_loss: 1.2362\n",
      "Epoch 25/50\n",
      "123/123 [==============================] - 0s 3ms/step - loss: 0.5671 - val_loss: 1.3654\n",
      "Epoch 26/50\n",
      "123/123 [==============================] - 0s 3ms/step - loss: 0.5552 - val_loss: 1.1542\n",
      "Epoch 27/50\n",
      "123/123 [==============================] - 0s 3ms/step - loss: 0.5550 - val_loss: 1.0825\n",
      "Epoch 28/50\n",
      "123/123 [==============================] - 0s 3ms/step - loss: 0.5432 - val_loss: 1.3624\n",
      "Epoch 29/50\n",
      "123/123 [==============================] - 0s 3ms/step - loss: 0.5688 - val_loss: 1.0601\n",
      "Epoch 30/50\n",
      "123/123 [==============================] - 0s 3ms/step - loss: 0.5483 - val_loss: 1.1548\n",
      "Epoch 31/50\n",
      "123/123 [==============================] - 0s 3ms/step - loss: 0.5481 - val_loss: 1.1519\n",
      "Epoch 32/50\n",
      "123/123 [==============================] - 0s 3ms/step - loss: 0.5512 - val_loss: 1.3068\n",
      "Epoch 33/50\n",
      "123/123 [==============================] - 0s 3ms/step - loss: 0.5375 - val_loss: 1.1004\n",
      "Epoch 34/50\n",
      "123/123 [==============================] - 0s 3ms/step - loss: 0.5520 - val_loss: 1.3246\n",
      "Epoch 35/50\n",
      "123/123 [==============================] - 0s 3ms/step - loss: 0.5599 - val_loss: 1.1331\n",
      "Epoch 36/50\n",
      "123/123 [==============================] - 0s 3ms/step - loss: 0.5471 - val_loss: 1.0600\n",
      "Epoch 37/50\n",
      "123/123 [==============================] - 0s 3ms/step - loss: 0.5336 - val_loss: 1.4762\n",
      "Epoch 38/50\n",
      "123/123 [==============================] - 0s 3ms/step - loss: 0.5293 - val_loss: 1.0969\n",
      "Epoch 39/50\n",
      "123/123 [==============================] - 0s 3ms/step - loss: 0.5554 - val_loss: 1.1857\n",
      "Epoch 40/50\n",
      "123/123 [==============================] - 0s 3ms/step - loss: 0.5299 - val_loss: 1.4633\n",
      "Epoch 41/50\n",
      "123/123 [==============================] - 0s 3ms/step - loss: 0.5209 - val_loss: 1.0588\n",
      "Epoch 42/50\n",
      "123/123 [==============================] - 0s 3ms/step - loss: 0.5270 - val_loss: 1.2008\n",
      "Epoch 43/50\n",
      "123/123 [==============================] - 0s 3ms/step - loss: 0.5475 - val_loss: 1.0753\n",
      "Epoch 44/50\n",
      "123/123 [==============================] - 0s 3ms/step - loss: 0.5520 - val_loss: 1.4420\n",
      "Epoch 45/50\n",
      "123/123 [==============================] - 0s 3ms/step - loss: 0.5281 - val_loss: 1.0514\n",
      "Epoch 46/50\n",
      "123/123 [==============================] - 0s 3ms/step - loss: 0.5205 - val_loss: 1.0019\n",
      "Epoch 47/50\n",
      "123/123 [==============================] - 0s 3ms/step - loss: 0.5179 - val_loss: 1.2163\n",
      "Epoch 48/50\n",
      "123/123 [==============================] - 0s 3ms/step - loss: 0.5308 - val_loss: 1.0125\n",
      "Epoch 49/50\n",
      "123/123 [==============================] - 0s 3ms/step - loss: 0.5306 - val_loss: 1.1402\n",
      "Epoch 50/50\n",
      "123/123 [==============================] - 0s 3ms/step - loss: 0.5152 - val_loss: 1.0091\n"
     ]
    }
   ],
   "source": [
    "history = model_lstm1.fit( X_train, y_train, validation_split=0.1,epochs = 50, batch_size = 10)"
   ]
  },
  {
   "cell_type": "code",
   "execution_count": 123,
   "id": "c8773e96",
   "metadata": {},
   "outputs": [
    {
     "data": {
      "text/plain": [
       "[<matplotlib.lines.Line2D at 0x24e0dd0b5e0>]"
      ]
     },
     "execution_count": 123,
     "metadata": {},
     "output_type": "execute_result"
    },
    {
     "data": {
      "image/png": "[encoded data removed]",
      "text/plain": [
       "<Figure size 432x288 with 1 Axes>"
      ]
     },
     "metadata": {
      "needs_background": "light"
     },
     "output_type": "display_data"
    }
   ],
   "source": [
    "import matplotlib.pyplot as plt\n",
    "plt.plot(history.history['loss'])\n",
    "plt.plot(history.history['val_loss'])"
   ]
  },
  {
   "cell_type": "code",
   "execution_count": null,
   "id": "3cab5d61",
   "metadata": {},
   "outputs": [],
   "source": []
  },
  {
   "cell_type": "code",
   "execution_count": null,
   "id": "d5e93fae",
   "metadata": {},
   "outputs": [],
   "source": []
  }
 ],
 "metadata": {
  "kernelspec": {
   "display_name": "Python 3 (ipykernel)",
   "language": "python",
   "name": "python3"
  },
  "language_info": {
   "codemirror_mode": {
    "name": "ipython",
    "version": 3
   },
   "file_extension": ".py",
   "mimetype": "text/x-python",
   "name": "python",
   "nbconvert_exporter": "python",
   "pygments_lexer": "ipython3",
   "version": "3.9.7"
  }
 },
 "nbformat": 4,
 "nbformat_minor": 5
}
