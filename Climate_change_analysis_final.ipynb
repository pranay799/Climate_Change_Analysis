{
 "cells": [
  {
   "cell_type": "markdown",
   "id": "702db94c",
   "metadata": {},
   "source": [
    "# Climate Change Analysis"
   ]
  },
  {
   "cell_type": "code",
   "execution_count": 1,
   "id": "efdeba6b",
   "metadata": {},
   "outputs": [],
   "source": [
    "#import required libraries & Modules\n",
    "import pandas as pd\n",
    "from datetime import datetime,timedelta\n",
    "import matplotlib.pyplot as plt\n",
    "import numpy as np\n",
    "from statsmodels.tsa.seasonal import seasonal_decompose\n",
    "import seaborn as sns\n",
    "%matplotlib inline\n",
    "import warnings\n",
    "warnings.filterwarnings('ignore')"
   ]
  },
  {
   "cell_type": "code",
   "execution_count": 2,
   "id": "f49c7b9c",
   "metadata": {},
   "outputs": [
    {
     "data": {
      "text/html": [
       "<div>\n",
       "<style scoped>\n",
       "    .dataframe tbody tr th:only-of-type {\n",
       "        vertical-align: middle;\n",
       "    }\n",
       "\n",
       "    .dataframe tbody tr th {\n",
       "        vertical-align: top;\n",
       "    }\n",
       "\n",
       "    .dataframe thead th {\n",
       "        text-align: right;\n",
       "    }\n",
       "</style>\n",
       "<table border=\"1\" class=\"dataframe\">\n",
       "  <thead>\n",
       "    <tr style=\"text-align: right;\">\n",
       "      <th></th>\n",
       "      <th>dt</th>\n",
       "      <th>AverageTemperature</th>\n",
       "      <th>AverageTemperatureUncertainty</th>\n",
       "      <th>State</th>\n",
       "      <th>Country</th>\n",
       "    </tr>\n",
       "  </thead>\n",
       "  <tbody>\n",
       "    <tr>\n",
       "      <th>0</th>\n",
       "      <td>1855-05-01</td>\n",
       "      <td>25.544</td>\n",
       "      <td>1.171</td>\n",
       "      <td>Acre</td>\n",
       "      <td>Brazil</td>\n",
       "    </tr>\n",
       "    <tr>\n",
       "      <th>1</th>\n",
       "      <td>1855-06-01</td>\n",
       "      <td>24.228</td>\n",
       "      <td>1.103</td>\n",
       "      <td>Acre</td>\n",
       "      <td>Brazil</td>\n",
       "    </tr>\n",
       "    <tr>\n",
       "      <th>2</th>\n",
       "      <td>1855-07-01</td>\n",
       "      <td>24.371</td>\n",
       "      <td>1.044</td>\n",
       "      <td>Acre</td>\n",
       "      <td>Brazil</td>\n",
       "    </tr>\n",
       "    <tr>\n",
       "      <th>3</th>\n",
       "      <td>1855-08-01</td>\n",
       "      <td>25.427</td>\n",
       "      <td>1.073</td>\n",
       "      <td>Acre</td>\n",
       "      <td>Brazil</td>\n",
       "    </tr>\n",
       "    <tr>\n",
       "      <th>4</th>\n",
       "      <td>1855-09-01</td>\n",
       "      <td>25.675</td>\n",
       "      <td>1.014</td>\n",
       "      <td>Acre</td>\n",
       "      <td>Brazil</td>\n",
       "    </tr>\n",
       "  </tbody>\n",
       "</table>\n",
       "</div>"
      ],
      "text/plain": [
       "           dt  AverageTemperature  AverageTemperatureUncertainty State Country\n",
       "0  1855-05-01              25.544                          1.171  Acre  Brazil\n",
       "1  1855-06-01              24.228                          1.103  Acre  Brazil\n",
       "2  1855-07-01              24.371                          1.044  Acre  Brazil\n",
       "3  1855-08-01              25.427                          1.073  Acre  Brazil\n",
       "4  1855-09-01              25.675                          1.014  Acre  Brazil"
      ]
     },
     "execution_count": 2,
     "metadata": {},
     "output_type": "execute_result"
    }
   ],
   "source": [
    "#import dataset\n",
    "df=pd.read_csv('GlobalLandTemperaturesByState.csv')\n",
    "df.head()\n"
   ]
  },
  {
   "cell_type": "code",
   "execution_count": 3,
   "id": "effcd433",
   "metadata": {},
   "outputs": [
    {
     "name": "stdout",
     "output_type": "stream",
     "text": [
      "dt                                object\n",
      "AverageTemperature               float64\n",
      "AverageTemperatureUncertainty    float64\n",
      "State                             object\n",
      "Country                           object\n",
      "dtype: object\n",
      "Shape of data :  (645675, 5)\n"
     ]
    }
   ],
   "source": [
    "print(df.dtypes)\n",
    "print(\"Shape of data : \",df.shape)"
   ]
  },
  {
   "cell_type": "code",
   "execution_count": 4,
   "id": "2c8a31c7",
   "metadata": {
    "scrolled": true
   },
   "outputs": [
    {
     "data": {
      "text/plain": [
       "dt                                   0\n",
       "AverageTemperature               25648\n",
       "AverageTemperatureUncertainty    25648\n",
       "State                                0\n",
       "Country                              0\n",
       "dtype: int64"
      ]
     },
     "execution_count": 4,
     "metadata": {},
     "output_type": "execute_result"
    }
   ],
   "source": [
    "#Find the missing value  \n",
    "df.isnull().sum()"
   ]
  },
  {
   "cell_type": "markdown",
   "id": "32329825",
   "metadata": {},
   "source": [
    "## fill misssing value with Rolling average"
   ]
  },
  {
   "cell_type": "code",
   "execution_count": 5,
   "id": "febd0af2",
   "metadata": {},
   "outputs": [],
   "source": [
    "\n",
    "df['new_avg']= df.AverageTemperature.fillna(df.AverageTemperature.rolling(12,center=True,min_periods=1).mean())"
   ]
  },
  {
   "cell_type": "code",
   "execution_count": 6,
   "id": "fd74e653",
   "metadata": {},
   "outputs": [
    {
     "data": {
      "text/html": [
       "<div>\n",
       "<style scoped>\n",
       "    .dataframe tbody tr th:only-of-type {\n",
       "        vertical-align: middle;\n",
       "    }\n",
       "\n",
       "    .dataframe tbody tr th {\n",
       "        vertical-align: top;\n",
       "    }\n",
       "\n",
       "    .dataframe thead th {\n",
       "        text-align: right;\n",
       "    }\n",
       "</style>\n",
       "<table border=\"1\" class=\"dataframe\">\n",
       "  <thead>\n",
       "    <tr style=\"text-align: right;\">\n",
       "      <th></th>\n",
       "      <th>dt</th>\n",
       "      <th>AverageTemperature</th>\n",
       "      <th>AverageTemperatureUncertainty</th>\n",
       "      <th>State</th>\n",
       "      <th>Country</th>\n",
       "      <th>new_avg</th>\n",
       "    </tr>\n",
       "  </thead>\n",
       "  <tbody>\n",
       "    <tr>\n",
       "      <th>0</th>\n",
       "      <td>1855-05-01</td>\n",
       "      <td>25.544</td>\n",
       "      <td>1.171</td>\n",
       "      <td>Acre</td>\n",
       "      <td>Brazil</td>\n",
       "      <td>25.544</td>\n",
       "    </tr>\n",
       "    <tr>\n",
       "      <th>1</th>\n",
       "      <td>1855-06-01</td>\n",
       "      <td>24.228</td>\n",
       "      <td>1.103</td>\n",
       "      <td>Acre</td>\n",
       "      <td>Brazil</td>\n",
       "      <td>24.228</td>\n",
       "    </tr>\n",
       "    <tr>\n",
       "      <th>2</th>\n",
       "      <td>1855-07-01</td>\n",
       "      <td>24.371</td>\n",
       "      <td>1.044</td>\n",
       "      <td>Acre</td>\n",
       "      <td>Brazil</td>\n",
       "      <td>24.371</td>\n",
       "    </tr>\n",
       "    <tr>\n",
       "      <th>3</th>\n",
       "      <td>1855-08-01</td>\n",
       "      <td>25.427</td>\n",
       "      <td>1.073</td>\n",
       "      <td>Acre</td>\n",
       "      <td>Brazil</td>\n",
       "      <td>25.427</td>\n",
       "    </tr>\n",
       "    <tr>\n",
       "      <th>4</th>\n",
       "      <td>1855-09-01</td>\n",
       "      <td>25.675</td>\n",
       "      <td>1.014</td>\n",
       "      <td>Acre</td>\n",
       "      <td>Brazil</td>\n",
       "      <td>25.675</td>\n",
       "    </tr>\n",
       "  </tbody>\n",
       "</table>\n",
       "</div>"
      ],
      "text/plain": [
       "           dt  AverageTemperature  AverageTemperatureUncertainty State  \\\n",
       "0  1855-05-01              25.544                          1.171  Acre   \n",
       "1  1855-06-01              24.228                          1.103  Acre   \n",
       "2  1855-07-01              24.371                          1.044  Acre   \n",
       "3  1855-08-01              25.427                          1.073  Acre   \n",
       "4  1855-09-01              25.675                          1.014  Acre   \n",
       "\n",
       "  Country  new_avg  \n",
       "0  Brazil   25.544  \n",
       "1  Brazil   24.228  \n",
       "2  Brazil   24.371  \n",
       "3  Brazil   25.427  \n",
       "4  Brazil   25.675  "
      ]
     },
     "execution_count": 6,
     "metadata": {},
     "output_type": "execute_result"
    }
   ],
   "source": [
    "df.head()"
   ]
  },
  {
   "cell_type": "code",
   "execution_count": 7,
   "id": "f6ab4d07",
   "metadata": {},
   "outputs": [
    {
     "data": {
      "text/plain": [
       "dt                                   0\n",
       "AverageTemperature               25648\n",
       "AverageTemperatureUncertainty    25648\n",
       "State                                0\n",
       "Country                              0\n",
       "new_avg                          17795\n",
       "dtype: int64"
      ]
     },
     "execution_count": 7,
     "metadata": {},
     "output_type": "execute_result"
    }
   ],
   "source": [
    "df.isnull().sum()"
   ]
  },
  {
   "cell_type": "code",
   "execution_count": 8,
   "id": "eb89bbc6",
   "metadata": {},
   "outputs": [],
   "source": [
    "#Rename the columns\n",
    "df.rename(columns={'dt':'Date','new_avg':'Avg_Temp'},inplace=True)"
   ]
  },
  {
   "cell_type": "code",
   "execution_count": 9,
   "id": "b2208b17",
   "metadata": {},
   "outputs": [
    {
     "data": {
      "text/plain": [
       "(7, 241)"
      ]
     },
     "execution_count": 9,
     "metadata": {},
     "output_type": "execute_result"
    }
   ],
   "source": [
    "#No of Country and state\n",
    "df['Country'].nunique() , df['State'].nunique()"
   ]
  },
  {
   "cell_type": "code",
   "execution_count": 10,
   "id": "4683e047",
   "metadata": {},
   "outputs": [
    {
     "data": {
      "text/plain": [
       "DatetimeIndex(['1855-05-01', '1855-06-01', '1855-07-01', '1855-08-01',\n",
       "               '1855-09-01', '1855-10-01', '1855-11-01', '1855-12-01',\n",
       "               '1856-01-01', '1856-02-01',\n",
       "               ...\n",
       "               '2012-12-01', '2013-01-01', '2013-02-01', '2013-03-01',\n",
       "               '2013-04-01', '2013-05-01', '2013-06-01', '2013-07-01',\n",
       "               '2013-08-01', '2013-09-01'],\n",
       "              dtype='datetime64[ns]', name='Date', length=645675, freq=None)"
      ]
     },
     "execution_count": 10,
     "metadata": {},
     "output_type": "execute_result"
    }
   ],
   "source": [
    "#make Date column  index\n",
    "df['Date']=pd.to_datetime(df['Date'])\n",
    "df.set_index('Date',inplace=True)\n",
    "df.index"
   ]
  },
  {
   "cell_type": "code",
   "execution_count": 11,
   "id": "4df02cc3",
   "metadata": {},
   "outputs": [
    {
     "data": {
      "text/plain": [
       "(Timestamp('1743-11-01 00:00:00'), Timestamp('2013-09-01 00:00:00'))"
      ]
     },
     "execution_count": 11,
     "metadata": {},
     "output_type": "execute_result"
    }
   ],
   "source": [
    "df.index.min(),df.index.max()"
   ]
  },
  {
   "cell_type": "markdown",
   "id": "80e9be59",
   "metadata": {},
   "source": [
    "# take data between 1900 to 2013 for analysis"
   ]
  },
  {
   "cell_type": "code",
   "execution_count": 12,
   "id": "43da5edb",
   "metadata": {},
   "outputs": [
    {
     "data": {
      "text/html": [
       "<div>\n",
       "<style scoped>\n",
       "    .dataframe tbody tr th:only-of-type {\n",
       "        vertical-align: middle;\n",
       "    }\n",
       "\n",
       "    .dataframe tbody tr th {\n",
       "        vertical-align: top;\n",
       "    }\n",
       "\n",
       "    .dataframe thead th {\n",
       "        text-align: right;\n",
       "    }\n",
       "</style>\n",
       "<table border=\"1\" class=\"dataframe\">\n",
       "  <thead>\n",
       "    <tr style=\"text-align: right;\">\n",
       "      <th></th>\n",
       "      <th>AverageTemperature</th>\n",
       "      <th>AverageTemperatureUncertainty</th>\n",
       "      <th>State</th>\n",
       "      <th>Country</th>\n",
       "      <th>Avg_Temp</th>\n",
       "    </tr>\n",
       "    <tr>\n",
       "      <th>Date</th>\n",
       "      <th></th>\n",
       "      <th></th>\n",
       "      <th></th>\n",
       "      <th></th>\n",
       "      <th></th>\n",
       "    </tr>\n",
       "  </thead>\n",
       "  <tbody>\n",
       "    <tr>\n",
       "      <th>1900-01-01</th>\n",
       "      <td>25.732</td>\n",
       "      <td>1.080</td>\n",
       "      <td>Acre</td>\n",
       "      <td>Brazil</td>\n",
       "      <td>25.732</td>\n",
       "    </tr>\n",
       "    <tr>\n",
       "      <th>1900-02-01</th>\n",
       "      <td>26.050</td>\n",
       "      <td>1.080</td>\n",
       "      <td>Acre</td>\n",
       "      <td>Brazil</td>\n",
       "      <td>26.050</td>\n",
       "    </tr>\n",
       "    <tr>\n",
       "      <th>1900-03-01</th>\n",
       "      <td>26.574</td>\n",
       "      <td>0.894</td>\n",
       "      <td>Acre</td>\n",
       "      <td>Brazil</td>\n",
       "      <td>26.574</td>\n",
       "    </tr>\n",
       "    <tr>\n",
       "      <th>1900-04-01</th>\n",
       "      <td>25.947</td>\n",
       "      <td>1.192</td>\n",
       "      <td>Acre</td>\n",
       "      <td>Brazil</td>\n",
       "      <td>25.947</td>\n",
       "    </tr>\n",
       "    <tr>\n",
       "      <th>1900-05-01</th>\n",
       "      <td>25.557</td>\n",
       "      <td>0.856</td>\n",
       "      <td>Acre</td>\n",
       "      <td>Brazil</td>\n",
       "      <td>25.557</td>\n",
       "    </tr>\n",
       "  </tbody>\n",
       "</table>\n",
       "</div>"
      ],
      "text/plain": [
       "            AverageTemperature  AverageTemperatureUncertainty State Country  \\\n",
       "Date                                                                          \n",
       "1900-01-01              25.732                          1.080  Acre  Brazil   \n",
       "1900-02-01              26.050                          1.080  Acre  Brazil   \n",
       "1900-03-01              26.574                          0.894  Acre  Brazil   \n",
       "1900-04-01              25.947                          1.192  Acre  Brazil   \n",
       "1900-05-01              25.557                          0.856  Acre  Brazil   \n",
       "\n",
       "            Avg_Temp  \n",
       "Date                  \n",
       "1900-01-01    25.732  \n",
       "1900-02-01    26.050  \n",
       "1900-03-01    26.574  \n",
       "1900-04-01    25.947  \n",
       "1900-05-01    25.557  "
      ]
     },
     "execution_count": 12,
     "metadata": {},
     "output_type": "execute_result"
    }
   ],
   "source": [
    "\n",
    "latest_df=df.loc['1900':'2013']\n",
    "latest_df.head()"
   ]
  },
  {
   "cell_type": "code",
   "execution_count": 13,
   "id": "5cdffd6a",
   "metadata": {},
   "outputs": [
    {
     "data": {
      "text/plain": [
       "AverageTemperature               181\n",
       "AverageTemperatureUncertainty    181\n",
       "State                              0\n",
       "Country                            0\n",
       "Avg_Temp                           0\n",
       "dtype: int64"
      ]
     },
     "execution_count": 13,
     "metadata": {},
     "output_type": "execute_result"
    }
   ],
   "source": [
    "latest_df.isnull().sum()"
   ]
  },
  {
   "cell_type": "code",
   "execution_count": 14,
   "id": "3bade4da",
   "metadata": {},
   "outputs": [
    {
     "data": {
      "text/plain": [
       "(328965, 5)"
      ]
     },
     "execution_count": 14,
     "metadata": {},
     "output_type": "execute_result"
    }
   ],
   "source": [
    "latest_df.shape"
   ]
  },
  {
   "cell_type": "code",
   "execution_count": 15,
   "id": "5a16a1c3",
   "metadata": {},
   "outputs": [
    {
     "data": {
      "text/plain": [
       "count    328965.000000\n",
       "mean          9.769515\n",
       "std          13.928462\n",
       "min         -45.389000\n",
       "25%           0.407000\n",
       "50%          12.196000\n",
       "75%          20.915000\n",
       "max          36.339000\n",
       "Name: Avg_Temp, dtype: float64"
      ]
     },
     "execution_count": 15,
     "metadata": {},
     "output_type": "execute_result"
    }
   ],
   "source": [
    "latest_df['Avg_Temp'].describe()"
   ]
  },
  {
   "cell_type": "code",
   "execution_count": 16,
   "id": "446005f9",
   "metadata": {},
   "outputs": [
    {
     "data": {
      "text/html": [
       "<div>\n",
       "<style scoped>\n",
       "    .dataframe tbody tr th:only-of-type {\n",
       "        vertical-align: middle;\n",
       "    }\n",
       "\n",
       "    .dataframe tbody tr th {\n",
       "        vertical-align: top;\n",
       "    }\n",
       "\n",
       "    .dataframe thead th {\n",
       "        text-align: right;\n",
       "    }\n",
       "</style>\n",
       "<table border=\"1\" class=\"dataframe\">\n",
       "  <thead>\n",
       "    <tr style=\"text-align: right;\">\n",
       "      <th></th>\n",
       "      <th>Avg_Temp</th>\n",
       "    </tr>\n",
       "    <tr>\n",
       "      <th>Date</th>\n",
       "      <th></th>\n",
       "    </tr>\n",
       "  </thead>\n",
       "  <tbody>\n",
       "    <tr>\n",
       "      <th>1900-12-31</th>\n",
       "      <td>9.413617</td>\n",
       "    </tr>\n",
       "    <tr>\n",
       "      <th>1901-12-31</th>\n",
       "      <td>9.538776</td>\n",
       "    </tr>\n",
       "    <tr>\n",
       "      <th>1902-12-31</th>\n",
       "      <td>9.076432</td>\n",
       "    </tr>\n",
       "    <tr>\n",
       "      <th>1903-12-31</th>\n",
       "      <td>9.414545</td>\n",
       "    </tr>\n",
       "    <tr>\n",
       "      <th>1904-12-31</th>\n",
       "      <td>9.039092</td>\n",
       "    </tr>\n",
       "  </tbody>\n",
       "</table>\n",
       "</div>"
      ],
      "text/plain": [
       "            Avg_Temp\n",
       "Date                \n",
       "1900-12-31  9.413617\n",
       "1901-12-31  9.538776\n",
       "1902-12-31  9.076432\n",
       "1903-12-31  9.414545\n",
       "1904-12-31  9.039092"
      ]
     },
     "execution_count": 16,
     "metadata": {},
     "output_type": "execute_result"
    }
   ],
   "source": [
    "#Resample\n",
    "resample_df=latest_df[['Avg_Temp']].resample('A').mean()\n",
    "resample_df.head()"
   ]
  },
  {
   "cell_type": "code",
   "execution_count": 17,
   "id": "ab1b0363",
   "metadata": {},
   "outputs": [
    {
     "data": {
      "text/plain": [
       "(Timestamp('1900-12-31 00:00:00', freq='A-DEC'),\n",
       " Timestamp('2013-12-31 00:00:00', freq='A-DEC'))"
      ]
     },
     "execution_count": 17,
     "metadata": {},
     "output_type": "execute_result"
    }
   ],
   "source": [
    "resample_df.index.min(),resample_df.index.max()\n"
   ]
  },
  {
   "cell_type": "code",
   "execution_count": 18,
   "id": "b3b8b3aa",
   "metadata": {},
   "outputs": [
    {
     "data": {
      "text/plain": [
       "(114, 1)"
      ]
     },
     "execution_count": 18,
     "metadata": {},
     "output_type": "execute_result"
    }
   ],
   "source": [
    "resample_df.shape"
   ]
  },
  {
   "cell_type": "code",
   "execution_count": 19,
   "id": "99c7931b",
   "metadata": {},
   "outputs": [
    {
     "data": {
      "text/html": [
       "<div>\n",
       "<style scoped>\n",
       "    .dataframe tbody tr th:only-of-type {\n",
       "        vertical-align: middle;\n",
       "    }\n",
       "\n",
       "    .dataframe tbody tr th {\n",
       "        vertical-align: top;\n",
       "    }\n",
       "\n",
       "    .dataframe thead th {\n",
       "        text-align: right;\n",
       "    }\n",
       "</style>\n",
       "<table border=\"1\" class=\"dataframe\">\n",
       "  <thead>\n",
       "    <tr style=\"text-align: right;\">\n",
       "      <th></th>\n",
       "      <th>Avg_Temp</th>\n",
       "    </tr>\n",
       "  </thead>\n",
       "  <tbody>\n",
       "    <tr>\n",
       "      <th>count</th>\n",
       "      <td>114.000000</td>\n",
       "    </tr>\n",
       "    <tr>\n",
       "      <th>mean</th>\n",
       "      <td>9.774065</td>\n",
       "    </tr>\n",
       "    <tr>\n",
       "      <th>std</th>\n",
       "      <td>0.522439</td>\n",
       "    </tr>\n",
       "    <tr>\n",
       "      <th>min</th>\n",
       "      <td>8.827680</td>\n",
       "    </tr>\n",
       "    <tr>\n",
       "      <th>25%</th>\n",
       "      <td>9.413849</td>\n",
       "    </tr>\n",
       "    <tr>\n",
       "      <th>50%</th>\n",
       "      <td>9.695117</td>\n",
       "    </tr>\n",
       "    <tr>\n",
       "      <th>75%</th>\n",
       "      <td>10.003594</td>\n",
       "    </tr>\n",
       "    <tr>\n",
       "      <th>max</th>\n",
       "      <td>11.844211</td>\n",
       "    </tr>\n",
       "  </tbody>\n",
       "</table>\n",
       "</div>"
      ],
      "text/plain": [
       "         Avg_Temp\n",
       "count  114.000000\n",
       "mean     9.774065\n",
       "std      0.522439\n",
       "min      8.827680\n",
       "25%      9.413849\n",
       "50%      9.695117\n",
       "75%     10.003594\n",
       "max     11.844211"
      ]
     },
     "execution_count": 19,
     "metadata": {},
     "output_type": "execute_result"
    }
   ],
   "source": [
    "resample_df.describe()"
   ]
  },
  {
   "cell_type": "code",
   "execution_count": 20,
   "id": "738a844f",
   "metadata": {},
   "outputs": [
    {
     "data": {
      "text/plain": [
       "<matplotlib.legend.Legend at 0x1fcec4797f0>"
      ]
     },
     "execution_count": 20,
     "metadata": {},
     "output_type": "execute_result"
    },
    {
     "data": {
      "image/png": "[encoded data removed]",
      "text/plain": [
       "<Figure size 576x360 with 1 Axes>"
      ]
     },
     "metadata": {
      "needs_background": "light"
     },
     "output_type": "display_data"
    }
   ],
   "source": [
    "#Plot \n",
    "resample_df.plot(title='Temperature Change from 1900-2013',figsize=(8,5))\n",
    "plt.ylabel('Temperature',fontsize=12)\n",
    "plt.xlabel('Year',fontsize=12)\n",
    "plt.legend()"
   ]
  },
  {
   "cell_type": "markdown",
   "id": "ce1807cd",
   "metadata": {},
   "source": [
    "## Check for statinarity of time series using DICKEY FULLER TEST"
   ]
  },
  {
   "cell_type": "code",
   "execution_count": 21,
   "id": "ca6e26dd",
   "metadata": {},
   "outputs": [
    {
     "name": "stdout",
     "output_type": "stream",
     "text": [
      "Dickey Fuller Test Result: \n",
      "Test Statistic                   1.503401\n",
      "p-value                          0.997537\n",
      "Lags Used                        8.000000\n",
      "Number of Observations Used    105.000000\n",
      "Critical Value (1%)             -3.494220\n",
      "Critical Value (5%)             -2.889485\n",
      "Critical Value (10%)            -2.581676\n",
      "dtype: float64\n"
     ]
    }
   ],
   "source": [
    "from statsmodels.tsa.stattools import adfuller\n",
    "print('Dickey Fuller Test Result: ')\n",
    "test_df=adfuller(resample_df.iloc[:,0].values,autolag='AIC')\n",
    "df_output=pd.Series(test_df[0:4],index=['Test Statistic','p-value','Lags Used','Number of Observations Used'])\n",
    "for key,value in test_df[4].items():\n",
    "    df_output['Critical Value (%s)'%key] = value\n",
    "print(df_output)"
   ]
  },
  {
   "cell_type": "markdown",
   "id": "defc2f71",
   "metadata": {},
   "source": [
    "p-value > 0.05 accept null hypothesis (non-stationary)"
   ]
  },
  {
   "cell_type": "markdown",
   "id": "3ed95251",
   "metadata": {},
   "source": [
    "## Check for Additive or Multiplicative type of time series"
   ]
  },
  {
   "cell_type": "code",
   "execution_count": 22,
   "id": "0bbb08eb",
   "metadata": {},
   "outputs": [
    {
     "data": {
      "image/png": "[encoded data removed]",
      "text/plain": [
       "<Figure size 360x360 with 4 Axes>"
      ]
     },
     "metadata": {
      "needs_background": "light"
     },
     "output_type": "display_data"
    },
    {
     "data": {
      "image/png": "[encoded data removed]",
      "text/plain": [
       "<Figure size 360x360 with 4 Axes>"
      ]
     },
     "metadata": {
      "needs_background": "light"
     },
     "output_type": "display_data"
    }
   ],
   "source": [
    "from statsmodels.tsa.seasonal import seasonal_decompose\n",
    "from dateutil.parser import parse\n",
    "import matplotlib.pyplot as plt\n",
    "\n",
    "# Multiplicative Decomposition \n",
    "result_mul = seasonal_decompose(resample_df, model='multiplicative', freq=3)\n",
    "\n",
    "# Additive Decomposition\n",
    "result_add = seasonal_decompose(resample_df, model='additive', freq=3)\n",
    "\n",
    "# Plot\n",
    "plt.rcParams.update({'figure.figsize': (5,5)})\n",
    "result_mul.plot().suptitle('Multiplicative Decompose', fontsize=22)\n",
    "result_add.plot().suptitle('Additive Decompose', fontsize=22)\n",
    "plt.show()"
   ]
  },
  {
   "cell_type": "code",
   "execution_count": 23,
   "id": "b607d30e",
   "metadata": {},
   "outputs": [],
   "source": [
    "decomp_add= seasonal_decompose(resample_df, model='additive',freq=3)\n",
    "\n",
    "trend_add=decomp_add.trend\n",
    "seasonal_add=decomp_add.seasonal\n",
    "residual_add=decomp_add.resid\n",
    "\n"
   ]
  },
  {
   "cell_type": "code",
   "execution_count": 24,
   "id": "f7c5bbb5",
   "metadata": {},
   "outputs": [
    {
     "data": {
      "image/png": "[encoded data removed]",
      "text/plain": [
       "<Figure size 360x360 with 1 Axes>"
      ]
     },
     "metadata": {
      "needs_background": "light"
     },
     "output_type": "display_data"
    },
    {
     "data": {
      "image/png": "[encoded data removed]",
      "text/plain": [
       "<Figure size 432x360 with 1 Axes>"
      ]
     },
     "metadata": {
      "needs_background": "light"
     },
     "output_type": "display_data"
    },
    {
     "data": {
      "image/png": "[encoded data removed]",
      "text/plain": [
       "<Figure size 432x360 with 1 Axes>"
      ]
     },
     "metadata": {
      "needs_background": "light"
     },
     "output_type": "display_data"
    },
    {
     "data": {
      "image/png": "[encoded data removed]",
      "text/plain": [
       "<Figure size 432x360 with 1 Axes>"
      ]
     },
     "metadata": {
      "needs_background": "light"
     },
     "output_type": "display_data"
    },
    {
     "data": {
      "text/plain": [
       "<Figure size 432x360 with 0 Axes>"
      ]
     },
     "metadata": {},
     "output_type": "display_data"
    }
   ],
   "source": [
    "#for additive\n",
    "\n",
    "plt.subplot(411)\n",
    "plt.plot(resample_df)\n",
    "plt.xlabel('Orignal')\n",
    "plt.figure(figsize=(6,5))\n",
    "\n",
    "plt.subplot(412)\n",
    "plt.plot(trend_add)\n",
    "plt.xlabel('Trend')\n",
    "plt.figure(figsize=(6,5))\n",
    "\n",
    "plt.subplot(413)\n",
    "plt.plot(seasonal_add)\n",
    "plt.xlabel('Seasonal')\n",
    "plt.figure(figsize=(6,5))\n",
    "\n",
    "plt.subplot(414)\n",
    "plt.plot(residual_add)\n",
    "plt.xlabel('Residual')\n",
    "plt.figure(figsize=(6,5))\n",
    "\n",
    "plt.tight_layout()\n",
    "\n"
   ]
  },
  {
   "cell_type": "markdown",
   "id": "9c6acb70",
   "metadata": {},
   "source": [
    "## Calculate Rolling mean, Exponentially Weighted Mean"
   ]
  },
  {
   "cell_type": "code",
   "execution_count": 25,
   "id": "749f22f7",
   "metadata": {},
   "outputs": [
    {
     "data": {
      "image/png": "[encoded data removed]",
      "text/plain": [
       "<Figure size 576x360 with 1 Axes>"
      ]
     },
     "metadata": {
      "needs_background": "light"
     },
     "output_type": "display_data"
    }
   ],
   "source": [
    "#Rolling mean\n",
    "rol_mean = resample_df.rolling(window=3,center=True).mean()\n",
    "#Exponentially Weighted Mean\n",
    "ewm = resample_df.ewm(span=3).mean()\n",
    "\n",
    "fig,(ax1) = plt.subplots(1,figsize = (8,5))\n",
    "\n",
    "ax1.plot(resample_df,label='Original')\n",
    "ax1.plot(rol_mean,label='Rolling Mean')\n",
    "ax1.plot(ewm,label='Exponentially Weighted Mean')\n",
    "\n",
    "ax1.set_title('Temperature Changes from 1900-2013', fontsize=14)\n",
    "ax1.set_ylabel('Temperature',fontsize=12)\n",
    "ax1.set_xlabel('Year',fontsize=12)\n",
    "ax1.legend()\n",
    "\n",
    "plt.tight_layout()\n",
    "plt.show()"
   ]
  },
  {
   "cell_type": "markdown",
   "id": "87cdfb16",
   "metadata": {},
   "source": [
    "## Make Time series Stationary"
   ]
  },
  {
   "cell_type": "code",
   "execution_count": 26,
   "id": "799185b7",
   "metadata": {},
   "outputs": [
    {
     "data": {
      "text/html": [
       "<div>\n",
       "<style scoped>\n",
       "    .dataframe tbody tr th:only-of-type {\n",
       "        vertical-align: middle;\n",
       "    }\n",
       "\n",
       "    .dataframe tbody tr th {\n",
       "        vertical-align: top;\n",
       "    }\n",
       "\n",
       "    .dataframe thead th {\n",
       "        text-align: right;\n",
       "    }\n",
       "</style>\n",
       "<table border=\"1\" class=\"dataframe\">\n",
       "  <thead>\n",
       "    <tr style=\"text-align: right;\">\n",
       "      <th></th>\n",
       "      <th>Avg_Temp</th>\n",
       "    </tr>\n",
       "    <tr>\n",
       "      <th>Date</th>\n",
       "      <th></th>\n",
       "    </tr>\n",
       "  </thead>\n",
       "  <tbody>\n",
       "    <tr>\n",
       "      <th>1901-12-31</th>\n",
       "      <td>0.195835</td>\n",
       "    </tr>\n",
       "    <tr>\n",
       "      <th>1902-12-31</th>\n",
       "      <td>-0.266819</td>\n",
       "    </tr>\n",
       "    <tr>\n",
       "      <th>1903-12-31</th>\n",
       "      <td>0.237856</td>\n",
       "    </tr>\n",
       "    <tr>\n",
       "      <th>1904-12-31</th>\n",
       "      <td>-0.203583</td>\n",
       "    </tr>\n",
       "    <tr>\n",
       "      <th>1905-12-31</th>\n",
       "      <td>-0.034174</td>\n",
       "    </tr>\n",
       "  </tbody>\n",
       "</table>\n",
       "</div>"
      ],
      "text/plain": [
       "            Avg_Temp\n",
       "Date                \n",
       "1901-12-31  0.195835\n",
       "1902-12-31 -0.266819\n",
       "1903-12-31  0.237856\n",
       "1904-12-31 -0.203583\n",
       "1905-12-31 -0.034174"
      ]
     },
     "execution_count": 26,
     "metadata": {},
     "output_type": "execute_result"
    }
   ],
   "source": [
    "diff_rol_mean= resample_df - rol_mean\n",
    "diff_rol_mean.dropna(inplace=True)\n",
    "diff_rol_mean.head()"
   ]
  },
  {
   "cell_type": "code",
   "execution_count": 27,
   "id": "58c06e7d",
   "metadata": {},
   "outputs": [
    {
     "data": {
      "text/html": [
       "<div>\n",
       "<style scoped>\n",
       "    .dataframe tbody tr th:only-of-type {\n",
       "        vertical-align: middle;\n",
       "    }\n",
       "\n",
       "    .dataframe tbody tr th {\n",
       "        vertical-align: top;\n",
       "    }\n",
       "\n",
       "    .dataframe thead th {\n",
       "        text-align: right;\n",
       "    }\n",
       "</style>\n",
       "<table border=\"1\" class=\"dataframe\">\n",
       "  <thead>\n",
       "    <tr style=\"text-align: right;\">\n",
       "      <th></th>\n",
       "      <th>Avg_Temp</th>\n",
       "    </tr>\n",
       "    <tr>\n",
       "      <th>Date</th>\n",
       "      <th></th>\n",
       "    </tr>\n",
       "  </thead>\n",
       "  <tbody>\n",
       "    <tr>\n",
       "      <th>1900-12-31</th>\n",
       "      <td>0.000000</td>\n",
       "    </tr>\n",
       "    <tr>\n",
       "      <th>1901-12-31</th>\n",
       "      <td>0.041720</td>\n",
       "    </tr>\n",
       "    <tr>\n",
       "      <th>1902-12-31</th>\n",
       "      <td>-0.180268</td>\n",
       "    </tr>\n",
       "    <tr>\n",
       "      <th>1903-12-31</th>\n",
       "      <td>0.073661</td>\n",
       "    </tr>\n",
       "    <tr>\n",
       "      <th>1904-12-31</th>\n",
       "      <td>-0.146029</td>\n",
       "    </tr>\n",
       "  </tbody>\n",
       "</table>\n",
       "</div>"
      ],
      "text/plain": [
       "            Avg_Temp\n",
       "Date                \n",
       "1900-12-31  0.000000\n",
       "1901-12-31  0.041720\n",
       "1902-12-31 -0.180268\n",
       "1903-12-31  0.073661\n",
       "1904-12-31 -0.146029"
      ]
     },
     "execution_count": 27,
     "metadata": {},
     "output_type": "execute_result"
    }
   ],
   "source": [
    "diff_ewm = resample_df -ewm\n",
    "diff_ewm.dropna(inplace = True)\n",
    "diff_ewm.head()"
   ]
  },
  {
   "cell_type": "markdown",
   "id": "0e9418ff",
   "metadata": {},
   "source": [
    "## New Time Series after substracting Rolling_mean and EWM"
   ]
  },
  {
   "cell_type": "code",
   "execution_count": 28,
   "id": "a8e21c92",
   "metadata": {},
   "outputs": [
    {
     "data": {
      "image/png": "[encoded data removed]",
      "text/plain": [
       "<Figure size 864x360 with 2 Axes>"
      ]
     },
     "metadata": {
      "needs_background": "light"
     },
     "output_type": "display_data"
    }
   ],
   "source": [
    "df_rol_mean_diff = diff_rol_mean.rolling(window=3,center=True).mean()\n",
    "\n",
    "df_ewm_diff = diff_ewm.ewm(span=3).mean()\n",
    "\n",
    "fig,(ax1,ax2) = plt.subplots(1,2,figsize = (12,5))\n",
    "\n",
    "ax1.plot(diff_rol_mean,label='Original')\n",
    "ax1.plot(df_rol_mean_diff,label='Rolling Mean')\n",
    "\n",
    "ax1.set_title('Temperature Changes from 1900-2013', fontsize=14)\n",
    "ax1.set_ylabel('Temperature',fontsize=12)\n",
    "ax1.set_xlabel('Year',fontsize=12)\n",
    "ax1.legend()\n",
    "\n",
    "\n",
    "ax2.plot(diff_ewm,label= 'Original')\n",
    "ax2.plot(df_ewm_diff,label='Exponentially Weignted Mean')\n",
    "ax2.set_title('Temperature Change from 1900-2013',fontsize=14)\n",
    "ax2.set_ylabel('Temperature',fontsize=12)\n",
    "ax2.set_xlabel('Year',fontsize=12)\n",
    "ax2.legend()\n",
    "\n",
    "plt.tight_layout()\n",
    "plt.show()\n"
   ]
  },
  {
   "cell_type": "code",
   "execution_count": 29,
   "id": "828e989f",
   "metadata": {},
   "outputs": [
    {
     "name": "stdout",
     "output_type": "stream",
     "text": [
      "Dickey-Fuller Test for the Rolling Mean:\n",
      "Test Statistic                -6.277119e+00\n",
      "p-value                        3.876154e-08\n",
      "Lags Used                      1.100000e+01\n",
      "Number of Observations Used    1.000000e+02\n",
      "Critical Value (1%)           -3.497501e+00\n",
      "Critical Value (5%)           -2.890906e+00\n",
      "Critical Value (10%)          -2.582435e+00\n",
      "dtype: float64\n",
      "Dickey-Fuller Test for the Exponentially Weignted Mean: \n",
      "Test Statistic                -6.570111e+00\n",
      "p-value                        7.975378e-09\n",
      "Lags Used                      5.000000e+00\n",
      "Number of Observations Used    1.080000e+02\n",
      "Critical Value (1%)           -3.492401e+00\n",
      "Critical Value (5%)           -2.888697e+00\n",
      "Critical Value (10%)          -2.581255e+00\n",
      "dtype: float64\n"
     ]
    }
   ],
   "source": [
    "# Check for stationarity for new time series\n",
    "print('Dickey-Fuller Test for the Rolling Mean:')\n",
    "df_test=adfuller(diff_rol_mean.iloc[:,0].values, autolag='AIC')\n",
    "df_output=pd.Series(df_test[0:4],index=['Test Statistic','p-value','Lags Used','Number of Observations Used'])\n",
    "for key,value in df_test[4].items():\n",
    "    df_output['Critical Value (%s)'%key] = value\n",
    "print(df_output)\n",
    "print('Dickey-Fuller Test for the Exponentially Weignted Mean: ' )\n",
    "df_test=adfuller(diff_ewm.iloc[:,0].values, autolag='AIC')\n",
    "df_output=pd.Series(df_test[0:4],index=['Test Statistic','p-value','Lags Used','Number of Observations Used'])\n",
    "for key,value in df_test[4].items():\n",
    "    df_output['Critical Value (%s)'%key] = value\n",
    "print(df_output)"
   ]
  },
  {
   "cell_type": "markdown",
   "id": "11446427",
   "metadata": {},
   "source": [
    "p-value <0.05 reject the null hypothesis and accept alternet hypothesis(Stationary)"
   ]
  },
  {
   "cell_type": "markdown",
   "id": "bebafd14",
   "metadata": {},
   "source": [
    "# Climate change forcasting"
   ]
  },
  {
   "cell_type": "raw",
   "id": "caaab806",
   "metadata": {},
   "source": [
    " ARIMA\n",
    " Regression\n",
    " LSTM\n"
   ]
  },
  {
   "cell_type": "markdown",
   "id": "6d408260",
   "metadata": {},
   "source": [
    "# ARIMA"
   ]
  },
  {
   "cell_type": "code",
   "execution_count": 30,
   "id": "98ae4d5b",
   "metadata": {},
   "outputs": [
    {
     "data": {
      "text/html": [
       "<div>\n",
       "<style scoped>\n",
       "    .dataframe tbody tr th:only-of-type {\n",
       "        vertical-align: middle;\n",
       "    }\n",
       "\n",
       "    .dataframe tbody tr th {\n",
       "        vertical-align: top;\n",
       "    }\n",
       "\n",
       "    .dataframe thead th {\n",
       "        text-align: right;\n",
       "    }\n",
       "</style>\n",
       "<table border=\"1\" class=\"dataframe\">\n",
       "  <thead>\n",
       "    <tr style=\"text-align: right;\">\n",
       "      <th></th>\n",
       "      <th>Avg_Temp</th>\n",
       "    </tr>\n",
       "    <tr>\n",
       "      <th>Date</th>\n",
       "      <th></th>\n",
       "    </tr>\n",
       "  </thead>\n",
       "  <tbody>\n",
       "    <tr>\n",
       "      <th>1900-12-31</th>\n",
       "      <td>9.413617</td>\n",
       "    </tr>\n",
       "    <tr>\n",
       "      <th>1901-12-31</th>\n",
       "      <td>9.538776</td>\n",
       "    </tr>\n",
       "    <tr>\n",
       "      <th>1902-12-31</th>\n",
       "      <td>9.076432</td>\n",
       "    </tr>\n",
       "    <tr>\n",
       "      <th>1903-12-31</th>\n",
       "      <td>9.414545</td>\n",
       "    </tr>\n",
       "    <tr>\n",
       "      <th>1904-12-31</th>\n",
       "      <td>9.039092</td>\n",
       "    </tr>\n",
       "  </tbody>\n",
       "</table>\n",
       "</div>"
      ],
      "text/plain": [
       "            Avg_Temp\n",
       "Date                \n",
       "1900-12-31  9.413617\n",
       "1901-12-31  9.538776\n",
       "1902-12-31  9.076432\n",
       "1903-12-31  9.414545\n",
       "1904-12-31  9.039092"
      ]
     },
     "execution_count": 30,
     "metadata": {},
     "output_type": "execute_result"
    }
   ],
   "source": [
    "resample_df.head()"
   ]
  },
  {
   "cell_type": "code",
   "execution_count": 31,
   "id": "89d664c2",
   "metadata": {},
   "outputs": [
    {
     "data": {
      "text/plain": [
       "(114, 1)"
      ]
     },
     "execution_count": 31,
     "metadata": {},
     "output_type": "execute_result"
    }
   ],
   "source": [
    "resample_df.shape"
   ]
  },
  {
   "cell_type": "code",
   "execution_count": 32,
   "id": "6d907225",
   "metadata": {},
   "outputs": [
    {
     "name": "stdout",
     "output_type": "stream",
     "text": [
      "Requirement already satisfied: pmdarima in c:\\users\\prana\\anaconda3\\lib\\site-packages (1.8.4)\n",
      "Requirement already satisfied: urllib3 in c:\\users\\prana\\anaconda3\\lib\\site-packages (from pmdarima) (1.26.7)\n",
      "Requirement already satisfied: numpy>=1.19.3 in c:\\users\\prana\\anaconda3\\lib\\site-packages (from pmdarima) (1.20.3)\n",
      "Requirement already satisfied: setuptools!=50.0.0,>=38.6.0 in c:\\users\\prana\\anaconda3\\lib\\site-packages (from pmdarima) (58.0.4)\n",
      "Requirement already satisfied: scikit-learn>=0.22 in c:\\users\\prana\\anaconda3\\lib\\site-packages (from pmdarima) (0.24.2)\n",
      "Requirement already satisfied: scipy>=1.3.2 in c:\\users\\prana\\anaconda3\\lib\\site-packages (from pmdarima) (1.7.1)\n",
      "Requirement already satisfied: Cython!=0.29.18,>=0.29 in c:\\users\\prana\\anaconda3\\lib\\site-packages (from pmdarima) (0.29.24)\n",
      "Requirement already satisfied: pandas>=0.19 in c:\\users\\prana\\anaconda3\\lib\\site-packages (from pmdarima) (1.3.4)\n",
      "Requirement already satisfied: statsmodels!=0.12.0,>=0.11 in c:\\users\\prana\\anaconda3\\lib\\site-packages (from pmdarima) (0.12.2)\n",
      "Requirement already satisfied: joblib>=0.11 in c:\\users\\prana\\anaconda3\\lib\\site-packages (from pmdarima) (1.1.0)\n",
      "Requirement already satisfied: pytz>=2017.3 in c:\\users\\prana\\anaconda3\\lib\\site-packages (from pandas>=0.19->pmdarima) (2021.3)\n",
      "Requirement already satisfied: python-dateutil>=2.7.3 in c:\\users\\prana\\anaconda3\\lib\\site-packages (from pandas>=0.19->pmdarima) (2.8.2)\n",
      "Requirement already satisfied: six>=1.5 in c:\\users\\prana\\anaconda3\\lib\\site-packages (from python-dateutil>=2.7.3->pandas>=0.19->pmdarima) (1.16.0)\n",
      "Requirement already satisfied: threadpoolctl>=2.0.0 in c:\\users\\prana\\anaconda3\\lib\\site-packages (from scikit-learn>=0.22->pmdarima) (2.2.0)\n",
      "Requirement already satisfied: patsy>=0.5 in c:\\users\\prana\\anaconda3\\lib\\site-packages (from statsmodels!=0.12.0,>=0.11->pmdarima) (0.5.2)\n"
     ]
    }
   ],
   "source": [
    "#AUTO ARIMA\n",
    "!pip install pmdarima"
   ]
  },
  {
   "cell_type": "code",
   "execution_count": 33,
   "id": "71850f56",
   "metadata": {},
   "outputs": [],
   "source": [
    "y=resample_df.Avg_Temp.values"
   ]
  },
  {
   "cell_type": "code",
   "execution_count": 34,
   "id": "8481672e",
   "metadata": {},
   "outputs": [
    {
     "data": {
      "text/plain": [
       "(114,)"
      ]
     },
     "execution_count": 34,
     "metadata": {},
     "output_type": "execute_result"
    }
   ],
   "source": [
    "y.shape"
   ]
  },
  {
   "cell_type": "code",
   "execution_count": 35,
   "id": "22729325",
   "metadata": {},
   "outputs": [],
   "source": [
    "import pmdarima as pm\n",
    "from pmdarima.model_selection import train_test_split"
   ]
  },
  {
   "cell_type": "code",
   "execution_count": 36,
   "id": "6c1b4d64",
   "metadata": {},
   "outputs": [],
   "source": [
    "train, test = train_test_split(resample_df, train_size=int(0.9 * resample_df.shape[0]))"
   ]
  },
  {
   "cell_type": "code",
   "execution_count": 37,
   "id": "65bd8f73",
   "metadata": {},
   "outputs": [
    {
     "data": {
      "text/plain": [
       "((102, 1), (12, 1))"
      ]
     },
     "execution_count": 37,
     "metadata": {},
     "output_type": "execute_result"
    }
   ],
   "source": [
    "train.shape,test.shape"
   ]
  },
  {
   "cell_type": "code",
   "execution_count": 38,
   "id": "3eed73d2",
   "metadata": {},
   "outputs": [
    {
     "name": "stdout",
     "output_type": "stream",
     "text": [
      "Performing stepwise search to minimize aic\n",
      " ARIMA(5,1,2)(0,0,0)[0] intercept   : AIC=55.539, Time=0.44 sec\n",
      " ARIMA(0,1,0)(0,0,0)[0] intercept   : AIC=95.647, Time=0.03 sec\n",
      " ARIMA(1,1,0)(0,0,0)[0] intercept   : AIC=74.815, Time=0.03 sec\n",
      " ARIMA(0,1,1)(0,0,0)[0] intercept   : AIC=48.781, Time=0.06 sec\n",
      " ARIMA(0,1,0)(0,0,0)[0]             : AIC=93.737, Time=0.01 sec\n",
      " ARIMA(1,1,1)(0,0,0)[0] intercept   : AIC=50.021, Time=0.14 sec\n",
      " ARIMA(0,1,2)(0,0,0)[0] intercept   : AIC=50.060, Time=0.06 sec\n",
      " ARIMA(1,1,2)(0,0,0)[0] intercept   : AIC=52.781, Time=0.20 sec\n",
      " ARIMA(0,1,1)(0,0,0)[0]             : AIC=51.709, Time=0.03 sec\n",
      "\n",
      "Best model:  ARIMA(0,1,1)(0,0,0)[0] intercept\n",
      "Total fit time: 1.029 seconds\n"
     ]
    }
   ],
   "source": [
    "# Fit your model\n",
    "model = pm.auto_arima( train, start_p=5, max_p=10, seasonal=True, trace = True) #seasonal =False\n",
    "# random search\n",
    "# make your forecasts\n",
    "forecasts = model.predict(test.shape[0])"
   ]
  },
  {
   "cell_type": "code",
   "execution_count": 39,
   "id": "67ec1b3e",
   "metadata": {},
   "outputs": [
    {
     "data": {
      "image/png": "[encoded data removed]",
      "text/plain": [
       "<Figure size 360x360 with 1 Axes>"
      ]
     },
     "metadata": {
      "needs_background": "light"
     },
     "output_type": "display_data"
    }
   ],
   "source": [
    "# Visualize the forecasts (blue=train, green=forecasts)\n",
    "x = np.arange(resample_df.shape[0])\n",
    "plt.plot(x[:102], train, c='blue')\n",
    "plt.plot(x[102:], forecasts, c='green')\n",
    "plt.show()"
   ]
  },
  {
   "cell_type": "code",
   "execution_count": 40,
   "id": "0a1b9940",
   "metadata": {},
   "outputs": [],
   "source": [
    "# from statsmodels.tsa.arima_model import ARIMA\n",
    "from statsmodels.tsa.arima.model import ARIMA\n",
    "from sklearn.metrics import mean_squared_error"
   ]
  },
  {
   "cell_type": "code",
   "execution_count": 41,
   "id": "96e28741",
   "metadata": {},
   "outputs": [],
   "source": [
    "train_size = int(0.9 * resample_df.shape[0])\n",
    "test_size = resample_df.shape[0] - train_size"
   ]
  },
  {
   "cell_type": "code",
   "execution_count": 42,
   "id": "c13e8b2c",
   "metadata": {},
   "outputs": [
    {
     "data": {
      "text/plain": [
       "2002-12-31    10.351731\n",
       "2003-12-31    10.351731\n",
       "2004-12-31    10.351731\n",
       "2005-12-31    10.351731\n",
       "2006-12-31    10.351731\n",
       "2007-12-31    10.351731\n",
       "2008-12-31    10.351731\n",
       "2009-12-31    10.351731\n",
       "2010-12-31    10.351731\n",
       "2011-12-31    10.351731\n",
       "2012-12-31    10.351731\n",
       "2013-12-31    10.351731\n",
       "Freq: A-DEC, Name: predicted_mean, dtype: float64"
      ]
     },
     "execution_count": 42,
     "metadata": {},
     "output_type": "execute_result"
    }
   ],
   "source": [
    "model = ARIMA(train, order=(0,1,1))#order is p,d,q #0,1,1\n",
    "model_fit = model.fit()\n",
    "output = model_fit.forecast(test_size)\n",
    "output"
   ]
  },
  {
   "cell_type": "code",
   "execution_count": 43,
   "id": "a5b4ef3f",
   "metadata": {},
   "outputs": [
    {
     "data": {
      "text/plain": [
       "10.351730955807485"
      ]
     },
     "execution_count": 43,
     "metadata": {},
     "output_type": "execute_result"
    }
   ],
   "source": [
    "output[0]"
   ]
  },
  {
   "cell_type": "code",
   "execution_count": 44,
   "id": "d2ad2d90",
   "metadata": {},
   "outputs": [
    {
     "data": {
      "text/plain": [
       "0.28243537593585105"
      ]
     },
     "execution_count": 44,
     "metadata": {},
     "output_type": "execute_result"
    }
   ],
   "source": [
    "mean_squared_error(test,output)"
   ]
  },
  {
   "cell_type": "code",
   "execution_count": 45,
   "id": "956585a3",
   "metadata": {},
   "outputs": [
    {
     "data": {
      "text/plain": [
       "0.5314464939538609"
      ]
     },
     "execution_count": 45,
     "metadata": {},
     "output_type": "execute_result"
    }
   ],
   "source": [
    "mean_squared_error(test,output)**0.5"
   ]
  },
  {
   "cell_type": "code",
   "execution_count": 46,
   "id": "f3e86190",
   "metadata": {},
   "outputs": [
    {
     "data": {
      "text/plain": [
       "0.035099755777920544"
      ]
     },
     "execution_count": 46,
     "metadata": {},
     "output_type": "execute_result"
    }
   ],
   "source": [
    "from sklearn.metrics import mean_absolute_percentage_error\n",
    "mean_absolute_percentage_error(test,output)"
   ]
  },
  {
   "cell_type": "markdown",
   "id": "99044510",
   "metadata": {},
   "source": [
    "#  Apply regression on TS using lag values"
   ]
  },
  {
   "cell_type": "code",
   "execution_count": 47,
   "id": "c2e9dd32",
   "metadata": {},
   "outputs": [],
   "source": [
    "reg_data=resample_df.copy()"
   ]
  },
  {
   "cell_type": "code",
   "execution_count": 48,
   "id": "4c4db37f",
   "metadata": {},
   "outputs": [
    {
     "data": {
      "text/html": [
       "<div>\n",
       "<style scoped>\n",
       "    .dataframe tbody tr th:only-of-type {\n",
       "        vertical-align: middle;\n",
       "    }\n",
       "\n",
       "    .dataframe tbody tr th {\n",
       "        vertical-align: top;\n",
       "    }\n",
       "\n",
       "    .dataframe thead th {\n",
       "        text-align: right;\n",
       "    }\n",
       "</style>\n",
       "<table border=\"1\" class=\"dataframe\">\n",
       "  <thead>\n",
       "    <tr style=\"text-align: right;\">\n",
       "      <th></th>\n",
       "      <th>Avg_Temp</th>\n",
       "    </tr>\n",
       "    <tr>\n",
       "      <th>Date</th>\n",
       "      <th></th>\n",
       "    </tr>\n",
       "  </thead>\n",
       "  <tbody>\n",
       "    <tr>\n",
       "      <th>1900-12-31</th>\n",
       "      <td>9.413617</td>\n",
       "    </tr>\n",
       "    <tr>\n",
       "      <th>1901-12-31</th>\n",
       "      <td>9.538776</td>\n",
       "    </tr>\n",
       "    <tr>\n",
       "      <th>1902-12-31</th>\n",
       "      <td>9.076432</td>\n",
       "    </tr>\n",
       "    <tr>\n",
       "      <th>1903-12-31</th>\n",
       "      <td>9.414545</td>\n",
       "    </tr>\n",
       "    <tr>\n",
       "      <th>1904-12-31</th>\n",
       "      <td>9.039092</td>\n",
       "    </tr>\n",
       "  </tbody>\n",
       "</table>\n",
       "</div>"
      ],
      "text/plain": [
       "            Avg_Temp\n",
       "Date                \n",
       "1900-12-31  9.413617\n",
       "1901-12-31  9.538776\n",
       "1902-12-31  9.076432\n",
       "1903-12-31  9.414545\n",
       "1904-12-31  9.039092"
      ]
     },
     "execution_count": 48,
     "metadata": {},
     "output_type": "execute_result"
    }
   ],
   "source": [
    "reg_data.head()"
   ]
  },
  {
   "cell_type": "code",
   "execution_count": 49,
   "id": "f959e79b",
   "metadata": {},
   "outputs": [
    {
     "data": {
      "text/plain": [
       "(114, 1)"
      ]
     },
     "execution_count": 49,
     "metadata": {},
     "output_type": "execute_result"
    }
   ],
   "source": [
    "reg_data.shape"
   ]
  },
  {
   "cell_type": "code",
   "execution_count": 50,
   "id": "5a344200",
   "metadata": {},
   "outputs": [
    {
     "data": {
      "text/plain": [
       "Index(['Avg_Temp'], dtype='object')"
      ]
     },
     "execution_count": 50,
     "metadata": {},
     "output_type": "execute_result"
    }
   ],
   "source": [
    "reg_data.columns"
   ]
  },
  {
   "cell_type": "code",
   "execution_count": 51,
   "id": "19b4dbe1",
   "metadata": {},
   "outputs": [],
   "source": [
    "reg_data['lag1']=reg_data['Avg_Temp'].shift(1)\n",
    "reg_data['lag2']=reg_data['Avg_Temp'].shift(2)\n",
    "reg_data['lag3']=reg_data['Avg_Temp'].shift(3)\n",
    "reg_data['lag4']=reg_data['Avg_Temp'].shift(4)\n",
    "reg_data['lag5']=reg_data['Avg_Temp'].shift(5)"
   ]
  },
  {
   "cell_type": "code",
   "execution_count": 52,
   "id": "3b5f6544",
   "metadata": {},
   "outputs": [
    {
     "data": {
      "text/html": [
       "<div>\n",
       "<style scoped>\n",
       "    .dataframe tbody tr th:only-of-type {\n",
       "        vertical-align: middle;\n",
       "    }\n",
       "\n",
       "    .dataframe tbody tr th {\n",
       "        vertical-align: top;\n",
       "    }\n",
       "\n",
       "    .dataframe thead th {\n",
       "        text-align: right;\n",
       "    }\n",
       "</style>\n",
       "<table border=\"1\" class=\"dataframe\">\n",
       "  <thead>\n",
       "    <tr style=\"text-align: right;\">\n",
       "      <th></th>\n",
       "      <th>Avg_Temp</th>\n",
       "      <th>lag1</th>\n",
       "      <th>lag2</th>\n",
       "      <th>lag3</th>\n",
       "      <th>lag4</th>\n",
       "      <th>lag5</th>\n",
       "    </tr>\n",
       "    <tr>\n",
       "      <th>Date</th>\n",
       "      <th></th>\n",
       "      <th></th>\n",
       "      <th></th>\n",
       "      <th></th>\n",
       "      <th></th>\n",
       "      <th></th>\n",
       "    </tr>\n",
       "  </thead>\n",
       "  <tbody>\n",
       "    <tr>\n",
       "      <th>1900-12-31</th>\n",
       "      <td>9.413617</td>\n",
       "      <td>NaN</td>\n",
       "      <td>NaN</td>\n",
       "      <td>NaN</td>\n",
       "      <td>NaN</td>\n",
       "      <td>NaN</td>\n",
       "    </tr>\n",
       "    <tr>\n",
       "      <th>1901-12-31</th>\n",
       "      <td>9.538776</td>\n",
       "      <td>9.413617</td>\n",
       "      <td>NaN</td>\n",
       "      <td>NaN</td>\n",
       "      <td>NaN</td>\n",
       "      <td>NaN</td>\n",
       "    </tr>\n",
       "    <tr>\n",
       "      <th>1902-12-31</th>\n",
       "      <td>9.076432</td>\n",
       "      <td>9.538776</td>\n",
       "      <td>9.413617</td>\n",
       "      <td>NaN</td>\n",
       "      <td>NaN</td>\n",
       "      <td>NaN</td>\n",
       "    </tr>\n",
       "    <tr>\n",
       "      <th>1903-12-31</th>\n",
       "      <td>9.414545</td>\n",
       "      <td>9.076432</td>\n",
       "      <td>9.538776</td>\n",
       "      <td>9.413617</td>\n",
       "      <td>NaN</td>\n",
       "      <td>NaN</td>\n",
       "    </tr>\n",
       "    <tr>\n",
       "      <th>1904-12-31</th>\n",
       "      <td>9.039092</td>\n",
       "      <td>9.414545</td>\n",
       "      <td>9.076432</td>\n",
       "      <td>9.538776</td>\n",
       "      <td>9.413617</td>\n",
       "      <td>NaN</td>\n",
       "    </tr>\n",
       "    <tr>\n",
       "      <th>1905-12-31</th>\n",
       "      <td>9.274387</td>\n",
       "      <td>9.039092</td>\n",
       "      <td>9.414545</td>\n",
       "      <td>9.076432</td>\n",
       "      <td>9.538776</td>\n",
       "      <td>9.413617</td>\n",
       "    </tr>\n",
       "    <tr>\n",
       "      <th>1906-12-31</th>\n",
       "      <td>9.612203</td>\n",
       "      <td>9.274387</td>\n",
       "      <td>9.039092</td>\n",
       "      <td>9.414545</td>\n",
       "      <td>9.076432</td>\n",
       "      <td>9.538776</td>\n",
       "    </tr>\n",
       "    <tr>\n",
       "      <th>1907-12-31</th>\n",
       "      <td>8.852557</td>\n",
       "      <td>9.612203</td>\n",
       "      <td>9.274387</td>\n",
       "      <td>9.039092</td>\n",
       "      <td>9.414545</td>\n",
       "      <td>9.076432</td>\n",
       "    </tr>\n",
       "    <tr>\n",
       "      <th>1908-12-31</th>\n",
       "      <td>9.002791</td>\n",
       "      <td>8.852557</td>\n",
       "      <td>9.612203</td>\n",
       "      <td>9.274387</td>\n",
       "      <td>9.039092</td>\n",
       "      <td>9.414545</td>\n",
       "    </tr>\n",
       "    <tr>\n",
       "      <th>1909-12-31</th>\n",
       "      <td>9.248219</td>\n",
       "      <td>9.002791</td>\n",
       "      <td>8.852557</td>\n",
       "      <td>9.612203</td>\n",
       "      <td>9.274387</td>\n",
       "      <td>9.039092</td>\n",
       "    </tr>\n",
       "  </tbody>\n",
       "</table>\n",
       "</div>"
      ],
      "text/plain": [
       "            Avg_Temp      lag1      lag2      lag3      lag4      lag5\n",
       "Date                                                                  \n",
       "1900-12-31  9.413617       NaN       NaN       NaN       NaN       NaN\n",
       "1901-12-31  9.538776  9.413617       NaN       NaN       NaN       NaN\n",
       "1902-12-31  9.076432  9.538776  9.413617       NaN       NaN       NaN\n",
       "1903-12-31  9.414545  9.076432  9.538776  9.413617       NaN       NaN\n",
       "1904-12-31  9.039092  9.414545  9.076432  9.538776  9.413617       NaN\n",
       "1905-12-31  9.274387  9.039092  9.414545  9.076432  9.538776  9.413617\n",
       "1906-12-31  9.612203  9.274387  9.039092  9.414545  9.076432  9.538776\n",
       "1907-12-31  8.852557  9.612203  9.274387  9.039092  9.414545  9.076432\n",
       "1908-12-31  9.002791  8.852557  9.612203  9.274387  9.039092  9.414545\n",
       "1909-12-31  9.248219  9.002791  8.852557  9.612203  9.274387  9.039092"
      ]
     },
     "execution_count": 52,
     "metadata": {},
     "output_type": "execute_result"
    }
   ],
   "source": [
    "reg_data.head(10)"
   ]
  },
  {
   "cell_type": "code",
   "execution_count": 53,
   "id": "bfd8e326",
   "metadata": {},
   "outputs": [],
   "source": [
    "df_r=reg_data.loc['1905-12-31':,:]"
   ]
  },
  {
   "cell_type": "code",
   "execution_count": 54,
   "id": "42aa1d1a",
   "metadata": {},
   "outputs": [
    {
     "data": {
      "text/plain": [
       "(109, 6)"
      ]
     },
     "execution_count": 54,
     "metadata": {},
     "output_type": "execute_result"
    }
   ],
   "source": [
    "df_r.shape"
   ]
  },
  {
   "cell_type": "code",
   "execution_count": 55,
   "id": "4d6dba7b",
   "metadata": {},
   "outputs": [
    {
     "data": {
      "text/plain": [
       "Index(['Avg_Temp', 'lag1', 'lag2', 'lag3', 'lag4', 'lag5'], dtype='object')"
      ]
     },
     "execution_count": 55,
     "metadata": {},
     "output_type": "execute_result"
    }
   ],
   "source": [
    "df_r.columns"
   ]
  },
  {
   "cell_type": "code",
   "execution_count": 56,
   "id": "9af28489",
   "metadata": {},
   "outputs": [
    {
     "data": {
      "text/html": [
       "<div>\n",
       "<style scoped>\n",
       "    .dataframe tbody tr th:only-of-type {\n",
       "        vertical-align: middle;\n",
       "    }\n",
       "\n",
       "    .dataframe tbody tr th {\n",
       "        vertical-align: top;\n",
       "    }\n",
       "\n",
       "    .dataframe thead th {\n",
       "        text-align: right;\n",
       "    }\n",
       "</style>\n",
       "<table border=\"1\" class=\"dataframe\">\n",
       "  <thead>\n",
       "    <tr style=\"text-align: right;\">\n",
       "      <th></th>\n",
       "      <th>Avg_Temp</th>\n",
       "      <th>lag1</th>\n",
       "      <th>lag2</th>\n",
       "      <th>lag3</th>\n",
       "      <th>lag4</th>\n",
       "      <th>lag5</th>\n",
       "    </tr>\n",
       "    <tr>\n",
       "      <th>Date</th>\n",
       "      <th></th>\n",
       "      <th></th>\n",
       "      <th></th>\n",
       "      <th></th>\n",
       "      <th></th>\n",
       "      <th></th>\n",
       "    </tr>\n",
       "  </thead>\n",
       "  <tbody>\n",
       "    <tr>\n",
       "      <th>1905-12-31</th>\n",
       "      <td>9.274387</td>\n",
       "      <td>9.039092</td>\n",
       "      <td>9.414545</td>\n",
       "      <td>9.076432</td>\n",
       "      <td>9.538776</td>\n",
       "      <td>9.413617</td>\n",
       "    </tr>\n",
       "    <tr>\n",
       "      <th>1906-12-31</th>\n",
       "      <td>9.612203</td>\n",
       "      <td>9.274387</td>\n",
       "      <td>9.039092</td>\n",
       "      <td>9.414545</td>\n",
       "      <td>9.076432</td>\n",
       "      <td>9.538776</td>\n",
       "    </tr>\n",
       "    <tr>\n",
       "      <th>1907-12-31</th>\n",
       "      <td>8.852557</td>\n",
       "      <td>9.612203</td>\n",
       "      <td>9.274387</td>\n",
       "      <td>9.039092</td>\n",
       "      <td>9.414545</td>\n",
       "      <td>9.076432</td>\n",
       "    </tr>\n",
       "    <tr>\n",
       "      <th>1908-12-31</th>\n",
       "      <td>9.002791</td>\n",
       "      <td>8.852557</td>\n",
       "      <td>9.612203</td>\n",
       "      <td>9.274387</td>\n",
       "      <td>9.039092</td>\n",
       "      <td>9.414545</td>\n",
       "    </tr>\n",
       "    <tr>\n",
       "      <th>1909-12-31</th>\n",
       "      <td>9.248219</td>\n",
       "      <td>9.002791</td>\n",
       "      <td>8.852557</td>\n",
       "      <td>9.612203</td>\n",
       "      <td>9.274387</td>\n",
       "      <td>9.039092</td>\n",
       "    </tr>\n",
       "  </tbody>\n",
       "</table>\n",
       "</div>"
      ],
      "text/plain": [
       "            Avg_Temp      lag1      lag2      lag3      lag4      lag5\n",
       "Date                                                                  \n",
       "1905-12-31  9.274387  9.039092  9.414545  9.076432  9.538776  9.413617\n",
       "1906-12-31  9.612203  9.274387  9.039092  9.414545  9.076432  9.538776\n",
       "1907-12-31  8.852557  9.612203  9.274387  9.039092  9.414545  9.076432\n",
       "1908-12-31  9.002791  8.852557  9.612203  9.274387  9.039092  9.414545\n",
       "1909-12-31  9.248219  9.002791  8.852557  9.612203  9.274387  9.039092"
      ]
     },
     "execution_count": 56,
     "metadata": {},
     "output_type": "execute_result"
    }
   ],
   "source": [
    "df_r.head()"
   ]
  },
  {
   "cell_type": "markdown",
   "id": "b29aa5dd",
   "metadata": {},
   "source": [
    "#  X & Y split "
   ]
  },
  {
   "cell_type": "code",
   "execution_count": 57,
   "id": "efa79626",
   "metadata": {},
   "outputs": [],
   "source": [
    "X = df_r.drop(['Avg_Temp'],axis=1)\n",
    "Y = df_r['Avg_Temp']"
   ]
  },
  {
   "cell_type": "code",
   "execution_count": 58,
   "id": "6c7e9031",
   "metadata": {},
   "outputs": [
    {
     "data": {
      "text/plain": [
       "((109, 5), (109,))"
      ]
     },
     "execution_count": 58,
     "metadata": {},
     "output_type": "execute_result"
    }
   ],
   "source": [
    "X.shape, Y.shape"
   ]
  },
  {
   "cell_type": "code",
   "execution_count": 59,
   "id": "ea98d189",
   "metadata": {},
   "outputs": [],
   "source": [
    "size = int(len(X) * 0.9)\n",
    "X_train, X_test = X[0:size], X[size:len(X)]\n",
    "Y_train, Y_test = Y[0:size], Y[size:len(X)]"
   ]
  },
  {
   "cell_type": "code",
   "execution_count": 60,
   "id": "fb4b4f65",
   "metadata": {},
   "outputs": [
    {
     "data": {
      "text/plain": [
       "((98, 5), (11, 5), (98,), (11,))"
      ]
     },
     "execution_count": 60,
     "metadata": {},
     "output_type": "execute_result"
    }
   ],
   "source": [
    "X_train.shape, X_test.shape,Y_train.shape, Y_test.shape"
   ]
  },
  {
   "cell_type": "markdown",
   "id": "28a7381f",
   "metadata": {},
   "source": [
    "#  Apply regression algorithm"
   ]
  },
  {
   "cell_type": "code",
   "execution_count": 61,
   "id": "61cdea50",
   "metadata": {},
   "outputs": [],
   "source": [
    "from sklearn.ensemble import RandomForestRegressor\n",
    "rfr = RandomForestRegressor( random_state = 7)"
   ]
  },
  {
   "cell_type": "code",
   "execution_count": 62,
   "id": "cbf80026",
   "metadata": {},
   "outputs": [
    {
     "data": {
      "text/plain": [
       "RandomForestRegressor(random_state=7)"
      ]
     },
     "execution_count": 62,
     "metadata": {},
     "output_type": "execute_result"
    }
   ],
   "source": [
    "rfr.fit(X_train,Y_train)"
   ]
  },
  {
   "cell_type": "code",
   "execution_count": 63,
   "id": "73626d46",
   "metadata": {},
   "outputs": [],
   "source": [
    "Y_pred_rfr = rfr.predict(X_test)"
   ]
  },
  {
   "cell_type": "code",
   "execution_count": 64,
   "id": "34695e97",
   "metadata": {},
   "outputs": [
    {
     "data": {
      "text/plain": [
       "0.28738916032112555"
      ]
     },
     "execution_count": 64,
     "metadata": {},
     "output_type": "execute_result"
    }
   ],
   "source": [
    "mean_squared_error(Y_test,Y_pred_rfr)"
   ]
  },
  {
   "cell_type": "code",
   "execution_count": 65,
   "id": "369c42eb",
   "metadata": {},
   "outputs": [
    {
     "data": {
      "text/plain": [
       "0.5360868962408292"
      ]
     },
     "execution_count": 65,
     "metadata": {},
     "output_type": "execute_result"
    }
   ],
   "source": [
    "mean_squared_error(Y_test,Y_pred_rfr)**0.5"
   ]
  },
  {
   "cell_type": "markdown",
   "id": "4ead8761",
   "metadata": {},
   "source": [
    "# RNN/LSTM_Time_series"
   ]
  },
  {
   "cell_type": "code",
   "execution_count": 66,
   "id": "1293cbd0",
   "metadata": {},
   "outputs": [
    {
     "data": {
      "text/html": [
       "<div>\n",
       "<style scoped>\n",
       "    .dataframe tbody tr th:only-of-type {\n",
       "        vertical-align: middle;\n",
       "    }\n",
       "\n",
       "    .dataframe tbody tr th {\n",
       "        vertical-align: top;\n",
       "    }\n",
       "\n",
       "    .dataframe thead th {\n",
       "        text-align: right;\n",
       "    }\n",
       "</style>\n",
       "<table border=\"1\" class=\"dataframe\">\n",
       "  <thead>\n",
       "    <tr style=\"text-align: right;\">\n",
       "      <th></th>\n",
       "      <th>Avg_Temp</th>\n",
       "    </tr>\n",
       "    <tr>\n",
       "      <th>Date</th>\n",
       "      <th></th>\n",
       "    </tr>\n",
       "  </thead>\n",
       "  <tbody>\n",
       "    <tr>\n",
       "      <th>1900-12-31</th>\n",
       "      <td>9.413617</td>\n",
       "    </tr>\n",
       "    <tr>\n",
       "      <th>1901-12-31</th>\n",
       "      <td>9.538776</td>\n",
       "    </tr>\n",
       "    <tr>\n",
       "      <th>1902-12-31</th>\n",
       "      <td>9.076432</td>\n",
       "    </tr>\n",
       "    <tr>\n",
       "      <th>1903-12-31</th>\n",
       "      <td>9.414545</td>\n",
       "    </tr>\n",
       "    <tr>\n",
       "      <th>1904-12-31</th>\n",
       "      <td>9.039092</td>\n",
       "    </tr>\n",
       "  </tbody>\n",
       "</table>\n",
       "</div>"
      ],
      "text/plain": [
       "            Avg_Temp\n",
       "Date                \n",
       "1900-12-31  9.413617\n",
       "1901-12-31  9.538776\n",
       "1902-12-31  9.076432\n",
       "1903-12-31  9.414545\n",
       "1904-12-31  9.039092"
      ]
     },
     "execution_count": 66,
     "metadata": {},
     "output_type": "execute_result"
    }
   ],
   "source": [
    "resample_df.head()"
   ]
  },
  {
   "cell_type": "code",
   "execution_count": 67,
   "id": "0c77ab4a",
   "metadata": {},
   "outputs": [
    {
     "data": {
      "text/plain": [
       "<AxesSubplot:xlabel='Date'>"
      ]
     },
     "execution_count": 67,
     "metadata": {},
     "output_type": "execute_result"
    },
    {
     "data": {
      "image/png": "[encoded data removed]",
      "text/plain": [
       "<Figure size 360x360 with 1 Axes>"
      ]
     },
     "metadata": {
      "needs_background": "light"
     },
     "output_type": "display_data"
    }
   ],
   "source": [
    "resample_df['Avg_Temp'].plot()"
   ]
  },
  {
   "cell_type": "code",
   "execution_count": 68,
   "id": "54778b5c",
   "metadata": {},
   "outputs": [],
   "source": [
    "rnn_data=resample_df[['Avg_Temp']].copy()"
   ]
  },
  {
   "cell_type": "code",
   "execution_count": 69,
   "id": "be53d733",
   "metadata": {},
   "outputs": [
    {
     "data": {
      "text/plain": [
       "(114, 1)"
      ]
     },
     "execution_count": 69,
     "metadata": {},
     "output_type": "execute_result"
    }
   ],
   "source": [
    "rnn_data.shape"
   ]
  },
  {
   "cell_type": "code",
   "execution_count": 70,
   "id": "13f38cd5",
   "metadata": {},
   "outputs": [
    {
     "data": {
      "text/html": [
       "<div>\n",
       "<style scoped>\n",
       "    .dataframe tbody tr th:only-of-type {\n",
       "        vertical-align: middle;\n",
       "    }\n",
       "\n",
       "    .dataframe tbody tr th {\n",
       "        vertical-align: top;\n",
       "    }\n",
       "\n",
       "    .dataframe thead th {\n",
       "        text-align: right;\n",
       "    }\n",
       "</style>\n",
       "<table border=\"1\" class=\"dataframe\">\n",
       "  <thead>\n",
       "    <tr style=\"text-align: right;\">\n",
       "      <th></th>\n",
       "      <th>Avg_Temp</th>\n",
       "    </tr>\n",
       "    <tr>\n",
       "      <th>Date</th>\n",
       "      <th></th>\n",
       "    </tr>\n",
       "  </thead>\n",
       "  <tbody>\n",
       "    <tr>\n",
       "      <th>1900-12-31</th>\n",
       "      <td>9.413617</td>\n",
       "    </tr>\n",
       "    <tr>\n",
       "      <th>1901-12-31</th>\n",
       "      <td>9.538776</td>\n",
       "    </tr>\n",
       "    <tr>\n",
       "      <th>1902-12-31</th>\n",
       "      <td>9.076432</td>\n",
       "    </tr>\n",
       "    <tr>\n",
       "      <th>1903-12-31</th>\n",
       "      <td>9.414545</td>\n",
       "    </tr>\n",
       "    <tr>\n",
       "      <th>1904-12-31</th>\n",
       "      <td>9.039092</td>\n",
       "    </tr>\n",
       "  </tbody>\n",
       "</table>\n",
       "</div>"
      ],
      "text/plain": [
       "            Avg_Temp\n",
       "Date                \n",
       "1900-12-31  9.413617\n",
       "1901-12-31  9.538776\n",
       "1902-12-31  9.076432\n",
       "1903-12-31  9.414545\n",
       "1904-12-31  9.039092"
      ]
     },
     "execution_count": 70,
     "metadata": {},
     "output_type": "execute_result"
    }
   ],
   "source": [
    "rnn_data.head()"
   ]
  },
  {
   "cell_type": "code",
   "execution_count": 71,
   "id": "6f08a9b1",
   "metadata": {},
   "outputs": [
    {
     "data": {
      "text/plain": [
       "(90, 1)"
      ]
     },
     "execution_count": 71,
     "metadata": {},
     "output_type": "execute_result"
    }
   ],
   "source": [
    "dataset_train = rnn_data.iloc[:90,:]\n",
    "dataset_train.shape"
   ]
  },
  {
   "cell_type": "code",
   "execution_count": 72,
   "id": "5cb62b9e",
   "metadata": {},
   "outputs": [
    {
     "data": {
      "text/plain": [
       "array([9.41361653, 9.53877628, 9.07643188, 9.4145453 , 9.03909163])"
      ]
     },
     "execution_count": 72,
     "metadata": {},
     "output_type": "execute_result"
    }
   ],
   "source": [
    "# Convert data frame / series to numpy array\n",
    "training_set = dataset_train.iloc[:, 0].values\n",
    "training_set[:5]"
   ]
  },
  {
   "cell_type": "code",
   "execution_count": 73,
   "id": "01bc5652",
   "metadata": {},
   "outputs": [
    {
     "data": {
      "text/plain": [
       "(90,)"
      ]
     },
     "execution_count": 73,
     "metadata": {},
     "output_type": "execute_result"
    }
   ],
   "source": [
    "training_set.shape"
   ]
  },
  {
   "cell_type": "markdown",
   "id": "fd8af650",
   "metadata": {},
   "source": [
    "# Add extra dimemsion to the data for processing in RNN / LSTM neuron"
   ]
  },
  {
   "cell_type": "code",
   "execution_count": 74,
   "id": "a798498e",
   "metadata": {},
   "outputs": [],
   "source": [
    "# Add extra dim for processing purpose\n",
    "training_set = training_set.reshape(-1,1)"
   ]
  },
  {
   "cell_type": "code",
   "execution_count": 75,
   "id": "b75fcf79",
   "metadata": {},
   "outputs": [
    {
     "data": {
      "text/plain": [
       "array([[9.41361653],\n",
       "       [9.53877628],\n",
       "       [9.07643188],\n",
       "       [9.4145453 ],\n",
       "       [9.03909163]])"
      ]
     },
     "execution_count": 75,
     "metadata": {},
     "output_type": "execute_result"
    }
   ],
   "source": [
    "training_set[:5]"
   ]
  },
  {
   "cell_type": "code",
   "execution_count": 76,
   "id": "b705f2c3",
   "metadata": {},
   "outputs": [
    {
     "data": {
      "text/plain": [
       "(90, 1)"
      ]
     },
     "execution_count": 76,
     "metadata": {},
     "output_type": "execute_result"
    }
   ],
   "source": [
    "training_set.shape"
   ]
  },
  {
   "cell_type": "code",
   "execution_count": 77,
   "id": "f51b8ef7",
   "metadata": {},
   "outputs": [
    {
     "data": {
      "text/plain": [
       "<AxesSubplot:>"
      ]
     },
     "execution_count": 77,
     "metadata": {},
     "output_type": "execute_result"
    },
    {
     "data": {
      "image/png": "[encoded data removed]",
      "text/plain": [
       "<Figure size 360x360 with 1 Axes>"
      ]
     },
     "metadata": {
      "needs_background": "light"
     },
     "output_type": "display_data"
    }
   ],
   "source": [
    "pd.Series(training_set.flat).plot()"
   ]
  },
  {
   "cell_type": "markdown",
   "id": "b707d1be",
   "metadata": {},
   "source": [
    "# Apply log transfer "
   ]
  },
  {
   "cell_type": "code",
   "execution_count": 78,
   "id": "69658b57",
   "metadata": {},
   "outputs": [
    {
     "data": {
      "text/plain": [
       "array([[2.24215721],\n",
       "       [2.2553652 ],\n",
       "       [2.20568115],\n",
       "       [2.24225587],\n",
       "       [2.20155869]])"
      ]
     },
     "execution_count": 78,
     "metadata": {},
     "output_type": "execute_result"
    }
   ],
   "source": [
    "# log transform the target data\n",
    "import numpy as np\n",
    "training_set_log = np.log(training_set)\n",
    "training_set_log[:5]"
   ]
  },
  {
   "cell_type": "code",
   "execution_count": 79,
   "id": "d59a86fe",
   "metadata": {},
   "outputs": [
    {
     "data": {
      "text/plain": [
       "<AxesSubplot:>"
      ]
     },
     "execution_count": 79,
     "metadata": {},
     "output_type": "execute_result"
    },
    {
     "data": {
      "image/png": "[encoded data removed]",
      "text/plain": [
       "<Figure size 360x360 with 1 Axes>"
      ]
     },
     "metadata": {
      "needs_background": "light"
     },
     "output_type": "display_data"
    }
   ],
   "source": [
    "pd.Series(training_set_log.flat).plot()"
   ]
  },
  {
   "cell_type": "code",
   "execution_count": 80,
   "id": "41217f3b",
   "metadata": {},
   "outputs": [],
   "source": [
    "#Transform time series for having lag values and output variable"
   ]
  },
  {
   "cell_type": "code",
   "execution_count": 81,
   "id": "f171ec1a",
   "metadata": {},
   "outputs": [],
   "source": [
    "timesteps=5 # How many lag Values to train the data\n",
    "trn_size = dataset_train.shape[0]"
   ]
  },
  {
   "cell_type": "code",
   "execution_count": 82,
   "id": "e9a08d80",
   "metadata": {},
   "outputs": [],
   "source": [
    "# add lag values to train dataset\n",
    "X_train = []\n",
    "y_train = []\n",
    "for i in range(timesteps, trn_size):\n",
    "    X_train.append(training_set_log[i-timesteps:i, 0])\n",
    "    y_train.append(training_set_log[i, 0])\n",
    "X_train, y_train = np.array(X_train), np.array(y_train)\n"
   ]
  },
  {
   "cell_type": "code",
   "execution_count": 83,
   "id": "4e33aa38",
   "metadata": {},
   "outputs": [
    {
     "data": {
      "text/plain": [
       "(85, 5)"
      ]
     },
     "execution_count": 83,
     "metadata": {},
     "output_type": "execute_result"
    }
   ],
   "source": [
    "X_train.shape"
   ]
  },
  {
   "cell_type": "code",
   "execution_count": 84,
   "id": "474d1844",
   "metadata": {},
   "outputs": [
    {
     "data": {
      "text/plain": [
       "(85,)"
      ]
     },
     "execution_count": 84,
     "metadata": {},
     "output_type": "execute_result"
    }
   ],
   "source": [
    "y_train.shape"
   ]
  },
  {
   "cell_type": "code",
   "execution_count": 85,
   "id": "e0d712ee",
   "metadata": {},
   "outputs": [
    {
     "data": {
      "text/plain": [
       "array([[2.24215721, 2.2553652 , 2.20568115, 2.24225587, 2.20155869]])"
      ]
     },
     "execution_count": 85,
     "metadata": {},
     "output_type": "execute_result"
    }
   ],
   "source": [
    "X_train[:1]"
   ]
  },
  {
   "cell_type": "code",
   "execution_count": 86,
   "id": "173bfacf",
   "metadata": {},
   "outputs": [
    {
     "data": {
      "text/plain": [
       "array([2.22725647])"
      ]
     },
     "execution_count": 86,
     "metadata": {},
     "output_type": "execute_result"
    }
   ],
   "source": [
    "y_train[:1]"
   ]
  },
  {
   "cell_type": "code",
   "execution_count": 87,
   "id": "bc84799f",
   "metadata": {},
   "outputs": [
    {
     "data": {
      "text/html": [
       "<div>\n",
       "<style scoped>\n",
       "    .dataframe tbody tr th:only-of-type {\n",
       "        vertical-align: middle;\n",
       "    }\n",
       "\n",
       "    .dataframe tbody tr th {\n",
       "        vertical-align: top;\n",
       "    }\n",
       "\n",
       "    .dataframe thead th {\n",
       "        text-align: right;\n",
       "    }\n",
       "</style>\n",
       "<table border=\"1\" class=\"dataframe\">\n",
       "  <thead>\n",
       "    <tr style=\"text-align: right;\">\n",
       "      <th></th>\n",
       "      <th>0</th>\n",
       "      <th>1</th>\n",
       "      <th>2</th>\n",
       "      <th>3</th>\n",
       "      <th>4</th>\n",
       "    </tr>\n",
       "  </thead>\n",
       "  <tbody>\n",
       "    <tr>\n",
       "      <th>0</th>\n",
       "      <td>2.242157</td>\n",
       "      <td>2.255365</td>\n",
       "      <td>2.205681</td>\n",
       "      <td>2.242256</td>\n",
       "      <td>2.201559</td>\n",
       "    </tr>\n",
       "    <tr>\n",
       "      <th>1</th>\n",
       "      <td>2.255365</td>\n",
       "      <td>2.205681</td>\n",
       "      <td>2.242256</td>\n",
       "      <td>2.201559</td>\n",
       "      <td>2.227256</td>\n",
       "    </tr>\n",
       "    <tr>\n",
       "      <th>2</th>\n",
       "      <td>2.205681</td>\n",
       "      <td>2.242256</td>\n",
       "      <td>2.201559</td>\n",
       "      <td>2.227256</td>\n",
       "      <td>2.263033</td>\n",
       "    </tr>\n",
       "    <tr>\n",
       "      <th>3</th>\n",
       "      <td>2.242256</td>\n",
       "      <td>2.201559</td>\n",
       "      <td>2.227256</td>\n",
       "      <td>2.263033</td>\n",
       "      <td>2.180706</td>\n",
       "    </tr>\n",
       "    <tr>\n",
       "      <th>4</th>\n",
       "      <td>2.201559</td>\n",
       "      <td>2.227256</td>\n",
       "      <td>2.263033</td>\n",
       "      <td>2.180706</td>\n",
       "      <td>2.197535</td>\n",
       "    </tr>\n",
       "  </tbody>\n",
       "</table>\n",
       "</div>"
      ],
      "text/plain": [
       "          0         1         2         3         4\n",
       "0  2.242157  2.255365  2.205681  2.242256  2.201559\n",
       "1  2.255365  2.205681  2.242256  2.201559  2.227256\n",
       "2  2.205681  2.242256  2.201559  2.227256  2.263033\n",
       "3  2.242256  2.201559  2.227256  2.263033  2.180706\n",
       "4  2.201559  2.227256  2.263033  2.180706  2.197535"
      ]
     },
     "execution_count": 87,
     "metadata": {},
     "output_type": "execute_result"
    }
   ],
   "source": [
    "pd.DataFrame(X_train).head()"
   ]
  },
  {
   "cell_type": "markdown",
   "id": "4b0e11eb",
   "metadata": {},
   "source": [
    "## Reshape X_train to add extra dimension"
   ]
  },
  {
   "cell_type": "code",
   "execution_count": 88,
   "id": "17c837fe",
   "metadata": {},
   "outputs": [],
   "source": [
    "#It is added to be processed easily by RNN / LSTM\n",
    "#Reshaping\n",
    "X_train = np.reshape(X_train, (X_train.shape[0], X_train.shape[1], 1))"
   ]
  },
  {
   "cell_type": "code",
   "execution_count": 89,
   "id": "db9b0230",
   "metadata": {},
   "outputs": [
    {
     "data": {
      "text/plain": [
       "(85, 5, 1)"
      ]
     },
     "execution_count": 89,
     "metadata": {},
     "output_type": "execute_result"
    }
   ],
   "source": [
    "X_train.shape"
   ]
  },
  {
   "cell_type": "code",
   "execution_count": 90,
   "id": "d77601bc",
   "metadata": {},
   "outputs": [
    {
     "data": {
      "text/plain": [
       "array([[[2.24215721],\n",
       "        [2.2553652 ],\n",
       "        [2.20568115],\n",
       "        [2.24225587],\n",
       "        [2.20155869]]])"
      ]
     },
     "execution_count": 90,
     "metadata": {},
     "output_type": "execute_result"
    }
   ],
   "source": [
    "X_train[:1]"
   ]
  },
  {
   "cell_type": "markdown",
   "id": "a205b144",
   "metadata": {},
   "source": [
    "## Building the RNN / LSTM"
   ]
  },
  {
   "cell_type": "code",
   "execution_count": 91,
   "id": "50b98d3a",
   "metadata": {},
   "outputs": [],
   "source": [
    "import tensorflow as tf\n",
    "from tensorflow import keras"
   ]
  },
  {
   "cell_type": "code",
   "execution_count": 92,
   "id": "783d4d98",
   "metadata": {},
   "outputs": [
    {
     "data": {
      "text/plain": [
       "numpy.ndarray"
      ]
     },
     "execution_count": 92,
     "metadata": {},
     "output_type": "execute_result"
    }
   ],
   "source": [
    "type(X_train)"
   ]
  },
  {
   "cell_type": "code",
   "execution_count": 93,
   "id": "4a3bb891",
   "metadata": {},
   "outputs": [
    {
     "data": {
      "text/plain": [
       "(5, 1)"
      ]
     },
     "execution_count": 93,
     "metadata": {},
     "output_type": "execute_result"
    }
   ],
   "source": [
    "(X_train.shape[1],X_train.shape[2])"
   ]
  },
  {
   "cell_type": "code",
   "execution_count": 94,
   "id": "b44a150c",
   "metadata": {},
   "outputs": [],
   "source": [
    "#create the model\n",
    "\n",
    "model = keras.Sequential()\n",
    "\n",
    "# Adding LSTM layers\n",
    "# inputlayer()\n",
    "model.add(keras.layers.LSTM(units=10,#return_sequences = True, \n",
    "                            input_shape= (X_train.shape[1],X_train.shape[2]) ))\n",
    "# model.add(keras.layers.LSTM(units=70,return_sequences = True ))\n",
    "# model.add(keras.layers.LSTM(units=25 ))\n",
    "\n",
    "# Adding the output layer\n",
    "model.add(keras.layers.Dense(1))\n",
    "\n",
    "# Compiling the RNN\n",
    "model.compile(optimizer = 'adam', loss = 'mean_squared_error')"
   ]
  },
  {
   "cell_type": "code",
   "execution_count": 95,
   "id": "21c93179",
   "metadata": {},
   "outputs": [
    {
     "name": "stdout",
     "output_type": "stream",
     "text": [
      "Model: \"sequential\"\n",
      "_________________________________________________________________\n",
      " Layer (type)                Output Shape              Param #   \n",
      "=================================================================\n",
      " lstm (LSTM)                 (None, 10)                480       \n",
      "                                                                 \n",
      " dense (Dense)               (None, 1)                 11        \n",
      "                                                                 \n",
      "=================================================================\n",
      "Total params: 491\n",
      "Trainable params: 491\n",
      "Non-trainable params: 0\n",
      "_________________________________________________________________\n"
     ]
    }
   ],
   "source": [
    "model.summary()"
   ]
  },
  {
   "cell_type": "markdown",
   "id": "258716e5",
   "metadata": {},
   "source": [
    "## Fitting the RNN to the Training set"
   ]
  },
  {
   "cell_type": "code",
   "execution_count": 96,
   "id": "07487cc8",
   "metadata": {},
   "outputs": [
    {
     "name": "stdout",
     "output_type": "stream",
     "text": [
      "Epoch 1/50\n",
      "12/12 [==============================] - 2s 46ms/step - loss: 10.1552 - val_loss: 9.4499\n",
      "Epoch 2/50\n",
      "12/12 [==============================] - 0s 12ms/step - loss: 8.6460 - val_loss: 8.0705\n",
      "Epoch 3/50\n",
      "12/12 [==============================] - 0s 8ms/step - loss: 7.3922 - val_loss: 6.9100\n",
      "Epoch 4/50\n",
      "12/12 [==============================] - 0s 9ms/step - loss: 6.3197 - val_loss: 5.8939\n",
      "Epoch 5/50\n",
      "12/12 [==============================] - 0s 15ms/step - loss: 5.3648 - val_loss: 4.9731\n",
      "Epoch 6/50\n",
      "12/12 [==============================] - 0s 15ms/step - loss: 4.4940 - val_loss: 4.1299\n",
      "Epoch 7/50\n",
      "12/12 [==============================] - 0s 15ms/step - loss: 3.6962 - val_loss: 3.3615\n",
      "Epoch 8/50\n",
      "12/12 [==============================] - 0s 12ms/step - loss: 2.9724 - val_loss: 2.6678\n",
      "Epoch 9/50\n",
      "12/12 [==============================] - 0s 15ms/step - loss: 2.3244 - val_loss: 2.0536\n",
      "Epoch 10/50\n",
      "12/12 [==============================] - 0s 14ms/step - loss: 1.7583 - val_loss: 1.5262\n",
      "Epoch 11/50\n",
      "12/12 [==============================] - 0s 9ms/step - loss: 1.2810 - val_loss: 1.0933\n",
      "Epoch 12/50\n",
      "12/12 [==============================] - 0s 15ms/step - loss: 0.8984 - val_loss: 0.7553\n",
      "Epoch 13/50\n",
      "12/12 [==============================] - 0s 10ms/step - loss: 0.6072 - val_loss: 0.5044\n",
      "Epoch 14/50\n",
      "12/12 [==============================] - 0s 15ms/step - loss: 0.3956 - val_loss: 0.3266\n",
      "Epoch 15/50\n",
      "12/12 [==============================] - 0s 15ms/step - loss: 0.2488 - val_loss: 0.2054\n",
      "Epoch 16/50\n",
      "12/12 [==============================] - 0s 14ms/step - loss: 0.1516 - val_loss: 0.1255\n",
      "Epoch 17/50\n",
      "12/12 [==============================] - 0s 9ms/step - loss: 0.0893 - val_loss: 0.0747\n",
      "Epoch 18/50\n",
      "12/12 [==============================] - 0s 16ms/step - loss: 0.0508 - val_loss: 0.0437\n",
      "Epoch 19/50\n",
      "12/12 [==============================] - 0s 5ms/step - loss: 0.0281 - val_loss: 0.0254\n",
      "Epoch 20/50\n",
      "12/12 [==============================] - 0s 9ms/step - loss: 0.0152 - val_loss: 0.0147\n",
      "Epoch 21/50\n",
      "12/12 [==============================] - 0s 13ms/step - loss: 0.0081 - val_loss: 0.0088\n",
      "Epoch 22/50\n",
      "12/12 [==============================] - 0s 16ms/step - loss: 0.0044 - val_loss: 0.0055\n",
      "Epoch 23/50\n",
      "12/12 [==============================] - 0s 16ms/step - loss: 0.0026 - val_loss: 0.0037\n",
      "Epoch 24/50\n",
      "12/12 [==============================] - 0s 16ms/step - loss: 0.0017 - val_loss: 0.0027\n",
      "Epoch 25/50\n",
      "12/12 [==============================] - 0s 16ms/step - loss: 0.0013 - val_loss: 0.0022\n",
      "Epoch 26/50\n",
      "12/12 [==============================] - 0s 15ms/step - loss: 0.0011 - val_loss: 0.0019\n",
      "Epoch 27/50\n",
      "12/12 [==============================] - 0s 10ms/step - loss: 0.0010 - val_loss: 0.0017\n",
      "Epoch 28/50\n",
      "12/12 [==============================] - 0s 13ms/step - loss: 0.0010 - val_loss: 0.0016\n",
      "Epoch 29/50\n",
      "12/12 [==============================] - 0s 11ms/step - loss: 9.9375e-04 - val_loss: 0.0015\n",
      "Epoch 30/50\n",
      "12/12 [==============================] - 0s 16ms/step - loss: 9.8153e-04 - val_loss: 0.0015\n",
      "Epoch 31/50\n",
      "12/12 [==============================] - 0s 18ms/step - loss: 9.8135e-04 - val_loss: 0.0015\n",
      "Epoch 32/50\n",
      "12/12 [==============================] - 0s 17ms/step - loss: 9.8058e-04 - val_loss: 0.0015\n",
      "Epoch 33/50\n",
      "12/12 [==============================] - 0s 12ms/step - loss: 9.7989e-04 - val_loss: 0.0015\n",
      "Epoch 34/50\n",
      "12/12 [==============================] - 0s 11ms/step - loss: 9.8063e-04 - val_loss: 0.0015\n",
      "Epoch 35/50\n",
      "12/12 [==============================] - 0s 6ms/step - loss: 9.8185e-04 - val_loss: 0.0014\n",
      "Epoch 36/50\n",
      "12/12 [==============================] - 0s 15ms/step - loss: 9.7967e-04 - val_loss: 0.0014\n",
      "Epoch 37/50\n",
      "12/12 [==============================] - 0s 10ms/step - loss: 9.7990e-04 - val_loss: 0.0015\n",
      "Epoch 38/50\n",
      "12/12 [==============================] - 0s 14ms/step - loss: 9.8362e-04 - val_loss: 0.0014\n",
      "Epoch 39/50\n",
      "12/12 [==============================] - 0s 12ms/step - loss: 9.7920e-04 - val_loss: 0.0015\n",
      "Epoch 40/50\n",
      "12/12 [==============================] - 0s 16ms/step - loss: 9.8134e-04 - val_loss: 0.0015\n",
      "Epoch 41/50\n",
      "12/12 [==============================] - 0s 12ms/step - loss: 9.8244e-04 - val_loss: 0.0015\n",
      "Epoch 42/50\n",
      "12/12 [==============================] - 0s 12ms/step - loss: 9.7985e-04 - val_loss: 0.0015\n",
      "Epoch 43/50\n",
      "12/12 [==============================] - 0s 10ms/step - loss: 9.8038e-04 - val_loss: 0.0014\n",
      "Epoch 44/50\n",
      "12/12 [==============================] - 0s 7ms/step - loss: 9.8010e-04 - val_loss: 0.0014\n",
      "Epoch 45/50\n",
      "12/12 [==============================] - 0s 8ms/step - loss: 9.7924e-04 - val_loss: 0.0015\n",
      "Epoch 46/50\n",
      "12/12 [==============================] - 0s 6ms/step - loss: 9.8240e-04 - val_loss: 0.0014\n",
      "Epoch 47/50\n",
      "12/12 [==============================] - 0s 14ms/step - loss: 9.7905e-04 - val_loss: 0.0015\n",
      "Epoch 48/50\n",
      "12/12 [==============================] - 0s 10ms/step - loss: 9.7905e-04 - val_loss: 0.0015\n",
      "Epoch 49/50\n",
      "12/12 [==============================] - 0s 10ms/step - loss: 9.8391e-04 - val_loss: 0.0015\n",
      "Epoch 50/50\n",
      "12/12 [==============================] - 0s 17ms/step - loss: 9.8138e-04 - val_loss: 0.0015\n"
     ]
    }
   ],
   "source": [
    "history = model.fit( X_train, y_train, validation_split=0.3,epochs = 50, batch_size = 5)"
   ]
  },
  {
   "cell_type": "code",
   "execution_count": 97,
   "id": "42594c1a",
   "metadata": {},
   "outputs": [
    {
     "data": {
      "text/plain": [
       "[<matplotlib.lines.Line2D at 0x1fcff266670>]"
      ]
     },
     "execution_count": 97,
     "metadata": {},
     "output_type": "execute_result"
    },
    {
     "data": {
      "image/png": "[encoded data removed]",
      "text/plain": [
       "<Figure size 360x360 with 1 Axes>"
      ]
     },
     "metadata": {
      "needs_background": "light"
     },
     "output_type": "display_data"
    }
   ],
   "source": [
    "import matplotlib.pyplot as plt\n",
    "plt.plot(history.history['loss'])\n",
    "plt.plot(history.history['val_loss'])"
   ]
  }
 ],
 "metadata": {
  "kernelspec": {
   "display_name": "Python 3 (ipykernel)",
   "language": "python",
   "name": "python3"
  },
  "language_info": {
   "codemirror_mode": {
    "name": "ipython",
    "version": 3
   },
   "file_extension": ".py",
   "mimetype": "text/x-python",
   "name": "python",
   "nbconvert_exporter": "python",
   "pygments_lexer": "ipython3",
   "version": "3.9.7"
  }
 },
 "nbformat": 4,
 "nbformat_minor": 5
}
