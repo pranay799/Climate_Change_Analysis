{
 "cells": [
  {
   "cell_type": "markdown",
   "id": "702db94c",
   "metadata": {},
   "source": [
    "# Climate Change Analysis"
   ]
  },
  {
   "cell_type": "code",
   "execution_count": 1,
   "id": "efdeba6b",
   "metadata": {},
   "outputs": [],
   "source": [
    "#import required libraries & Modules\n",
    "import pandas as pd\n",
    "from datetime import datetime,timedelta\n",
    "import matplotlib.pyplot as plt\n",
    "import numpy as np\n",
    "from statsmodels.tsa.seasonal import seasonal_decompose\n",
    "import seaborn as sns\n",
    "%matplotlib inline\n",
    "import warnings\n",
    "warnings.filterwarnings('ignore')"
   ]
  },
  {
   "cell_type": "code",
   "execution_count": 2,
   "id": "f49c7b9c",
   "metadata": {},
   "outputs": [
    {
     "data": {
      "text/html": [
       "<div>\n",
       "<style scoped>\n",
       "    .dataframe tbody tr th:only-of-type {\n",
       "        vertical-align: middle;\n",
       "    }\n",
       "\n",
       "    .dataframe tbody tr th {\n",
       "        vertical-align: top;\n",
       "    }\n",
       "\n",
       "    .dataframe thead th {\n",
       "        text-align: right;\n",
       "    }\n",
       "</style>\n",
       "<table border=\"1\" class=\"dataframe\">\n",
       "  <thead>\n",
       "    <tr style=\"text-align: right;\">\n",
       "      <th></th>\n",
       "      <th>dt</th>\n",
       "      <th>AverageTemperature</th>\n",
       "      <th>AverageTemperatureUncertainty</th>\n",
       "      <th>State</th>\n",
       "      <th>Country</th>\n",
       "    </tr>\n",
       "  </thead>\n",
       "  <tbody>\n",
       "    <tr>\n",
       "      <th>0</th>\n",
       "      <td>1855-05-01</td>\n",
       "      <td>25.544</td>\n",
       "      <td>1.171</td>\n",
       "      <td>Acre</td>\n",
       "      <td>Brazil</td>\n",
       "    </tr>\n",
       "    <tr>\n",
       "      <th>1</th>\n",
       "      <td>1855-06-01</td>\n",
       "      <td>24.228</td>\n",
       "      <td>1.103</td>\n",
       "      <td>Acre</td>\n",
       "      <td>Brazil</td>\n",
       "    </tr>\n",
       "    <tr>\n",
       "      <th>2</th>\n",
       "      <td>1855-07-01</td>\n",
       "      <td>24.371</td>\n",
       "      <td>1.044</td>\n",
       "      <td>Acre</td>\n",
       "      <td>Brazil</td>\n",
       "    </tr>\n",
       "    <tr>\n",
       "      <th>3</th>\n",
       "      <td>1855-08-01</td>\n",
       "      <td>25.427</td>\n",
       "      <td>1.073</td>\n",
       "      <td>Acre</td>\n",
       "      <td>Brazil</td>\n",
       "    </tr>\n",
       "    <tr>\n",
       "      <th>4</th>\n",
       "      <td>1855-09-01</td>\n",
       "      <td>25.675</td>\n",
       "      <td>1.014</td>\n",
       "      <td>Acre</td>\n",
       "      <td>Brazil</td>\n",
       "    </tr>\n",
       "  </tbody>\n",
       "</table>\n",
       "</div>"
      ],
      "text/plain": [
       "           dt  AverageTemperature  AverageTemperatureUncertainty State Country\n",
       "0  1855-05-01              25.544                          1.171  Acre  Brazil\n",
       "1  1855-06-01              24.228                          1.103  Acre  Brazil\n",
       "2  1855-07-01              24.371                          1.044  Acre  Brazil\n",
       "3  1855-08-01              25.427                          1.073  Acre  Brazil\n",
       "4  1855-09-01              25.675                          1.014  Acre  Brazil"
      ]
     },
     "execution_count": 2,
     "metadata": {},
     "output_type": "execute_result"
    }
   ],
   "source": [
    "#import dataset\n",
    "df=pd.read_csv('GlobalLandTemperaturesByState.csv')\n",
    "df.head()\n"
   ]
  },
  {
   "cell_type": "code",
   "execution_count": 3,
   "id": "effcd433",
   "metadata": {},
   "outputs": [
    {
     "name": "stdout",
     "output_type": "stream",
     "text": [
      "dt                                object\n",
      "AverageTemperature               float64\n",
      "AverageTemperatureUncertainty    float64\n",
      "State                             object\n",
      "Country                           object\n",
      "dtype: object\n",
      "Shape of data :  (645675, 5)\n"
     ]
    }
   ],
   "source": [
    "print(df.dtypes)\n",
    "print(\"Shape of data : \",df.shape)"
   ]
  },
  {
   "cell_type": "code",
   "execution_count": 4,
   "id": "ccb686ed",
   "metadata": {},
   "outputs": [
    {
     "data": {
      "text/plain": [
       "(7, 241)"
      ]
     },
     "execution_count": 4,
     "metadata": {},
     "output_type": "execute_result"
    }
   ],
   "source": [
    "#No of Country and state\n",
    "df['Country'].nunique() , df['State'].nunique()"
   ]
  },
  {
   "cell_type": "code",
   "execution_count": 5,
   "id": "af436cdc",
   "metadata": {},
   "outputs": [
    {
     "data": {
      "text/plain": [
       "array(['Brazil', 'Russia', 'United States', 'Canada', 'India', 'China',\n",
       "       'Australia'], dtype=object)"
      ]
     },
     "execution_count": 5,
     "metadata": {},
     "output_type": "execute_result"
    }
   ],
   "source": [
    "df['Country'].unique()"
   ]
  },
  {
   "cell_type": "markdown",
   "id": "65c847a8",
   "metadata": {},
   "source": [
    "## Select India for time-series analysis"
   ]
  },
  {
   "cell_type": "code",
   "execution_count": 6,
   "id": "5636fab2",
   "metadata": {},
   "outputs": [],
   "source": [
    "df_ind=df[(df['Country'] == 'India')]"
   ]
  },
  {
   "cell_type": "code",
   "execution_count": 7,
   "id": "c767d485",
   "metadata": {},
   "outputs": [
    {
     "data": {
      "text/plain": [
       "array(['Andaman And Nicobar', 'Andhra Pradesh', 'Arunachal Pradesh',\n",
       "       'Assam', 'Bihar', 'Chandigarh', 'Chhattisgarh',\n",
       "       'Dadra And Nagar Haveli', 'Daman And Diu', 'Delhi', 'Goa',\n",
       "       'Gujarat', 'Haryana', 'Himachal Pradesh', 'Jammu And Kashmir',\n",
       "       'Jharkhand', 'Karnataka', 'Kerala', 'Madhya Pradesh',\n",
       "       'Maharashtra', 'Manipur', 'Meghalaya', 'Mizoram', 'Nagaland',\n",
       "       'Orissa', 'Puducherry', 'Punjab', 'Rajasthan', 'Sikkim',\n",
       "       'Tamil Nadu', 'Tripura', 'Uttar Pradesh', 'Uttaranchal',\n",
       "       'West Bengal'], dtype=object)"
      ]
     },
     "execution_count": 7,
     "metadata": {},
     "output_type": "execute_result"
    }
   ],
   "source": [
    "df_ind['State'].unique()"
   ]
  },
  {
   "cell_type": "code",
   "execution_count": 8,
   "id": "31a9f3b6",
   "metadata": {},
   "outputs": [],
   "source": [
    "df_maha = df_ind[(df_ind['State'] == 'Maharashtra')]"
   ]
  },
  {
   "cell_type": "code",
   "execution_count": 9,
   "id": "92043844",
   "metadata": {},
   "outputs": [
    {
     "data": {
      "text/plain": [
       "(2613, 5)"
      ]
     },
     "execution_count": 9,
     "metadata": {},
     "output_type": "execute_result"
    }
   ],
   "source": [
    "df_maha.shape"
   ]
  },
  {
   "cell_type": "code",
   "execution_count": 10,
   "id": "f592201d",
   "metadata": {},
   "outputs": [],
   "source": [
    "#Rename the columns\n",
    "df_maha.rename(columns={'dt':'Date'},inplace=True)"
   ]
  },
  {
   "cell_type": "code",
   "execution_count": 11,
   "id": "b6d7d666",
   "metadata": {},
   "outputs": [
    {
     "data": {
      "text/plain": [
       "DatetimeIndex(['1796-01-01', '1796-02-01', '1796-03-01', '1796-04-01',\n",
       "               '1796-05-01', '1796-06-01', '1796-07-01', '1796-08-01',\n",
       "               '1796-09-01', '1796-10-01',\n",
       "               ...\n",
       "               '2012-12-01', '2013-01-01', '2013-02-01', '2013-03-01',\n",
       "               '2013-04-01', '2013-05-01', '2013-06-01', '2013-07-01',\n",
       "               '2013-08-01', '2013-09-01'],\n",
       "              dtype='datetime64[ns]', name='Date', length=2613, freq=None)"
      ]
     },
     "execution_count": 11,
     "metadata": {},
     "output_type": "execute_result"
    }
   ],
   "source": [
    "# make Date column  index\n",
    "df_maha['Date']=pd.to_datetime(df_maha['Date'])\n",
    "df_maha.set_index('Date',inplace=True)\n",
    "df_maha.index"
   ]
  },
  {
   "cell_type": "code",
   "execution_count": 12,
   "id": "c5719066",
   "metadata": {},
   "outputs": [
    {
     "data": {
      "text/html": [
       "<div>\n",
       "<style scoped>\n",
       "    .dataframe tbody tr th:only-of-type {\n",
       "        vertical-align: middle;\n",
       "    }\n",
       "\n",
       "    .dataframe tbody tr th {\n",
       "        vertical-align: top;\n",
       "    }\n",
       "\n",
       "    .dataframe thead th {\n",
       "        text-align: right;\n",
       "    }\n",
       "</style>\n",
       "<table border=\"1\" class=\"dataframe\">\n",
       "  <thead>\n",
       "    <tr style=\"text-align: right;\">\n",
       "      <th></th>\n",
       "      <th>AverageTemperature</th>\n",
       "      <th>AverageTemperatureUncertainty</th>\n",
       "      <th>State</th>\n",
       "      <th>Country</th>\n",
       "    </tr>\n",
       "    <tr>\n",
       "      <th>Date</th>\n",
       "      <th></th>\n",
       "      <th></th>\n",
       "      <th></th>\n",
       "      <th></th>\n",
       "    </tr>\n",
       "  </thead>\n",
       "  <tbody>\n",
       "    <tr>\n",
       "      <th>1796-01-01</th>\n",
       "      <td>21.195</td>\n",
       "      <td>2.134</td>\n",
       "      <td>Maharashtra</td>\n",
       "      <td>India</td>\n",
       "    </tr>\n",
       "    <tr>\n",
       "      <th>1796-02-01</th>\n",
       "      <td>23.250</td>\n",
       "      <td>1.385</td>\n",
       "      <td>Maharashtra</td>\n",
       "      <td>India</td>\n",
       "    </tr>\n",
       "    <tr>\n",
       "      <th>1796-03-01</th>\n",
       "      <td>26.075</td>\n",
       "      <td>2.237</td>\n",
       "      <td>Maharashtra</td>\n",
       "      <td>India</td>\n",
       "    </tr>\n",
       "    <tr>\n",
       "      <th>1796-04-01</th>\n",
       "      <td>30.374</td>\n",
       "      <td>1.605</td>\n",
       "      <td>Maharashtra</td>\n",
       "      <td>India</td>\n",
       "    </tr>\n",
       "    <tr>\n",
       "      <th>1796-05-01</th>\n",
       "      <td>32.132</td>\n",
       "      <td>1.340</td>\n",
       "      <td>Maharashtra</td>\n",
       "      <td>India</td>\n",
       "    </tr>\n",
       "  </tbody>\n",
       "</table>\n",
       "</div>"
      ],
      "text/plain": [
       "            AverageTemperature  AverageTemperatureUncertainty        State  \\\n",
       "Date                                                                         \n",
       "1796-01-01              21.195                          2.134  Maharashtra   \n",
       "1796-02-01              23.250                          1.385  Maharashtra   \n",
       "1796-03-01              26.075                          2.237  Maharashtra   \n",
       "1796-04-01              30.374                          1.605  Maharashtra   \n",
       "1796-05-01              32.132                          1.340  Maharashtra   \n",
       "\n",
       "           Country  \n",
       "Date                \n",
       "1796-01-01   India  \n",
       "1796-02-01   India  \n",
       "1796-03-01   India  \n",
       "1796-04-01   India  \n",
       "1796-05-01   India  "
      ]
     },
     "execution_count": 12,
     "metadata": {},
     "output_type": "execute_result"
    }
   ],
   "source": [
    "df_maha.head()"
   ]
  },
  {
   "cell_type": "code",
   "execution_count": 13,
   "id": "2c8a31c7",
   "metadata": {
    "scrolled": true
   },
   "outputs": [
    {
     "data": {
      "text/plain": [
       "AverageTemperature               105\n",
       "AverageTemperatureUncertainty    105\n",
       "State                              0\n",
       "Country                            0\n",
       "dtype: int64"
      ]
     },
     "execution_count": 13,
     "metadata": {},
     "output_type": "execute_result"
    }
   ],
   "source": [
    "#Find the missing value  \n",
    "df_maha.isnull().sum()"
   ]
  },
  {
   "cell_type": "markdown",
   "id": "32329825",
   "metadata": {},
   "source": [
    "## fill misssing value with Rolling average"
   ]
  },
  {
   "cell_type": "code",
   "execution_count": 14,
   "id": "febd0af2",
   "metadata": {},
   "outputs": [],
   "source": [
    "\n",
    "df_maha['new_avg']= df_maha.AverageTemperature.fillna(df_maha.AverageTemperature.rolling(12,center=True,min_periods=1).mean())"
   ]
  },
  {
   "cell_type": "code",
   "execution_count": 15,
   "id": "d255c10b",
   "metadata": {},
   "outputs": [
    {
     "data": {
      "text/plain": [
       "AverageTemperature               105\n",
       "AverageTemperatureUncertainty    105\n",
       "State                              0\n",
       "Country                            0\n",
       "new_avg                           71\n",
       "dtype: int64"
      ]
     },
     "execution_count": 15,
     "metadata": {},
     "output_type": "execute_result"
    }
   ],
   "source": [
    "df_maha.isnull().sum()"
   ]
  },
  {
   "cell_type": "code",
   "execution_count": 16,
   "id": "69f5b906",
   "metadata": {},
   "outputs": [
    {
     "data": {
      "text/plain": [
       "(Timestamp('1796-01-01 00:00:00'), Timestamp('2013-09-01 00:00:00'))"
      ]
     },
     "execution_count": 16,
     "metadata": {},
     "output_type": "execute_result"
    }
   ],
   "source": [
    "df_maha.index.min(),df_maha.index.max()"
   ]
  },
  {
   "cell_type": "code",
   "execution_count": 17,
   "id": "14db0933",
   "metadata": {},
   "outputs": [
    {
     "data": {
      "text/plain": [
       "49"
      ]
     },
     "execution_count": 17,
     "metadata": {},
     "output_type": "execute_result"
    }
   ],
   "source": [
    "df_maha.loc['1805':'1820','new_avg'].isnull().sum()"
   ]
  },
  {
   "cell_type": "code",
   "execution_count": 18,
   "id": "a8018d2b",
   "metadata": {},
   "outputs": [
    {
     "data": {
      "text/plain": [
       "22"
      ]
     },
     "execution_count": 18,
     "metadata": {},
     "output_type": "execute_result"
    }
   ],
   "source": [
    "df_maha.loc['1862':'1864','new_avg'].isnull().sum()"
   ]
  },
  {
   "cell_type": "code",
   "execution_count": 19,
   "id": "420d48f9",
   "metadata": {},
   "outputs": [],
   "source": [
    "# As between 1862-1864 there are missing value select time-series from 1865"
   ]
  },
  {
   "cell_type": "code",
   "execution_count": 20,
   "id": "dfe0b3ed",
   "metadata": {},
   "outputs": [],
   "source": [
    "latest_df= df_maha.loc['1865':'2013']"
   ]
  },
  {
   "cell_type": "code",
   "execution_count": 21,
   "id": "99d911e7",
   "metadata": {},
   "outputs": [
    {
     "data": {
      "text/plain": [
       "0"
      ]
     },
     "execution_count": 21,
     "metadata": {},
     "output_type": "execute_result"
    }
   ],
   "source": [
    "latest_df['new_avg'].isnull().sum()"
   ]
  },
  {
   "cell_type": "code",
   "execution_count": 22,
   "id": "43da5edb",
   "metadata": {},
   "outputs": [
    {
     "data": {
      "text/html": [
       "<div>\n",
       "<style scoped>\n",
       "    .dataframe tbody tr th:only-of-type {\n",
       "        vertical-align: middle;\n",
       "    }\n",
       "\n",
       "    .dataframe tbody tr th {\n",
       "        vertical-align: top;\n",
       "    }\n",
       "\n",
       "    .dataframe thead th {\n",
       "        text-align: right;\n",
       "    }\n",
       "</style>\n",
       "<table border=\"1\" class=\"dataframe\">\n",
       "  <thead>\n",
       "    <tr style=\"text-align: right;\">\n",
       "      <th></th>\n",
       "      <th>AverageTemperature</th>\n",
       "      <th>AverageTemperatureUncertainty</th>\n",
       "      <th>State</th>\n",
       "      <th>Country</th>\n",
       "      <th>new_avg</th>\n",
       "    </tr>\n",
       "    <tr>\n",
       "      <th>Date</th>\n",
       "      <th></th>\n",
       "      <th></th>\n",
       "      <th></th>\n",
       "      <th></th>\n",
       "      <th></th>\n",
       "    </tr>\n",
       "  </thead>\n",
       "  <tbody>\n",
       "    <tr>\n",
       "      <th>1865-01-01</th>\n",
       "      <td>21.672</td>\n",
       "      <td>1.255</td>\n",
       "      <td>Maharashtra</td>\n",
       "      <td>India</td>\n",
       "      <td>21.672</td>\n",
       "    </tr>\n",
       "    <tr>\n",
       "      <th>1865-02-01</th>\n",
       "      <td>23.269</td>\n",
       "      <td>2.237</td>\n",
       "      <td>Maharashtra</td>\n",
       "      <td>India</td>\n",
       "      <td>23.269</td>\n",
       "    </tr>\n",
       "    <tr>\n",
       "      <th>1865-03-01</th>\n",
       "      <td>26.381</td>\n",
       "      <td>1.341</td>\n",
       "      <td>Maharashtra</td>\n",
       "      <td>India</td>\n",
       "      <td>26.381</td>\n",
       "    </tr>\n",
       "    <tr>\n",
       "      <th>1865-04-01</th>\n",
       "      <td>30.169</td>\n",
       "      <td>1.490</td>\n",
       "      <td>Maharashtra</td>\n",
       "      <td>India</td>\n",
       "      <td>30.169</td>\n",
       "    </tr>\n",
       "    <tr>\n",
       "      <th>1865-05-01</th>\n",
       "      <td>31.595</td>\n",
       "      <td>1.656</td>\n",
       "      <td>Maharashtra</td>\n",
       "      <td>India</td>\n",
       "      <td>31.595</td>\n",
       "    </tr>\n",
       "  </tbody>\n",
       "</table>\n",
       "</div>"
      ],
      "text/plain": [
       "            AverageTemperature  AverageTemperatureUncertainty        State  \\\n",
       "Date                                                                         \n",
       "1865-01-01              21.672                          1.255  Maharashtra   \n",
       "1865-02-01              23.269                          2.237  Maharashtra   \n",
       "1865-03-01              26.381                          1.341  Maharashtra   \n",
       "1865-04-01              30.169                          1.490  Maharashtra   \n",
       "1865-05-01              31.595                          1.656  Maharashtra   \n",
       "\n",
       "           Country  new_avg  \n",
       "Date                         \n",
       "1865-01-01   India   21.672  \n",
       "1865-02-01   India   23.269  \n",
       "1865-03-01   India   26.381  \n",
       "1865-04-01   India   30.169  \n",
       "1865-05-01   India   31.595  "
      ]
     },
     "execution_count": 22,
     "metadata": {},
     "output_type": "execute_result"
    }
   ],
   "source": [
    "#take data between 1865 to 2013 for analysis\n",
    "\n",
    "latest_df.head()"
   ]
  },
  {
   "cell_type": "code",
   "execution_count": 23,
   "id": "3bade4da",
   "metadata": {},
   "outputs": [
    {
     "data": {
      "text/plain": [
       "(1785, 5)"
      ]
     },
     "execution_count": 23,
     "metadata": {},
     "output_type": "execute_result"
    }
   ],
   "source": [
    "latest_df.shape"
   ]
  },
  {
   "cell_type": "code",
   "execution_count": 24,
   "id": "e7a00286",
   "metadata": {},
   "outputs": [],
   "source": [
    "#Rename the columns\n",
    "latest_df.rename(columns={'new_avg':'Avg_Temp'},inplace=True)"
   ]
  },
  {
   "cell_type": "code",
   "execution_count": 25,
   "id": "446005f9",
   "metadata": {},
   "outputs": [
    {
     "data": {
      "text/html": [
       "<div>\n",
       "<style scoped>\n",
       "    .dataframe tbody tr th:only-of-type {\n",
       "        vertical-align: middle;\n",
       "    }\n",
       "\n",
       "    .dataframe tbody tr th {\n",
       "        vertical-align: top;\n",
       "    }\n",
       "\n",
       "    .dataframe thead th {\n",
       "        text-align: right;\n",
       "    }\n",
       "</style>\n",
       "<table border=\"1\" class=\"dataframe\">\n",
       "  <thead>\n",
       "    <tr style=\"text-align: right;\">\n",
       "      <th></th>\n",
       "      <th>Avg_Temp</th>\n",
       "    </tr>\n",
       "    <tr>\n",
       "      <th>Date</th>\n",
       "      <th></th>\n",
       "    </tr>\n",
       "  </thead>\n",
       "  <tbody>\n",
       "    <tr>\n",
       "      <th>1865-01-01</th>\n",
       "      <td>21.672</td>\n",
       "    </tr>\n",
       "    <tr>\n",
       "      <th>1865-02-01</th>\n",
       "      <td>23.269</td>\n",
       "    </tr>\n",
       "    <tr>\n",
       "      <th>1865-03-01</th>\n",
       "      <td>26.381</td>\n",
       "    </tr>\n",
       "    <tr>\n",
       "      <th>1865-04-01</th>\n",
       "      <td>30.169</td>\n",
       "    </tr>\n",
       "    <tr>\n",
       "      <th>1865-05-01</th>\n",
       "      <td>31.595</td>\n",
       "    </tr>\n",
       "  </tbody>\n",
       "</table>\n",
       "</div>"
      ],
      "text/plain": [
       "            Avg_Temp\n",
       "Date                \n",
       "1865-01-01    21.672\n",
       "1865-02-01    23.269\n",
       "1865-03-01    26.381\n",
       "1865-04-01    30.169\n",
       "1865-05-01    31.595"
      ]
     },
     "execution_count": 25,
     "metadata": {},
     "output_type": "execute_result"
    }
   ],
   "source": [
    "#Resample\n",
    "resample_df=latest_df[['Avg_Temp']]\n",
    "resample_df.head()"
   ]
  },
  {
   "cell_type": "code",
   "execution_count": 26,
   "id": "ab1b0363",
   "metadata": {},
   "outputs": [
    {
     "data": {
      "text/plain": [
       "(Timestamp('1865-01-01 00:00:00'), Timestamp('2013-09-01 00:00:00'))"
      ]
     },
     "execution_count": 26,
     "metadata": {},
     "output_type": "execute_result"
    }
   ],
   "source": [
    "resample_df.index.min(),resample_df.index.max()\n"
   ]
  },
  {
   "cell_type": "code",
   "execution_count": 27,
   "id": "b3b8b3aa",
   "metadata": {},
   "outputs": [
    {
     "data": {
      "text/plain": [
       "(1785, 1)"
      ]
     },
     "execution_count": 27,
     "metadata": {},
     "output_type": "execute_result"
    }
   ],
   "source": [
    "resample_df.shape"
   ]
  },
  {
   "cell_type": "code",
   "execution_count": 28,
   "id": "99c7931b",
   "metadata": {},
   "outputs": [
    {
     "data": {
      "text/html": [
       "<div>\n",
       "<style scoped>\n",
       "    .dataframe tbody tr th:only-of-type {\n",
       "        vertical-align: middle;\n",
       "    }\n",
       "\n",
       "    .dataframe tbody tr th {\n",
       "        vertical-align: top;\n",
       "    }\n",
       "\n",
       "    .dataframe thead th {\n",
       "        text-align: right;\n",
       "    }\n",
       "</style>\n",
       "<table border=\"1\" class=\"dataframe\">\n",
       "  <thead>\n",
       "    <tr style=\"text-align: right;\">\n",
       "      <th></th>\n",
       "      <th>Avg_Temp</th>\n",
       "    </tr>\n",
       "  </thead>\n",
       "  <tbody>\n",
       "    <tr>\n",
       "      <th>count</th>\n",
       "      <td>1785.000000</td>\n",
       "    </tr>\n",
       "    <tr>\n",
       "      <th>mean</th>\n",
       "      <td>26.113357</td>\n",
       "    </tr>\n",
       "    <tr>\n",
       "      <th>std</th>\n",
       "      <td>3.465049</td>\n",
       "    </tr>\n",
       "    <tr>\n",
       "      <th>min</th>\n",
       "      <td>18.115000</td>\n",
       "    </tr>\n",
       "    <tr>\n",
       "      <th>25%</th>\n",
       "      <td>23.393000</td>\n",
       "    </tr>\n",
       "    <tr>\n",
       "      <th>50%</th>\n",
       "      <td>26.057000</td>\n",
       "    </tr>\n",
       "    <tr>\n",
       "      <th>75%</th>\n",
       "      <td>28.417000</td>\n",
       "    </tr>\n",
       "    <tr>\n",
       "      <th>max</th>\n",
       "      <td>33.801000</td>\n",
       "    </tr>\n",
       "  </tbody>\n",
       "</table>\n",
       "</div>"
      ],
      "text/plain": [
       "          Avg_Temp\n",
       "count  1785.000000\n",
       "mean     26.113357\n",
       "std       3.465049\n",
       "min      18.115000\n",
       "25%      23.393000\n",
       "50%      26.057000\n",
       "75%      28.417000\n",
       "max      33.801000"
      ]
     },
     "execution_count": 28,
     "metadata": {},
     "output_type": "execute_result"
    }
   ],
   "source": [
    "resample_df.describe()"
   ]
  },
  {
   "cell_type": "code",
   "execution_count": 29,
   "id": "dfdd4117",
   "metadata": {},
   "outputs": [
    {
     "data": {
      "text/plain": [
       "Avg_Temp    0\n",
       "dtype: int64"
      ]
     },
     "execution_count": 29,
     "metadata": {},
     "output_type": "execute_result"
    }
   ],
   "source": [
    "resample_df.isnull().sum()"
   ]
  },
  {
   "cell_type": "code",
   "execution_count": 30,
   "id": "738a844f",
   "metadata": {},
   "outputs": [
    {
     "data": {
      "text/plain": [
       "<matplotlib.legend.Legend at 0x1fcbaf1b7f0>"
      ]
     },
     "execution_count": 30,
     "metadata": {},
     "output_type": "execute_result"
    },
    {
     "data": {
      "image/png": "[encoded data removed]",
      "text/plain": [
       "<Figure size 576x360 with 1 Axes>"
      ]
     },
     "metadata": {
      "needs_background": "light"
     },
     "output_type": "display_data"
    }
   ],
   "source": [
    "#Plot \n",
    "resample_df.plot(title='Temperature Change from 1900-2013',figsize=(8,5))\n",
    "plt.ylabel('Temperature',fontsize=12)\n",
    "plt.xlabel('Year',fontsize=12)\n",
    "plt.legend()"
   ]
  },
  {
   "cell_type": "markdown",
   "id": "7bffd5df",
   "metadata": {},
   "source": [
    "# Climate change forcasting\n"
   ]
  },
  {
   "cell_type": "raw",
   "id": "caaab806",
   "metadata": {},
   "source": [
    " ARIMA\n",
    " Regression\n",
    " LSTM\n",
    " Prophet"
   ]
  },
  {
   "cell_type": "markdown",
   "id": "6d408260",
   "metadata": {},
   "source": [
    "# ARIMA"
   ]
  },
  {
   "cell_type": "code",
   "execution_count": 31,
   "id": "98ae4d5b",
   "metadata": {},
   "outputs": [
    {
     "data": {
      "text/html": [
       "<div>\n",
       "<style scoped>\n",
       "    .dataframe tbody tr th:only-of-type {\n",
       "        vertical-align: middle;\n",
       "    }\n",
       "\n",
       "    .dataframe tbody tr th {\n",
       "        vertical-align: top;\n",
       "    }\n",
       "\n",
       "    .dataframe thead th {\n",
       "        text-align: right;\n",
       "    }\n",
       "</style>\n",
       "<table border=\"1\" class=\"dataframe\">\n",
       "  <thead>\n",
       "    <tr style=\"text-align: right;\">\n",
       "      <th></th>\n",
       "      <th>Avg_Temp</th>\n",
       "    </tr>\n",
       "    <tr>\n",
       "      <th>Date</th>\n",
       "      <th></th>\n",
       "    </tr>\n",
       "  </thead>\n",
       "  <tbody>\n",
       "    <tr>\n",
       "      <th>1865-01-01</th>\n",
       "      <td>21.672</td>\n",
       "    </tr>\n",
       "    <tr>\n",
       "      <th>1865-02-01</th>\n",
       "      <td>23.269</td>\n",
       "    </tr>\n",
       "    <tr>\n",
       "      <th>1865-03-01</th>\n",
       "      <td>26.381</td>\n",
       "    </tr>\n",
       "    <tr>\n",
       "      <th>1865-04-01</th>\n",
       "      <td>30.169</td>\n",
       "    </tr>\n",
       "    <tr>\n",
       "      <th>1865-05-01</th>\n",
       "      <td>31.595</td>\n",
       "    </tr>\n",
       "  </tbody>\n",
       "</table>\n",
       "</div>"
      ],
      "text/plain": [
       "            Avg_Temp\n",
       "Date                \n",
       "1865-01-01    21.672\n",
       "1865-02-01    23.269\n",
       "1865-03-01    26.381\n",
       "1865-04-01    30.169\n",
       "1865-05-01    31.595"
      ]
     },
     "execution_count": 31,
     "metadata": {},
     "output_type": "execute_result"
    }
   ],
   "source": [
    "resample_df.head()"
   ]
  },
  {
   "cell_type": "code",
   "execution_count": 32,
   "id": "89d664c2",
   "metadata": {},
   "outputs": [
    {
     "data": {
      "text/plain": [
       "(1785, 1)"
      ]
     },
     "execution_count": 32,
     "metadata": {},
     "output_type": "execute_result"
    }
   ],
   "source": [
    "resample_df.shape"
   ]
  },
  {
   "cell_type": "code",
   "execution_count": 33,
   "id": "6d907225",
   "metadata": {},
   "outputs": [
    {
     "name": "stdout",
     "output_type": "stream",
     "text": [
      "Requirement already satisfied: pmdarima in c:\\users\\prana\\anaconda3\\lib\\site-packages (1.8.4)\n",
      "Requirement already satisfied: pandas>=0.19 in c:\\users\\prana\\anaconda3\\lib\\site-packages (from pmdarima) (1.3.4)\n",
      "Requirement already satisfied: urllib3 in c:\\users\\prana\\anaconda3\\lib\\site-packages (from pmdarima) (1.26.7)\n",
      "Requirement already satisfied: scikit-learn>=0.22 in c:\\users\\prana\\anaconda3\\lib\\site-packages (from pmdarima) (0.24.2)\n",
      "Requirement already satisfied: Cython!=0.29.18,>=0.29 in c:\\users\\prana\\anaconda3\\lib\\site-packages (from pmdarima) (0.29.24)\n",
      "Requirement already satisfied: statsmodels!=0.12.0,>=0.11 in c:\\users\\prana\\anaconda3\\lib\\site-packages (from pmdarima) (0.12.2)\n",
      "Requirement already satisfied: joblib>=0.11 in c:\\users\\prana\\anaconda3\\lib\\site-packages (from pmdarima) (1.1.0)\n",
      "Requirement already satisfied: numpy>=1.19.3 in c:\\users\\prana\\anaconda3\\lib\\site-packages (from pmdarima) (1.20.3)\n",
      "Requirement already satisfied: setuptools!=50.0.0,>=38.6.0 in c:\\users\\prana\\anaconda3\\lib\\site-packages (from pmdarima) (58.0.4)\n",
      "Requirement already satisfied: scipy>=1.3.2 in c:\\users\\prana\\anaconda3\\lib\\site-packages (from pmdarima) (1.7.1)\n",
      "Requirement already satisfied: pytz>=2017.3 in c:\\users\\prana\\anaconda3\\lib\\site-packages (from pandas>=0.19->pmdarima) (2021.3)\n",
      "Requirement already satisfied: python-dateutil>=2.7.3 in c:\\users\\prana\\anaconda3\\lib\\site-packages (from pandas>=0.19->pmdarima) (2.8.2)\n",
      "Requirement already satisfied: six>=1.5 in c:\\users\\prana\\anaconda3\\lib\\site-packages (from python-dateutil>=2.7.3->pandas>=0.19->pmdarima) (1.16.0)\n",
      "Requirement already satisfied: threadpoolctl>=2.0.0 in c:\\users\\prana\\anaconda3\\lib\\site-packages (from scikit-learn>=0.22->pmdarima) (2.2.0)\n",
      "Requirement already satisfied: patsy>=0.5 in c:\\users\\prana\\anaconda3\\lib\\site-packages (from statsmodels!=0.12.0,>=0.11->pmdarima) (0.5.2)\n"
     ]
    }
   ],
   "source": [
    "#AUTO ARIMA\n",
    "!pip install pmdarima"
   ]
  },
  {
   "cell_type": "code",
   "execution_count": 34,
   "id": "71850f56",
   "metadata": {},
   "outputs": [],
   "source": [
    "y=resample_df.Avg_Temp.values"
   ]
  },
  {
   "cell_type": "code",
   "execution_count": 35,
   "id": "22729325",
   "metadata": {},
   "outputs": [],
   "source": [
    "import pmdarima as pm\n",
    "from pmdarima.model_selection import train_test_split"
   ]
  },
  {
   "cell_type": "code",
   "execution_count": 36,
   "id": "6c1b4d64",
   "metadata": {},
   "outputs": [],
   "source": [
    "train, test = train_test_split(resample_df, train_size=int(0.9 * resample_df.shape[0]))"
   ]
  },
  {
   "cell_type": "code",
   "execution_count": 37,
   "id": "65bd8f73",
   "metadata": {},
   "outputs": [
    {
     "data": {
      "text/plain": [
       "((1606, 1), (179, 1))"
      ]
     },
     "execution_count": 37,
     "metadata": {},
     "output_type": "execute_result"
    }
   ],
   "source": [
    "train.shape,test.shape"
   ]
  },
  {
   "cell_type": "code",
   "execution_count": 38,
   "id": "3eed73d2",
   "metadata": {},
   "outputs": [
    {
     "name": "stdout",
     "output_type": "stream",
     "text": [
      "Performing stepwise search to minimize aic\n",
      " ARIMA(5,1,2)(0,0,0)[0] intercept   : AIC=6379.551, Time=5.55 sec\n",
      " ARIMA(0,1,0)(0,0,0)[0] intercept   : AIC=7393.557, Time=0.13 sec\n",
      " ARIMA(1,1,0)(0,0,0)[0] intercept   : AIC=6893.574, Time=0.26 sec\n",
      " ARIMA(0,1,1)(0,0,0)[0] intercept   : AIC=6811.365, Time=0.38 sec\n",
      " ARIMA(0,1,0)(0,0,0)[0]             : AIC=7391.560, Time=0.10 sec\n",
      " ARIMA(4,1,2)(0,0,0)[0] intercept   : AIC=6401.124, Time=2.61 sec\n",
      " ARIMA(5,1,1)(0,0,0)[0] intercept   : AIC=6408.246, Time=2.08 sec\n",
      " ARIMA(6,1,2)(0,0,0)[0] intercept   : AIC=5722.736, Time=7.30 sec\n",
      " ARIMA(6,1,1)(0,0,0)[0] intercept   : AIC=inf, Time=6.21 sec\n",
      " ARIMA(7,1,2)(0,0,0)[0] intercept   : AIC=inf, Time=7.34 sec\n",
      " ARIMA(6,1,3)(0,0,0)[0] intercept   : AIC=inf, Time=6.84 sec\n",
      " ARIMA(5,1,3)(0,0,0)[0] intercept   : AIC=inf, Time=5.57 sec\n",
      " ARIMA(7,1,1)(0,0,0)[0] intercept   : AIC=5152.742, Time=6.67 sec\n",
      " ARIMA(7,1,0)(0,0,0)[0] intercept   : AIC=6124.180, Time=1.26 sec\n",
      " ARIMA(8,1,1)(0,0,0)[0] intercept   : AIC=4712.443, Time=7.56 sec\n",
      " ARIMA(8,1,0)(0,0,0)[0] intercept   : AIC=5632.591, Time=1.88 sec\n",
      " ARIMA(9,1,1)(0,0,0)[0] intercept   : AIC=4323.507, Time=9.27 sec\n",
      " ARIMA(9,1,0)(0,0,0)[0] intercept   : AIC=inf, Time=3.69 sec\n",
      " ARIMA(10,1,1)(0,0,0)[0] intercept   : AIC=4077.796, Time=9.67 sec\n",
      " ARIMA(10,1,0)(0,0,0)[0] intercept   : AIC=inf, Time=6.46 sec\n",
      " ARIMA(10,1,2)(0,0,0)[0] intercept   : AIC=3964.556, Time=10.42 sec\n",
      " ARIMA(9,1,2)(0,0,0)[0] intercept   : AIC=4059.443, Time=9.68 sec\n",
      " ARIMA(10,1,3)(0,0,0)[0] intercept   : AIC=4032.150, Time=11.26 sec\n",
      " ARIMA(9,1,3)(0,0,0)[0] intercept   : AIC=4169.289, Time=9.69 sec\n",
      " ARIMA(10,1,2)(0,0,0)[0]             : AIC=3957.592, Time=5.81 sec\n",
      " ARIMA(9,1,2)(0,0,0)[0]             : AIC=4057.408, Time=4.95 sec\n",
      " ARIMA(10,1,1)(0,0,0)[0]             : AIC=4075.894, Time=4.91 sec\n",
      " ARIMA(10,1,3)(0,0,0)[0]             : AIC=4033.119, Time=6.93 sec\n",
      " ARIMA(9,1,1)(0,0,0)[0]             : AIC=4321.566, Time=5.77 sec\n",
      " ARIMA(9,1,3)(0,0,0)[0]             : AIC=4164.802, Time=7.25 sec\n",
      "\n",
      "Best model:  ARIMA(10,1,2)(0,0,0)[0]          \n",
      "Total fit time: 167.552 seconds\n"
     ]
    }
   ],
   "source": [
    "# Fit your model\n",
    "model = pm.auto_arima( train, start_p=5, max_p=10, seasonal=True, trace = True) #seasonal =False\n",
    "# random search\n",
    "# make your forecasts\n",
    "forecasts = model.predict(test.shape[0])"
   ]
  },
  {
   "cell_type": "code",
   "execution_count": 39,
   "id": "67ec1b3e",
   "metadata": {},
   "outputs": [
    {
     "data": {
      "image/png": "[encoded data removed]",
      "text/plain": [
       "<Figure size 432x288 with 1 Axes>"
      ]
     },
     "metadata": {
      "needs_background": "light"
     },
     "output_type": "display_data"
    }
   ],
   "source": [
    "# Visualize the forecasts (blue=train, green=forecasts)\n",
    "x = np.arange(resample_df.shape[0])\n",
    "plt.plot(x[:1606], train, c='blue')\n",
    "plt.plot(x[1606:], forecasts, c='green')\n",
    "plt.show()"
   ]
  },
  {
   "cell_type": "code",
   "execution_count": 40,
   "id": "0a1b9940",
   "metadata": {},
   "outputs": [],
   "source": [
    "# from statsmodels.tsa.arima_model import ARIMA\n",
    "from statsmodels.tsa.arima.model import ARIMA\n",
    "from sklearn.metrics import mean_squared_error"
   ]
  },
  {
   "cell_type": "code",
   "execution_count": 41,
   "id": "96e28741",
   "metadata": {},
   "outputs": [],
   "source": [
    "train_size = int(0.9 * resample_df.shape[0])\n",
    "test_size = resample_df.shape[0] - train_size"
   ]
  },
  {
   "cell_type": "code",
   "execution_count": 42,
   "id": "c13e8b2c",
   "metadata": {},
   "outputs": [
    {
     "data": {
      "text/plain": [
       "1998-11-01    23.917525\n",
       "1998-12-01    22.388751\n",
       "1999-01-01    22.344618\n",
       "1999-02-01    24.086025\n",
       "1999-03-01    26.323044\n",
       "                ...    \n",
       "2013-05-01    27.109680\n",
       "2013-06-01    27.117426\n",
       "2013-07-01    26.839603\n",
       "2013-08-01    26.354919\n",
       "2013-09-01    25.796024\n",
       "Freq: MS, Name: predicted_mean, Length: 179, dtype: float64"
      ]
     },
     "execution_count": 42,
     "metadata": {},
     "output_type": "execute_result"
    }
   ],
   "source": [
    "model = ARIMA(train, order=(2,1,5))#order is p,d,q #0,1,1\n",
    "model_fit = model.fit()\n",
    "output = model_fit.forecast(test_size)\n",
    "output"
   ]
  },
  {
   "cell_type": "code",
   "execution_count": 43,
   "id": "a5b4ef3f",
   "metadata": {},
   "outputs": [
    {
     "data": {
      "text/plain": [
       "23.91752474758511"
      ]
     },
     "execution_count": 43,
     "metadata": {},
     "output_type": "execute_result"
    }
   ],
   "source": [
    "output[0]"
   ]
  },
  {
   "cell_type": "code",
   "execution_count": 44,
   "id": "d2ad2d90",
   "metadata": {},
   "outputs": [
    {
     "data": {
      "text/plain": [
       "5.360504336094743"
      ]
     },
     "execution_count": 44,
     "metadata": {},
     "output_type": "execute_result"
    }
   ],
   "source": [
    "mean_squared_error(test,output)"
   ]
  },
  {
   "cell_type": "code",
   "execution_count": 45,
   "id": "956585a3",
   "metadata": {},
   "outputs": [
    {
     "data": {
      "text/plain": [
       "2.3152762980030577"
      ]
     },
     "execution_count": 45,
     "metadata": {},
     "output_type": "execute_result"
    }
   ],
   "source": [
    "mean_squared_error(test,output)**0.5"
   ]
  },
  {
   "cell_type": "code",
   "execution_count": 46,
   "id": "f3e86190",
   "metadata": {},
   "outputs": [
    {
     "data": {
      "text/plain": [
       "0.0678590489023638"
      ]
     },
     "execution_count": 46,
     "metadata": {},
     "output_type": "execute_result"
    }
   ],
   "source": [
    "from sklearn.metrics import mean_absolute_percentage_error\n",
    "mean_absolute_percentage_error(test,output)"
   ]
  },
  {
   "cell_type": "markdown",
   "id": "99044510",
   "metadata": {},
   "source": [
    "#  Apply regression on TS using lag values"
   ]
  },
  {
   "cell_type": "code",
   "execution_count": 47,
   "id": "c2e9dd32",
   "metadata": {},
   "outputs": [],
   "source": [
    "reg_data=resample_df.copy()"
   ]
  },
  {
   "cell_type": "code",
   "execution_count": 48,
   "id": "4c4db37f",
   "metadata": {},
   "outputs": [
    {
     "data": {
      "text/html": [
       "<div>\n",
       "<style scoped>\n",
       "    .dataframe tbody tr th:only-of-type {\n",
       "        vertical-align: middle;\n",
       "    }\n",
       "\n",
       "    .dataframe tbody tr th {\n",
       "        vertical-align: top;\n",
       "    }\n",
       "\n",
       "    .dataframe thead th {\n",
       "        text-align: right;\n",
       "    }\n",
       "</style>\n",
       "<table border=\"1\" class=\"dataframe\">\n",
       "  <thead>\n",
       "    <tr style=\"text-align: right;\">\n",
       "      <th></th>\n",
       "      <th>Avg_Temp</th>\n",
       "    </tr>\n",
       "    <tr>\n",
       "      <th>Date</th>\n",
       "      <th></th>\n",
       "    </tr>\n",
       "  </thead>\n",
       "  <tbody>\n",
       "    <tr>\n",
       "      <th>1865-01-01</th>\n",
       "      <td>21.672</td>\n",
       "    </tr>\n",
       "    <tr>\n",
       "      <th>1865-02-01</th>\n",
       "      <td>23.269</td>\n",
       "    </tr>\n",
       "    <tr>\n",
       "      <th>1865-03-01</th>\n",
       "      <td>26.381</td>\n",
       "    </tr>\n",
       "    <tr>\n",
       "      <th>1865-04-01</th>\n",
       "      <td>30.169</td>\n",
       "    </tr>\n",
       "    <tr>\n",
       "      <th>1865-05-01</th>\n",
       "      <td>31.595</td>\n",
       "    </tr>\n",
       "  </tbody>\n",
       "</table>\n",
       "</div>"
      ],
      "text/plain": [
       "            Avg_Temp\n",
       "Date                \n",
       "1865-01-01    21.672\n",
       "1865-02-01    23.269\n",
       "1865-03-01    26.381\n",
       "1865-04-01    30.169\n",
       "1865-05-01    31.595"
      ]
     },
     "execution_count": 48,
     "metadata": {},
     "output_type": "execute_result"
    }
   ],
   "source": [
    "reg_data.head()"
   ]
  },
  {
   "cell_type": "code",
   "execution_count": 49,
   "id": "f959e79b",
   "metadata": {},
   "outputs": [
    {
     "data": {
      "text/plain": [
       "(1785, 1)"
      ]
     },
     "execution_count": 49,
     "metadata": {},
     "output_type": "execute_result"
    }
   ],
   "source": [
    "reg_data.shape"
   ]
  },
  {
   "cell_type": "code",
   "execution_count": 50,
   "id": "5a344200",
   "metadata": {},
   "outputs": [
    {
     "data": {
      "text/plain": [
       "Index(['Avg_Temp'], dtype='object')"
      ]
     },
     "execution_count": 50,
     "metadata": {},
     "output_type": "execute_result"
    }
   ],
   "source": [
    "reg_data.columns"
   ]
  },
  {
   "cell_type": "code",
   "execution_count": 51,
   "id": "19b4dbe1",
   "metadata": {},
   "outputs": [],
   "source": [
    "reg_data['lag1']=reg_data['Avg_Temp'].shift(1)\n",
    "reg_data['lag2']=reg_data['Avg_Temp'].shift(2)\n",
    "reg_data['lag3']=reg_data['Avg_Temp'].shift(3)\n",
    "reg_data['lag4']=reg_data['Avg_Temp'].shift(4)\n",
    "reg_data['lag5']=reg_data['Avg_Temp'].shift(5)"
   ]
  },
  {
   "cell_type": "code",
   "execution_count": 52,
   "id": "3b5f6544",
   "metadata": {},
   "outputs": [
    {
     "data": {
      "text/html": [
       "<div>\n",
       "<style scoped>\n",
       "    .dataframe tbody tr th:only-of-type {\n",
       "        vertical-align: middle;\n",
       "    }\n",
       "\n",
       "    .dataframe tbody tr th {\n",
       "        vertical-align: top;\n",
       "    }\n",
       "\n",
       "    .dataframe thead th {\n",
       "        text-align: right;\n",
       "    }\n",
       "</style>\n",
       "<table border=\"1\" class=\"dataframe\">\n",
       "  <thead>\n",
       "    <tr style=\"text-align: right;\">\n",
       "      <th></th>\n",
       "      <th>Avg_Temp</th>\n",
       "      <th>lag1</th>\n",
       "      <th>lag2</th>\n",
       "      <th>lag3</th>\n",
       "      <th>lag4</th>\n",
       "      <th>lag5</th>\n",
       "    </tr>\n",
       "    <tr>\n",
       "      <th>Date</th>\n",
       "      <th></th>\n",
       "      <th></th>\n",
       "      <th></th>\n",
       "      <th></th>\n",
       "      <th></th>\n",
       "      <th></th>\n",
       "    </tr>\n",
       "  </thead>\n",
       "  <tbody>\n",
       "    <tr>\n",
       "      <th>1865-01-01</th>\n",
       "      <td>21.672</td>\n",
       "      <td>NaN</td>\n",
       "      <td>NaN</td>\n",
       "      <td>NaN</td>\n",
       "      <td>NaN</td>\n",
       "      <td>NaN</td>\n",
       "    </tr>\n",
       "    <tr>\n",
       "      <th>1865-02-01</th>\n",
       "      <td>23.269</td>\n",
       "      <td>21.672</td>\n",
       "      <td>NaN</td>\n",
       "      <td>NaN</td>\n",
       "      <td>NaN</td>\n",
       "      <td>NaN</td>\n",
       "    </tr>\n",
       "    <tr>\n",
       "      <th>1865-03-01</th>\n",
       "      <td>26.381</td>\n",
       "      <td>23.269</td>\n",
       "      <td>21.672</td>\n",
       "      <td>NaN</td>\n",
       "      <td>NaN</td>\n",
       "      <td>NaN</td>\n",
       "    </tr>\n",
       "    <tr>\n",
       "      <th>1865-04-01</th>\n",
       "      <td>30.169</td>\n",
       "      <td>26.381</td>\n",
       "      <td>23.269</td>\n",
       "      <td>21.672</td>\n",
       "      <td>NaN</td>\n",
       "      <td>NaN</td>\n",
       "    </tr>\n",
       "    <tr>\n",
       "      <th>1865-05-01</th>\n",
       "      <td>31.595</td>\n",
       "      <td>30.169</td>\n",
       "      <td>26.381</td>\n",
       "      <td>23.269</td>\n",
       "      <td>21.672</td>\n",
       "      <td>NaN</td>\n",
       "    </tr>\n",
       "    <tr>\n",
       "      <th>1865-06-01</th>\n",
       "      <td>29.872</td>\n",
       "      <td>31.595</td>\n",
       "      <td>30.169</td>\n",
       "      <td>26.381</td>\n",
       "      <td>23.269</td>\n",
       "      <td>21.672</td>\n",
       "    </tr>\n",
       "    <tr>\n",
       "      <th>1865-07-01</th>\n",
       "      <td>26.461</td>\n",
       "      <td>29.872</td>\n",
       "      <td>31.595</td>\n",
       "      <td>30.169</td>\n",
       "      <td>26.381</td>\n",
       "      <td>23.269</td>\n",
       "    </tr>\n",
       "    <tr>\n",
       "      <th>1865-08-01</th>\n",
       "      <td>25.665</td>\n",
       "      <td>26.461</td>\n",
       "      <td>29.872</td>\n",
       "      <td>31.595</td>\n",
       "      <td>30.169</td>\n",
       "      <td>26.381</td>\n",
       "    </tr>\n",
       "    <tr>\n",
       "      <th>1865-09-01</th>\n",
       "      <td>26.528</td>\n",
       "      <td>25.665</td>\n",
       "      <td>26.461</td>\n",
       "      <td>29.872</td>\n",
       "      <td>31.595</td>\n",
       "      <td>30.169</td>\n",
       "    </tr>\n",
       "    <tr>\n",
       "      <th>1865-10-01</th>\n",
       "      <td>25.409</td>\n",
       "      <td>26.528</td>\n",
       "      <td>25.665</td>\n",
       "      <td>26.461</td>\n",
       "      <td>29.872</td>\n",
       "      <td>31.595</td>\n",
       "    </tr>\n",
       "  </tbody>\n",
       "</table>\n",
       "</div>"
      ],
      "text/plain": [
       "            Avg_Temp    lag1    lag2    lag3    lag4    lag5\n",
       "Date                                                        \n",
       "1865-01-01    21.672     NaN     NaN     NaN     NaN     NaN\n",
       "1865-02-01    23.269  21.672     NaN     NaN     NaN     NaN\n",
       "1865-03-01    26.381  23.269  21.672     NaN     NaN     NaN\n",
       "1865-04-01    30.169  26.381  23.269  21.672     NaN     NaN\n",
       "1865-05-01    31.595  30.169  26.381  23.269  21.672     NaN\n",
       "1865-06-01    29.872  31.595  30.169  26.381  23.269  21.672\n",
       "1865-07-01    26.461  29.872  31.595  30.169  26.381  23.269\n",
       "1865-08-01    25.665  26.461  29.872  31.595  30.169  26.381\n",
       "1865-09-01    26.528  25.665  26.461  29.872  31.595  30.169\n",
       "1865-10-01    25.409  26.528  25.665  26.461  29.872  31.595"
      ]
     },
     "execution_count": 52,
     "metadata": {},
     "output_type": "execute_result"
    }
   ],
   "source": [
    "reg_data.head(10)"
   ]
  },
  {
   "cell_type": "code",
   "execution_count": 53,
   "id": "bfd8e326",
   "metadata": {},
   "outputs": [],
   "source": [
    "df_r=reg_data.loc['1865-06-01':,:]"
   ]
  },
  {
   "cell_type": "code",
   "execution_count": 54,
   "id": "42aa1d1a",
   "metadata": {},
   "outputs": [
    {
     "data": {
      "text/plain": [
       "(1780, 6)"
      ]
     },
     "execution_count": 54,
     "metadata": {},
     "output_type": "execute_result"
    }
   ],
   "source": [
    "df_r.shape"
   ]
  },
  {
   "cell_type": "code",
   "execution_count": 55,
   "id": "4d6dba7b",
   "metadata": {},
   "outputs": [
    {
     "data": {
      "text/plain": [
       "Index(['Avg_Temp', 'lag1', 'lag2', 'lag3', 'lag4', 'lag5'], dtype='object')"
      ]
     },
     "execution_count": 55,
     "metadata": {},
     "output_type": "execute_result"
    }
   ],
   "source": [
    "df_r.columns"
   ]
  },
  {
   "cell_type": "code",
   "execution_count": 56,
   "id": "9af28489",
   "metadata": {},
   "outputs": [
    {
     "data": {
      "text/html": [
       "<div>\n",
       "<style scoped>\n",
       "    .dataframe tbody tr th:only-of-type {\n",
       "        vertical-align: middle;\n",
       "    }\n",
       "\n",
       "    .dataframe tbody tr th {\n",
       "        vertical-align: top;\n",
       "    }\n",
       "\n",
       "    .dataframe thead th {\n",
       "        text-align: right;\n",
       "    }\n",
       "</style>\n",
       "<table border=\"1\" class=\"dataframe\">\n",
       "  <thead>\n",
       "    <tr style=\"text-align: right;\">\n",
       "      <th></th>\n",
       "      <th>Avg_Temp</th>\n",
       "      <th>lag1</th>\n",
       "      <th>lag2</th>\n",
       "      <th>lag3</th>\n",
       "      <th>lag4</th>\n",
       "      <th>lag5</th>\n",
       "    </tr>\n",
       "    <tr>\n",
       "      <th>Date</th>\n",
       "      <th></th>\n",
       "      <th></th>\n",
       "      <th></th>\n",
       "      <th></th>\n",
       "      <th></th>\n",
       "      <th></th>\n",
       "    </tr>\n",
       "  </thead>\n",
       "  <tbody>\n",
       "    <tr>\n",
       "      <th>1865-06-01</th>\n",
       "      <td>29.872</td>\n",
       "      <td>31.595</td>\n",
       "      <td>30.169</td>\n",
       "      <td>26.381</td>\n",
       "      <td>23.269</td>\n",
       "      <td>21.672</td>\n",
       "    </tr>\n",
       "    <tr>\n",
       "      <th>1865-07-01</th>\n",
       "      <td>26.461</td>\n",
       "      <td>29.872</td>\n",
       "      <td>31.595</td>\n",
       "      <td>30.169</td>\n",
       "      <td>26.381</td>\n",
       "      <td>23.269</td>\n",
       "    </tr>\n",
       "    <tr>\n",
       "      <th>1865-08-01</th>\n",
       "      <td>25.665</td>\n",
       "      <td>26.461</td>\n",
       "      <td>29.872</td>\n",
       "      <td>31.595</td>\n",
       "      <td>30.169</td>\n",
       "      <td>26.381</td>\n",
       "    </tr>\n",
       "    <tr>\n",
       "      <th>1865-09-01</th>\n",
       "      <td>26.528</td>\n",
       "      <td>25.665</td>\n",
       "      <td>26.461</td>\n",
       "      <td>29.872</td>\n",
       "      <td>31.595</td>\n",
       "      <td>30.169</td>\n",
       "    </tr>\n",
       "    <tr>\n",
       "      <th>1865-10-01</th>\n",
       "      <td>25.409</td>\n",
       "      <td>26.528</td>\n",
       "      <td>25.665</td>\n",
       "      <td>26.461</td>\n",
       "      <td>29.872</td>\n",
       "      <td>31.595</td>\n",
       "    </tr>\n",
       "  </tbody>\n",
       "</table>\n",
       "</div>"
      ],
      "text/plain": [
       "            Avg_Temp    lag1    lag2    lag3    lag4    lag5\n",
       "Date                                                        \n",
       "1865-06-01    29.872  31.595  30.169  26.381  23.269  21.672\n",
       "1865-07-01    26.461  29.872  31.595  30.169  26.381  23.269\n",
       "1865-08-01    25.665  26.461  29.872  31.595  30.169  26.381\n",
       "1865-09-01    26.528  25.665  26.461  29.872  31.595  30.169\n",
       "1865-10-01    25.409  26.528  25.665  26.461  29.872  31.595"
      ]
     },
     "execution_count": 56,
     "metadata": {},
     "output_type": "execute_result"
    }
   ],
   "source": [
    "df_r.head()"
   ]
  },
  {
   "cell_type": "markdown",
   "id": "b29aa5dd",
   "metadata": {},
   "source": [
    "#  X & Y split "
   ]
  },
  {
   "cell_type": "code",
   "execution_count": 57,
   "id": "efa79626",
   "metadata": {},
   "outputs": [],
   "source": [
    "X = df_r.drop(['Avg_Temp'],axis=1)\n",
    "Y = df_r['Avg_Temp']"
   ]
  },
  {
   "cell_type": "code",
   "execution_count": 58,
   "id": "6c7e9031",
   "metadata": {},
   "outputs": [
    {
     "data": {
      "text/plain": [
       "((1780, 5), (1780,))"
      ]
     },
     "execution_count": 58,
     "metadata": {},
     "output_type": "execute_result"
    }
   ],
   "source": [
    "X.shape, Y.shape"
   ]
  },
  {
   "cell_type": "code",
   "execution_count": 59,
   "id": "ea98d189",
   "metadata": {},
   "outputs": [],
   "source": [
    "size = int(len(X) * 0.9)\n",
    "X_train, X_test = X[0:size], X[size:len(X)]\n",
    "Y_train, Y_test = Y[0:size], Y[size:len(X)]"
   ]
  },
  {
   "cell_type": "code",
   "execution_count": 60,
   "id": "fb4b4f65",
   "metadata": {},
   "outputs": [
    {
     "data": {
      "text/plain": [
       "((1602, 5), (178, 5), (1602,), (178,))"
      ]
     },
     "execution_count": 60,
     "metadata": {},
     "output_type": "execute_result"
    }
   ],
   "source": [
    "X_train.shape, X_test.shape,Y_train.shape, Y_test.shape"
   ]
  },
  {
   "cell_type": "markdown",
   "id": "28a7381f",
   "metadata": {},
   "source": [
    "#  Apply regression algorithm"
   ]
  },
  {
   "cell_type": "markdown",
   "id": "f8d40812",
   "metadata": {},
   "source": [
    "## Linear regression"
   ]
  },
  {
   "cell_type": "code",
   "execution_count": 61,
   "id": "e8caef46",
   "metadata": {},
   "outputs": [],
   "source": [
    "from sklearn.linear_model import LinearRegression"
   ]
  },
  {
   "cell_type": "code",
   "execution_count": 62,
   "id": "bb970f36",
   "metadata": {},
   "outputs": [],
   "source": [
    "reg = LinearRegression().fit(X_train, Y_train)"
   ]
  },
  {
   "cell_type": "code",
   "execution_count": 63,
   "id": "2d762c45",
   "metadata": {},
   "outputs": [],
   "source": [
    "Y_pred = reg.predict(X_test)"
   ]
  },
  {
   "cell_type": "code",
   "execution_count": 64,
   "id": "df4711ff",
   "metadata": {},
   "outputs": [
    {
     "data": {
      "text/plain": [
       "2.108271604637158"
      ]
     },
     "execution_count": 64,
     "metadata": {},
     "output_type": "execute_result"
    }
   ],
   "source": [
    "mean_squared_error(Y_test,Y_pred)"
   ]
  },
  {
   "cell_type": "code",
   "execution_count": 65,
   "id": "eeef5f50",
   "metadata": {},
   "outputs": [
    {
     "data": {
      "text/plain": [
       "1.4519888445291713"
      ]
     },
     "execution_count": 65,
     "metadata": {},
     "output_type": "execute_result"
    }
   ],
   "source": [
    "mean_squared_error(Y_test,Y_pred)**0.5"
   ]
  },
  {
   "cell_type": "code",
   "execution_count": 66,
   "id": "4c1a2cbc",
   "metadata": {},
   "outputs": [
    {
     "data": {
      "text/plain": [
       "0.044566891867486705"
      ]
     },
     "execution_count": 66,
     "metadata": {},
     "output_type": "execute_result"
    }
   ],
   "source": [
    "mean_absolute_percentage_error(Y_test,Y_pred)"
   ]
  },
  {
   "cell_type": "markdown",
   "id": "b556c69a",
   "metadata": {},
   "source": [
    "## RandomForestRegressor"
   ]
  },
  {
   "cell_type": "code",
   "execution_count": 67,
   "id": "61cdea50",
   "metadata": {},
   "outputs": [],
   "source": [
    "from sklearn.ensemble import RandomForestRegressor\n",
    "rfr = RandomForestRegressor( random_state = 7)"
   ]
  },
  {
   "cell_type": "code",
   "execution_count": 68,
   "id": "cbf80026",
   "metadata": {},
   "outputs": [
    {
     "data": {
      "text/plain": [
       "RandomForestRegressor(random_state=7)"
      ]
     },
     "execution_count": 68,
     "metadata": {},
     "output_type": "execute_result"
    }
   ],
   "source": [
    "rfr.fit(X_train,Y_train)"
   ]
  },
  {
   "cell_type": "code",
   "execution_count": 69,
   "id": "73626d46",
   "metadata": {},
   "outputs": [],
   "source": [
    "Y_pred_rfr = rfr.predict(X_test)"
   ]
  },
  {
   "cell_type": "code",
   "execution_count": 70,
   "id": "34695e97",
   "metadata": {},
   "outputs": [
    {
     "data": {
      "text/plain": [
       "0.7370243491028062"
      ]
     },
     "execution_count": 70,
     "metadata": {},
     "output_type": "execute_result"
    }
   ],
   "source": [
    "mean_squared_error(Y_test,Y_pred_rfr)"
   ]
  },
  {
   "cell_type": "code",
   "execution_count": 71,
   "id": "369c42eb",
   "metadata": {},
   "outputs": [
    {
     "data": {
      "text/plain": [
       "0.8585012225400767"
      ]
     },
     "execution_count": 71,
     "metadata": {},
     "output_type": "execute_result"
    }
   ],
   "source": [
    "mean_squared_error(Y_test,Y_pred_rfr)**0.5"
   ]
  },
  {
   "cell_type": "code",
   "execution_count": 72,
   "id": "53bc4ffd",
   "metadata": {},
   "outputs": [
    {
     "data": {
      "text/plain": [
       "0.02466315438824934"
      ]
     },
     "execution_count": 72,
     "metadata": {},
     "output_type": "execute_result"
    }
   ],
   "source": [
    "mean_absolute_percentage_error(Y_test,Y_pred_rfr)"
   ]
  },
  {
   "cell_type": "markdown",
   "id": "4ead8761",
   "metadata": {},
   "source": [
    "# LSTM_Time_series"
   ]
  },
  {
   "cell_type": "code",
   "execution_count": 73,
   "id": "1293cbd0",
   "metadata": {},
   "outputs": [
    {
     "data": {
      "text/html": [
       "<div>\n",
       "<style scoped>\n",
       "    .dataframe tbody tr th:only-of-type {\n",
       "        vertical-align: middle;\n",
       "    }\n",
       "\n",
       "    .dataframe tbody tr th {\n",
       "        vertical-align: top;\n",
       "    }\n",
       "\n",
       "    .dataframe thead th {\n",
       "        text-align: right;\n",
       "    }\n",
       "</style>\n",
       "<table border=\"1\" class=\"dataframe\">\n",
       "  <thead>\n",
       "    <tr style=\"text-align: right;\">\n",
       "      <th></th>\n",
       "      <th>Avg_Temp</th>\n",
       "    </tr>\n",
       "    <tr>\n",
       "      <th>Date</th>\n",
       "      <th></th>\n",
       "    </tr>\n",
       "  </thead>\n",
       "  <tbody>\n",
       "    <tr>\n",
       "      <th>1865-01-01</th>\n",
       "      <td>21.672</td>\n",
       "    </tr>\n",
       "    <tr>\n",
       "      <th>1865-02-01</th>\n",
       "      <td>23.269</td>\n",
       "    </tr>\n",
       "    <tr>\n",
       "      <th>1865-03-01</th>\n",
       "      <td>26.381</td>\n",
       "    </tr>\n",
       "    <tr>\n",
       "      <th>1865-04-01</th>\n",
       "      <td>30.169</td>\n",
       "    </tr>\n",
       "    <tr>\n",
       "      <th>1865-05-01</th>\n",
       "      <td>31.595</td>\n",
       "    </tr>\n",
       "  </tbody>\n",
       "</table>\n",
       "</div>"
      ],
      "text/plain": [
       "            Avg_Temp\n",
       "Date                \n",
       "1865-01-01    21.672\n",
       "1865-02-01    23.269\n",
       "1865-03-01    26.381\n",
       "1865-04-01    30.169\n",
       "1865-05-01    31.595"
      ]
     },
     "execution_count": 73,
     "metadata": {},
     "output_type": "execute_result"
    }
   ],
   "source": [
    "resample_df.head()"
   ]
  },
  {
   "cell_type": "code",
   "execution_count": 74,
   "id": "0c77ab4a",
   "metadata": {},
   "outputs": [
    {
     "data": {
      "text/plain": [
       "<AxesSubplot:xlabel='Date'>"
      ]
     },
     "execution_count": 74,
     "metadata": {},
     "output_type": "execute_result"
    },
    {
     "data": {
      "image/png": "[encoded data removed]",
      "text/plain": [
       "<Figure size 432x288 with 1 Axes>"
      ]
     },
     "metadata": {
      "needs_background": "light"
     },
     "output_type": "display_data"
    }
   ],
   "source": [
    "resample_df['Avg_Temp'].plot()"
   ]
  },
  {
   "cell_type": "code",
   "execution_count": 75,
   "id": "54778b5c",
   "metadata": {},
   "outputs": [],
   "source": [
    "lstm_data=resample_df[['Avg_Temp']].copy()"
   ]
  },
  {
   "cell_type": "code",
   "execution_count": 76,
   "id": "be53d733",
   "metadata": {},
   "outputs": [
    {
     "data": {
      "text/plain": [
       "(1785, 1)"
      ]
     },
     "execution_count": 76,
     "metadata": {},
     "output_type": "execute_result"
    }
   ],
   "source": [
    "lstm_data.shape"
   ]
  },
  {
   "cell_type": "code",
   "execution_count": 77,
   "id": "13f38cd5",
   "metadata": {},
   "outputs": [
    {
     "data": {
      "text/html": [
       "<div>\n",
       "<style scoped>\n",
       "    .dataframe tbody tr th:only-of-type {\n",
       "        vertical-align: middle;\n",
       "    }\n",
       "\n",
       "    .dataframe tbody tr th {\n",
       "        vertical-align: top;\n",
       "    }\n",
       "\n",
       "    .dataframe thead th {\n",
       "        text-align: right;\n",
       "    }\n",
       "</style>\n",
       "<table border=\"1\" class=\"dataframe\">\n",
       "  <thead>\n",
       "    <tr style=\"text-align: right;\">\n",
       "      <th></th>\n",
       "      <th>Avg_Temp</th>\n",
       "    </tr>\n",
       "    <tr>\n",
       "      <th>Date</th>\n",
       "      <th></th>\n",
       "    </tr>\n",
       "  </thead>\n",
       "  <tbody>\n",
       "    <tr>\n",
       "      <th>1865-01-01</th>\n",
       "      <td>21.672</td>\n",
       "    </tr>\n",
       "    <tr>\n",
       "      <th>1865-02-01</th>\n",
       "      <td>23.269</td>\n",
       "    </tr>\n",
       "    <tr>\n",
       "      <th>1865-03-01</th>\n",
       "      <td>26.381</td>\n",
       "    </tr>\n",
       "    <tr>\n",
       "      <th>1865-04-01</th>\n",
       "      <td>30.169</td>\n",
       "    </tr>\n",
       "    <tr>\n",
       "      <th>1865-05-01</th>\n",
       "      <td>31.595</td>\n",
       "    </tr>\n",
       "  </tbody>\n",
       "</table>\n",
       "</div>"
      ],
      "text/plain": [
       "            Avg_Temp\n",
       "Date                \n",
       "1865-01-01    21.672\n",
       "1865-02-01    23.269\n",
       "1865-03-01    26.381\n",
       "1865-04-01    30.169\n",
       "1865-05-01    31.595"
      ]
     },
     "execution_count": 77,
     "metadata": {},
     "output_type": "execute_result"
    }
   ],
   "source": [
    "lstm_data.head()"
   ]
  },
  {
   "cell_type": "code",
   "execution_count": 78,
   "id": "6f08a9b1",
   "metadata": {},
   "outputs": [
    {
     "data": {
      "text/plain": [
       "(1785, 1)"
      ]
     },
     "execution_count": 78,
     "metadata": {},
     "output_type": "execute_result"
    }
   ],
   "source": [
    "dataset_train = lstm_data.iloc[:2565,:]\n",
    "dataset_train.shape"
   ]
  },
  {
   "cell_type": "code",
   "execution_count": 79,
   "id": "5cb62b9e",
   "metadata": {},
   "outputs": [
    {
     "data": {
      "text/plain": [
       "array([21.672, 23.269, 26.381, 30.169, 31.595])"
      ]
     },
     "execution_count": 79,
     "metadata": {},
     "output_type": "execute_result"
    }
   ],
   "source": [
    "# Convert data frame / series to numpy array\n",
    "training_set = dataset_train.iloc[:, 0].values\n",
    "training_set[:5]"
   ]
  },
  {
   "cell_type": "code",
   "execution_count": 80,
   "id": "01bc5652",
   "metadata": {},
   "outputs": [
    {
     "data": {
      "text/plain": [
       "(1785,)"
      ]
     },
     "execution_count": 80,
     "metadata": {},
     "output_type": "execute_result"
    }
   ],
   "source": [
    "training_set.shape"
   ]
  },
  {
   "cell_type": "markdown",
   "id": "fd8af650",
   "metadata": {},
   "source": [
    "# Add extra dimemsion to the data for processing in RNN / LSTM neuron"
   ]
  },
  {
   "cell_type": "code",
   "execution_count": 81,
   "id": "a798498e",
   "metadata": {},
   "outputs": [],
   "source": [
    "# Add extra dim for processing purpose\n",
    "training_set = training_set.reshape(-1,1)"
   ]
  },
  {
   "cell_type": "code",
   "execution_count": 82,
   "id": "b75fcf79",
   "metadata": {},
   "outputs": [
    {
     "data": {
      "text/plain": [
       "array([[21.672],\n",
       "       [23.269],\n",
       "       [26.381],\n",
       "       [30.169],\n",
       "       [31.595]])"
      ]
     },
     "execution_count": 82,
     "metadata": {},
     "output_type": "execute_result"
    }
   ],
   "source": [
    "training_set[:5]"
   ]
  },
  {
   "cell_type": "code",
   "execution_count": 83,
   "id": "b705f2c3",
   "metadata": {},
   "outputs": [
    {
     "data": {
      "text/plain": [
       "(1785, 1)"
      ]
     },
     "execution_count": 83,
     "metadata": {},
     "output_type": "execute_result"
    }
   ],
   "source": [
    "training_set.shape"
   ]
  },
  {
   "cell_type": "code",
   "execution_count": 84,
   "id": "f51b8ef7",
   "metadata": {},
   "outputs": [
    {
     "data": {
      "text/plain": [
       "<AxesSubplot:>"
      ]
     },
     "execution_count": 84,
     "metadata": {},
     "output_type": "execute_result"
    },
    {
     "data": {
      "image/png": "[encoded data removed]",
      "text/plain": [
       "<Figure size 432x288 with 1 Axes>"
      ]
     },
     "metadata": {
      "needs_background": "light"
     },
     "output_type": "display_data"
    }
   ],
   "source": [
    "pd.Series(training_set.flat).plot()"
   ]
  },
  {
   "cell_type": "code",
   "execution_count": 85,
   "id": "41217f3b",
   "metadata": {},
   "outputs": [],
   "source": [
    "#Transform time series for having lag values and output variable"
   ]
  },
  {
   "cell_type": "code",
   "execution_count": 123,
   "id": "f171ec1a",
   "metadata": {},
   "outputs": [],
   "source": [
    "timesteps=5 # How many lag Values to train the data\n",
    "trn_size = dataset_train.shape[0]"
   ]
  },
  {
   "cell_type": "code",
   "execution_count": 147,
   "id": "e9a08d80",
   "metadata": {},
   "outputs": [],
   "source": [
    "# add lag values to train dataset\n",
    "X_train = []\n",
    "y_train = []\n",
    "for i in range(timesteps, trn_size):\n",
    "    X_train.append(training_set[i-timesteps:i, 0])\n",
    "    y_train.append(training_set[i, 0])\n",
    "X_train, y_train = np.array(X_train), np.array(y_train)\n"
   ]
  },
  {
   "cell_type": "code",
   "execution_count": 148,
   "id": "4e33aa38",
   "metadata": {},
   "outputs": [
    {
     "data": {
      "text/plain": [
       "(1780, 5)"
      ]
     },
     "execution_count": 148,
     "metadata": {},
     "output_type": "execute_result"
    }
   ],
   "source": [
    "X_train.shape"
   ]
  },
  {
   "cell_type": "code",
   "execution_count": 149,
   "id": "474d1844",
   "metadata": {},
   "outputs": [
    {
     "data": {
      "text/plain": [
       "(1780,)"
      ]
     },
     "execution_count": 149,
     "metadata": {},
     "output_type": "execute_result"
    }
   ],
   "source": [
    "y_train.shape"
   ]
  },
  {
   "cell_type": "code",
   "execution_count": 150,
   "id": "e0d712ee",
   "metadata": {},
   "outputs": [
    {
     "data": {
      "text/plain": [
       "array([[21.672, 23.269, 26.381, 30.169, 31.595]])"
      ]
     },
     "execution_count": 150,
     "metadata": {},
     "output_type": "execute_result"
    }
   ],
   "source": [
    "X_train[:1]"
   ]
  },
  {
   "cell_type": "code",
   "execution_count": 151,
   "id": "173bfacf",
   "metadata": {},
   "outputs": [
    {
     "data": {
      "text/plain": [
       "array([29.872])"
      ]
     },
     "execution_count": 151,
     "metadata": {},
     "output_type": "execute_result"
    }
   ],
   "source": [
    "y_train[:1]"
   ]
  },
  {
   "cell_type": "code",
   "execution_count": 152,
   "id": "bc84799f",
   "metadata": {},
   "outputs": [
    {
     "data": {
      "text/html": [
       "<div>\n",
       "<style scoped>\n",
       "    .dataframe tbody tr th:only-of-type {\n",
       "        vertical-align: middle;\n",
       "    }\n",
       "\n",
       "    .dataframe tbody tr th {\n",
       "        vertical-align: top;\n",
       "    }\n",
       "\n",
       "    .dataframe thead th {\n",
       "        text-align: right;\n",
       "    }\n",
       "</style>\n",
       "<table border=\"1\" class=\"dataframe\">\n",
       "  <thead>\n",
       "    <tr style=\"text-align: right;\">\n",
       "      <th></th>\n",
       "      <th>0</th>\n",
       "      <th>1</th>\n",
       "      <th>2</th>\n",
       "      <th>3</th>\n",
       "      <th>4</th>\n",
       "    </tr>\n",
       "  </thead>\n",
       "  <tbody>\n",
       "    <tr>\n",
       "      <th>0</th>\n",
       "      <td>21.672</td>\n",
       "      <td>23.269</td>\n",
       "      <td>26.381</td>\n",
       "      <td>30.169</td>\n",
       "      <td>31.595</td>\n",
       "    </tr>\n",
       "    <tr>\n",
       "      <th>1</th>\n",
       "      <td>23.269</td>\n",
       "      <td>26.381</td>\n",
       "      <td>30.169</td>\n",
       "      <td>31.595</td>\n",
       "      <td>29.872</td>\n",
       "    </tr>\n",
       "    <tr>\n",
       "      <th>2</th>\n",
       "      <td>26.381</td>\n",
       "      <td>30.169</td>\n",
       "      <td>31.595</td>\n",
       "      <td>29.872</td>\n",
       "      <td>26.461</td>\n",
       "    </tr>\n",
       "    <tr>\n",
       "      <th>3</th>\n",
       "      <td>30.169</td>\n",
       "      <td>31.595</td>\n",
       "      <td>29.872</td>\n",
       "      <td>26.461</td>\n",
       "      <td>25.665</td>\n",
       "    </tr>\n",
       "    <tr>\n",
       "      <th>4</th>\n",
       "      <td>31.595</td>\n",
       "      <td>29.872</td>\n",
       "      <td>26.461</td>\n",
       "      <td>25.665</td>\n",
       "      <td>26.528</td>\n",
       "    </tr>\n",
       "  </tbody>\n",
       "</table>\n",
       "</div>"
      ],
      "text/plain": [
       "        0       1       2       3       4\n",
       "0  21.672  23.269  26.381  30.169  31.595\n",
       "1  23.269  26.381  30.169  31.595  29.872\n",
       "2  26.381  30.169  31.595  29.872  26.461\n",
       "3  30.169  31.595  29.872  26.461  25.665\n",
       "4  31.595  29.872  26.461  25.665  26.528"
      ]
     },
     "execution_count": 152,
     "metadata": {},
     "output_type": "execute_result"
    }
   ],
   "source": [
    "pd.DataFrame(X_train).head()"
   ]
  },
  {
   "cell_type": "markdown",
   "id": "4b0e11eb",
   "metadata": {},
   "source": [
    "## Reshape X_train to add extra dimension"
   ]
  },
  {
   "cell_type": "code",
   "execution_count": 153,
   "id": "17c837fe",
   "metadata": {},
   "outputs": [],
   "source": [
    "#It is added to be processed easily by RNN / LSTM\n",
    "#Reshaping\n",
    "X_train = np.reshape(X_train, (X_train.shape[0], X_train.shape[1], 1))"
   ]
  },
  {
   "cell_type": "code",
   "execution_count": 154,
   "id": "db9b0230",
   "metadata": {},
   "outputs": [
    {
     "data": {
      "text/plain": [
       "(1780, 5, 1)"
      ]
     },
     "execution_count": 154,
     "metadata": {},
     "output_type": "execute_result"
    }
   ],
   "source": [
    "X_train.shape"
   ]
  },
  {
   "cell_type": "code",
   "execution_count": 155,
   "id": "d77601bc",
   "metadata": {},
   "outputs": [
    {
     "data": {
      "text/plain": [
       "array([[[21.672],\n",
       "        [23.269],\n",
       "        [26.381],\n",
       "        [30.169],\n",
       "        [31.595]]])"
      ]
     },
     "execution_count": 155,
     "metadata": {},
     "output_type": "execute_result"
    }
   ],
   "source": [
    "X_train[:1]"
   ]
  },
  {
   "cell_type": "markdown",
   "id": "a205b144",
   "metadata": {},
   "source": [
    "## Building the LSTM"
   ]
  },
  {
   "cell_type": "code",
   "execution_count": 156,
   "id": "50b98d3a",
   "metadata": {},
   "outputs": [],
   "source": [
    "import tensorflow as tf\n",
    "from tensorflow import keras"
   ]
  },
  {
   "cell_type": "code",
   "execution_count": 157,
   "id": "783d4d98",
   "metadata": {},
   "outputs": [
    {
     "data": {
      "text/plain": [
       "numpy.ndarray"
      ]
     },
     "execution_count": 157,
     "metadata": {},
     "output_type": "execute_result"
    }
   ],
   "source": [
    "type(X_train)"
   ]
  },
  {
   "cell_type": "code",
   "execution_count": 158,
   "id": "4a3bb891",
   "metadata": {},
   "outputs": [
    {
     "data": {
      "text/plain": [
       "(5, 1)"
      ]
     },
     "execution_count": 158,
     "metadata": {},
     "output_type": "execute_result"
    }
   ],
   "source": [
    "(X_train.shape[1],X_train.shape[2])"
   ]
  },
  {
   "cell_type": "code",
   "execution_count": 159,
   "id": "b44a150c",
   "metadata": {},
   "outputs": [],
   "source": [
    "#create the model\n",
    "\n",
    "model_lstm = keras.Sequential()\n",
    "\n",
    "# Adding LSTM layers\n",
    "# inputlayer()\n",
    "model_lstm.add(keras.layers.LSTM(units=10,#return_sequences = True, \n",
    "                            input_shape= (X_train.shape[1],X_train.shape[2]) ))\n",
    "\n",
    "# Adding the output layer\n",
    "model_lstm.add(keras.layers.Dense(1))\n",
    "\n",
    "# Compiling the RNN\n",
    "model_lstm.compile(optimizer = 'adam', loss = 'mean_squared_error')"
   ]
  },
  {
   "cell_type": "code",
   "execution_count": 160,
   "id": "21c93179",
   "metadata": {},
   "outputs": [
    {
     "name": "stdout",
     "output_type": "stream",
     "text": [
      "Model: \"sequential_4\"\n",
      "_________________________________________________________________\n",
      " Layer (type)                Output Shape              Param #   \n",
      "=================================================================\n",
      " lstm_4 (LSTM)               (None, 10)                480       \n",
      "                                                                 \n",
      " dense_4 (Dense)             (None, 1)                 11        \n",
      "                                                                 \n",
      "=================================================================\n",
      "Total params: 491\n",
      "Trainable params: 491\n",
      "Non-trainable params: 0\n",
      "_________________________________________________________________\n"
     ]
    }
   ],
   "source": [
    "model_lstm.summary()"
   ]
  },
  {
   "cell_type": "code",
   "execution_count": null,
   "id": "dba993eb",
   "metadata": {},
   "outputs": [],
   "source": []
  },
  {
   "cell_type": "markdown",
   "id": "258716e5",
   "metadata": {},
   "source": [
    "## Fitting the RNN to the Training set"
   ]
  },
  {
   "cell_type": "code",
   "execution_count": 161,
   "id": "07487cc8",
   "metadata": {},
   "outputs": [
    {
     "name": "stdout",
     "output_type": "stream",
     "text": [
      "Epoch 1/50\n",
      "161/161 [==============================] - 4s 10ms/step - loss: 601.1663 - val_loss: 534.4624\n",
      "Epoch 2/50\n",
      "161/161 [==============================] - 1s 4ms/step - loss: 458.7827 - val_loss: 421.1705\n",
      "Epoch 3/50\n",
      "161/161 [==============================] - 1s 5ms/step - loss: 338.0084 - val_loss: 313.8995\n",
      "Epoch 4/50\n",
      "161/161 [==============================] - 1s 5ms/step - loss: 264.6457 - val_loss: 256.6476\n",
      "Epoch 5/50\n",
      "161/161 [==============================] - 1s 8ms/step - loss: 215.1311 - val_loss: 210.0347\n",
      "Epoch 6/50\n",
      "161/161 [==============================] - 1s 6ms/step - loss: 174.5254 - val_loss: 171.2977\n",
      "Epoch 7/50\n",
      "161/161 [==============================] - 1s 6ms/step - loss: 140.8143 - val_loss: 138.9171\n",
      "Epoch 8/50\n",
      "161/161 [==============================] - 1s 7ms/step - loss: 112.9715 - val_loss: 112.1320\n",
      "Epoch 9/50\n",
      "161/161 [==============================] - 1s 6ms/step - loss: 90.0054 - val_loss: 89.9678\n",
      "Epoch 10/50\n",
      "161/161 [==============================] - 1s 5ms/step - loss: 71.3062 - val_loss: 71.8035\n",
      "Epoch 11/50\n",
      "161/161 [==============================] - 1s 6ms/step - loss: 56.3256 - val_loss: 57.2118\n",
      "Epoch 12/50\n",
      "161/161 [==============================] - 1s 6ms/step - loss: 44.4157 - val_loss: 45.5646\n",
      "Epoch 13/50\n",
      "161/161 [==============================] - 1s 8ms/step - loss: 35.1914 - val_loss: 36.4262\n",
      "Epoch 14/50\n",
      "161/161 [==============================] - 1s 7ms/step - loss: 28.1898 - val_loss: 29.5139\n",
      "Epoch 15/50\n",
      "161/161 [==============================] - 2s 10ms/step - loss: 22.9722 - val_loss: 24.1994\n",
      "Epoch 16/50\n",
      "161/161 [==============================] - 1s 7ms/step - loss: 19.2256 - val_loss: 20.3350\n",
      "Epoch 17/50\n",
      "161/161 [==============================] - 1s 5ms/step - loss: 16.6025 - val_loss: 17.5144\n",
      "Epoch 18/50\n",
      "161/161 [==============================] - 1s 5ms/step - loss: 14.8365 - val_loss: 15.5871\n",
      "Epoch 19/50\n",
      "161/161 [==============================] - 1s 5ms/step - loss: 13.6791 - val_loss: 14.1990\n",
      "Epoch 20/50\n",
      "161/161 [==============================] - 1s 7ms/step - loss: 12.9630 - val_loss: 13.2884\n",
      "Epoch 21/50\n",
      "161/161 [==============================] - 2s 10ms/step - loss: 12.2292 - val_loss: 12.8090\n",
      "Epoch 22/50\n",
      "161/161 [==============================] - 2s 9ms/step - loss: 11.4820 - val_loss: 11.7958\n",
      "Epoch 23/50\n",
      "161/161 [==============================] - 1s 8ms/step - loss: 10.9129 - val_loss: 10.9984\n",
      "Epoch 24/50\n",
      "161/161 [==============================] - 1s 7ms/step - loss: 10.4619 - val_loss: 10.5443\n",
      "Epoch 25/50\n",
      "161/161 [==============================] - 2s 10ms/step - loss: 10.0097 - val_loss: 9.9419\n",
      "Epoch 26/50\n",
      "161/161 [==============================] - 2s 9ms/step - loss: 9.4598 - val_loss: 9.5852\n",
      "Epoch 27/50\n",
      "161/161 [==============================] - 1s 9ms/step - loss: 9.0126 - val_loss: 9.0480\n",
      "Epoch 28/50\n",
      "161/161 [==============================] - 1s 6ms/step - loss: 8.3910 - val_loss: 8.3569\n",
      "Epoch 29/50\n",
      "161/161 [==============================] - 1s 6ms/step - loss: 7.8683 - val_loss: 7.8954\n",
      "Epoch 30/50\n",
      "161/161 [==============================] - 1s 6ms/step - loss: 7.2719 - val_loss: 7.4619\n",
      "Epoch 31/50\n",
      "161/161 [==============================] - 1s 7ms/step - loss: 6.7737 - val_loss: 6.9645\n",
      "Epoch 32/50\n",
      "161/161 [==============================] - 1s 7ms/step - loss: 6.3127 - val_loss: 6.3601\n",
      "Epoch 33/50\n",
      "161/161 [==============================] - 1s 5ms/step - loss: 5.8932 - val_loss: 6.0408\n",
      "Epoch 34/50\n",
      "161/161 [==============================] - 2s 9ms/step - loss: 5.5055 - val_loss: 5.6730\n",
      "Epoch 35/50\n",
      "161/161 [==============================] - 1s 7ms/step - loss: 5.0700 - val_loss: 5.1946\n",
      "Epoch 36/50\n",
      "161/161 [==============================] - 1s 5ms/step - loss: 4.5693 - val_loss: 4.5176\n",
      "Epoch 37/50\n",
      "161/161 [==============================] - 1s 5ms/step - loss: 3.9148 - val_loss: 3.9583\n",
      "Epoch 38/50\n",
      "161/161 [==============================] - 1s 4ms/step - loss: 3.2716 - val_loss: 3.3480\n",
      "Epoch 39/50\n",
      "161/161 [==============================] - 1s 6ms/step - loss: 2.6593 - val_loss: 2.7800\n",
      "Epoch 40/50\n",
      "161/161 [==============================] - 1s 6ms/step - loss: 2.2157 - val_loss: 2.4348\n",
      "Epoch 41/50\n",
      "161/161 [==============================] - 1s 6ms/step - loss: 1.8632 - val_loss: 2.2143\n",
      "Epoch 42/50\n",
      "161/161 [==============================] - 1s 6ms/step - loss: 1.6405 - val_loss: 2.0578\n",
      "Epoch 43/50\n",
      "161/161 [==============================] - 1s 6ms/step - loss: 1.5003 - val_loss: 2.1575\n",
      "Epoch 44/50\n",
      "161/161 [==============================] - 1s 6ms/step - loss: 1.3998 - val_loss: 1.7723\n",
      "Epoch 45/50\n",
      "161/161 [==============================] - 1s 7ms/step - loss: 1.2998 - val_loss: 1.5392\n",
      "Epoch 46/50\n",
      "161/161 [==============================] - 1s 4ms/step - loss: 1.2345 - val_loss: 1.4530\n",
      "Epoch 47/50\n",
      "161/161 [==============================] - 1s 5ms/step - loss: 1.2028 - val_loss: 1.5225\n",
      "Epoch 48/50\n",
      "161/161 [==============================] - 1s 5ms/step - loss: 1.1523 - val_loss: 1.5911\n",
      "Epoch 49/50\n",
      "161/161 [==============================] - 1s 4ms/step - loss: 1.1066 - val_loss: 1.6202\n",
      "Epoch 50/50\n",
      "161/161 [==============================] - 1s 5ms/step - loss: 1.1307 - val_loss: 1.3800\n"
     ]
    }
   ],
   "source": [
    "history = model_lstm.fit( X_train, y_train, validation_split=0.1,epochs = 50, batch_size = 10)"
   ]
  },
  {
   "cell_type": "code",
   "execution_count": 162,
   "id": "42594c1a",
   "metadata": {},
   "outputs": [
    {
     "data": {
      "text/plain": [
       "[<matplotlib.lines.Line2D at 0x1fcd4366f10>]"
      ]
     },
     "execution_count": 162,
     "metadata": {},
     "output_type": "execute_result"
    },
    {
     "data": {
      "image/png": "[encoded data removed]",
      "text/plain": [
       "<Figure size 432x288 with 1 Axes>"
      ]
     },
     "metadata": {
      "needs_background": "light"
     },
     "output_type": "display_data"
    }
   ],
   "source": [
    "import matplotlib.pyplot as plt\n",
    "plt.plot(history.history['loss'])\n",
    "plt.plot(history.history['val_loss'])"
   ]
  },
  {
   "cell_type": "markdown",
   "id": "5a5ef7a7",
   "metadata": {},
   "source": [
    "#  Tunning LSTM"
   ]
  },
  {
   "cell_type": "code",
   "execution_count": 163,
   "id": "dd5bbb9c",
   "metadata": {},
   "outputs": [],
   "source": [
    "#create the model\n",
    "\n",
    "model_lstm1 = keras.Sequential()\n",
    "\n",
    "# Adding LSTM layers\n",
    "# inputlayer()\n",
    "model_lstm1.add(keras.layers.LSTM(units=20,#return_sequences = True, \n",
    "                            input_shape= (X_train.shape[1],X_train.shape[2]) ))\n",
    "\n",
    "# Adding the output layer\n",
    "model_lstm1.add(keras.layers.Dense(1))\n",
    "\n",
    "# Compiling the RNN\n",
    "model_lstm1.compile(optimizer = 'adam', loss = 'mean_squared_error')"
   ]
  },
  {
   "cell_type": "code",
   "execution_count": 164,
   "id": "c94a5dc7",
   "metadata": {},
   "outputs": [
    {
     "name": "stdout",
     "output_type": "stream",
     "text": [
      "Model: \"sequential_5\"\n",
      "_________________________________________________________________\n",
      " Layer (type)                Output Shape              Param #   \n",
      "=================================================================\n",
      " lstm_5 (LSTM)               (None, 20)                1760      \n",
      "                                                                 \n",
      " dense_5 (Dense)             (None, 1)                 21        \n",
      "                                                                 \n",
      "=================================================================\n",
      "Total params: 1,781\n",
      "Trainable params: 1,781\n",
      "Non-trainable params: 0\n",
      "_________________________________________________________________\n"
     ]
    }
   ],
   "source": [
    "model_lstm1.summary()"
   ]
  },
  {
   "cell_type": "code",
   "execution_count": 167,
   "id": "cfb4b26a",
   "metadata": {},
   "outputs": [
    {
     "name": "stdout",
     "output_type": "stream",
     "text": [
      "Epoch 1/100\n",
      "81/81 [==============================] - 0s 6ms/step - loss: 2.9023 - val_loss: 2.9697\n",
      "Epoch 2/100\n",
      "81/81 [==============================] - 1s 7ms/step - loss: 2.5489 - val_loss: 2.5910\n",
      "Epoch 3/100\n",
      "81/81 [==============================] - 1s 11ms/step - loss: 2.2430 - val_loss: 2.7036\n",
      "Epoch 4/100\n",
      "81/81 [==============================] - 1s 11ms/step - loss: 1.9433 - val_loss: 2.2555\n",
      "Epoch 5/100\n",
      "81/81 [==============================] - 0s 6ms/step - loss: 1.6960 - val_loss: 1.8036\n",
      "Epoch 6/100\n",
      "81/81 [==============================] - 1s 11ms/step - loss: 1.4923 - val_loss: 1.8004\n",
      "Epoch 7/100\n",
      "81/81 [==============================] - 1s 8ms/step - loss: 1.3651 - val_loss: 1.5960\n",
      "Epoch 8/100\n",
      "81/81 [==============================] - 1s 11ms/step - loss: 1.2286 - val_loss: 1.4791\n",
      "Epoch 9/100\n",
      "81/81 [==============================] - 0s 5ms/step - loss: 1.0981 - val_loss: 1.3750\n",
      "Epoch 10/100\n",
      "81/81 [==============================] - 0s 5ms/step - loss: 1.0507 - val_loss: 1.5183\n",
      "Epoch 11/100\n",
      "81/81 [==============================] - 0s 5ms/step - loss: 1.0025 - val_loss: 1.2603\n",
      "Epoch 12/100\n",
      "81/81 [==============================] - 0s 5ms/step - loss: 0.9365 - val_loss: 1.3657\n",
      "Epoch 13/100\n",
      "81/81 [==============================] - 0s 5ms/step - loss: 0.9355 - val_loss: 1.2777\n",
      "Epoch 14/100\n",
      "81/81 [==============================] - 0s 5ms/step - loss: 0.8917 - val_loss: 1.3497\n",
      "Epoch 15/100\n",
      "81/81 [==============================] - 1s 8ms/step - loss: 0.8795 - val_loss: 1.2670\n",
      "Epoch 16/100\n",
      "81/81 [==============================] - 1s 7ms/step - loss: 0.8377 - val_loss: 1.1389\n",
      "Epoch 17/100\n",
      "81/81 [==============================] - 0s 5ms/step - loss: 0.8354 - val_loss: 1.0094\n",
      "Epoch 18/100\n",
      "81/81 [==============================] - 0s 4ms/step - loss: 0.8276 - val_loss: 1.3233\n",
      "Epoch 19/100\n",
      "81/81 [==============================] - 0s 5ms/step - loss: 0.7976 - val_loss: 1.1310\n",
      "Epoch 20/100\n",
      "81/81 [==============================] - 0s 5ms/step - loss: 0.8159 - val_loss: 1.3755\n",
      "Epoch 21/100\n",
      "81/81 [==============================] - 0s 4ms/step - loss: 0.8185 - val_loss: 1.3539\n",
      "Epoch 22/100\n",
      "81/81 [==============================] - 0s 5ms/step - loss: 0.8039 - val_loss: 1.2201\n",
      "Epoch 23/100\n",
      "81/81 [==============================] - 0s 4ms/step - loss: 0.8047 - val_loss: 1.1981\n",
      "Epoch 24/100\n",
      "81/81 [==============================] - 0s 5ms/step - loss: 0.7868 - val_loss: 1.0706\n",
      "Epoch 25/100\n",
      "81/81 [==============================] - 1s 7ms/step - loss: 0.7746 - val_loss: 1.0242\n",
      "Epoch 26/100\n",
      "81/81 [==============================] - 1s 7ms/step - loss: 0.7671 - val_loss: 1.1012\n",
      "Epoch 27/100\n",
      "81/81 [==============================] - 1s 11ms/step - loss: 0.7879 - val_loss: 1.2038\n",
      "Epoch 28/100\n",
      "81/81 [==============================] - 1s 11ms/step - loss: 0.7592 - val_loss: 1.1723\n",
      "Epoch 29/100\n",
      "81/81 [==============================] - 1s 9ms/step - loss: 0.7612 - val_loss: 1.1276\n",
      "Epoch 30/100\n",
      "81/81 [==============================] - 1s 7ms/step - loss: 0.7613 - val_loss: 0.9944\n",
      "Epoch 31/100\n",
      "81/81 [==============================] - 1s 7ms/step - loss: 0.7782 - val_loss: 1.0575\n",
      "Epoch 32/100\n",
      "81/81 [==============================] - 0s 6ms/step - loss: 0.7551 - val_loss: 0.9535\n",
      "Epoch 33/100\n",
      "81/81 [==============================] - 1s 11ms/step - loss: 0.7947 - val_loss: 1.1217\n",
      "Epoch 34/100\n",
      "81/81 [==============================] - 1s 11ms/step - loss: 0.7648 - val_loss: 0.9036\n",
      "Epoch 35/100\n",
      "81/81 [==============================] - 1s 7ms/step - loss: 0.7733 - val_loss: 1.3199\n",
      "Epoch 36/100\n",
      "81/81 [==============================] - 1s 8ms/step - loss: 0.7471 - val_loss: 1.0450\n",
      "Epoch 37/100\n",
      "81/81 [==============================] - 1s 7ms/step - loss: 0.7493 - val_loss: 1.0888\n",
      "Epoch 38/100\n",
      "81/81 [==============================] - 0s 6ms/step - loss: 0.7717 - val_loss: 1.0178\n",
      "Epoch 39/100\n",
      "81/81 [==============================] - 1s 8ms/step - loss: 0.7427 - val_loss: 1.4241\n",
      "Epoch 40/100\n",
      "81/81 [==============================] - 1s 7ms/step - loss: 0.7715 - val_loss: 1.4046\n",
      "Epoch 41/100\n",
      "81/81 [==============================] - 1s 8ms/step - loss: 0.7513 - val_loss: 1.0795\n",
      "Epoch 42/100\n",
      "81/81 [==============================] - 1s 8ms/step - loss: 0.7592 - val_loss: 1.2921\n",
      "Epoch 43/100\n",
      "81/81 [==============================] - 1s 8ms/step - loss: 0.7671 - val_loss: 1.0766\n",
      "Epoch 44/100\n",
      "81/81 [==============================] - 1s 8ms/step - loss: 0.7500 - val_loss: 1.1639\n",
      "Epoch 45/100\n",
      "81/81 [==============================] - 0s 6ms/step - loss: 0.7338 - val_loss: 1.1501\n",
      "Epoch 46/100\n",
      "81/81 [==============================] - 1s 9ms/step - loss: 0.7440 - val_loss: 1.0420\n",
      "Epoch 47/100\n",
      "81/81 [==============================] - 1s 7ms/step - loss: 0.7354 - val_loss: 1.0580\n",
      "Epoch 48/100\n",
      "81/81 [==============================] - 0s 6ms/step - loss: 0.7392 - val_loss: 1.2482\n",
      "Epoch 49/100\n",
      "81/81 [==============================] - 1s 7ms/step - loss: 0.7653 - val_loss: 1.0554\n",
      "Epoch 50/100\n",
      "81/81 [==============================] - 1s 6ms/step - loss: 0.7431 - val_loss: 1.0667\n",
      "Epoch 51/100\n",
      "81/81 [==============================] - 1s 7ms/step - loss: 0.7592 - val_loss: 0.9327\n",
      "Epoch 52/100\n",
      "81/81 [==============================] - 1s 7ms/step - loss: 0.7324 - val_loss: 1.2502\n",
      "Epoch 53/100\n",
      "81/81 [==============================] - 1s 7ms/step - loss: 0.7424 - val_loss: 1.1019\n",
      "Epoch 54/100\n",
      "81/81 [==============================] - 0s 5ms/step - loss: 0.7495 - val_loss: 1.1487\n",
      "Epoch 55/100\n",
      "81/81 [==============================] - 0s 5ms/step - loss: 0.7431 - val_loss: 1.0400\n",
      "Epoch 56/100\n",
      "81/81 [==============================] - 1s 9ms/step - loss: 0.7702 - val_loss: 1.1803\n",
      "Epoch 57/100\n",
      "81/81 [==============================] - 1s 9ms/step - loss: 0.7459 - val_loss: 1.3017\n",
      "Epoch 58/100\n",
      "81/81 [==============================] - 0s 5ms/step - loss: 0.7805 - val_loss: 1.0199\n",
      "Epoch 59/100\n",
      "81/81 [==============================] - 0s 5ms/step - loss: 0.7334 - val_loss: 1.0197\n",
      "Epoch 60/100\n",
      "81/81 [==============================] - 0s 5ms/step - loss: 0.7410 - val_loss: 0.9575\n",
      "Epoch 61/100\n",
      "81/81 [==============================] - 1s 8ms/step - loss: 0.7638 - val_loss: 1.0093\n",
      "Epoch 62/100\n",
      "81/81 [==============================] - 1s 9ms/step - loss: 0.7414 - val_loss: 1.0174\n",
      "Epoch 63/100\n",
      "81/81 [==============================] - 1s 10ms/step - loss: 0.7450 - val_loss: 1.1205\n",
      "Epoch 64/100\n",
      "81/81 [==============================] - 1s 7ms/step - loss: 0.7667 - val_loss: 1.1206\n",
      "Epoch 65/100\n",
      "81/81 [==============================] - 1s 7ms/step - loss: 0.7391 - val_loss: 1.0532\n",
      "Epoch 66/100\n",
      "81/81 [==============================] - 0s 6ms/step - loss: 0.7289 - val_loss: 1.1075\n",
      "Epoch 67/100\n",
      "81/81 [==============================] - 1s 7ms/step - loss: 0.7633 - val_loss: 1.0473\n",
      "Epoch 68/100\n",
      "81/81 [==============================] - 1s 7ms/step - loss: 0.7506 - val_loss: 1.1242\n",
      "Epoch 69/100\n",
      "81/81 [==============================] - 0s 5ms/step - loss: 0.7325 - val_loss: 1.1735\n",
      "Epoch 70/100\n",
      "81/81 [==============================] - 0s 5ms/step - loss: 0.7482 - val_loss: 0.8867\n",
      "Epoch 71/100\n",
      "81/81 [==============================] - 0s 5ms/step - loss: 0.7831 - val_loss: 1.0788\n",
      "Epoch 72/100\n",
      "81/81 [==============================] - 0s 5ms/step - loss: 0.7496 - val_loss: 1.0122\n",
      "Epoch 73/100\n",
      "81/81 [==============================] - 1s 11ms/step - loss: 0.7426 - val_loss: 1.1376\n",
      "Epoch 74/100\n",
      "81/81 [==============================] - 1s 11ms/step - loss: 0.7351 - val_loss: 0.9731\n",
      "Epoch 75/100\n",
      "81/81 [==============================] - 1s 10ms/step - loss: 0.7435 - val_loss: 1.0122\n",
      "Epoch 76/100\n",
      "81/81 [==============================] - 1s 7ms/step - loss: 0.7456 - val_loss: 0.8956\n",
      "Epoch 77/100\n",
      "81/81 [==============================] - 0s 5ms/step - loss: 0.7463 - val_loss: 0.8767\n",
      "Epoch 78/100\n",
      "81/81 [==============================] - 0s 6ms/step - loss: 0.8095 - val_loss: 1.0634\n",
      "Epoch 79/100\n",
      "81/81 [==============================] - 1s 8ms/step - loss: 0.7387 - val_loss: 0.9871\n",
      "Epoch 80/100\n",
      "81/81 [==============================] - 1s 7ms/step - loss: 0.7419 - val_loss: 0.9979\n",
      "Epoch 81/100\n",
      "81/81 [==============================] - 1s 6ms/step - loss: 0.7355 - val_loss: 0.9530\n",
      "Epoch 82/100\n",
      "81/81 [==============================] - 0s 5ms/step - loss: 0.7277 - val_loss: 1.0028\n",
      "Epoch 83/100\n",
      "81/81 [==============================] - 0s 5ms/step - loss: 0.7328 - val_loss: 1.4029\n",
      "Epoch 84/100\n",
      "81/81 [==============================] - 1s 10ms/step - loss: 0.7339 - val_loss: 1.1718\n",
      "Epoch 85/100\n",
      "81/81 [==============================] - 1s 9ms/step - loss: 0.7463 - val_loss: 0.9936\n",
      "Epoch 86/100\n",
      "81/81 [==============================] - 1s 9ms/step - loss: 0.7348 - val_loss: 1.0951\n",
      "Epoch 87/100\n",
      "81/81 [==============================] - 1s 6ms/step - loss: 0.7329 - val_loss: 1.1924\n",
      "Epoch 88/100\n",
      "81/81 [==============================] - 1s 6ms/step - loss: 0.7496 - val_loss: 0.9382\n",
      "Epoch 89/100\n",
      "81/81 [==============================] - 1s 8ms/step - loss: 0.7268 - val_loss: 1.2662\n",
      "Epoch 90/100\n",
      "81/81 [==============================] - 1s 7ms/step - loss: 0.7474 - val_loss: 1.1322\n",
      "Epoch 91/100\n",
      "81/81 [==============================] - 1s 9ms/step - loss: 0.7212 - val_loss: 0.8637\n",
      "Epoch 92/100\n",
      "81/81 [==============================] - 1s 6ms/step - loss: 0.7275 - val_loss: 1.0125\n",
      "Epoch 93/100\n",
      "81/81 [==============================] - 0s 5ms/step - loss: 0.7221 - val_loss: 1.1841\n",
      "Epoch 94/100\n",
      "81/81 [==============================] - 0s 5ms/step - loss: 0.7213 - val_loss: 0.9191\n",
      "Epoch 95/100\n",
      "81/81 [==============================] - 0s 5ms/step - loss: 0.7117 - val_loss: 0.9308\n",
      "Epoch 96/100\n",
      "81/81 [==============================] - 0s 5ms/step - loss: 0.7228 - val_loss: 0.9936\n",
      "Epoch 97/100\n",
      "81/81 [==============================] - 0s 5ms/step - loss: 0.7105 - val_loss: 1.0212\n",
      "Epoch 98/100\n",
      "81/81 [==============================] - 1s 9ms/step - loss: 0.7401 - val_loss: 0.9575\n",
      "Epoch 99/100\n",
      "81/81 [==============================] - 1s 7ms/step - loss: 0.7317 - val_loss: 0.9453\n",
      "Epoch 100/100\n",
      "81/81 [==============================] - 1s 8ms/step - loss: 0.7077 - val_loss: 1.0349\n"
     ]
    }
   ],
   "source": [
    "history1 = model_lstm1.fit( X_train, y_train, validation_split=0.1,epochs = 100, batch_size = 20)"
   ]
  },
  {
   "cell_type": "code",
   "execution_count": 168,
   "id": "c8773e96",
   "metadata": {},
   "outputs": [
    {
     "data": {
      "text/plain": [
       "[<matplotlib.lines.Line2D at 0x1fcd0e683a0>]"
      ]
     },
     "execution_count": 168,
     "metadata": {},
     "output_type": "execute_result"
    },
    {
     "data": {
      "image/png": "[encoded data removed]",
      "text/plain": [
       "<Figure size 432x288 with 1 Axes>"
      ]
     },
     "metadata": {
      "needs_background": "light"
     },
     "output_type": "display_data"
    }
   ],
   "source": [
    "import matplotlib.pyplot as plt\n",
    "plt.plot(history1.history['loss'])\n",
    "plt.plot(history1.history['val_loss'])"
   ]
  },
  {
   "cell_type": "markdown",
   "id": "824e7b1c",
   "metadata": {},
   "source": [
    "# Prophet"
   ]
  },
  {
   "cell_type": "code",
   "execution_count": 107,
   "id": "0b139147",
   "metadata": {},
   "outputs": [],
   "source": [
    "# !pip install pystan fbprophet"
   ]
  },
  {
   "cell_type": "code",
   "execution_count": 108,
   "id": "6b9dc453",
   "metadata": {},
   "outputs": [
    {
     "ename": "ModuleNotFoundError",
     "evalue": "No module named 'fbprophet'",
     "output_type": "error",
     "traceback": [
      "\u001b[1;31m---------------------------------------------------------------------------\u001b[0m",
      "\u001b[1;31mModuleNotFoundError\u001b[0m                       Traceback (most recent call last)",
      "\u001b[1;32m~\\AppData\\Local\\Temp/ipykernel_10908/1077012186.py\u001b[0m in \u001b[0;36m<module>\u001b[1;34m\u001b[0m\n\u001b[0;32m      1\u001b[0m \u001b[1;32mimport\u001b[0m \u001b[0mpandas\u001b[0m \u001b[1;32mas\u001b[0m \u001b[0mpd\u001b[0m\u001b[1;33m\u001b[0m\u001b[1;33m\u001b[0m\u001b[0m\n\u001b[1;32m----> 2\u001b[1;33m \u001b[1;32mfrom\u001b[0m \u001b[0mfbprophet\u001b[0m \u001b[1;32mimport\u001b[0m \u001b[0mProphet\u001b[0m\u001b[1;33m\u001b[0m\u001b[1;33m\u001b[0m\u001b[0m\n\u001b[0m",
      "\u001b[1;31mModuleNotFoundError\u001b[0m: No module named 'fbprophet'"
     ]
    }
   ],
   "source": [
    "import pandas as pd\n",
    "from fbprophet import Prophet"
   ]
  },
  {
   "cell_type": "code",
   "execution_count": null,
   "id": "c590270b",
   "metadata": {},
   "outputs": [],
   "source": [
    "resample_df.head()"
   ]
  },
  {
   "cell_type": "code",
   "execution_count": null,
   "id": "6f36bfd8",
   "metadata": {},
   "outputs": [],
   "source": [
    "pro_data=resample_df.copy()"
   ]
  },
  {
   "cell_type": "code",
   "execution_count": null,
   "id": "005333a2",
   "metadata": {},
   "outputs": [],
   "source": [
    "pro_data.reset_index(level=0, inplace=True)"
   ]
  },
  {
   "cell_type": "code",
   "execution_count": null,
   "id": "52bbc32b",
   "metadata": {},
   "outputs": [],
   "source": [
    "pro_data.rename(columns={'Date':'ds','Avg_temp':'y'},inplace=True)"
   ]
  },
  {
   "cell_type": "code",
   "execution_count": null,
   "id": "d915ec98",
   "metadata": {},
   "outputs": [],
   "source": [
    "pro_data.head()"
   ]
  },
  {
   "cell_type": "code",
   "execution_count": null,
   "id": "00424755",
   "metadata": {},
   "outputs": [],
   "source": [
    "pro_data.shape"
   ]
  },
  {
   "cell_type": "code",
   "execution_count": null,
   "id": "55b3f8e2",
   "metadata": {},
   "outputs": [],
   "source": [
    "pro_data.dtypes"
   ]
  },
  {
   "cell_type": "code",
   "execution_count": null,
   "id": "b77902c5",
   "metadata": {},
   "outputs": [],
   "source": [
    "m = Prophet()\n",
    "m.fit(pro_data)\n"
   ]
  },
  {
   "cell_type": "code",
   "execution_count": null,
   "id": "6243ca86",
   "metadata": {},
   "outputs": [],
   "source": [
    "future = m.make_future_dataframe(periods=12)\n",
    "future.tail()"
   ]
  },
  {
   "cell_type": "code",
   "execution_count": null,
   "id": "5ee12abe",
   "metadata": {},
   "outputs": [],
   "source": [
    "forecast = m.predict(future)\n",
    "forecast[['ds', 'yhat', 'yhat_lower', 'yhat_upper']].tail()\n"
   ]
  },
  {
   "cell_type": "code",
   "execution_count": null,
   "id": "8abefde2",
   "metadata": {},
   "outputs": [],
   "source": [
    "fig1 = m.plot(forecast)"
   ]
  }
 ],
 "metadata": {
  "kernelspec": {
   "display_name": "Python 3 (ipykernel)",
   "language": "python",
   "name": "python3"
  },
  "language_info": {
   "codemirror_mode": {
    "name": "ipython",
    "version": 3
   },
   "file_extension": ".py",
   "mimetype": "text/x-python",
   "name": "python",
   "nbconvert_exporter": "python",
   "pygments_lexer": "ipython3",
   "version": "3.9.7"
  }
 },
 "nbformat": 4,
 "nbformat_minor": 5
}
