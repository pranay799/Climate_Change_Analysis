{
 "cells": [
  {
   "cell_type": "code",
   "execution_count": 1,
   "id": "7a2cd292",
   "metadata": {},
   "outputs": [],
   "source": [
    "import pandas as pd\n",
    "from datetime import datetime,timedelta\n",
    "import matplotlib.pyplot as plt\n",
    "import numpy as np\n",
    "from statsmodels.tsa.seasonal import seasonal_decompose\n",
    "import seaborn as sns\n",
    "%matplotlib inline\n",
    "import warnings\n",
    "warnings.filterwarnings('ignore')"
   ]
  },
  {
   "cell_type": "code",
   "execution_count": 2,
   "id": "7a5ba2be",
   "metadata": {},
   "outputs": [],
   "source": [
    "df=pd.read_csv('GlobalLandTemperaturesByState.csv')"
   ]
  },
  {
   "cell_type": "code",
   "execution_count": 3,
   "id": "360c9828",
   "metadata": {},
   "outputs": [
    {
     "data": {
      "text/html": [
       "<div>\n",
       "<style scoped>\n",
       "    .dataframe tbody tr th:only-of-type {\n",
       "        vertical-align: middle;\n",
       "    }\n",
       "\n",
       "    .dataframe tbody tr th {\n",
       "        vertical-align: top;\n",
       "    }\n",
       "\n",
       "    .dataframe thead th {\n",
       "        text-align: right;\n",
       "    }\n",
       "</style>\n",
       "<table border=\"1\" class=\"dataframe\">\n",
       "  <thead>\n",
       "    <tr style=\"text-align: right;\">\n",
       "      <th></th>\n",
       "      <th>dt</th>\n",
       "      <th>AverageTemperature</th>\n",
       "      <th>AverageTemperatureUncertainty</th>\n",
       "      <th>State</th>\n",
       "      <th>Country</th>\n",
       "    </tr>\n",
       "  </thead>\n",
       "  <tbody>\n",
       "    <tr>\n",
       "      <th>0</th>\n",
       "      <td>1855-05-01</td>\n",
       "      <td>25.544</td>\n",
       "      <td>1.171</td>\n",
       "      <td>Acre</td>\n",
       "      <td>Brazil</td>\n",
       "    </tr>\n",
       "    <tr>\n",
       "      <th>1</th>\n",
       "      <td>1855-06-01</td>\n",
       "      <td>24.228</td>\n",
       "      <td>1.103</td>\n",
       "      <td>Acre</td>\n",
       "      <td>Brazil</td>\n",
       "    </tr>\n",
       "    <tr>\n",
       "      <th>2</th>\n",
       "      <td>1855-07-01</td>\n",
       "      <td>24.371</td>\n",
       "      <td>1.044</td>\n",
       "      <td>Acre</td>\n",
       "      <td>Brazil</td>\n",
       "    </tr>\n",
       "    <tr>\n",
       "      <th>3</th>\n",
       "      <td>1855-08-01</td>\n",
       "      <td>25.427</td>\n",
       "      <td>1.073</td>\n",
       "      <td>Acre</td>\n",
       "      <td>Brazil</td>\n",
       "    </tr>\n",
       "    <tr>\n",
       "      <th>4</th>\n",
       "      <td>1855-09-01</td>\n",
       "      <td>25.675</td>\n",
       "      <td>1.014</td>\n",
       "      <td>Acre</td>\n",
       "      <td>Brazil</td>\n",
       "    </tr>\n",
       "  </tbody>\n",
       "</table>\n",
       "</div>"
      ],
      "text/plain": [
       "           dt  AverageTemperature  AverageTemperatureUncertainty State Country\n",
       "0  1855-05-01              25.544                          1.171  Acre  Brazil\n",
       "1  1855-06-01              24.228                          1.103  Acre  Brazil\n",
       "2  1855-07-01              24.371                          1.044  Acre  Brazil\n",
       "3  1855-08-01              25.427                          1.073  Acre  Brazil\n",
       "4  1855-09-01              25.675                          1.014  Acre  Brazil"
      ]
     },
     "execution_count": 3,
     "metadata": {},
     "output_type": "execute_result"
    }
   ],
   "source": [
    "df.head()"
   ]
  },
  {
   "cell_type": "code",
   "execution_count": 4,
   "id": "d2b16ddd",
   "metadata": {},
   "outputs": [
    {
     "data": {
      "text/plain": [
       "dt                                object\n",
       "AverageTemperature               float64\n",
       "AverageTemperatureUncertainty    float64\n",
       "State                             object\n",
       "Country                           object\n",
       "dtype: object"
      ]
     },
     "execution_count": 4,
     "metadata": {},
     "output_type": "execute_result"
    }
   ],
   "source": [
    "df.dtypes"
   ]
  },
  {
   "cell_type": "code",
   "execution_count": 5,
   "id": "697578c0",
   "metadata": {},
   "outputs": [
    {
     "data": {
      "text/plain": [
       "(645675, 5)"
      ]
     },
     "execution_count": 5,
     "metadata": {},
     "output_type": "execute_result"
    }
   ],
   "source": [
    "df.shape"
   ]
  },
  {
   "cell_type": "code",
   "execution_count": 6,
   "id": "f048b395",
   "metadata": {},
   "outputs": [
    {
     "data": {
      "text/plain": [
       "dt                                   0\n",
       "AverageTemperature               25648\n",
       "AverageTemperatureUncertainty    25648\n",
       "State                                0\n",
       "Country                              0\n",
       "dtype: int64"
      ]
     },
     "execution_count": 6,
     "metadata": {},
     "output_type": "execute_result"
    }
   ],
   "source": [
    "df.isnull().sum()"
   ]
  },
  {
   "cell_type": "code",
   "execution_count": 7,
   "id": "4dafa93a",
   "metadata": {},
   "outputs": [],
   "source": [
    "df = df.dropna(how='any',axis=0)"
   ]
  },
  {
   "cell_type": "code",
   "execution_count": 8,
   "id": "827aa0a8",
   "metadata": {},
   "outputs": [
    {
     "data": {
      "text/plain": [
       "(620027, 5)"
      ]
     },
     "execution_count": 8,
     "metadata": {},
     "output_type": "execute_result"
    }
   ],
   "source": [
    "df.shape"
   ]
  },
  {
   "cell_type": "code",
   "execution_count": 9,
   "id": "696adfe6",
   "metadata": {},
   "outputs": [],
   "source": [
    "df.rename(columns={'dt':'Date','AverageTemperature':'Avg_temp','AverageTemperatureUncertainty':'confidence_interval_temp'},inplace=True)"
   ]
  },
  {
   "cell_type": "code",
   "execution_count": 10,
   "id": "f764459f",
   "metadata": {},
   "outputs": [
    {
     "data": {
      "text/html": [
       "<div>\n",
       "<style scoped>\n",
       "    .dataframe tbody tr th:only-of-type {\n",
       "        vertical-align: middle;\n",
       "    }\n",
       "\n",
       "    .dataframe tbody tr th {\n",
       "        vertical-align: top;\n",
       "    }\n",
       "\n",
       "    .dataframe thead th {\n",
       "        text-align: right;\n",
       "    }\n",
       "</style>\n",
       "<table border=\"1\" class=\"dataframe\">\n",
       "  <thead>\n",
       "    <tr style=\"text-align: right;\">\n",
       "      <th></th>\n",
       "      <th>Date</th>\n",
       "      <th>Avg_temp</th>\n",
       "      <th>confidence_interval_temp</th>\n",
       "      <th>State</th>\n",
       "      <th>Country</th>\n",
       "    </tr>\n",
       "  </thead>\n",
       "  <tbody>\n",
       "    <tr>\n",
       "      <th>0</th>\n",
       "      <td>1855-05-01</td>\n",
       "      <td>25.544</td>\n",
       "      <td>1.171</td>\n",
       "      <td>Acre</td>\n",
       "      <td>Brazil</td>\n",
       "    </tr>\n",
       "    <tr>\n",
       "      <th>1</th>\n",
       "      <td>1855-06-01</td>\n",
       "      <td>24.228</td>\n",
       "      <td>1.103</td>\n",
       "      <td>Acre</td>\n",
       "      <td>Brazil</td>\n",
       "    </tr>\n",
       "    <tr>\n",
       "      <th>2</th>\n",
       "      <td>1855-07-01</td>\n",
       "      <td>24.371</td>\n",
       "      <td>1.044</td>\n",
       "      <td>Acre</td>\n",
       "      <td>Brazil</td>\n",
       "    </tr>\n",
       "    <tr>\n",
       "      <th>3</th>\n",
       "      <td>1855-08-01</td>\n",
       "      <td>25.427</td>\n",
       "      <td>1.073</td>\n",
       "      <td>Acre</td>\n",
       "      <td>Brazil</td>\n",
       "    </tr>\n",
       "    <tr>\n",
       "      <th>4</th>\n",
       "      <td>1855-09-01</td>\n",
       "      <td>25.675</td>\n",
       "      <td>1.014</td>\n",
       "      <td>Acre</td>\n",
       "      <td>Brazil</td>\n",
       "    </tr>\n",
       "  </tbody>\n",
       "</table>\n",
       "</div>"
      ],
      "text/plain": [
       "         Date  Avg_temp  confidence_interval_temp State Country\n",
       "0  1855-05-01    25.544                     1.171  Acre  Brazil\n",
       "1  1855-06-01    24.228                     1.103  Acre  Brazil\n",
       "2  1855-07-01    24.371                     1.044  Acre  Brazil\n",
       "3  1855-08-01    25.427                     1.073  Acre  Brazil\n",
       "4  1855-09-01    25.675                     1.014  Acre  Brazil"
      ]
     },
     "execution_count": 10,
     "metadata": {},
     "output_type": "execute_result"
    }
   ],
   "source": [
    "df.head()"
   ]
  },
  {
   "cell_type": "code",
   "execution_count": 11,
   "id": "a3a238eb",
   "metadata": {},
   "outputs": [
    {
     "data": {
      "text/plain": [
       "DatetimeIndex(['1855-05-01', '1855-06-01', '1855-07-01', '1855-08-01',\n",
       "               '1855-09-01', '1855-10-01', '1855-11-01', '1855-12-01',\n",
       "               '1856-01-01', '1856-02-01',\n",
       "               ...\n",
       "               '2012-11-01', '2012-12-01', '2013-01-01', '2013-02-01',\n",
       "               '2013-03-01', '2013-04-01', '2013-05-01', '2013-06-01',\n",
       "               '2013-07-01', '2013-08-01'],\n",
       "              dtype='datetime64[ns]', name='Date', length=620027, freq=None)"
      ]
     },
     "execution_count": 11,
     "metadata": {},
     "output_type": "execute_result"
    }
   ],
   "source": [
    "df['Date']=pd.to_datetime(df['Date'])\n",
    "df.set_index('Date',inplace=True)\n",
    "df.index"
   ]
  },
  {
   "cell_type": "code",
   "execution_count": 12,
   "id": "3bd52d8c",
   "metadata": {},
   "outputs": [
    {
     "data": {
      "text/html": [
       "<div>\n",
       "<style scoped>\n",
       "    .dataframe tbody tr th:only-of-type {\n",
       "        vertical-align: middle;\n",
       "    }\n",
       "\n",
       "    .dataframe tbody tr th {\n",
       "        vertical-align: top;\n",
       "    }\n",
       "\n",
       "    .dataframe thead th {\n",
       "        text-align: right;\n",
       "    }\n",
       "</style>\n",
       "<table border=\"1\" class=\"dataframe\">\n",
       "  <thead>\n",
       "    <tr style=\"text-align: right;\">\n",
       "      <th></th>\n",
       "      <th>Avg_temp</th>\n",
       "      <th>confidence_interval_temp</th>\n",
       "    </tr>\n",
       "  </thead>\n",
       "  <tbody>\n",
       "    <tr>\n",
       "      <th>count</th>\n",
       "      <td>620027.000000</td>\n",
       "      <td>620027.000000</td>\n",
       "    </tr>\n",
       "    <tr>\n",
       "      <th>mean</th>\n",
       "      <td>8.993111</td>\n",
       "      <td>1.287647</td>\n",
       "    </tr>\n",
       "    <tr>\n",
       "      <th>std</th>\n",
       "      <td>13.772150</td>\n",
       "      <td>1.360392</td>\n",
       "    </tr>\n",
       "    <tr>\n",
       "      <th>min</th>\n",
       "      <td>-45.389000</td>\n",
       "      <td>0.036000</td>\n",
       "    </tr>\n",
       "    <tr>\n",
       "      <th>25%</th>\n",
       "      <td>-0.693000</td>\n",
       "      <td>0.316000</td>\n",
       "    </tr>\n",
       "    <tr>\n",
       "      <th>50%</th>\n",
       "      <td>11.199000</td>\n",
       "      <td>0.656000</td>\n",
       "    </tr>\n",
       "    <tr>\n",
       "      <th>75%</th>\n",
       "      <td>19.899000</td>\n",
       "      <td>1.850000</td>\n",
       "    </tr>\n",
       "    <tr>\n",
       "      <th>max</th>\n",
       "      <td>36.339000</td>\n",
       "      <td>12.646000</td>\n",
       "    </tr>\n",
       "  </tbody>\n",
       "</table>\n",
       "</div>"
      ],
      "text/plain": [
       "            Avg_temp  confidence_interval_temp\n",
       "count  620027.000000             620027.000000\n",
       "mean        8.993111                  1.287647\n",
       "std        13.772150                  1.360392\n",
       "min       -45.389000                  0.036000\n",
       "25%        -0.693000                  0.316000\n",
       "50%        11.199000                  0.656000\n",
       "75%        19.899000                  1.850000\n",
       "max        36.339000                 12.646000"
      ]
     },
     "execution_count": 12,
     "metadata": {},
     "output_type": "execute_result"
    }
   ],
   "source": [
    "df.describe()"
   ]
  },
  {
   "cell_type": "code",
   "execution_count": 13,
   "id": "b3d50cc8",
   "metadata": {},
   "outputs": [
    {
     "data": {
      "text/html": [
       "<div>\n",
       "<style scoped>\n",
       "    .dataframe tbody tr th:only-of-type {\n",
       "        vertical-align: middle;\n",
       "    }\n",
       "\n",
       "    .dataframe tbody tr th {\n",
       "        vertical-align: top;\n",
       "    }\n",
       "\n",
       "    .dataframe thead th {\n",
       "        text-align: right;\n",
       "    }\n",
       "</style>\n",
       "<table border=\"1\" class=\"dataframe\">\n",
       "  <thead>\n",
       "    <tr style=\"text-align: right;\">\n",
       "      <th></th>\n",
       "      <th>Avg_temp</th>\n",
       "      <th>confidence_interval_temp</th>\n",
       "      <th>State</th>\n",
       "      <th>Country</th>\n",
       "      <th>Year</th>\n",
       "    </tr>\n",
       "    <tr>\n",
       "      <th>Date</th>\n",
       "      <th></th>\n",
       "      <th></th>\n",
       "      <th></th>\n",
       "      <th></th>\n",
       "      <th></th>\n",
       "    </tr>\n",
       "  </thead>\n",
       "  <tbody>\n",
       "    <tr>\n",
       "      <th>1855-05-01</th>\n",
       "      <td>25.544</td>\n",
       "      <td>1.171</td>\n",
       "      <td>Acre</td>\n",
       "      <td>Brazil</td>\n",
       "      <td>1855</td>\n",
       "    </tr>\n",
       "    <tr>\n",
       "      <th>1855-06-01</th>\n",
       "      <td>24.228</td>\n",
       "      <td>1.103</td>\n",
       "      <td>Acre</td>\n",
       "      <td>Brazil</td>\n",
       "      <td>1855</td>\n",
       "    </tr>\n",
       "    <tr>\n",
       "      <th>1855-07-01</th>\n",
       "      <td>24.371</td>\n",
       "      <td>1.044</td>\n",
       "      <td>Acre</td>\n",
       "      <td>Brazil</td>\n",
       "      <td>1855</td>\n",
       "    </tr>\n",
       "    <tr>\n",
       "      <th>1855-08-01</th>\n",
       "      <td>25.427</td>\n",
       "      <td>1.073</td>\n",
       "      <td>Acre</td>\n",
       "      <td>Brazil</td>\n",
       "      <td>1855</td>\n",
       "    </tr>\n",
       "    <tr>\n",
       "      <th>1855-09-01</th>\n",
       "      <td>25.675</td>\n",
       "      <td>1.014</td>\n",
       "      <td>Acre</td>\n",
       "      <td>Brazil</td>\n",
       "      <td>1855</td>\n",
       "    </tr>\n",
       "  </tbody>\n",
       "</table>\n",
       "</div>"
      ],
      "text/plain": [
       "            Avg_temp  confidence_interval_temp State Country  Year\n",
       "Date                                                              \n",
       "1855-05-01    25.544                     1.171  Acre  Brazil  1855\n",
       "1855-06-01    24.228                     1.103  Acre  Brazil  1855\n",
       "1855-07-01    24.371                     1.044  Acre  Brazil  1855\n",
       "1855-08-01    25.427                     1.073  Acre  Brazil  1855\n",
       "1855-09-01    25.675                     1.014  Acre  Brazil  1855"
      ]
     },
     "execution_count": 13,
     "metadata": {},
     "output_type": "execute_result"
    }
   ],
   "source": [
    "df['Year']=df.index.year\n",
    "df.head()"
   ]
  },
  {
   "cell_type": "code",
   "execution_count": 14,
   "id": "761f01c3",
   "metadata": {},
   "outputs": [
    {
     "data": {
      "text/html": [
       "<div>\n",
       "<style scoped>\n",
       "    .dataframe tbody tr th:only-of-type {\n",
       "        vertical-align: middle;\n",
       "    }\n",
       "\n",
       "    .dataframe tbody tr th {\n",
       "        vertical-align: top;\n",
       "    }\n",
       "\n",
       "    .dataframe thead th {\n",
       "        text-align: right;\n",
       "    }\n",
       "</style>\n",
       "<table border=\"1\" class=\"dataframe\">\n",
       "  <thead>\n",
       "    <tr style=\"text-align: right;\">\n",
       "      <th></th>\n",
       "      <th>Avg_temp</th>\n",
       "      <th>confidence_interval_temp</th>\n",
       "      <th>Year</th>\n",
       "    </tr>\n",
       "  </thead>\n",
       "  <tbody>\n",
       "    <tr>\n",
       "      <th>count</th>\n",
       "      <td>620027.000000</td>\n",
       "      <td>620027.000000</td>\n",
       "      <td>620027.000000</td>\n",
       "    </tr>\n",
       "    <tr>\n",
       "      <th>mean</th>\n",
       "      <td>8.993111</td>\n",
       "      <td>1.287647</td>\n",
       "      <td>1902.331598</td>\n",
       "    </tr>\n",
       "    <tr>\n",
       "      <th>std</th>\n",
       "      <td>13.772150</td>\n",
       "      <td>1.360392</td>\n",
       "      <td>67.831393</td>\n",
       "    </tr>\n",
       "    <tr>\n",
       "      <th>min</th>\n",
       "      <td>-45.389000</td>\n",
       "      <td>0.036000</td>\n",
       "      <td>1743.000000</td>\n",
       "    </tr>\n",
       "    <tr>\n",
       "      <th>25%</th>\n",
       "      <td>-0.693000</td>\n",
       "      <td>0.316000</td>\n",
       "      <td>1851.000000</td>\n",
       "    </tr>\n",
       "    <tr>\n",
       "      <th>50%</th>\n",
       "      <td>11.199000</td>\n",
       "      <td>0.656000</td>\n",
       "      <td>1906.000000</td>\n",
       "    </tr>\n",
       "    <tr>\n",
       "      <th>75%</th>\n",
       "      <td>19.899000</td>\n",
       "      <td>1.850000</td>\n",
       "      <td>1960.000000</td>\n",
       "    </tr>\n",
       "    <tr>\n",
       "      <th>max</th>\n",
       "      <td>36.339000</td>\n",
       "      <td>12.646000</td>\n",
       "      <td>2013.000000</td>\n",
       "    </tr>\n",
       "  </tbody>\n",
       "</table>\n",
       "</div>"
      ],
      "text/plain": [
       "            Avg_temp  confidence_interval_temp           Year\n",
       "count  620027.000000             620027.000000  620027.000000\n",
       "mean        8.993111                  1.287647    1902.331598\n",
       "std        13.772150                  1.360392      67.831393\n",
       "min       -45.389000                  0.036000    1743.000000\n",
       "25%        -0.693000                  0.316000    1851.000000\n",
       "50%        11.199000                  0.656000    1906.000000\n",
       "75%        19.899000                  1.850000    1960.000000\n",
       "max        36.339000                 12.646000    2013.000000"
      ]
     },
     "execution_count": 14,
     "metadata": {},
     "output_type": "execute_result"
    }
   ],
   "source": [
    "df.describe()"
   ]
  },
  {
   "cell_type": "code",
   "execution_count": 22,
   "id": "fbf6648c",
   "metadata": {},
   "outputs": [
    {
     "data": {
      "text/html": [
       "<div>\n",
       "<style scoped>\n",
       "    .dataframe tbody tr th:only-of-type {\n",
       "        vertical-align: middle;\n",
       "    }\n",
       "\n",
       "    .dataframe tbody tr th {\n",
       "        vertical-align: top;\n",
       "    }\n",
       "\n",
       "    .dataframe thead th {\n",
       "        text-align: right;\n",
       "    }\n",
       "</style>\n",
       "<table border=\"1\" class=\"dataframe\">\n",
       "  <thead>\n",
       "    <tr style=\"text-align: right;\">\n",
       "      <th></th>\n",
       "      <th>Avg_temp</th>\n",
       "      <th>confidence_interval_temp</th>\n",
       "      <th>State</th>\n",
       "      <th>Country</th>\n",
       "      <th>Year</th>\n",
       "    </tr>\n",
       "    <tr>\n",
       "      <th>Date</th>\n",
       "      <th></th>\n",
       "      <th></th>\n",
       "      <th></th>\n",
       "      <th></th>\n",
       "      <th></th>\n",
       "    </tr>\n",
       "  </thead>\n",
       "  <tbody>\n",
       "    <tr>\n",
       "      <th>1900-01-01</th>\n",
       "      <td>25.732</td>\n",
       "      <td>1.080</td>\n",
       "      <td>Acre</td>\n",
       "      <td>Brazil</td>\n",
       "      <td>1900</td>\n",
       "    </tr>\n",
       "    <tr>\n",
       "      <th>1900-02-01</th>\n",
       "      <td>26.050</td>\n",
       "      <td>1.080</td>\n",
       "      <td>Acre</td>\n",
       "      <td>Brazil</td>\n",
       "      <td>1900</td>\n",
       "    </tr>\n",
       "    <tr>\n",
       "      <th>1900-03-01</th>\n",
       "      <td>26.574</td>\n",
       "      <td>0.894</td>\n",
       "      <td>Acre</td>\n",
       "      <td>Brazil</td>\n",
       "      <td>1900</td>\n",
       "    </tr>\n",
       "    <tr>\n",
       "      <th>1900-04-01</th>\n",
       "      <td>25.947</td>\n",
       "      <td>1.192</td>\n",
       "      <td>Acre</td>\n",
       "      <td>Brazil</td>\n",
       "      <td>1900</td>\n",
       "    </tr>\n",
       "    <tr>\n",
       "      <th>1900-05-01</th>\n",
       "      <td>25.557</td>\n",
       "      <td>0.856</td>\n",
       "      <td>Acre</td>\n",
       "      <td>Brazil</td>\n",
       "      <td>1900</td>\n",
       "    </tr>\n",
       "  </tbody>\n",
       "</table>\n",
       "</div>"
      ],
      "text/plain": [
       "            Avg_temp  confidence_interval_temp State Country  Year\n",
       "Date                                                              \n",
       "1900-01-01    25.732                     1.080  Acre  Brazil  1900\n",
       "1900-02-01    26.050                     1.080  Acre  Brazil  1900\n",
       "1900-03-01    26.574                     0.894  Acre  Brazil  1900\n",
       "1900-04-01    25.947                     1.192  Acre  Brazil  1900\n",
       "1900-05-01    25.557                     0.856  Acre  Brazil  1900"
      ]
     },
     "execution_count": 22,
     "metadata": {},
     "output_type": "execute_result"
    }
   ],
   "source": [
    "latest_df=df.loc['1900':'2013']\n",
    "latest_df.head()"
   ]
  },
  {
   "cell_type": "code",
   "execution_count": 23,
   "id": "98dbb3b6",
   "metadata": {},
   "outputs": [
    {
     "data": {
      "text/plain": [
       "(328784, 5)"
      ]
     },
     "execution_count": 23,
     "metadata": {},
     "output_type": "execute_result"
    }
   ],
   "source": [
    "latest_df.shape"
   ]
  },
  {
   "cell_type": "code",
   "execution_count": 24,
   "id": "228a62f3",
   "metadata": {},
   "outputs": [
    {
     "data": {
      "text/html": [
       "<div>\n",
       "<style scoped>\n",
       "    .dataframe tbody tr th:only-of-type {\n",
       "        vertical-align: middle;\n",
       "    }\n",
       "\n",
       "    .dataframe tbody tr th {\n",
       "        vertical-align: top;\n",
       "    }\n",
       "\n",
       "    .dataframe thead th {\n",
       "        text-align: right;\n",
       "    }\n",
       "</style>\n",
       "<table border=\"1\" class=\"dataframe\">\n",
       "  <thead>\n",
       "    <tr style=\"text-align: right;\">\n",
       "      <th></th>\n",
       "      <th>Avg_temp</th>\n",
       "    </tr>\n",
       "    <tr>\n",
       "      <th>Country</th>\n",
       "      <th></th>\n",
       "    </tr>\n",
       "  </thead>\n",
       "  <tbody>\n",
       "    <tr>\n",
       "      <th>Canada</th>\n",
       "      <td>-1.364440</td>\n",
       "    </tr>\n",
       "    <tr>\n",
       "      <th>Russia</th>\n",
       "      <td>1.669950</td>\n",
       "    </tr>\n",
       "    <tr>\n",
       "      <th>United States</th>\n",
       "      <td>11.062630</td>\n",
       "    </tr>\n",
       "    <tr>\n",
       "      <th>China</th>\n",
       "      <td>11.707587</td>\n",
       "    </tr>\n",
       "    <tr>\n",
       "      <th>Australia</th>\n",
       "      <td>17.996412</td>\n",
       "    </tr>\n",
       "    <tr>\n",
       "      <th>India</th>\n",
       "      <td>22.516690</td>\n",
       "    </tr>\n",
       "    <tr>\n",
       "      <th>Brazil</th>\n",
       "      <td>24.074648</td>\n",
       "    </tr>\n",
       "  </tbody>\n",
       "</table>\n",
       "</div>"
      ],
      "text/plain": [
       "                Avg_temp\n",
       "Country                 \n",
       "Canada         -1.364440\n",
       "Russia          1.669950\n",
       "United States  11.062630\n",
       "China          11.707587\n",
       "Australia      17.996412\n",
       "India          22.516690\n",
       "Brazil         24.074648"
      ]
     },
     "execution_count": 24,
     "metadata": {},
     "output_type": "execute_result"
    }
   ],
   "source": [
    "latest_df[['Country','Avg_temp']].groupby(['Country']).mean().sort_values('Avg_temp')"
   ]
  },
  {
   "cell_type": "code",
   "execution_count": 25,
   "id": "aea5edb4",
   "metadata": {},
   "outputs": [],
   "source": [
    "resample_df=latest_df[['Avg_temp']].resample('A').mean()"
   ]
  },
  {
   "cell_type": "code",
   "execution_count": 26,
   "id": "9d7125ff",
   "metadata": {},
   "outputs": [
    {
     "data": {
      "text/html": [
       "<div>\n",
       "<style scoped>\n",
       "    .dataframe tbody tr th:only-of-type {\n",
       "        vertical-align: middle;\n",
       "    }\n",
       "\n",
       "    .dataframe tbody tr th {\n",
       "        vertical-align: top;\n",
       "    }\n",
       "\n",
       "    .dataframe thead th {\n",
       "        text-align: right;\n",
       "    }\n",
       "</style>\n",
       "<table border=\"1\" class=\"dataframe\">\n",
       "  <thead>\n",
       "    <tr style=\"text-align: right;\">\n",
       "      <th></th>\n",
       "      <th>Avg_temp</th>\n",
       "    </tr>\n",
       "    <tr>\n",
       "      <th>Date</th>\n",
       "      <th></th>\n",
       "    </tr>\n",
       "  </thead>\n",
       "  <tbody>\n",
       "    <tr>\n",
       "      <th>1900-12-31</th>\n",
       "      <td>9.413617</td>\n",
       "    </tr>\n",
       "    <tr>\n",
       "      <th>1901-12-31</th>\n",
       "      <td>9.538776</td>\n",
       "    </tr>\n",
       "    <tr>\n",
       "      <th>1902-12-31</th>\n",
       "      <td>9.076432</td>\n",
       "    </tr>\n",
       "    <tr>\n",
       "      <th>1903-12-31</th>\n",
       "      <td>9.414545</td>\n",
       "    </tr>\n",
       "    <tr>\n",
       "      <th>1904-12-31</th>\n",
       "      <td>9.039092</td>\n",
       "    </tr>\n",
       "  </tbody>\n",
       "</table>\n",
       "</div>"
      ],
      "text/plain": [
       "            Avg_temp\n",
       "Date                \n",
       "1900-12-31  9.413617\n",
       "1901-12-31  9.538776\n",
       "1902-12-31  9.076432\n",
       "1903-12-31  9.414545\n",
       "1904-12-31  9.039092"
      ]
     },
     "execution_count": 26,
     "metadata": {},
     "output_type": "execute_result"
    }
   ],
   "source": [
    "resample_df.head()"
   ]
  },
  {
   "cell_type": "code",
   "execution_count": 27,
   "id": "4910487c",
   "metadata": {},
   "outputs": [
    {
     "data": {
      "text/plain": [
       "(114, 1)"
      ]
     },
     "execution_count": 27,
     "metadata": {},
     "output_type": "execute_result"
    }
   ],
   "source": [
    "resample_df.shape"
   ]
  },
  {
   "cell_type": "code",
   "execution_count": 28,
   "id": "af906ea9",
   "metadata": {},
   "outputs": [
    {
     "data": {
      "text/plain": [
       "<matplotlib.legend.Legend at 0x27e4ab0d2b0>"
      ]
     },
     "execution_count": 28,
     "metadata": {},
     "output_type": "execute_result"
    },
    {
     "data": {
      "image/png": "[encoded data removed]",
      "text/plain": [
       "<Figure size 576x360 with 1 Axes>"
      ]
     },
     "metadata": {
      "needs_background": "light"
     },
     "output_type": "display_data"
    }
   ],
   "source": [
    "resample_df.plot(title='Temperature Change from 1980-2013',figsize=(8,5))\n",
    "plt.ylabel('Temperature',fontsize=12)\n",
    "plt.xlabel('Year',fontsize=12)\n",
    "plt.legend()"
   ]
  },
  {
   "cell_type": "markdown",
   "id": "fa21d864",
   "metadata": {},
   "source": [
    "# AUTO ARIMA"
   ]
  },
  {
   "cell_type": "code",
   "execution_count": 29,
   "id": "3b0446e7",
   "metadata": {},
   "outputs": [
    {
     "name": "stdout",
     "output_type": "stream",
     "text": [
      "Requirement already satisfied: pmdarima in c:\\users\\prana\\anaconda3\\lib\\site-packages (1.8.4)\n",
      "Requirement already satisfied: scipy>=1.3.2 in c:\\users\\prana\\anaconda3\\lib\\site-packages (from pmdarima) (1.7.1)\n",
      "Requirement already satisfied: setuptools!=50.0.0,>=38.6.0 in c:\\users\\prana\\anaconda3\\lib\\site-packages (from pmdarima) (58.0.4)\n",
      "Requirement already satisfied: joblib>=0.11 in c:\\users\\prana\\anaconda3\\lib\\site-packages (from pmdarima) (1.1.0)\n",
      "Requirement already satisfied: numpy>=1.19.3 in c:\\users\\prana\\anaconda3\\lib\\site-packages (from pmdarima) (1.20.3)\n",
      "Requirement already satisfied: pandas>=0.19 in c:\\users\\prana\\anaconda3\\lib\\site-packages (from pmdarima) (1.3.4)\n",
      "Requirement already satisfied: Cython!=0.29.18,>=0.29 in c:\\users\\prana\\anaconda3\\lib\\site-packages (from pmdarima) (0.29.24)\n",
      "Requirement already satisfied: scikit-learn>=0.22 in c:\\users\\prana\\anaconda3\\lib\\site-packages (from pmdarima) (0.24.2)\n",
      "Requirement already satisfied: urllib3 in c:\\users\\prana\\anaconda3\\lib\\site-packages (from pmdarima) (1.26.7)\n",
      "Requirement already satisfied: statsmodels!=0.12.0,>=0.11 in c:\\users\\prana\\anaconda3\\lib\\site-packages (from pmdarima) (0.12.2)\n",
      "Requirement already satisfied: pytz>=2017.3 in c:\\users\\prana\\anaconda3\\lib\\site-packages (from pandas>=0.19->pmdarima) (2021.3)\n",
      "Requirement already satisfied: python-dateutil>=2.7.3 in c:\\users\\prana\\anaconda3\\lib\\site-packages (from pandas>=0.19->pmdarima) (2.8.2)\n",
      "Requirement already satisfied: six>=1.5 in c:\\users\\prana\\anaconda3\\lib\\site-packages (from python-dateutil>=2.7.3->pandas>=0.19->pmdarima) (1.16.0)\n",
      "Requirement already satisfied: threadpoolctl>=2.0.0 in c:\\users\\prana\\anaconda3\\lib\\site-packages (from scikit-learn>=0.22->pmdarima) (2.2.0)\n",
      "Requirement already satisfied: patsy>=0.5 in c:\\users\\prana\\anaconda3\\lib\\site-packages (from statsmodels!=0.12.0,>=0.11->pmdarima) (0.5.2)\n"
     ]
    }
   ],
   "source": [
    "!pip install pmdarima"
   ]
  },
  {
   "cell_type": "code",
   "execution_count": 30,
   "id": "3cf5a55c",
   "metadata": {},
   "outputs": [],
   "source": [
    "import pmdarima as pm\n",
    "from pmdarima.model_selection import train_test_split"
   ]
  },
  {
   "cell_type": "markdown",
   "id": "95212a7b",
   "metadata": {},
   "source": [
    "## we can not do direct split as data is continous"
   ]
  },
  {
   "cell_type": "code",
   "execution_count": 31,
   "id": "29fe4252",
   "metadata": {},
   "outputs": [],
   "source": [
    "train, test = train_test_split(resample_df, train_size=int(0.7 * resample_df.shape[0]))"
   ]
  },
  {
   "cell_type": "code",
   "execution_count": 32,
   "id": "4b2889d9",
   "metadata": {},
   "outputs": [
    {
     "data": {
      "text/plain": [
       "((79, 1), (35, 1))"
      ]
     },
     "execution_count": 32,
     "metadata": {},
     "output_type": "execute_result"
    }
   ],
   "source": [
    "train.shape,test.shape"
   ]
  },
  {
   "cell_type": "code",
   "execution_count": 33,
   "id": "f288d3e5",
   "metadata": {},
   "outputs": [
    {
     "name": "stdout",
     "output_type": "stream",
     "text": [
      "Performing stepwise search to minimize aic\n",
      " ARIMA(7,1,2)(0,0,0)[0] intercept   : AIC=39.005, Time=0.49 sec\n",
      " ARIMA(0,1,0)(0,0,0)[0] intercept   : AIC=72.383, Time=0.04 sec\n",
      " ARIMA(1,1,0)(0,0,0)[0] intercept   : AIC=54.073, Time=0.04 sec\n",
      " ARIMA(0,1,1)(0,0,0)[0] intercept   : AIC=30.338, Time=0.08 sec\n",
      " ARIMA(0,1,0)(0,0,0)[0]             : AIC=70.383, Time=0.01 sec\n",
      " ARIMA(1,1,1)(0,0,0)[0] intercept   : AIC=inf, Time=0.17 sec\n",
      " ARIMA(0,1,2)(0,0,0)[0] intercept   : AIC=inf, Time=0.14 sec\n",
      " ARIMA(1,1,2)(0,0,0)[0] intercept   : AIC=34.292, Time=0.09 sec\n",
      " ARIMA(0,1,1)(0,0,0)[0]             : AIC=31.048, Time=0.11 sec\n",
      "\n",
      "Best model:  ARIMA(0,1,1)(0,0,0)[0] intercept\n",
      "Total fit time: 1.192 seconds\n"
     ]
    }
   ],
   "source": [
    "# Fit your model\n",
    "model = pm.auto_arima( train, start_p=7, max_p=10, seasonal=False, trace = True,random =True) #seasonal =False\n",
    "# random search\n",
    "# make your forecasts\n",
    "forecasts = model.predict(test.shape[0])"
   ]
  },
  {
   "cell_type": "code",
   "execution_count": 34,
   "id": "4102828f",
   "metadata": {},
   "outputs": [],
   "source": [
    "train_size = int(0.7 * resample_df.shape[0])\n",
    "test_size = resample_df.shape[0] - train_size"
   ]
  },
  {
   "cell_type": "code",
   "execution_count": 35,
   "id": "69186432",
   "metadata": {},
   "outputs": [
    {
     "data": {
      "image/png": "[encoded data removed]",
      "text/plain": [
       "<Figure size 432x288 with 1 Axes>"
      ]
     },
     "metadata": {
      "needs_background": "light"
     },
     "output_type": "display_data"
    }
   ],
   "source": [
    "# Visualize the forecasts (blue=train, green=forecasts)\n",
    "import numpy as np\n",
    "import matplotlib.pyplot as plt\n",
    "x = np.arange(resample_df.shape[0])\n",
    "plt.plot(x[:train_size], train, c='blue')\n",
    "plt.plot(x[train_size:], forecasts, c='green')\n",
    "plt.show()"
   ]
  },
  {
   "cell_type": "code",
   "execution_count": 36,
   "id": "c08cb303",
   "metadata": {},
   "outputs": [],
   "source": [
    "# from statsmodels.tsa.arima_model import ARIMA\n",
    "from statsmodels.tsa.arima.model import ARIMA\n",
    "from sklearn.metrics import mean_squared_error"
   ]
  },
  {
   "cell_type": "code",
   "execution_count": 37,
   "id": "15a8b5d4",
   "metadata": {},
   "outputs": [
    {
     "data": {
      "text/plain": [
       "1979-12-31    9.659417\n",
       "1980-12-31    9.659417\n",
       "1981-12-31    9.659417\n",
       "1982-12-31    9.659417\n",
       "1983-12-31    9.659417\n",
       "1984-12-31    9.659417\n",
       "1985-12-31    9.659417\n",
       "1986-12-31    9.659417\n",
       "1987-12-31    9.659417\n",
       "1988-12-31    9.659417\n",
       "1989-12-31    9.659417\n",
       "1990-12-31    9.659417\n",
       "1991-12-31    9.659417\n",
       "1992-12-31    9.659417\n",
       "1993-12-31    9.659417\n",
       "1994-12-31    9.659417\n",
       "1995-12-31    9.659417\n",
       "1996-12-31    9.659417\n",
       "1997-12-31    9.659417\n",
       "1998-12-31    9.659417\n",
       "1999-12-31    9.659417\n",
       "2000-12-31    9.659417\n",
       "2001-12-31    9.659417\n",
       "2002-12-31    9.659417\n",
       "2003-12-31    9.659417\n",
       "2004-12-31    9.659417\n",
       "2005-12-31    9.659417\n",
       "2006-12-31    9.659417\n",
       "2007-12-31    9.659417\n",
       "2008-12-31    9.659417\n",
       "2009-12-31    9.659417\n",
       "2010-12-31    9.659417\n",
       "2011-12-31    9.659417\n",
       "2012-12-31    9.659417\n",
       "2013-12-31    9.659417\n",
       "Freq: A-DEC, Name: predicted_mean, dtype: float64"
      ]
     },
     "execution_count": 37,
     "metadata": {},
     "output_type": "execute_result"
    }
   ],
   "source": [
    "model = ARIMA(train, order=(0,1,1)) # order is p,d,q #5,0,0\n",
    "model_fit = model.fit()\n",
    "output = model_fit.forecast(test_size)\n",
    "output"
   ]
  },
  {
   "cell_type": "code",
   "execution_count": 38,
   "id": "630c03b1",
   "metadata": {},
   "outputs": [
    {
     "data": {
      "text/plain": [
       "9.659417307118154"
      ]
     },
     "execution_count": 38,
     "metadata": {},
     "output_type": "execute_result"
    }
   ],
   "source": [
    "output[0]"
   ]
  },
  {
   "cell_type": "code",
   "execution_count": 39,
   "id": "1f70ff61",
   "metadata": {},
   "outputs": [
    {
     "data": {
      "text/plain": [
       "0.810394017624847"
      ]
     },
     "execution_count": 39,
     "metadata": {},
     "output_type": "execute_result"
    }
   ],
   "source": [
    "mean_squared_error(test,output)**0.5# 0,1,0"
   ]
  },
  {
   "cell_type": "markdown",
   "id": "57e9e309",
   "metadata": {},
   "source": [
    "# COUNTINUE"
   ]
  },
  {
   "cell_type": "code",
   "execution_count": 21,
   "id": "956f218b",
   "metadata": {},
   "outputs": [
    {
     "name": "stdout",
     "output_type": "stream",
     "text": [
      "Dickey Fuller Test Result: \n",
      "Test Statistic                 -0.728209\n",
      "p-value                         0.839307\n",
      "Lags Used                       2.000000\n",
      "Number of Observations Used    31.000000\n",
      "Critical Value (1%)            -3.661429\n",
      "Critical Value (5%)            -2.960525\n",
      "Critical Value (10%)           -2.619319\n",
      "dtype: float64\n"
     ]
    }
   ],
   "source": [
    "from statsmodels.tsa.stattools import adfuller\n",
    "print('Dickey Fuller Test Result: ')\n",
    "test_df=adfuller(resample_df.iloc[:,0].values,autolag='AIC')\n",
    "df_output=pd.Series(test_df[0:4],index=['Test Statistic','p-value','Lags Used','Number of Observations Used'])\n",
    "for key,value in test_df[4].items():\n",
    "    df_output['Critical Value (%s)'%key] = value\n",
    "print(df_output)"
   ]
  },
  {
   "cell_type": "code",
   "execution_count": 22,
   "id": "3973e813",
   "metadata": {},
   "outputs": [],
   "source": [
    "decomp= seasonal_decompose(resample_df,freq=3)\n",
    "\n",
    "trend=decomp.trend\n",
    "seasonal=decomp.seasonal\n",
    "residual=decomp.resid"
   ]
  },
  {
   "cell_type": "code",
   "execution_count": 23,
   "id": "a4931ab9",
   "metadata": {},
   "outputs": [
    {
     "data": {
      "image/png": "[encoded data removed]",
      "text/plain": [
       "<Figure size 432x288 with 1 Axes>"
      ]
     },
     "metadata": {
      "needs_background": "light"
     },
     "output_type": "display_data"
    },
    {
     "data": {
      "image/png": "[encoded data removed]",
      "text/plain": [
       "<Figure size 432x360 with 1 Axes>"
      ]
     },
     "metadata": {
      "needs_background": "light"
     },
     "output_type": "display_data"
    },
    {
     "data": {
      "image/png": "[encoded data removed]",
      "text/plain": [
       "<Figure size 432x360 with 1 Axes>"
      ]
     },
     "metadata": {
      "needs_background": "light"
     },
     "output_type": "display_data"
    },
    {
     "data": {
      "image/png": "[encoded data removed]",
      "text/plain": [
       "<Figure size 432x360 with 1 Axes>"
      ]
     },
     "metadata": {
      "needs_background": "light"
     },
     "output_type": "display_data"
    },
    {
     "data": {
      "text/plain": [
       "<Figure size 432x360 with 0 Axes>"
      ]
     },
     "metadata": {},
     "output_type": "display_data"
    }
   ],
   "source": [
    "plt.subplot(411)\n",
    "plt.plot(resample_df)\n",
    "plt.xlabel('Orignal')\n",
    "plt.figure(figsize=(6,5))\n",
    "\n",
    "plt.subplot(412)\n",
    "plt.plot(trend)\n",
    "plt.xlabel('Trend')\n",
    "plt.figure(figsize=(6,5))\n",
    "\n",
    "plt.subplot(413)\n",
    "plt.plot(seasonal)\n",
    "plt.xlabel('Seasonal')\n",
    "plt.figure(figsize=(6,5))\n",
    "\n",
    "plt.subplot(414)\n",
    "plt.plot(residual)\n",
    "plt.xlabel('Residual')\n",
    "plt.figure(figsize=(6,5))\n",
    "\n",
    "plt.tight_layout()\n"
   ]
  },
  {
   "cell_type": "code",
   "execution_count": 24,
   "id": "b4a91719",
   "metadata": {},
   "outputs": [
    {
     "data": {
      "image/png": "[encoded data removed]",
      "text/plain": [
       "<Figure size 864x360 with 2 Axes>"
      ]
     },
     "metadata": {
      "needs_background": "light"
     },
     "output_type": "display_data"
    }
   ],
   "source": [
    "rol_mean = resample_df.rolling(window=3,center=True).mean()\n",
    "\n",
    "ewm = resample_df.ewm(span=3).mean()\n",
    "\n",
    "rol_std =resample_df.rolling(window=3,center=True).std()\n",
    "\n",
    "fig,(ax1,ax2) = plt.subplots(1,2,figsize = (12,5))\n",
    "\n",
    "ax1.plot(resample_df,label='Original')\n",
    "ax1.plot(rol_mean,label='Rolling Mean')\n",
    "ax1.plot(ewm,label='Exponentially Weighted Mean')\n",
    "\n",
    "ax1.set_title('Temperature Changes from 1950-2013', fontsize=14)\n",
    "ax1.set_ylabel('Temperature',fontsize=12)\n",
    "ax1.set_xlabel('Year',fontsize=12)\n",
    "ax1.legend()\n",
    "\n",
    "\n",
    "ax2.plot(rol_std,label='Rolling STD')\n",
    "ax2.set_title('Temperature Change from 1950-2013',fontsize=14)\n",
    "ax2.set_ylabel('Temperature',fontsize=12)\n",
    "ax2.set_xlabel('Year',fontsize=12)\n",
    "ax2.legend()\n",
    "\n",
    "plt.tight_layout()\n",
    "plt.show()"
   ]
  },
  {
   "cell_type": "code",
   "execution_count": 41,
   "id": "04b47dd8",
   "metadata": {},
   "outputs": [
    {
     "name": "stdout",
     "output_type": "stream",
     "text": [
      "Dickey-Fuller Test for the Rolling Mean:\n",
      "Test Statistic                 -1.588274\n",
      "p-value                         0.489481\n",
      "Lags Used                       1.000000\n",
      "Number of Observations Used    10.000000\n",
      "Critical Value (1%)            -4.331573\n",
      "Critical Value (5%)            -3.232950\n",
      "Critical Value (10%)           -2.748700\n",
      "dtype: float64\n",
      "\n",
      "Test Statistic                -2.950336\n",
      "p-value                        0.039800\n",
      "Lags Used                      5.000000\n",
      "Number of Observations Used    8.000000\n",
      "Critical Value (1%)           -4.665186\n",
      "Critical Value (5%)           -3.367187\n",
      "Critical Value (10%)          -2.802961\n",
      "dtype: float64\n"
     ]
    }
   ],
   "source": [
    "rol_mean.dropna(inplace=True)\n",
    "ewm.dropna(inplace=True)\n",
    "print('Dickey-Fuller Test for the Rolling Mean:')\n",
    "df_test=adfuller(rol_mean.iloc[:,0].values, autolag='AIC')\n",
    "df_output=pd.Series(df_test[0:4],index=['Test Statistic','p-value','Lags Used','Number of Observations Used'])\n",
    "for key,value in df_test[4].items():\n",
    "    df_output['Critical Value (%s)'%key] = value\n",
    "print(df_output)\n",
    "print('')\n",
    "df_test=adfuller(ewm.iloc[:,0].values, autolag='AIC')\n",
    "df_output=pd.Series(df_test[0:4],index=['Test Statistic','p-value','Lags Used','Number of Observations Used'])\n",
    "for key,value in df_test[4].items():\n",
    "    df_output['Critical Value (%s)'%key] = value\n",
    "print(df_output)"
   ]
  },
  {
   "cell_type": "code",
   "execution_count": 25,
   "id": "d115cdff",
   "metadata": {},
   "outputs": [
    {
     "data": {
      "text/html": [
       "<div>\n",
       "<style scoped>\n",
       "    .dataframe tbody tr th:only-of-type {\n",
       "        vertical-align: middle;\n",
       "    }\n",
       "\n",
       "    .dataframe tbody tr th {\n",
       "        vertical-align: top;\n",
       "    }\n",
       "\n",
       "    .dataframe thead th {\n",
       "        text-align: right;\n",
       "    }\n",
       "</style>\n",
       "<table border=\"1\" class=\"dataframe\">\n",
       "  <thead>\n",
       "    <tr style=\"text-align: right;\">\n",
       "      <th></th>\n",
       "      <th>Avg_temp</th>\n",
       "    </tr>\n",
       "    <tr>\n",
       "      <th>Date</th>\n",
       "      <th></th>\n",
       "    </tr>\n",
       "  </thead>\n",
       "  <tbody>\n",
       "    <tr>\n",
       "      <th>1981-12-31</th>\n",
       "      <td>0.401781</td>\n",
       "    </tr>\n",
       "    <tr>\n",
       "      <th>1982-12-31</th>\n",
       "      <td>-0.316726</td>\n",
       "    </tr>\n",
       "    <tr>\n",
       "      <th>1983-12-31</th>\n",
       "      <td>0.318708</td>\n",
       "    </tr>\n",
       "    <tr>\n",
       "      <th>1984-12-31</th>\n",
       "      <td>-0.091684</td>\n",
       "    </tr>\n",
       "    <tr>\n",
       "      <th>1985-12-31</th>\n",
       "      <td>-0.236199</td>\n",
       "    </tr>\n",
       "  </tbody>\n",
       "</table>\n",
       "</div>"
      ],
      "text/plain": [
       "            Avg_temp\n",
       "Date                \n",
       "1981-12-31  0.401781\n",
       "1982-12-31 -0.316726\n",
       "1983-12-31  0.318708\n",
       "1984-12-31 -0.091684\n",
       "1985-12-31 -0.236199"
      ]
     },
     "execution_count": 25,
     "metadata": {},
     "output_type": "execute_result"
    }
   ],
   "source": [
    "diff_rol_mean= resample_df - rol_mean\n",
    "diff_rol_mean.dropna(inplace=True)\n",
    "diff_rol_mean.head()"
   ]
  },
  {
   "cell_type": "code",
   "execution_count": 26,
   "id": "1a3d4769",
   "metadata": {},
   "outputs": [
    {
     "data": {
      "text/html": [
       "<div>\n",
       "<style scoped>\n",
       "    .dataframe tbody tr th:only-of-type {\n",
       "        vertical-align: middle;\n",
       "    }\n",
       "\n",
       "    .dataframe tbody tr th {\n",
       "        vertical-align: top;\n",
       "    }\n",
       "\n",
       "    .dataframe thead th {\n",
       "        text-align: right;\n",
       "    }\n",
       "</style>\n",
       "<table border=\"1\" class=\"dataframe\">\n",
       "  <thead>\n",
       "    <tr style=\"text-align: right;\">\n",
       "      <th></th>\n",
       "      <th>Avg_temp</th>\n",
       "    </tr>\n",
       "    <tr>\n",
       "      <th>Date</th>\n",
       "      <th></th>\n",
       "    </tr>\n",
       "  </thead>\n",
       "  <tbody>\n",
       "    <tr>\n",
       "      <th>1980-12-31</th>\n",
       "      <td>0.000000</td>\n",
       "    </tr>\n",
       "    <tr>\n",
       "      <th>1981-12-31</th>\n",
       "      <td>0.225574</td>\n",
       "    </tr>\n",
       "    <tr>\n",
       "      <th>1982-12-31</th>\n",
       "      <td>-0.129877</td>\n",
       "    </tr>\n",
       "    <tr>\n",
       "      <th>1983-12-31</th>\n",
       "      <td>0.136118</td>\n",
       "    </tr>\n",
       "    <tr>\n",
       "      <th>1984-12-31</th>\n",
       "      <td>-0.192797</td>\n",
       "    </tr>\n",
       "  </tbody>\n",
       "</table>\n",
       "</div>"
      ],
      "text/plain": [
       "            Avg_temp\n",
       "Date                \n",
       "1980-12-31  0.000000\n",
       "1981-12-31  0.225574\n",
       "1982-12-31 -0.129877\n",
       "1983-12-31  0.136118\n",
       "1984-12-31 -0.192797"
      ]
     },
     "execution_count": 26,
     "metadata": {},
     "output_type": "execute_result"
    }
   ],
   "source": [
    "diff_ewm = resample_df -ewm\n",
    "diff_ewm.dropna(inplace = True)\n",
    "diff_ewm.head()"
   ]
  },
  {
   "cell_type": "code",
   "execution_count": 27,
   "id": "764b9020",
   "metadata": {},
   "outputs": [
    {
     "data": {
      "image/png": "[encoded data removed]",
      "text/plain": [
       "<Figure size 864x360 with 2 Axes>"
      ]
     },
     "metadata": {
      "needs_background": "light"
     },
     "output_type": "display_data"
    }
   ],
   "source": [
    "df_rol_mean_diff = diff_rol_mean.rolling(window=3,center=True).mean()\n",
    "\n",
    "df_ewm_diff = diff_ewm.ewm(span=3).mean()\n",
    "\n",
    "#rol_std =resample_df.rolling(window=3,center=True).std()\n",
    "\n",
    "fig,(ax1,ax2) = plt.subplots(1,2,figsize = (12,5))\n",
    "\n",
    "ax1.plot(diff_rol_mean,label='Original')\n",
    "ax1.plot(df_rol_mean_diff,label='Rolling Mean')\n",
    "#ax1.plot(ewm,label='Exponentially Weighted Mean')\n",
    "\n",
    "ax1.set_title('Temperature Changes from 1950-2013', fontsize=14)\n",
    "ax1.set_ylabel('Temperature',fontsize=12)\n",
    "ax1.set_xlabel('Year',fontsize=12)\n",
    "ax1.legend()\n",
    "\n",
    "\n",
    "ax2.plot(diff_ewm,label= 'Original')\n",
    "ax2.plot(df_ewm_diff,label='Exponentially Weignted Mean')\n",
    "ax2.set_title('Temperature Change from 1950-2013',fontsize=14)\n",
    "ax2.set_ylabel('Temperature',fontsize=12)\n",
    "ax2.set_xlabel('Year',fontsize=12)\n",
    "ax2.legend()\n",
    "\n",
    "plt.tight_layout()\n",
    "plt.show()\n"
   ]
  },
  {
   "cell_type": "code",
   "execution_count": 28,
   "id": "eba70276",
   "metadata": {},
   "outputs": [
    {
     "name": "stdout",
     "output_type": "stream",
     "text": [
      "Dickey-Fuller Test for the Rolling Mean:\n",
      "Test Statistic                -7.007710e+00\n",
      "p-value                        7.051586e-10\n",
      "Lags Used                      1.000000e+00\n",
      "Number of Observations Used    3.000000e+01\n",
      "Critical Value (1%)           -3.669920e+00\n",
      "Critical Value (5%)           -2.964071e+00\n",
      "Critical Value (10%)          -2.621171e+00\n",
      "dtype: float64\n",
      "\n",
      "Test Statistic                 -4.297446\n",
      "p-value                         0.000449\n",
      "Lags Used                       1.000000\n",
      "Number of Observations Used    32.000000\n",
      "Critical Value (1%)            -3.653520\n",
      "Critical Value (5%)            -2.957219\n",
      "Critical Value (10%)           -2.617588\n",
      "dtype: float64\n"
     ]
    }
   ],
   "source": [
    "\n",
    "print('Dickey-Fuller Test for the Rolling Mean:')\n",
    "df_test=adfuller(diff_rol_mean.iloc[:,0].values, autolag='AIC')\n",
    "df_output=pd.Series(df_test[0:4],index=['Test Statistic','p-value','Lags Used','Number of Observations Used'])\n",
    "for key,value in df_test[4].items():\n",
    "    df_output['Critical Value (%s)'%key] = value\n",
    "print(df_output)\n",
    "print('')\n",
    "df_test=adfuller(diff_ewm.iloc[:,0].values, autolag='AIC')\n",
    "df_output=pd.Series(df_test[0:4],index=['Test Statistic','p-value','Lags Used','Number of Observations Used'])\n",
    "for key,value in df_test[4].items():\n",
    "    df_output['Critical Value (%s)'%key] = value\n",
    "print(df_output)"
   ]
  },
  {
   "cell_type": "code",
   "execution_count": 31,
   "id": "2c9ba704",
   "metadata": {},
   "outputs": [
    {
     "data": {
      "image/png": "[encoded data removed]",
      "text/plain": [
       "<Figure size 720x360 with 2 Axes>"
      ]
     },
     "metadata": {
      "needs_background": "light"
     },
     "output_type": "display_data"
    }
   ],
   "source": [
    "from statsmodels.graphics.tsaplots import  plot_acf\n",
    "from statsmodels.graphics.tsaplots import  plot_pacf\n",
    "from matplotlib import pyplot\n",
    "\n",
    "pyplot.figure(figsize=(10,5))\n",
    "pyplot.subplot(211)\n",
    "plot_acf(resample_df,ax=pyplot.gca())\n",
    "pyplot.subplot(212)\n",
    "plot_pacf(resample_df,ax=pyplot.gca())\n",
    "pyplot.show()"
   ]
  },
  {
   "cell_type": "code",
   "execution_count": null,
   "id": "4bb83f26",
   "metadata": {},
   "outputs": [],
   "source": []
  }
 ],
 "metadata": {
  "kernelspec": {
   "display_name": "Python 3 (ipykernel)",
   "language": "python",
   "name": "python3"
  },
  "language_info": {
   "codemirror_mode": {
    "name": "ipython",
    "version": 3
   },
   "file_extension": ".py",
   "mimetype": "text/x-python",
   "name": "python",
   "nbconvert_exporter": "python",
   "pygments_lexer": "ipython3",
   "version": "3.9.7"
  }
 },
 "nbformat": 4,
 "nbformat_minor": 5
}
