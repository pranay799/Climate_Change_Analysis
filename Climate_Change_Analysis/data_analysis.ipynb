{
 "cells": [
  {
   "cell_type": "code",
   "execution_count": 3,
   "id": "bffd0bfb",
   "metadata": {},
   "outputs": [],
   "source": [
    "#DATA EXTRACTION"
   ]
  },
  {
   "cell_type": "code",
   "execution_count": 4,
   "id": "1fc33681",
   "metadata": {},
   "outputs": [],
   "source": [
    "import pandas as pd"
   ]
  },
  {
   "cell_type": "code",
   "execution_count": 5,
   "id": "79c3ce5f",
   "metadata": {},
   "outputs": [],
   "source": [
    "df1=pd.read_csv(\"GlobalLandTemperaturesByCity.csv\")"
   ]
  },
  {
   "cell_type": "code",
   "execution_count": 6,
   "id": "af5569db",
   "metadata": {},
   "outputs": [],
   "source": [
    "df2=pd.read_csv(\"GlobalLandTemperaturesByState.csv\")"
   ]
  },
  {
   "cell_type": "code",
   "execution_count": 7,
   "id": "95835dc6",
   "metadata": {},
   "outputs": [
    {
     "data": {
      "text/plain": [
       "(8599212, 7)"
      ]
     },
     "execution_count": 7,
     "metadata": {},
     "output_type": "execute_result"
    }
   ],
   "source": [
    "df1.shape\n"
   ]
  },
  {
   "cell_type": "code",
   "execution_count": 8,
   "id": "228ec9b3",
   "metadata": {},
   "outputs": [
    {
     "data": {
      "text/plain": [
       "(645675, 5)"
      ]
     },
     "execution_count": 8,
     "metadata": {},
     "output_type": "execute_result"
    }
   ],
   "source": [
    "df2.shape"
   ]
  },
  {
   "cell_type": "code",
   "execution_count": 9,
   "id": "c6cb0359",
   "metadata": {},
   "outputs": [
    {
     "data": {
      "text/plain": [
       "Index(['dt', 'AverageTemperature', 'AverageTemperatureUncertainty', 'City',\n",
       "       'Country', 'Latitude', 'Longitude'],\n",
       "      dtype='object')"
      ]
     },
     "execution_count": 9,
     "metadata": {},
     "output_type": "execute_result"
    }
   ],
   "source": [
    "df1.columns"
   ]
  },
  {
   "cell_type": "code",
   "execution_count": 10,
   "id": "990ceb05",
   "metadata": {},
   "outputs": [
    {
     "data": {
      "text/plain": [
       "Index(['dt', 'AverageTemperature', 'AverageTemperatureUncertainty', 'State',\n",
       "       'Country'],\n",
       "      dtype='object')"
      ]
     },
     "execution_count": 10,
     "metadata": {},
     "output_type": "execute_result"
    }
   ],
   "source": [
    "df2.columns"
   ]
  },
  {
   "cell_type": "code",
   "execution_count": 11,
   "id": "bbc9bea4",
   "metadata": {},
   "outputs": [
    {
     "data": {
      "text/plain": [
       "dt                                 3239\n",
       "AverageTemperature               103481\n",
       "AverageTemperatureUncertainty     10902\n",
       "City                               3448\n",
       "Country                             159\n",
       "Latitude                             73\n",
       "Longitude                          1227\n",
       "dtype: int64"
      ]
     },
     "execution_count": 11,
     "metadata": {},
     "output_type": "execute_result"
    }
   ],
   "source": [
    "df1.nunique()"
   ]
  },
  {
   "cell_type": "code",
   "execution_count": 12,
   "id": "4110fab4",
   "metadata": {},
   "outputs": [
    {
     "data": {
      "text/plain": [
       "dt                                3239\n",
       "AverageTemperature               92592\n",
       "AverageTemperatureUncertainty     8040\n",
       "State                              241\n",
       "Country                              7\n",
       "dtype: int64"
      ]
     },
     "execution_count": 12,
     "metadata": {},
     "output_type": "execute_result"
    }
   ],
   "source": [
    "df2.nunique()"
   ]
  },
  {
   "cell_type": "code",
   "execution_count": 13,
   "id": "74de7f67",
   "metadata": {},
   "outputs": [
    {
     "data": {
      "text/plain": [
       "7"
      ]
     },
     "execution_count": 13,
     "metadata": {},
     "output_type": "execute_result"
    }
   ],
   "source": [
    "df2['Country'].nunique()"
   ]
  },
  {
   "cell_type": "code",
   "execution_count": 14,
   "id": "b1f308e2",
   "metadata": {},
   "outputs": [
    {
     "data": {
      "text/plain": [
       "array(['Brazil', 'Russia', 'United States', 'Canada', 'India', 'China',\n",
       "       'Australia'], dtype=object)"
      ]
     },
     "execution_count": 14,
     "metadata": {},
     "output_type": "execute_result"
    }
   ],
   "source": [
    "df2['Country'].unique()"
   ]
  },
  {
   "cell_type": "code",
   "execution_count": 15,
   "id": "f64ad524",
   "metadata": {},
   "outputs": [
    {
     "data": {
      "text/plain": [
       "241"
      ]
     },
     "execution_count": 15,
     "metadata": {},
     "output_type": "execute_result"
    }
   ],
   "source": [
    "df2['State'].nunique()"
   ]
  },
  {
   "cell_type": "code",
   "execution_count": 16,
   "id": "fbcf7780",
   "metadata": {},
   "outputs": [
    {
     "data": {
      "text/html": [
       "<div>\n",
       "<style scoped>\n",
       "    .dataframe tbody tr th:only-of-type {\n",
       "        vertical-align: middle;\n",
       "    }\n",
       "\n",
       "    .dataframe tbody tr th {\n",
       "        vertical-align: top;\n",
       "    }\n",
       "\n",
       "    .dataframe thead th {\n",
       "        text-align: right;\n",
       "    }\n",
       "</style>\n",
       "<table border=\"1\" class=\"dataframe\">\n",
       "  <thead>\n",
       "    <tr style=\"text-align: right;\">\n",
       "      <th></th>\n",
       "      <th>dt</th>\n",
       "      <th>AverageTemperature</th>\n",
       "      <th>AverageTemperatureUncertainty</th>\n",
       "      <th>State</th>\n",
       "      <th>Country</th>\n",
       "    </tr>\n",
       "  </thead>\n",
       "  <tbody>\n",
       "    <tr>\n",
       "      <th>0</th>\n",
       "      <td>1855-05-01</td>\n",
       "      <td>25.544</td>\n",
       "      <td>1.171</td>\n",
       "      <td>Acre</td>\n",
       "      <td>Brazil</td>\n",
       "    </tr>\n",
       "    <tr>\n",
       "      <th>1</th>\n",
       "      <td>1855-06-01</td>\n",
       "      <td>24.228</td>\n",
       "      <td>1.103</td>\n",
       "      <td>Acre</td>\n",
       "      <td>Brazil</td>\n",
       "    </tr>\n",
       "    <tr>\n",
       "      <th>2</th>\n",
       "      <td>1855-07-01</td>\n",
       "      <td>24.371</td>\n",
       "      <td>1.044</td>\n",
       "      <td>Acre</td>\n",
       "      <td>Brazil</td>\n",
       "    </tr>\n",
       "    <tr>\n",
       "      <th>3</th>\n",
       "      <td>1855-08-01</td>\n",
       "      <td>25.427</td>\n",
       "      <td>1.073</td>\n",
       "      <td>Acre</td>\n",
       "      <td>Brazil</td>\n",
       "    </tr>\n",
       "    <tr>\n",
       "      <th>4</th>\n",
       "      <td>1855-09-01</td>\n",
       "      <td>25.675</td>\n",
       "      <td>1.014</td>\n",
       "      <td>Acre</td>\n",
       "      <td>Brazil</td>\n",
       "    </tr>\n",
       "  </tbody>\n",
       "</table>\n",
       "</div>"
      ],
      "text/plain": [
       "           dt  AverageTemperature  AverageTemperatureUncertainty State Country\n",
       "0  1855-05-01              25.544                          1.171  Acre  Brazil\n",
       "1  1855-06-01              24.228                          1.103  Acre  Brazil\n",
       "2  1855-07-01              24.371                          1.044  Acre  Brazil\n",
       "3  1855-08-01              25.427                          1.073  Acre  Brazil\n",
       "4  1855-09-01              25.675                          1.014  Acre  Brazil"
      ]
     },
     "execution_count": 16,
     "metadata": {},
     "output_type": "execute_result"
    }
   ],
   "source": [
    "df2.head()"
   ]
  },
  {
   "cell_type": "code",
   "execution_count": 17,
   "id": "25de11e5",
   "metadata": {},
   "outputs": [],
   "source": [
    "df_new=df2[(df2['Country'] == 'India')]"
   ]
  },
  {
   "cell_type": "code",
   "execution_count": 18,
   "id": "b32bab64",
   "metadata": {},
   "outputs": [
    {
     "data": {
      "text/plain": [
       "(86664, 5)"
      ]
     },
     "execution_count": 18,
     "metadata": {},
     "output_type": "execute_result"
    }
   ],
   "source": [
    "df_new.shape"
   ]
  },
  {
   "cell_type": "code",
   "execution_count": 19,
   "id": "ea684da5",
   "metadata": {},
   "outputs": [
    {
     "data": {
      "text/plain": [
       "((86664, 5), 2613)"
      ]
     },
     "execution_count": 19,
     "metadata": {},
     "output_type": "execute_result"
    }
   ],
   "source": [
    "df_new.shape, df_new['dt'].nunique()"
   ]
  },
  {
   "cell_type": "code",
   "execution_count": 20,
   "id": "76085c1c",
   "metadata": {},
   "outputs": [
    {
     "data": {
      "text/plain": [
       "dt                                object\n",
       "AverageTemperature               float64\n",
       "AverageTemperatureUncertainty    float64\n",
       "State                             object\n",
       "Country                           object\n",
       "dtype: object"
      ]
     },
     "execution_count": 20,
     "metadata": {},
     "output_type": "execute_result"
    }
   ],
   "source": [
    "df_new.dtypes"
   ]
  },
  {
   "cell_type": "code",
   "execution_count": 21,
   "id": "89d85633",
   "metadata": {},
   "outputs": [
    {
     "data": {
      "text/plain": [
       "dt                                  0\n",
       "AverageTemperature               5044\n",
       "AverageTemperatureUncertainty    5044\n",
       "State                               0\n",
       "Country                             0\n",
       "dtype: int64"
      ]
     },
     "execution_count": 21,
     "metadata": {},
     "output_type": "execute_result"
    }
   ],
   "source": [
    "df_new.isnull().sum()"
   ]
  },
  {
   "cell_type": "code",
   "execution_count": 22,
   "id": "8df513de",
   "metadata": {},
   "outputs": [
    {
     "data": {
      "text/plain": [
       "count    81620.000000\n",
       "mean        22.534576\n",
       "std          7.749321\n",
       "min        -11.984000\n",
       "25%         19.063000\n",
       "50%         25.094500\n",
       "75%         27.628000\n",
       "max         36.339000\n",
       "Name: AverageTemperature, dtype: float64"
      ]
     },
     "execution_count": 22,
     "metadata": {},
     "output_type": "execute_result"
    }
   ],
   "source": [
    "df_new['AverageTemperature'].describe()"
   ]
  },
  {
   "cell_type": "code",
   "execution_count": 23,
   "id": "68834433",
   "metadata": {},
   "outputs": [
    {
     "data": {
      "text/plain": [
       "array(['Andaman And Nicobar', 'Andhra Pradesh', 'Arunachal Pradesh',\n",
       "       'Assam', 'Bihar', 'Chandigarh', 'Chhattisgarh',\n",
       "       'Dadra And Nagar Haveli', 'Daman And Diu', 'Delhi', 'Goa',\n",
       "       'Gujarat', 'Haryana', 'Himachal Pradesh', 'Jammu And Kashmir',\n",
       "       'Jharkhand', 'Karnataka', 'Kerala', 'Madhya Pradesh',\n",
       "       'Maharashtra', 'Manipur', 'Meghalaya', 'Mizoram', 'Nagaland',\n",
       "       'Orissa', 'Puducherry', 'Punjab', 'Rajasthan', 'Sikkim',\n",
       "       'Tamil Nadu', 'Tripura', 'Uttar Pradesh', 'Uttaranchal',\n",
       "       'West Bengal'], dtype=object)"
      ]
     },
     "execution_count": 23,
     "metadata": {},
     "output_type": "execute_result"
    }
   ],
   "source": [
    "df_new['State'].unique()"
   ]
  },
  {
   "cell_type": "code",
   "execution_count": 24,
   "id": "8dbe2ef5",
   "metadata": {},
   "outputs": [],
   "source": [
    "#tripura, Lakshadweep,Ladakh is missing "
   ]
  },
  {
   "cell_type": "code",
   "execution_count": 25,
   "id": "2ea8bf71",
   "metadata": {},
   "outputs": [],
   "source": [
    "# 'Dadra And Nagar Haveli' and 'Daman and Diu' cames under Daman"
   ]
  },
  {
   "cell_type": "code",
   "execution_count": 26,
   "id": "146cf21c",
   "metadata": {},
   "outputs": [
    {
     "data": {
      "text/plain": [
       "34"
      ]
     },
     "execution_count": 26,
     "metadata": {},
     "output_type": "execute_result"
    }
   ],
   "source": [
    "df_new['State'].nunique()"
   ]
  },
  {
   "cell_type": "code",
   "execution_count": 27,
   "id": "dc3cb8a7",
   "metadata": {},
   "outputs": [
    {
     "data": {
      "text/html": [
       "<div>\n",
       "<style scoped>\n",
       "    .dataframe tbody tr th:only-of-type {\n",
       "        vertical-align: middle;\n",
       "    }\n",
       "\n",
       "    .dataframe tbody tr th {\n",
       "        vertical-align: top;\n",
       "    }\n",
       "\n",
       "    .dataframe thead th {\n",
       "        text-align: right;\n",
       "    }\n",
       "</style>\n",
       "<table border=\"1\" class=\"dataframe\">\n",
       "  <thead>\n",
       "    <tr style=\"text-align: right;\">\n",
       "      <th></th>\n",
       "      <th>dt</th>\n",
       "      <th>AverageTemperature</th>\n",
       "      <th>AverageTemperatureUncertainty</th>\n",
       "      <th>State</th>\n",
       "      <th>Country</th>\n",
       "    </tr>\n",
       "  </thead>\n",
       "  <tbody>\n",
       "    <tr>\n",
       "      <th>24709</th>\n",
       "      <td>1796-01-01</td>\n",
       "      <td>26.534</td>\n",
       "      <td>1.904</td>\n",
       "      <td>Andaman And Nicobar</td>\n",
       "      <td>India</td>\n",
       "    </tr>\n",
       "    <tr>\n",
       "      <th>24710</th>\n",
       "      <td>1796-02-01</td>\n",
       "      <td>26.294</td>\n",
       "      <td>1.122</td>\n",
       "      <td>Andaman And Nicobar</td>\n",
       "      <td>India</td>\n",
       "    </tr>\n",
       "    <tr>\n",
       "      <th>24711</th>\n",
       "      <td>1796-03-01</td>\n",
       "      <td>26.180</td>\n",
       "      <td>1.959</td>\n",
       "      <td>Andaman And Nicobar</td>\n",
       "      <td>India</td>\n",
       "    </tr>\n",
       "    <tr>\n",
       "      <th>24712</th>\n",
       "      <td>1796-04-01</td>\n",
       "      <td>27.942</td>\n",
       "      <td>1.281</td>\n",
       "      <td>Andaman And Nicobar</td>\n",
       "      <td>India</td>\n",
       "    </tr>\n",
       "    <tr>\n",
       "      <th>24713</th>\n",
       "      <td>1796-05-01</td>\n",
       "      <td>28.651</td>\n",
       "      <td>1.119</td>\n",
       "      <td>Andaman And Nicobar</td>\n",
       "      <td>India</td>\n",
       "    </tr>\n",
       "  </tbody>\n",
       "</table>\n",
       "</div>"
      ],
      "text/plain": [
       "               dt  AverageTemperature  AverageTemperatureUncertainty  \\\n",
       "24709  1796-01-01              26.534                          1.904   \n",
       "24710  1796-02-01              26.294                          1.122   \n",
       "24711  1796-03-01              26.180                          1.959   \n",
       "24712  1796-04-01              27.942                          1.281   \n",
       "24713  1796-05-01              28.651                          1.119   \n",
       "\n",
       "                     State Country  \n",
       "24709  Andaman And Nicobar   India  \n",
       "24710  Andaman And Nicobar   India  \n",
       "24711  Andaman And Nicobar   India  \n",
       "24712  Andaman And Nicobar   India  \n",
       "24713  Andaman And Nicobar   India  "
      ]
     },
     "execution_count": 27,
     "metadata": {},
     "output_type": "execute_result"
    }
   ],
   "source": [
    "df_new.head()"
   ]
  },
  {
   "cell_type": "code",
   "execution_count": 28,
   "id": "bc8b1c9c",
   "metadata": {},
   "outputs": [],
   "source": [
    "df_maha = df_new[(df_new['State'] == 'Maharashtra')]"
   ]
  },
  {
   "cell_type": "code",
   "execution_count": 29,
   "id": "4dcc5c0e",
   "metadata": {},
   "outputs": [
    {
     "data": {
      "text/plain": [
       "(2613, 5)"
      ]
     },
     "execution_count": 29,
     "metadata": {},
     "output_type": "execute_result"
    }
   ],
   "source": [
    "df_maha.shape"
   ]
  },
  {
   "cell_type": "code",
   "execution_count": 30,
   "id": "ca2cb13a",
   "metadata": {},
   "outputs": [
    {
     "data": {
      "text/html": [
       "<div>\n",
       "<style scoped>\n",
       "    .dataframe tbody tr th:only-of-type {\n",
       "        vertical-align: middle;\n",
       "    }\n",
       "\n",
       "    .dataframe tbody tr th {\n",
       "        vertical-align: top;\n",
       "    }\n",
       "\n",
       "    .dataframe thead th {\n",
       "        text-align: right;\n",
       "    }\n",
       "</style>\n",
       "<table border=\"1\" class=\"dataframe\">\n",
       "  <thead>\n",
       "    <tr style=\"text-align: right;\">\n",
       "      <th></th>\n",
       "      <th>dt</th>\n",
       "      <th>AverageTemperature</th>\n",
       "      <th>AverageTemperatureUncertainty</th>\n",
       "      <th>State</th>\n",
       "      <th>Country</th>\n",
       "    </tr>\n",
       "  </thead>\n",
       "  <tbody>\n",
       "    <tr>\n",
       "      <th>284283</th>\n",
       "      <td>1796-01-01</td>\n",
       "      <td>21.195</td>\n",
       "      <td>2.134</td>\n",
       "      <td>Maharashtra</td>\n",
       "      <td>India</td>\n",
       "    </tr>\n",
       "    <tr>\n",
       "      <th>284284</th>\n",
       "      <td>1796-02-01</td>\n",
       "      <td>23.250</td>\n",
       "      <td>1.385</td>\n",
       "      <td>Maharashtra</td>\n",
       "      <td>India</td>\n",
       "    </tr>\n",
       "    <tr>\n",
       "      <th>284285</th>\n",
       "      <td>1796-03-01</td>\n",
       "      <td>26.075</td>\n",
       "      <td>2.237</td>\n",
       "      <td>Maharashtra</td>\n",
       "      <td>India</td>\n",
       "    </tr>\n",
       "    <tr>\n",
       "      <th>284286</th>\n",
       "      <td>1796-04-01</td>\n",
       "      <td>30.374</td>\n",
       "      <td>1.605</td>\n",
       "      <td>Maharashtra</td>\n",
       "      <td>India</td>\n",
       "    </tr>\n",
       "    <tr>\n",
       "      <th>284287</th>\n",
       "      <td>1796-05-01</td>\n",
       "      <td>32.132</td>\n",
       "      <td>1.340</td>\n",
       "      <td>Maharashtra</td>\n",
       "      <td>India</td>\n",
       "    </tr>\n",
       "  </tbody>\n",
       "</table>\n",
       "</div>"
      ],
      "text/plain": [
       "                dt  AverageTemperature  AverageTemperatureUncertainty  \\\n",
       "284283  1796-01-01              21.195                          2.134   \n",
       "284284  1796-02-01              23.250                          1.385   \n",
       "284285  1796-03-01              26.075                          2.237   \n",
       "284286  1796-04-01              30.374                          1.605   \n",
       "284287  1796-05-01              32.132                          1.340   \n",
       "\n",
       "              State Country  \n",
       "284283  Maharashtra   India  \n",
       "284284  Maharashtra   India  \n",
       "284285  Maharashtra   India  \n",
       "284286  Maharashtra   India  \n",
       "284287  Maharashtra   India  "
      ]
     },
     "execution_count": 30,
     "metadata": {},
     "output_type": "execute_result"
    }
   ],
   "source": [
    "df_maha.head()"
   ]
  },
  {
   "cell_type": "code",
   "execution_count": 31,
   "id": "02bf1ddd",
   "metadata": {},
   "outputs": [
    {
     "data": {
      "text/html": [
       "<div>\n",
       "<style scoped>\n",
       "    .dataframe tbody tr th:only-of-type {\n",
       "        vertical-align: middle;\n",
       "    }\n",
       "\n",
       "    .dataframe tbody tr th {\n",
       "        vertical-align: top;\n",
       "    }\n",
       "\n",
       "    .dataframe thead th {\n",
       "        text-align: right;\n",
       "    }\n",
       "</style>\n",
       "<table border=\"1\" class=\"dataframe\">\n",
       "  <thead>\n",
       "    <tr style=\"text-align: right;\">\n",
       "      <th></th>\n",
       "      <th>dt</th>\n",
       "      <th>AverageTemperature</th>\n",
       "      <th>AverageTemperatureUncertainty</th>\n",
       "      <th>State</th>\n",
       "      <th>Country</th>\n",
       "    </tr>\n",
       "  </thead>\n",
       "  <tbody>\n",
       "    <tr>\n",
       "      <th>286891</th>\n",
       "      <td>2013-05-01</td>\n",
       "      <td>33.506</td>\n",
       "      <td>0.331</td>\n",
       "      <td>Maharashtra</td>\n",
       "      <td>India</td>\n",
       "    </tr>\n",
       "    <tr>\n",
       "      <th>286892</th>\n",
       "      <td>2013-06-01</td>\n",
       "      <td>28.260</td>\n",
       "      <td>0.353</td>\n",
       "      <td>Maharashtra</td>\n",
       "      <td>India</td>\n",
       "    </tr>\n",
       "    <tr>\n",
       "      <th>286893</th>\n",
       "      <td>2013-07-01</td>\n",
       "      <td>25.874</td>\n",
       "      <td>0.189</td>\n",
       "      <td>Maharashtra</td>\n",
       "      <td>India</td>\n",
       "    </tr>\n",
       "    <tr>\n",
       "      <th>286894</th>\n",
       "      <td>2013-08-01</td>\n",
       "      <td>25.887</td>\n",
       "      <td>0.205</td>\n",
       "      <td>Maharashtra</td>\n",
       "      <td>India</td>\n",
       "    </tr>\n",
       "    <tr>\n",
       "      <th>286895</th>\n",
       "      <td>2013-09-01</td>\n",
       "      <td>NaN</td>\n",
       "      <td>NaN</td>\n",
       "      <td>Maharashtra</td>\n",
       "      <td>India</td>\n",
       "    </tr>\n",
       "  </tbody>\n",
       "</table>\n",
       "</div>"
      ],
      "text/plain": [
       "                dt  AverageTemperature  AverageTemperatureUncertainty  \\\n",
       "286891  2013-05-01              33.506                          0.331   \n",
       "286892  2013-06-01              28.260                          0.353   \n",
       "286893  2013-07-01              25.874                          0.189   \n",
       "286894  2013-08-01              25.887                          0.205   \n",
       "286895  2013-09-01                 NaN                            NaN   \n",
       "\n",
       "              State Country  \n",
       "286891  Maharashtra   India  \n",
       "286892  Maharashtra   India  \n",
       "286893  Maharashtra   India  \n",
       "286894  Maharashtra   India  \n",
       "286895  Maharashtra   India  "
      ]
     },
     "execution_count": 31,
     "metadata": {},
     "output_type": "execute_result"
    }
   ],
   "source": [
    "df_maha.tail()"
   ]
  },
  {
   "cell_type": "code",
   "execution_count": 32,
   "id": "f2f7f88b",
   "metadata": {},
   "outputs": [
    {
     "data": {
      "text/plain": [
       "dt                                 0\n",
       "AverageTemperature               105\n",
       "AverageTemperatureUncertainty    105\n",
       "State                              0\n",
       "Country                            0\n",
       "dtype: int64"
      ]
     },
     "execution_count": 32,
     "metadata": {},
     "output_type": "execute_result"
    }
   ],
   "source": [
    "df_maha.isnull().sum()"
   ]
  },
  {
   "cell_type": "code",
   "execution_count": 33,
   "id": "61fc29d8",
   "metadata": {},
   "outputs": [],
   "source": [
    "df_new_ind = df1[(df1['Country'] == 'India')]"
   ]
  },
  {
   "cell_type": "code",
   "execution_count": 34,
   "id": "b849ffd2",
   "metadata": {},
   "outputs": [
    {
     "data": {
      "text/plain": [
       "(1014906, 7)"
      ]
     },
     "execution_count": 34,
     "metadata": {},
     "output_type": "execute_result"
    }
   ],
   "source": [
    "df_new_ind.shape"
   ]
  },
  {
   "cell_type": "code",
   "execution_count": 35,
   "id": "66f7d661",
   "metadata": {},
   "outputs": [
    {
     "data": {
      "text/plain": [
       "dt                                object\n",
       "AverageTemperature               float64\n",
       "AverageTemperatureUncertainty    float64\n",
       "City                              object\n",
       "Country                           object\n",
       "Latitude                          object\n",
       "Longitude                         object\n",
       "dtype: object"
      ]
     },
     "execution_count": 35,
     "metadata": {},
     "output_type": "execute_result"
    }
   ],
   "source": [
    "df_new_ind.dtypes"
   ]
  },
  {
   "cell_type": "code",
   "execution_count": 36,
   "id": "6c33edc8",
   "metadata": {},
   "outputs": [
    {
     "data": {
      "text/plain": [
       "391"
      ]
     },
     "execution_count": 36,
     "metadata": {},
     "output_type": "execute_result"
    }
   ],
   "source": [
    "df_new_ind['City'].nunique()"
   ]
  },
  {
   "cell_type": "code",
   "execution_count": 37,
   "id": "1bcf0a64",
   "metadata": {},
   "outputs": [
    {
     "data": {
      "text/plain": [
       "dt                                   0\n",
       "AverageTemperature               54358\n",
       "AverageTemperatureUncertainty    54358\n",
       "City                                 0\n",
       "Country                              0\n",
       "Latitude                             0\n",
       "Longitude                            0\n",
       "dtype: int64"
      ]
     },
     "execution_count": 37,
     "metadata": {},
     "output_type": "execute_result"
    }
   ],
   "source": [
    "df_new_ind.isnull().sum()"
   ]
  },
  {
   "cell_type": "code",
   "execution_count": 38,
   "id": "fb647ddf",
   "metadata": {},
   "outputs": [],
   "source": [
    "df_ind=df_new_ind.dropna(how='any',axis=0)"
   ]
  },
  {
   "cell_type": "code",
   "execution_count": 39,
   "id": "3e029708",
   "metadata": {},
   "outputs": [
    {
     "data": {
      "text/plain": [
       "(960548, 7)"
      ]
     },
     "execution_count": 39,
     "metadata": {},
     "output_type": "execute_result"
    }
   ],
   "source": [
    "df_ind.shape"
   ]
  },
  {
   "cell_type": "code",
   "execution_count": 40,
   "id": "963f9578",
   "metadata": {},
   "outputs": [
    {
     "data": {
      "text/plain": [
       "(2613, 5)"
      ]
     },
     "execution_count": 40,
     "metadata": {},
     "output_type": "execute_result"
    }
   ],
   "source": [
    "df_maha.shape "
   ]
  },
  {
   "cell_type": "code",
   "execution_count": 41,
   "id": "fa4ef3ff",
   "metadata": {},
   "outputs": [],
   "source": [
    "# Got two data set df_ind and df_maha "
   ]
  },
  {
   "cell_type": "code",
   "execution_count": 42,
   "id": "a8258d42",
   "metadata": {},
   "outputs": [],
   "source": [
    "#EDA ON THIS DATA SET"
   ]
  },
  {
   "cell_type": "code",
   "execution_count": 43,
   "id": "892e4f9f",
   "metadata": {},
   "outputs": [
    {
     "data": {
      "text/plain": [
       "dt                                object\n",
       "AverageTemperature               float64\n",
       "AverageTemperatureUncertainty    float64\n",
       "State                             object\n",
       "Country                           object\n",
       "dtype: object"
      ]
     },
     "execution_count": 43,
     "metadata": {},
     "output_type": "execute_result"
    }
   ],
   "source": [
    "df_maha.dtypes"
   ]
  },
  {
   "cell_type": "code",
   "execution_count": 44,
   "id": "39a81a41",
   "metadata": {},
   "outputs": [],
   "source": [
    "#one date column, (State and Country)are label data--Nomial scale"
   ]
  },
  {
   "cell_type": "code",
   "execution_count": 45,
   "id": "dec2c403",
   "metadata": {},
   "outputs": [
    {
     "data": {
      "text/plain": [
       "<AxesSubplot:>"
      ]
     },
     "execution_count": 45,
     "metadata": {},
     "output_type": "execute_result"
    },
    {
     "data": {
      "image/png": "[encoded data removed]",
      "text/plain": [
       "<Figure size 432x288 with 1 Axes>"
      ]
     },
     "metadata": {
      "needs_background": "light"
     },
     "output_type": "display_data"
    }
   ],
   "source": [
    "df_maha['AverageTemperature'].hist()"
   ]
  },
  {
   "cell_type": "code",
   "execution_count": 46,
   "id": "83724ca5",
   "metadata": {},
   "outputs": [
    {
     "data": {
      "text/plain": [
       "<AxesSubplot:>"
      ]
     },
     "execution_count": 46,
     "metadata": {},
     "output_type": "execute_result"
    },
    {
     "data": {
      "image/png": "[encoded data removed]",
      "text/plain": [
       "<Figure size 432x288 with 1 Axes>"
      ]
     },
     "metadata": {
      "needs_background": "light"
     },
     "output_type": "display_data"
    }
   ],
   "source": [
    "df_ind['AverageTemperature'].hist()"
   ]
  },
  {
   "cell_type": "code",
   "execution_count": 47,
   "id": "e7bf1901",
   "metadata": {},
   "outputs": [
    {
     "data": {
      "text/plain": [
       "count    2508.000000\n",
       "mean       25.933388\n",
       "std         3.466521\n",
       "min        18.115000\n",
       "25%        23.175000\n",
       "50%        25.895000\n",
       "75%        28.330750\n",
       "max        33.801000\n",
       "Name: AverageTemperature, dtype: float64"
      ]
     },
     "execution_count": 47,
     "metadata": {},
     "output_type": "execute_result"
    }
   ],
   "source": [
    "df_maha['AverageTemperature'].describe()"
   ]
  },
  {
   "cell_type": "code",
   "execution_count": 48,
   "id": "a7cda54a",
   "metadata": {},
   "outputs": [
    {
     "data": {
      "text/plain": [
       "2613"
      ]
     },
     "execution_count": 48,
     "metadata": {},
     "output_type": "execute_result"
    }
   ],
   "source": [
    "df_maha['dt'].count()"
   ]
  },
  {
   "cell_type": "code",
   "execution_count": 49,
   "id": "4ebf2b81",
   "metadata": {},
   "outputs": [],
   "source": [
    "ts_data = df_maha[['dt', 'AverageTemperature']].copy()"
   ]
  },
  {
   "cell_type": "code",
   "execution_count": 50,
   "id": "f6cf415c",
   "metadata": {},
   "outputs": [
    {
     "data": {
      "text/html": [
       "<div>\n",
       "<style scoped>\n",
       "    .dataframe tbody tr th:only-of-type {\n",
       "        vertical-align: middle;\n",
       "    }\n",
       "\n",
       "    .dataframe tbody tr th {\n",
       "        vertical-align: top;\n",
       "    }\n",
       "\n",
       "    .dataframe thead th {\n",
       "        text-align: right;\n",
       "    }\n",
       "</style>\n",
       "<table border=\"1\" class=\"dataframe\">\n",
       "  <thead>\n",
       "    <tr style=\"text-align: right;\">\n",
       "      <th></th>\n",
       "      <th>dt</th>\n",
       "      <th>AverageTemperature</th>\n",
       "    </tr>\n",
       "  </thead>\n",
       "  <tbody>\n",
       "    <tr>\n",
       "      <th>284283</th>\n",
       "      <td>1796-01-01</td>\n",
       "      <td>21.195</td>\n",
       "    </tr>\n",
       "    <tr>\n",
       "      <th>284284</th>\n",
       "      <td>1796-02-01</td>\n",
       "      <td>23.250</td>\n",
       "    </tr>\n",
       "    <tr>\n",
       "      <th>284285</th>\n",
       "      <td>1796-03-01</td>\n",
       "      <td>26.075</td>\n",
       "    </tr>\n",
       "    <tr>\n",
       "      <th>284286</th>\n",
       "      <td>1796-04-01</td>\n",
       "      <td>30.374</td>\n",
       "    </tr>\n",
       "    <tr>\n",
       "      <th>284287</th>\n",
       "      <td>1796-05-01</td>\n",
       "      <td>32.132</td>\n",
       "    </tr>\n",
       "  </tbody>\n",
       "</table>\n",
       "</div>"
      ],
      "text/plain": [
       "                dt  AverageTemperature\n",
       "284283  1796-01-01              21.195\n",
       "284284  1796-02-01              23.250\n",
       "284285  1796-03-01              26.075\n",
       "284286  1796-04-01              30.374\n",
       "284287  1796-05-01              32.132"
      ]
     },
     "execution_count": 50,
     "metadata": {},
     "output_type": "execute_result"
    }
   ],
   "source": [
    "ts_data.head()"
   ]
  },
  {
   "cell_type": "code",
   "execution_count": 51,
   "id": "9217675b",
   "metadata": {},
   "outputs": [],
   "source": [
    "ts_data['dt'] = pd.to_datetime(ts_data['dt'])"
   ]
  },
  {
   "cell_type": "code",
   "execution_count": 52,
   "id": "83570167",
   "metadata": {},
   "outputs": [
    {
     "data": {
      "text/plain": [
       "dt                    datetime64[ns]\n",
       "AverageTemperature           float64\n",
       "dtype: object"
      ]
     },
     "execution_count": 52,
     "metadata": {},
     "output_type": "execute_result"
    }
   ],
   "source": [
    "ts_data.dtypes"
   ]
  },
  {
   "cell_type": "code",
   "execution_count": 53,
   "id": "df4bb581",
   "metadata": {},
   "outputs": [],
   "source": [
    "ts_data.set_index('dt',inplace=True)"
   ]
  },
  {
   "cell_type": "code",
   "execution_count": 54,
   "id": "c882cc5a",
   "metadata": {},
   "outputs": [
    {
     "data": {
      "text/plain": [
       "AverageTemperature    float64\n",
       "dtype: object"
      ]
     },
     "execution_count": 54,
     "metadata": {},
     "output_type": "execute_result"
    }
   ],
   "source": [
    "ts_data.dtypes"
   ]
  },
  {
   "cell_type": "code",
   "execution_count": 55,
   "id": "27384dcc",
   "metadata": {},
   "outputs": [
    {
     "data": {
      "text/html": [
       "<div>\n",
       "<style scoped>\n",
       "    .dataframe tbody tr th:only-of-type {\n",
       "        vertical-align: middle;\n",
       "    }\n",
       "\n",
       "    .dataframe tbody tr th {\n",
       "        vertical-align: top;\n",
       "    }\n",
       "\n",
       "    .dataframe thead th {\n",
       "        text-align: right;\n",
       "    }\n",
       "</style>\n",
       "<table border=\"1\" class=\"dataframe\">\n",
       "  <thead>\n",
       "    <tr style=\"text-align: right;\">\n",
       "      <th></th>\n",
       "      <th>AverageTemperature</th>\n",
       "    </tr>\n",
       "    <tr>\n",
       "      <th>dt</th>\n",
       "      <th></th>\n",
       "    </tr>\n",
       "  </thead>\n",
       "  <tbody>\n",
       "    <tr>\n",
       "      <th>1796-01-01</th>\n",
       "      <td>21.195</td>\n",
       "    </tr>\n",
       "    <tr>\n",
       "      <th>1796-02-01</th>\n",
       "      <td>23.250</td>\n",
       "    </tr>\n",
       "    <tr>\n",
       "      <th>1796-03-01</th>\n",
       "      <td>26.075</td>\n",
       "    </tr>\n",
       "    <tr>\n",
       "      <th>1796-04-01</th>\n",
       "      <td>30.374</td>\n",
       "    </tr>\n",
       "    <tr>\n",
       "      <th>1796-05-01</th>\n",
       "      <td>32.132</td>\n",
       "    </tr>\n",
       "  </tbody>\n",
       "</table>\n",
       "</div>"
      ],
      "text/plain": [
       "            AverageTemperature\n",
       "dt                            \n",
       "1796-01-01              21.195\n",
       "1796-02-01              23.250\n",
       "1796-03-01              26.075\n",
       "1796-04-01              30.374\n",
       "1796-05-01              32.132"
      ]
     },
     "execution_count": 55,
     "metadata": {},
     "output_type": "execute_result"
    }
   ],
   "source": [
    "ts_data.head()"
   ]
  },
  {
   "cell_type": "code",
   "execution_count": 56,
   "id": "ad47c669",
   "metadata": {},
   "outputs": [
    {
     "data": {
      "text/plain": [
       "AverageTemperature    float64\n",
       "dtype: object"
      ]
     },
     "execution_count": 56,
     "metadata": {},
     "output_type": "execute_result"
    }
   ],
   "source": [
    "ts_data.dtypes"
   ]
  },
  {
   "cell_type": "code",
   "execution_count": 57,
   "id": "53c899a5",
   "metadata": {},
   "outputs": [],
   "source": [
    "ts_data.sort_index(inplace=True)"
   ]
  },
  {
   "cell_type": "code",
   "execution_count": 58,
   "id": "eae21829",
   "metadata": {},
   "outputs": [
    {
     "data": {
      "text/html": [
       "<div>\n",
       "<style scoped>\n",
       "    .dataframe tbody tr th:only-of-type {\n",
       "        vertical-align: middle;\n",
       "    }\n",
       "\n",
       "    .dataframe tbody tr th {\n",
       "        vertical-align: top;\n",
       "    }\n",
       "\n",
       "    .dataframe thead th {\n",
       "        text-align: right;\n",
       "    }\n",
       "</style>\n",
       "<table border=\"1\" class=\"dataframe\">\n",
       "  <thead>\n",
       "    <tr style=\"text-align: right;\">\n",
       "      <th></th>\n",
       "      <th>AverageTemperature</th>\n",
       "    </tr>\n",
       "    <tr>\n",
       "      <th>dt</th>\n",
       "      <th></th>\n",
       "    </tr>\n",
       "  </thead>\n",
       "  <tbody>\n",
       "    <tr>\n",
       "      <th>1796-01-01</th>\n",
       "      <td>21.195</td>\n",
       "    </tr>\n",
       "    <tr>\n",
       "      <th>1796-02-01</th>\n",
       "      <td>23.250</td>\n",
       "    </tr>\n",
       "    <tr>\n",
       "      <th>1796-03-01</th>\n",
       "      <td>26.075</td>\n",
       "    </tr>\n",
       "    <tr>\n",
       "      <th>1796-04-01</th>\n",
       "      <td>30.374</td>\n",
       "    </tr>\n",
       "    <tr>\n",
       "      <th>1796-05-01</th>\n",
       "      <td>32.132</td>\n",
       "    </tr>\n",
       "  </tbody>\n",
       "</table>\n",
       "</div>"
      ],
      "text/plain": [
       "            AverageTemperature\n",
       "dt                            \n",
       "1796-01-01              21.195\n",
       "1796-02-01              23.250\n",
       "1796-03-01              26.075\n",
       "1796-04-01              30.374\n",
       "1796-05-01              32.132"
      ]
     },
     "execution_count": 58,
     "metadata": {},
     "output_type": "execute_result"
    }
   ],
   "source": [
    "ts_data.head()"
   ]
  },
  {
   "cell_type": "code",
   "execution_count": 59,
   "id": "778473b5",
   "metadata": {},
   "outputs": [
    {
     "data": {
      "text/plain": [
       "AverageTemperature    105\n",
       "dtype: int64"
      ]
     },
     "execution_count": 59,
     "metadata": {},
     "output_type": "execute_result"
    }
   ],
   "source": [
    "ts_data.isnull().sum()"
   ]
  },
  {
   "cell_type": "code",
   "execution_count": 60,
   "id": "6bc949c3",
   "metadata": {},
   "outputs": [
    {
     "data": {
      "text/plain": [
       "(Timestamp('1796-01-01 00:00:00'), Timestamp('2013-09-01 00:00:00'))"
      ]
     },
     "execution_count": 60,
     "metadata": {},
     "output_type": "execute_result"
    }
   ],
   "source": [
    "ts_data.index.min(),ts_data.index.max() "
   ]
  },
  {
   "cell_type": "code",
   "execution_count": 61,
   "id": "650ef766",
   "metadata": {},
   "outputs": [
    {
     "data": {
      "text/html": [
       "<div>\n",
       "<style scoped>\n",
       "    .dataframe tbody tr th:only-of-type {\n",
       "        vertical-align: middle;\n",
       "    }\n",
       "\n",
       "    .dataframe tbody tr th {\n",
       "        vertical-align: top;\n",
       "    }\n",
       "\n",
       "    .dataframe thead th {\n",
       "        text-align: right;\n",
       "    }\n",
       "</style>\n",
       "<table border=\"1\" class=\"dataframe\">\n",
       "  <thead>\n",
       "    <tr style=\"text-align: right;\">\n",
       "      <th></th>\n",
       "      <th>AverageTemperature</th>\n",
       "    </tr>\n",
       "    <tr>\n",
       "      <th>dt</th>\n",
       "      <th></th>\n",
       "    </tr>\n",
       "  </thead>\n",
       "  <tbody>\n",
       "    <tr>\n",
       "      <th>2012-01-01</th>\n",
       "      <td>21.043</td>\n",
       "    </tr>\n",
       "    <tr>\n",
       "      <th>2012-02-01</th>\n",
       "      <td>24.075</td>\n",
       "    </tr>\n",
       "    <tr>\n",
       "      <th>2012-03-01</th>\n",
       "      <td>27.529</td>\n",
       "    </tr>\n",
       "    <tr>\n",
       "      <th>2012-04-01</th>\n",
       "      <td>31.311</td>\n",
       "    </tr>\n",
       "    <tr>\n",
       "      <th>2012-05-01</th>\n",
       "      <td>32.781</td>\n",
       "    </tr>\n",
       "    <tr>\n",
       "      <th>2012-06-01</th>\n",
       "      <td>30.537</td>\n",
       "    </tr>\n",
       "    <tr>\n",
       "      <th>2012-07-01</th>\n",
       "      <td>27.104</td>\n",
       "    </tr>\n",
       "    <tr>\n",
       "      <th>2012-08-01</th>\n",
       "      <td>26.397</td>\n",
       "    </tr>\n",
       "    <tr>\n",
       "      <th>2012-09-01</th>\n",
       "      <td>26.812</td>\n",
       "    </tr>\n",
       "    <tr>\n",
       "      <th>2012-10-01</th>\n",
       "      <td>26.137</td>\n",
       "    </tr>\n",
       "    <tr>\n",
       "      <th>2012-11-01</th>\n",
       "      <td>23.608</td>\n",
       "    </tr>\n",
       "    <tr>\n",
       "      <th>2012-12-01</th>\n",
       "      <td>22.563</td>\n",
       "    </tr>\n",
       "  </tbody>\n",
       "</table>\n",
       "</div>"
      ],
      "text/plain": [
       "            AverageTemperature\n",
       "dt                            \n",
       "2012-01-01              21.043\n",
       "2012-02-01              24.075\n",
       "2012-03-01              27.529\n",
       "2012-04-01              31.311\n",
       "2012-05-01              32.781\n",
       "2012-06-01              30.537\n",
       "2012-07-01              27.104\n",
       "2012-08-01              26.397\n",
       "2012-09-01              26.812\n",
       "2012-10-01              26.137\n",
       "2012-11-01              23.608\n",
       "2012-12-01              22.563"
      ]
     },
     "execution_count": 61,
     "metadata": {},
     "output_type": "execute_result"
    }
   ],
   "source": [
    "ts_data.loc['2012']"
   ]
  },
  {
   "cell_type": "code",
   "execution_count": 62,
   "id": "f3956cfb",
   "metadata": {},
   "outputs": [
    {
     "data": {
      "text/html": [
       "<div>\n",
       "<style scoped>\n",
       "    .dataframe tbody tr th:only-of-type {\n",
       "        vertical-align: middle;\n",
       "    }\n",
       "\n",
       "    .dataframe tbody tr th {\n",
       "        vertical-align: top;\n",
       "    }\n",
       "\n",
       "    .dataframe thead th {\n",
       "        text-align: right;\n",
       "    }\n",
       "</style>\n",
       "<table border=\"1\" class=\"dataframe\">\n",
       "  <thead>\n",
       "    <tr style=\"text-align: right;\">\n",
       "      <th></th>\n",
       "      <th>AverageTemperature</th>\n",
       "    </tr>\n",
       "    <tr>\n",
       "      <th>dt</th>\n",
       "      <th></th>\n",
       "    </tr>\n",
       "  </thead>\n",
       "  <tbody>\n",
       "    <tr>\n",
       "      <th>1913-01-01</th>\n",
       "      <td>20.299</td>\n",
       "    </tr>\n",
       "    <tr>\n",
       "      <th>1913-02-01</th>\n",
       "      <td>23.941</td>\n",
       "    </tr>\n",
       "    <tr>\n",
       "      <th>1913-03-01</th>\n",
       "      <td>26.423</td>\n",
       "    </tr>\n",
       "    <tr>\n",
       "      <th>1913-04-01</th>\n",
       "      <td>31.412</td>\n",
       "    </tr>\n",
       "    <tr>\n",
       "      <th>1913-05-01</th>\n",
       "      <td>31.751</td>\n",
       "    </tr>\n",
       "    <tr>\n",
       "      <th>...</th>\n",
       "      <td>...</td>\n",
       "    </tr>\n",
       "    <tr>\n",
       "      <th>2013-05-01</th>\n",
       "      <td>33.506</td>\n",
       "    </tr>\n",
       "    <tr>\n",
       "      <th>2013-06-01</th>\n",
       "      <td>28.260</td>\n",
       "    </tr>\n",
       "    <tr>\n",
       "      <th>2013-07-01</th>\n",
       "      <td>25.874</td>\n",
       "    </tr>\n",
       "    <tr>\n",
       "      <th>2013-08-01</th>\n",
       "      <td>25.887</td>\n",
       "    </tr>\n",
       "    <tr>\n",
       "      <th>2013-09-01</th>\n",
       "      <td>NaN</td>\n",
       "    </tr>\n",
       "  </tbody>\n",
       "</table>\n",
       "<p>1209 rows × 1 columns</p>\n",
       "</div>"
      ],
      "text/plain": [
       "            AverageTemperature\n",
       "dt                            \n",
       "1913-01-01              20.299\n",
       "1913-02-01              23.941\n",
       "1913-03-01              26.423\n",
       "1913-04-01              31.412\n",
       "1913-05-01              31.751\n",
       "...                        ...\n",
       "2013-05-01              33.506\n",
       "2013-06-01              28.260\n",
       "2013-07-01              25.874\n",
       "2013-08-01              25.887\n",
       "2013-09-01                 NaN\n",
       "\n",
       "[1209 rows x 1 columns]"
      ]
     },
     "execution_count": 62,
     "metadata": {},
     "output_type": "execute_result"
    }
   ],
   "source": [
    "ts_data.loc['1913':'2013']"
   ]
  },
  {
   "cell_type": "code",
   "execution_count": 63,
   "id": "693b6c49",
   "metadata": {},
   "outputs": [],
   "source": [
    "df_100=ts_data.loc['1913':'2013']"
   ]
  },
  {
   "cell_type": "code",
   "execution_count": 64,
   "id": "6c363d47",
   "metadata": {},
   "outputs": [
    {
     "data": {
      "text/plain": [
       "(1209, 1)"
      ]
     },
     "execution_count": 64,
     "metadata": {},
     "output_type": "execute_result"
    }
   ],
   "source": [
    "df_100.shape"
   ]
  },
  {
   "cell_type": "code",
   "execution_count": 65,
   "id": "00d3d33b",
   "metadata": {},
   "outputs": [
    {
     "data": {
      "text/plain": [
       "AverageTemperature    1\n",
       "dtype: int64"
      ]
     },
     "execution_count": 65,
     "metadata": {},
     "output_type": "execute_result"
    }
   ],
   "source": [
    "df_100.isnull().sum()"
   ]
  },
  {
   "cell_type": "code",
   "execution_count": 66,
   "id": "693d911e",
   "metadata": {},
   "outputs": [
    {
     "data": {
      "text/html": [
       "<div>\n",
       "<style scoped>\n",
       "    .dataframe tbody tr th:only-of-type {\n",
       "        vertical-align: middle;\n",
       "    }\n",
       "\n",
       "    .dataframe tbody tr th {\n",
       "        vertical-align: top;\n",
       "    }\n",
       "\n",
       "    .dataframe thead th {\n",
       "        text-align: right;\n",
       "    }\n",
       "</style>\n",
       "<table border=\"1\" class=\"dataframe\">\n",
       "  <thead>\n",
       "    <tr style=\"text-align: right;\">\n",
       "      <th></th>\n",
       "      <th>AverageTemperature</th>\n",
       "    </tr>\n",
       "    <tr>\n",
       "      <th>dt</th>\n",
       "      <th></th>\n",
       "    </tr>\n",
       "  </thead>\n",
       "  <tbody>\n",
       "    <tr>\n",
       "      <th>1913-01-01</th>\n",
       "      <td>20.299</td>\n",
       "    </tr>\n",
       "    <tr>\n",
       "      <th>1913-02-01</th>\n",
       "      <td>23.941</td>\n",
       "    </tr>\n",
       "    <tr>\n",
       "      <th>1913-03-01</th>\n",
       "      <td>26.423</td>\n",
       "    </tr>\n",
       "    <tr>\n",
       "      <th>1913-04-01</th>\n",
       "      <td>31.412</td>\n",
       "    </tr>\n",
       "    <tr>\n",
       "      <th>1913-05-01</th>\n",
       "      <td>31.751</td>\n",
       "    </tr>\n",
       "  </tbody>\n",
       "</table>\n",
       "</div>"
      ],
      "text/plain": [
       "            AverageTemperature\n",
       "dt                            \n",
       "1913-01-01              20.299\n",
       "1913-02-01              23.941\n",
       "1913-03-01              26.423\n",
       "1913-04-01              31.412\n",
       "1913-05-01              31.751"
      ]
     },
     "execution_count": 66,
     "metadata": {},
     "output_type": "execute_result"
    }
   ],
   "source": [
    "df_100.head()"
   ]
  },
  {
   "cell_type": "code",
   "execution_count": 67,
   "id": "d7a8e64a",
   "metadata": {},
   "outputs": [
    {
     "data": {
      "text/plain": [
       "(2613, 1)"
      ]
     },
     "execution_count": 67,
     "metadata": {},
     "output_type": "execute_result"
    }
   ],
   "source": [
    "ts_data.shape"
   ]
  },
  {
   "cell_type": "code",
   "execution_count": 68,
   "id": "ae4f501d",
   "metadata": {},
   "outputs": [
    {
     "data": {
      "text/plain": [
       "AverageTemperature    105\n",
       "dtype: int64"
      ]
     },
     "execution_count": 68,
     "metadata": {},
     "output_type": "execute_result"
    }
   ],
   "source": [
    "ts_data.isnull().sum()"
   ]
  },
  {
   "cell_type": "code",
   "execution_count": 69,
   "id": "f3509300",
   "metadata": {},
   "outputs": [],
   "source": [
    "import numpy as np"
   ]
  },
  {
   "cell_type": "code",
   "execution_count": 70,
   "id": "0dc0ed75",
   "metadata": {},
   "outputs": [],
   "source": [
    "ts_data['Atfill'] = ts_data['AverageTemperature'].fillna(value=None, method='ffill', axis=None, limit=None, downcast=None)"
   ]
  },
  {
   "cell_type": "code",
   "execution_count": 71,
   "id": "3a2c3c2e",
   "metadata": {},
   "outputs": [
    {
     "data": {
      "text/html": [
       "<div>\n",
       "<style scoped>\n",
       "    .dataframe tbody tr th:only-of-type {\n",
       "        vertical-align: middle;\n",
       "    }\n",
       "\n",
       "    .dataframe tbody tr th {\n",
       "        vertical-align: top;\n",
       "    }\n",
       "\n",
       "    .dataframe thead th {\n",
       "        text-align: right;\n",
       "    }\n",
       "</style>\n",
       "<table border=\"1\" class=\"dataframe\">\n",
       "  <thead>\n",
       "    <tr style=\"text-align: right;\">\n",
       "      <th></th>\n",
       "      <th>AverageTemperature</th>\n",
       "      <th>Atfill</th>\n",
       "    </tr>\n",
       "    <tr>\n",
       "      <th>dt</th>\n",
       "      <th></th>\n",
       "      <th></th>\n",
       "    </tr>\n",
       "  </thead>\n",
       "  <tbody>\n",
       "    <tr>\n",
       "      <th>2013-05-01</th>\n",
       "      <td>33.506</td>\n",
       "      <td>33.506</td>\n",
       "    </tr>\n",
       "    <tr>\n",
       "      <th>2013-06-01</th>\n",
       "      <td>28.260</td>\n",
       "      <td>28.260</td>\n",
       "    </tr>\n",
       "    <tr>\n",
       "      <th>2013-07-01</th>\n",
       "      <td>25.874</td>\n",
       "      <td>25.874</td>\n",
       "    </tr>\n",
       "    <tr>\n",
       "      <th>2013-08-01</th>\n",
       "      <td>25.887</td>\n",
       "      <td>25.887</td>\n",
       "    </tr>\n",
       "    <tr>\n",
       "      <th>2013-09-01</th>\n",
       "      <td>NaN</td>\n",
       "      <td>25.887</td>\n",
       "    </tr>\n",
       "  </tbody>\n",
       "</table>\n",
       "</div>"
      ],
      "text/plain": [
       "            AverageTemperature  Atfill\n",
       "dt                                    \n",
       "2013-05-01              33.506  33.506\n",
       "2013-06-01              28.260  28.260\n",
       "2013-07-01              25.874  25.874\n",
       "2013-08-01              25.887  25.887\n",
       "2013-09-01                 NaN  25.887"
      ]
     },
     "execution_count": 71,
     "metadata": {},
     "output_type": "execute_result"
    }
   ],
   "source": [
    "ts_data.tail()"
   ]
  },
  {
   "cell_type": "code",
   "execution_count": 72,
   "id": "f9de27b3",
   "metadata": {},
   "outputs": [
    {
     "data": {
      "text/plain": [
       "(2613, 2)"
      ]
     },
     "execution_count": 72,
     "metadata": {},
     "output_type": "execute_result"
    }
   ],
   "source": [
    "ts_data.shape"
   ]
  },
  {
   "cell_type": "code",
   "execution_count": 73,
   "id": "e5644440",
   "metadata": {},
   "outputs": [],
   "source": [
    "ts_data1 = ts_data[['Atfill']].copy()"
   ]
  },
  {
   "cell_type": "code",
   "execution_count": 74,
   "id": "de666b99",
   "metadata": {},
   "outputs": [
    {
     "data": {
      "text/html": [
       "<div>\n",
       "<style scoped>\n",
       "    .dataframe tbody tr th:only-of-type {\n",
       "        vertical-align: middle;\n",
       "    }\n",
       "\n",
       "    .dataframe tbody tr th {\n",
       "        vertical-align: top;\n",
       "    }\n",
       "\n",
       "    .dataframe thead th {\n",
       "        text-align: right;\n",
       "    }\n",
       "</style>\n",
       "<table border=\"1\" class=\"dataframe\">\n",
       "  <thead>\n",
       "    <tr style=\"text-align: right;\">\n",
       "      <th></th>\n",
       "      <th>Atfill</th>\n",
       "    </tr>\n",
       "    <tr>\n",
       "      <th>dt</th>\n",
       "      <th></th>\n",
       "    </tr>\n",
       "  </thead>\n",
       "  <tbody>\n",
       "    <tr>\n",
       "      <th>1796-01-01</th>\n",
       "      <td>21.195</td>\n",
       "    </tr>\n",
       "    <tr>\n",
       "      <th>1796-02-01</th>\n",
       "      <td>23.250</td>\n",
       "    </tr>\n",
       "    <tr>\n",
       "      <th>1796-03-01</th>\n",
       "      <td>26.075</td>\n",
       "    </tr>\n",
       "    <tr>\n",
       "      <th>1796-04-01</th>\n",
       "      <td>30.374</td>\n",
       "    </tr>\n",
       "    <tr>\n",
       "      <th>1796-05-01</th>\n",
       "      <td>32.132</td>\n",
       "    </tr>\n",
       "  </tbody>\n",
       "</table>\n",
       "</div>"
      ],
      "text/plain": [
       "            Atfill\n",
       "dt                \n",
       "1796-01-01  21.195\n",
       "1796-02-01  23.250\n",
       "1796-03-01  26.075\n",
       "1796-04-01  30.374\n",
       "1796-05-01  32.132"
      ]
     },
     "execution_count": 74,
     "metadata": {},
     "output_type": "execute_result"
    }
   ],
   "source": [
    "ts_data1.head()"
   ]
  },
  {
   "cell_type": "code",
   "execution_count": 75,
   "id": "2742ec6e",
   "metadata": {},
   "outputs": [
    {
     "data": {
      "text/plain": [
       "Atfill    float64\n",
       "dtype: object"
      ]
     },
     "execution_count": 75,
     "metadata": {},
     "output_type": "execute_result"
    }
   ],
   "source": [
    "ts_data1.dtypes"
   ]
  },
  {
   "cell_type": "code",
   "execution_count": 76,
   "id": "5c2ea8b6",
   "metadata": {},
   "outputs": [],
   "source": [
    "#ARIMA"
   ]
  },
  {
   "cell_type": "code",
   "execution_count": 77,
   "id": "446ad0c3",
   "metadata": {},
   "outputs": [
    {
     "name": "stdout",
     "output_type": "stream",
     "text": [
      "Requirement already satisfied: pmdarima in c:\\users\\prana\\anaconda3\\lib\\site-packages (1.8.4)\n",
      "Requirement already satisfied: numpy>=1.19.3 in c:\\users\\prana\\anaconda3\\lib\\site-packages (from pmdarima) (1.20.3)\n",
      "Requirement already satisfied: setuptools!=50.0.0,>=38.6.0 in c:\\users\\prana\\anaconda3\\lib\\site-packages (from pmdarima) (58.0.4)\n",
      "Requirement already satisfied: scikit-learn>=0.22 in c:\\users\\prana\\anaconda3\\lib\\site-packages (from pmdarima) (0.24.2)\n",
      "Requirement already satisfied: scipy>=1.3.2 in c:\\users\\prana\\anaconda3\\lib\\site-packages (from pmdarima) (1.7.1)\n",
      "Requirement already satisfied: urllib3 in c:\\users\\prana\\anaconda3\\lib\\site-packages (from pmdarima) (1.26.7)\n",
      "Requirement already satisfied: pandas>=0.19 in c:\\users\\prana\\anaconda3\\lib\\site-packages (from pmdarima) (1.3.4)\n",
      "Requirement already satisfied: joblib>=0.11 in c:\\users\\prana\\anaconda3\\lib\\site-packages (from pmdarima) (1.1.0)\n",
      "Requirement already satisfied: Cython!=0.29.18,>=0.29 in c:\\users\\prana\\anaconda3\\lib\\site-packages (from pmdarima) (0.29.24)\n",
      "Requirement already satisfied: statsmodels!=0.12.0,>=0.11 in c:\\users\\prana\\anaconda3\\lib\\site-packages (from pmdarima) (0.12.2)\n",
      "Requirement already satisfied: pytz>=2017.3 in c:\\users\\prana\\anaconda3\\lib\\site-packages (from pandas>=0.19->pmdarima) (2021.3)\n",
      "Requirement already satisfied: python-dateutil>=2.7.3 in c:\\users\\prana\\anaconda3\\lib\\site-packages (from pandas>=0.19->pmdarima) (2.8.2)\n",
      "Requirement already satisfied: six>=1.5 in c:\\users\\prana\\anaconda3\\lib\\site-packages (from python-dateutil>=2.7.3->pandas>=0.19->pmdarima) (1.16.0)\n",
      "Requirement already satisfied: threadpoolctl>=2.0.0 in c:\\users\\prana\\anaconda3\\lib\\site-packages (from scikit-learn>=0.22->pmdarima) (2.2.0)\n",
      "Requirement already satisfied: patsy>=0.5 in c:\\users\\prana\\anaconda3\\lib\\site-packages (from statsmodels!=0.12.0,>=0.11->pmdarima) (0.5.2)\n"
     ]
    }
   ],
   "source": [
    "!pip install pmdarima"
   ]
  },
  {
   "cell_type": "code",
   "execution_count": 78,
   "id": "8e072a39",
   "metadata": {},
   "outputs": [],
   "source": [
    "import pmdarima as pm\n",
    "from pmdarima.model_selection import train_test_split"
   ]
  },
  {
   "cell_type": "code",
   "execution_count": 79,
   "id": "04e760c5",
   "metadata": {},
   "outputs": [],
   "source": [
    "train, test = train_test_split(ts_data1, train_size=int(0.7 * ts_data1.shape[0]))"
   ]
  },
  {
   "cell_type": "code",
   "execution_count": 80,
   "id": "4ba22cb5",
   "metadata": {},
   "outputs": [
    {
     "name": "stdout",
     "output_type": "stream",
     "text": [
      "Performing stepwise search to minimize aic\n",
      " ARIMA(7,1,2)(0,0,0)[0] intercept   : AIC=5248.989, Time=4.37 sec\n",
      " ARIMA(0,1,0)(0,0,0)[0] intercept   : AIC=8271.363, Time=0.06 sec\n",
      " ARIMA(1,1,0)(0,0,0)[0] intercept   : AIC=7664.429, Time=0.15 sec\n",
      " ARIMA(0,1,1)(0,0,0)[0] intercept   : AIC=7582.711, Time=0.28 sec\n",
      " ARIMA(0,1,0)(0,0,0)[0]             : AIC=8269.378, Time=0.06 sec\n",
      " ARIMA(6,1,2)(0,0,0)[0] intercept   : AIC=6015.760, Time=3.91 sec\n",
      " ARIMA(7,1,1)(0,0,0)[0] intercept   : AIC=5802.676, Time=3.45 sec\n",
      " ARIMA(8,1,2)(0,0,0)[0] intercept   : AIC=4975.890, Time=4.96 sec\n",
      " ARIMA(8,1,1)(0,0,0)[0] intercept   : AIC=5358.819, Time=3.92 sec\n",
      " ARIMA(9,1,2)(0,0,0)[0] intercept   : AIC=4832.544, Time=4.98 sec\n",
      " ARIMA(9,1,1)(0,0,0)[0] intercept   : AIC=5045.185, Time=4.80 sec\n",
      " ARIMA(10,1,2)(0,0,0)[0] intercept   : AIC=4754.213, Time=5.68 sec\n",
      " ARIMA(10,1,1)(0,0,0)[0] intercept   : AIC=4859.461, Time=5.70 sec\n",
      " ARIMA(10,1,3)(0,0,0)[0] intercept   : AIC=4823.309, Time=6.21 sec\n",
      " ARIMA(9,1,3)(0,0,0)[0] intercept   : AIC=4963.279, Time=5.44 sec\n",
      " ARIMA(10,1,2)(0,0,0)[0]             : AIC=4757.807, Time=2.77 sec\n",
      "\n",
      "Best model:  ARIMA(10,1,2)(0,0,0)[0] intercept\n",
      "Total fit time: 56.774 seconds\n"
     ]
    }
   ],
   "source": [
    "# Fit your model\n",
    "model = pm.auto_arima( train, start_p=7, max_p=10, seasonal=False, trace = True,random =True) #seasonal =False\n",
    "# random search\n",
    "# make your forecasts\n",
    "forecasts = model.predict(test.shape[0])"
   ]
  },
  {
   "cell_type": "code",
   "execution_count": 81,
   "id": "6d54d69e",
   "metadata": {},
   "outputs": [],
   "source": [
    "train_size = int(0.7 * ts_data.shape[0])\n",
    "test_size = ts_data.shape[0] - train_size"
   ]
  },
  {
   "cell_type": "code",
   "execution_count": 82,
   "id": "1ffbec24",
   "metadata": {},
   "outputs": [
    {
     "data": {
      "image/png": "[encoded data removed]",
      "text/plain": [
       "<Figure size 432x288 with 1 Axes>"
      ]
     },
     "metadata": {
      "needs_background": "light"
     },
     "output_type": "display_data"
    }
   ],
   "source": [
    "# Visualize the forecasts (blue=train, green=forecasts)\n",
    "import numpy as np\n",
    "import matplotlib.pyplot as plt\n",
    "x = np.arange(ts_data1.shape[0])\n",
    "plt.plot(x[:train_size], train, c='blue')\n",
    "plt.plot(x[train_size:], forecasts, c='green')\n",
    "plt.show()"
   ]
  },
  {
   "cell_type": "code",
   "execution_count": 83,
   "id": "68732001",
   "metadata": {},
   "outputs": [],
   "source": [
    "# from statsmodels.tsa.arima_model import ARIMA\n",
    "from statsmodels.tsa.arima.model import ARIMA\n",
    "from sklearn.metrics import mean_squared_error"
   ]
  },
  {
   "cell_type": "code",
   "execution_count": 84,
   "id": "fa9a37be",
   "metadata": {},
   "outputs": [
    {
     "name": "stderr",
     "output_type": "stream",
     "text": [
      "C:\\Users\\prana\\anaconda3\\lib\\site-packages\\statsmodels\\tsa\\base\\tsa_model.py:524: ValueWarning: No frequency information was provided, so inferred frequency MS will be used.\n",
      "  warnings.warn('No frequency information was'\n",
      "C:\\Users\\prana\\anaconda3\\lib\\site-packages\\statsmodels\\tsa\\base\\tsa_model.py:524: ValueWarning: No frequency information was provided, so inferred frequency MS will be used.\n",
      "  warnings.warn('No frequency information was'\n",
      "C:\\Users\\prana\\anaconda3\\lib\\site-packages\\statsmodels\\tsa\\base\\tsa_model.py:524: ValueWarning: No frequency information was provided, so inferred frequency MS will be used.\n",
      "  warnings.warn('No frequency information was'\n"
     ]
    },
    {
     "data": {
      "text/plain": [
       "1948-06-01    33.89386\n",
       "1948-07-01    33.89386\n",
       "1948-08-01    33.89386\n",
       "1948-09-01    33.89386\n",
       "1948-10-01    33.89386\n",
       "                ...   \n",
       "2013-05-01    33.89386\n",
       "2013-06-01    33.89386\n",
       "2013-07-01    33.89386\n",
       "2013-08-01    33.89386\n",
       "2013-09-01    33.89386\n",
       "Freq: MS, Name: predicted_mean, Length: 784, dtype: float64"
      ]
     },
     "execution_count": 84,
     "metadata": {},
     "output_type": "execute_result"
    }
   ],
   "source": [
    "model = ARIMA(train, order=(0,1,1)) # order is p,d,q #5,0,0\n",
    "model_fit = model.fit()\n",
    "output = model_fit.forecast(test_size)\n",
    "output"
   ]
  },
  {
   "cell_type": "code",
   "execution_count": 85,
   "id": "9c5b3cf1",
   "metadata": {},
   "outputs": [
    {
     "data": {
      "text/plain": [
       "33.89385994404416"
      ]
     },
     "execution_count": 85,
     "metadata": {},
     "output_type": "execute_result"
    }
   ],
   "source": [
    "output[0]"
   ]
  },
  {
   "cell_type": "code",
   "execution_count": 86,
   "id": "df1f90c8",
   "metadata": {},
   "outputs": [
    {
     "data": {
      "text/plain": [
       "8.248714401781477"
      ]
     },
     "execution_count": 86,
     "metadata": {},
     "output_type": "execute_result"
    }
   ],
   "source": [
    "mean_squared_error(test,output)**0.5"
   ]
  },
  {
   "cell_type": "code",
   "execution_count": null,
   "id": "ccead8f8",
   "metadata": {},
   "outputs": [],
   "source": []
  }
 ],
 "metadata": {
  "kernelspec": {
   "display_name": "Python 3 (ipykernel)",
   "language": "python",
   "name": "python3"
  },
  "language_info": {
   "codemirror_mode": {
    "name": "ipython",
    "version": 3
   },
   "file_extension": ".py",
   "mimetype": "text/x-python",
   "name": "python",
   "nbconvert_exporter": "python",
   "pygments_lexer": "ipython3",
   "version": "3.9.7"
  }
 },
 "nbformat": 4,
 "nbformat_minor": 5
}
